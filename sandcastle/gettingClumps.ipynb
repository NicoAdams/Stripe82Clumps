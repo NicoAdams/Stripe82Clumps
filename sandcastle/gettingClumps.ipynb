{
 "cells": [
  {
   "cell_type": "markdown",
   "metadata": {},
   "source": [
    "# Getting Clumps"
   ]
  },
  {
   "cell_type": "markdown",
   "metadata": {},
   "source": [
    "I will be focusing on only getting clump spectra from SDSS here."
   ]
  },
  {
   "cell_type": "markdown",
   "metadata": {},
   "source": [
    "## Preliminary Functions"
   ]
  },
  {
   "cell_type": "code",
   "execution_count": 19,
   "metadata": {},
   "outputs": [],
   "source": [
    "from astropy.io import fits\n",
    "from astropy import table\n",
    "from astroquery.sdss import SDSS\n",
    "from astropy import coordinates as coords\n",
    "import numpy as np\n",
    "import matplotlib.pyplot as plt\n",
    "import pandas as pd\n",
    "import mechanize\n",
    "from io import BytesIO\n",
    "from astropy.table import Table\n",
    "from astropy.table import vstack\n",
    "from astropy import units as u\n",
    "from astropy.io import ascii\n",
    "import matplotlib as mpl"
   ]
  },
  {
   "cell_type": "code",
   "execution_count": 3,
   "metadata": {},
   "outputs": [],
   "source": [
    "mpl.style.use('dark_background')\n",
    "mpl.rcParams['figure.facecolor'] = 'k'"
   ]
  },
  {
   "cell_type": "markdown",
   "metadata": {
    "toc-hr-collapsed": true
   },
   "source": [
    "## Generating Metallicities"
   ]
  },
  {
   "cell_type": "markdown",
   "metadata": {},
   "source": [
    "Let's use the M91 calibration mentioned in [Kewley & Ellison 2008 (KE08)](http://adsabs.harvard.edu/abs/2008ApJ...681.1183K):\n",
    "\n",
    "$$12 + \\log(O/H)_\\text{lower} = 12 - 4.944 + 0.767x + 0.602x^2 - y(0.29+0.332x - 0.331x^2)$$\n",
    "\n",
    "$$12 + \\log(O/H)_\\text{upper} = 12 - 2.939 - 0.2x - 0.37x^2 - 0.305 x^3 - 0.0283x^4 - y(0.0047 - 0.221x - 0.102x^2 - 0.0817x^3 - 0.00717x^4)$$\n",
    "\n",
    "where $$x = \\log R_{23} = \\log\\left[\\frac{[\\text{OII}\\lambda3727 + [\\text{OIII}]\\lambda4959 + [\\text{OIII}]\\lambda5007}{\\text{H}\\beta}\\right]$$\n",
    "and $$y = \\log\\text{O}_{32} = \\log\\left[\\frac{[\\text{OIII}]\\lambda4959 + [\\text{OIII}]\\lambda5007}{[\\text{OII}]\\lambda3727}\\right]$$"
   ]
  },
  {
   "cell_type": "code",
   "execution_count": 4,
   "metadata": {},
   "outputs": [],
   "source": [
    "def getlogR23(OII3727,OIII4959,OIII5007,HB):\n",
    "    return np.log10((OII3727 + OIII4959 + OIII5007)/HB)\n",
    "\n",
    "def getlogO32(OIII4959,OIII5007,OII3727):\n",
    "    return np.log10((OIII4959 + OIII5007)/OII3727)\n",
    "\n",
    "def getlogOHlow(x,y):\n",
    "    return (-4.944 + 0.767*x + 0.602*x**2 - y*(0.29 + 0.332*x - 0.331*x**2))\n",
    "\n",
    "def getlogOHup(x,y):\n",
    "    return (-2.939 - 0.2*x - 0.37*x**2 - 0.305*x**3 - 0.0283*x**4 - \n",
    "            y*(0.0047 - 0.221*x - 0.102*x**2 - 0.0817*x**3 - 0.00717*x**4))"
   ]
  },
  {
   "cell_type": "markdown",
   "metadata": {},
   "source": [
    "### M91 Branches\n",
    "\n",
    "We need to determine if we are using the upper branch or the lower branch. To do this, we need to get $$\\log\\left(\\frac{[\\text{NII}]\\lambda6584}{[\\text{OII}]\\lambda3727}\\right)$$"
   ]
  },
  {
   "cell_type": "code",
   "execution_count": 151,
   "metadata": {},
   "outputs": [],
   "source": [
    "def getlogNiiOii(NII6584,OII3727):\n",
    "    return np.log10(NII6584/OII3727)"
   ]
  },
  {
   "cell_type": "markdown",
   "metadata": {},
   "source": [
    "If this value is greater than $-1.2$, then we use the upper branch, while if it is smaller, we use the lower branch."
   ]
  },
  {
   "cell_type": "code",
   "execution_count": 152,
   "metadata": {},
   "outputs": [],
   "source": [
    "def M91cal(obj):\n",
    "    \n",
    "    x = getlogR23(obj['OII3726'],obj['OIII4959'],obj['OIII5007'],obj['HBeta'])\n",
    "    y = getlogO32(obj['OIII4959'],obj['OIII5007'],obj['OII3726'])\n",
    "    \n",
    "    branchCheck = getlogNiiOii(obj['NII6584'],obj['OII3726'])\n",
    "    \n",
    "    if branchCheck > -1.2:\n",
    "        return branchCheck, getlogOHup(x,y)\n",
    "    else:\n",
    "        return branchCheck, getlogOHlow(x,y)"
   ]
  },
  {
   "cell_type": "markdown",
   "metadata": {},
   "source": [
    "## `astroquery` SQL search"
   ]
  },
  {
   "cell_type": "code",
   "execution_count": 153,
   "metadata": {},
   "outputs": [],
   "source": [
    "def getSpecDataRADEC(RA,DEC):\n",
    "    pos = coords.SkyCoord(RA,DEC,unit='deg')\n",
    "    xid = SDSS.query_region(pos,spectro = True,radius = 10*u.arcsec)\n",
    "    \n",
    "    if not xid:\n",
    "        return False, False\n",
    "    \n",
    "    if len(xid) > 1:\n",
    "#         print ('oh no')\n",
    "        xid = table.unique(xid,keys='objid',keep='last')\n",
    "    \n",
    "    sp = SDSS.get_spectra(matches=xid)\n",
    "    spData = sp[0][1].data\n",
    "    return xid"
   ]
  },
  {
   "cell_type": "code",
   "execution_count": 154,
   "metadata": {},
   "outputs": [],
   "source": [
    "def genSQLsearch(xid):\n",
    "    SQL = \"SELECT \\\n",
    "    s.specObjID, g.class, g.subClass, g.z, g.ra, g.dec, g.plate, g.fiberID, g.MJD, \\\n",
    "    s.oii_3726_flux as OII3726, s.oiii_4959_flux as OIII4959,s.oiii_5007_flux as OIII5007, \\\n",
    "    s.h_beta_flux as HBeta,s.h_alpha_flux as HAlpha,s.nii_6584_flux as NII6584, \\\n",
    "    x.logMass as logM \\\n",
    "    FROM galSpecLine s \\\n",
    "    JOIN stellarMassFSPSGranEarlyDust x ON x.specObjID = s.specObjID \\\n",
    "    JOIN specObj g ON g.specObjID = s.specObjID \\\n",
    "    WHERE g.plate = %s AND g.fiberID = %s\"%(xid['plate'],xid['fiberID'])\n",
    "    return SQL"
   ]
  },
  {
   "cell_type": "code",
   "execution_count": 202,
   "metadata": {},
   "outputs": [],
   "source": [
    "def genSQLsearchNoM(xid):\n",
    "    SQL = \"SELECT \\\n",
    "    s.specObjID, g.class, g.subClass, g.z, g.ra, g.dec, g.plate, g.fiberID, g.MJD, \\\n",
    "    s.oii_3726_flux as OII3726, s.oiii_4959_flux as OIII4959,s.oiii_5007_flux as OIII5007, \\\n",
    "    s.h_beta_flux as HBeta,s.h_alpha_flux as HAlpha,s.nii_6584_flux as NII6584, \\\n",
    "    FROM galSpecLine s \\\n",
    "    JOIN specObj g ON g.specObjID = s.specObjID \\\n",
    "    WHERE g.plate = %s AND g.fiberID = %s\"%(xid['plate'],xid['fiberID'])\n",
    "    return SQL"
   ]
  },
  {
   "cell_type": "code",
   "execution_count": 155,
   "metadata": {},
   "outputs": [],
   "source": [
    "xid = getSpecDataRADEC(35.901, 0.226)"
   ]
  },
  {
   "cell_type": "code",
   "execution_count": 156,
   "metadata": {},
   "outputs": [],
   "source": [
    "queries = [genSQLsearch(x) for x in xid]\n",
    "# queries"
   ]
  },
  {
   "cell_type": "code",
   "execution_count": 157,
   "metadata": {},
   "outputs": [],
   "source": [
    "results = [SDSS.query_sql(query) for query in queries]"
   ]
  },
  {
   "cell_type": "code",
   "execution_count": 170,
   "metadata": {},
   "outputs": [],
   "source": [
    "for res in results:\n",
    "    res['logNiiOii'],res['M91'] = M91cal(res)"
   ]
  },
  {
   "cell_type": "code",
   "execution_count": 171,
   "metadata": {},
   "outputs": [],
   "source": [
    "rTable = vstack([res for res in results])"
   ]
  },
  {
   "cell_type": "code",
   "execution_count": 172,
   "metadata": {},
   "outputs": [
    {
     "data": {
      "text/html": [
       "<i>Table length=3</i>\n",
       "<table id=\"table4911425744\" class=\"table-striped table-bordered table-condensed\">\n",
       "<thead><tr><th>specObjID</th><th>class</th><th>subClass</th><th>z</th><th>ra</th><th>dec</th><th>plate</th><th>fiberID</th><th>MJD</th><th>OII3726</th><th>OIII4959</th><th>OIII5007</th><th>HBeta</th><th>HAlpha</th><th>NII6584</th><th>logM</th><th>logNiiOii</th><th>M91</th></tr></thead>\n",
       "<thead><tr><th>int64</th><th>bytes6</th><th>bytes11</th><th>float64</th><th>float64</th><th>float64</th><th>int64</th><th>int64</th><th>int64</th><th>float64</th><th>float64</th><th>float64</th><th>float64</th><th>float64</th><th>float64</th><th>float64</th><th>float64</th><th>float64</th></tr></thead>\n",
       "<tr><td>457251183338219520</td><td>GALAXY</td><td>STARFORMING</td><td>0.02494591</td><td>35.900857</td><td>0.22563594</td><td>406</td><td>494</td><td>51876</td><td>58.80363</td><td>9.176732</td><td>32.95971</td><td>34.42345</td><td>82.91316</td><td>13.68797</td><td>9.36815356834157</td><td>-0.6330650915970252</td><td>-3.16440429415275</td></tr>\n",
       "<tr><td>1697993723230578688</td><td>GALAXY</td><td>STARBURST</td><td>0.02516786</td><td>35.89983</td><td>0.22379</td><td>1508</td><td>497</td><td>52944</td><td>234.3099</td><td>195.3318</td><td>572.4767</td><td>172.3317</td><td>556.3665</td><td>34.65907</td><td>8.52804988017254</td><td>-0.8299737334844213</td><td>-3.318679650062327</td></tr>\n",
       "<tr><td>792769910852839424</td><td>GALAXY</td><td>STARBURST</td><td>0.02490221</td><td>35.902477</td><td>0.22541812</td><td>704</td><td>496</td><td>52205</td><td>278.6412</td><td>160.2684</td><td>487.0634</td><td>182.1586</td><td>504.6466</td><td>29.88788</td><td>9.09170763901077</td><td>-0.9695502209339546</td><td>-3.2939480773845897</td></tr>\n",
       "</table>"
      ],
      "text/plain": [
       "<Table length=3>\n",
       "     specObjID      class  ...      logNiiOii              M91        \n",
       "       int64        bytes6 ...       float64             float64      \n",
       "------------------- ------ ... ------------------- -------------------\n",
       " 457251183338219520 GALAXY ... -0.6330650915970252   -3.16440429415275\n",
       "1697993723230578688 GALAXY ... -0.8299737334844213  -3.318679650062327\n",
       " 792769910852839424 GALAXY ... -0.9695502209339546 -3.2939480773845897"
      ]
     },
     "execution_count": 172,
     "metadata": {},
     "output_type": "execute_result"
    }
   ],
   "source": [
    "rTable"
   ]
  },
  {
   "cell_type": "code",
   "execution_count": 241,
   "metadata": {},
   "outputs": [],
   "source": [
    "def tableGen(RA,DEC):\n",
    "    xid = getSpecDataRADEC(RA,DEC)\n",
    "    \n",
    "    if not xid:\n",
    "        print('No xid')\n",
    "        return\n",
    "    \n",
    "    queries = [genSQLsearch(x) for x in xid]\n",
    "    results = [SDSS.query_sql(query) for query in queries]\n",
    "    for res in results:\n",
    "        try:\n",
    "            res['logNiiOii'],res['M91'] = M91cal(res)\n",
    "        except TypeError:\n",
    "            print('No Mass calibration')\n",
    "            res = [SDSS.query_sql(genSQLsearch)]\n",
    "    rTable = vstack([res for res in results])\n",
    "    return rTable"
   ]
  },
  {
   "cell_type": "code",
   "execution_count": 242,
   "metadata": {},
   "outputs": [
    {
     "data": {
      "text/html": [
       "<i>Table length=2</i>\n",
       "<table id=\"table4917273152\" class=\"table-striped table-bordered table-condensed\">\n",
       "<thead><tr><th>ra</th><th>dec</th><th>objid</th><th>run</th><th>rerun</th><th>camcol</th><th>field</th><th>z</th><th>plate</th><th>mjd</th><th>fiberID</th><th>specobjid</th><th>run2d</th><th>instrument</th></tr></thead>\n",
       "<thead><tr><th>float64</th><th>float64</th><th>int64</th><th>int64</th><th>int64</th><th>int64</th><th>int64</th><th>float64</th><th>int64</th><th>int64</th><th>int64</th><th>int64</th><th>int64</th><th>bytes4</th></tr></thead>\n",
       "<tr><td>4.87783844174896</td><td>-0.601759911564107</td><td>1237657190370443316</td><td>2728</td><td>301</td><td>2</td><td>445</td><td>0.03285039</td><td>389</td><td>51795</td><td>21</td><td>437980866312955904</td><td>26</td><td>SDSS</td></tr>\n",
       "<tr><td>4.8794753918292</td><td>-0.601721079133158</td><td>1237657190370443319</td><td>2728</td><td>301</td><td>2</td><td>445</td><td>0.03292816</td><td>1491</td><td>52996</td><td>38</td><td>1678727256727382016</td><td>26</td><td>SDSS</td></tr>\n",
       "</table>"
      ],
      "text/plain": [
       "<Table length=2>\n",
       "       ra               dec                objid        ... run2d instrument\n",
       "    float64           float64              int64        ... int64   bytes4  \n",
       "---------------- ------------------ ------------------- ... ----- ----------\n",
       "4.87783844174896 -0.601759911564107 1237657190370443316 ...    26       SDSS\n",
       " 4.8794753918292 -0.601721079133158 1237657190370443319 ...    26       SDSS"
      ]
     },
     "execution_count": 242,
     "metadata": {},
     "output_type": "execute_result"
    }
   ],
   "source": [
    "xid = getSpecDataRADEC(4.8778,-0.60175)\n",
    "xid"
   ]
  },
  {
   "cell_type": "code",
   "execution_count": 243,
   "metadata": {},
   "outputs": [],
   "source": [
    "queries = [genSQLsearch(x) for x in xid]\n",
    "results = [SDSS.query_sql(query) for query in queries]"
   ]
  },
  {
   "cell_type": "code",
   "execution_count": 244,
   "metadata": {},
   "outputs": [],
   "source": [
    "radecList = [(44.171,-0.246),(4.8778,-0.60175)]"
   ]
  },
  {
   "cell_type": "code",
   "execution_count": 247,
   "metadata": {},
   "outputs": [
    {
     "data": {
      "text/html": [
       "<i>Table length=3</i>\n",
       "<table id=\"table4916841552\" class=\"table-striped table-bordered table-condensed\">\n",
       "<thead><tr><th>specObjID</th><th>class</th><th>subClass</th><th>z</th><th>ra</th><th>dec</th><th>plate</th><th>fiberID</th><th>MJD</th><th>OII3726</th><th>OIII4959</th><th>OIII5007</th><th>HBeta</th><th>HAlpha</th><th>NII6584</th><th>logM</th><th>logNiiOii</th><th>M91</th></tr></thead>\n",
       "<thead><tr><th>int64</th><th>bytes6</th><th>bytes11</th><th>float64</th><th>float64</th><th>float64</th><th>int64</th><th>int64</th><th>int64</th><th>float64</th><th>float64</th><th>float64</th><th>float64</th><th>float64</th><th>float64</th><th>float64</th><th>float64</th><th>float64</th></tr></thead>\n",
       "<tr><td>457251183338219520</td><td>GALAXY</td><td>STARFORMING</td><td>0.02494591</td><td>35.900857</td><td>0.22563594</td><td>406</td><td>494</td><td>51876</td><td>58.80363</td><td>9.176732</td><td>32.95971</td><td>34.42345</td><td>82.91316</td><td>13.68797</td><td>9.36815356834157</td><td>-0.6330650915970252</td><td>-3.16440429415275</td></tr>\n",
       "<tr><td>1697993723230578688</td><td>GALAXY</td><td>STARBURST</td><td>0.02516786</td><td>35.89983</td><td>0.22379</td><td>1508</td><td>497</td><td>52944</td><td>234.3099</td><td>195.3318</td><td>572.4767</td><td>172.3317</td><td>556.3665</td><td>34.65907</td><td>8.52804988017254</td><td>-0.8299737334844213</td><td>-3.318679650062327</td></tr>\n",
       "<tr><td>792769910852839424</td><td>GALAXY</td><td>STARBURST</td><td>0.02490221</td><td>35.902477</td><td>0.22541812</td><td>704</td><td>496</td><td>52205</td><td>278.6412</td><td>160.2684</td><td>487.0634</td><td>182.1586</td><td>504.6466</td><td>29.88788</td><td>9.09170763901077</td><td>-0.9695502209339546</td><td>-3.2939480773845897</td></tr>\n",
       "</table>"
      ],
      "text/plain": [
       "<Table length=3>\n",
       "     specObjID      class  ...      logNiiOii              M91        \n",
       "       int64        bytes6 ...       float64             float64      \n",
       "------------------- ------ ... ------------------- -------------------\n",
       " 457251183338219520 GALAXY ... -0.6330650915970252   -3.16440429415275\n",
       "1697993723230578688 GALAXY ... -0.8299737334844213  -3.318679650062327\n",
       " 792769910852839424 GALAXY ... -0.9695502209339546 -3.2939480773845897"
      ]
     },
     "execution_count": 247,
     "metadata": {},
     "output_type": "execute_result"
    }
   ],
   "source": [
    "tableGen(35.901, 0.226)"
   ]
  },
  {
   "cell_type": "code",
   "execution_count": null,
   "metadata": {},
   "outputs": [],
   "source": []
  }
 ],
 "metadata": {
  "kernelspec": {
   "display_name": "Python 3",
   "language": "python",
   "name": "python3"
  },
  "language_info": {
   "codemirror_mode": {
    "name": "ipython",
    "version": 3
   },
   "file_extension": ".py",
   "mimetype": "text/x-python",
   "name": "python",
   "nbconvert_exporter": "python",
   "pygments_lexer": "ipython3",
   "version": "3.7.2"
  }
 },
 "nbformat": 4,
 "nbformat_minor": 2
}
