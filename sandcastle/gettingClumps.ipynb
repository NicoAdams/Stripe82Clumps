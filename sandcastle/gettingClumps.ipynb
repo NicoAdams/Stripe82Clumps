{
 "cells": [
  {
   "cell_type": "markdown",
   "metadata": {},
   "source": [
    "# Getting Clumps"
   ]
  },
  {
   "cell_type": "markdown",
   "metadata": {},
   "source": [
    "I will be focusing on only getting clump spectra from SDSS here."
   ]
  },
  {
   "cell_type": "markdown",
   "metadata": {},
   "source": [
    "## Preliminary Functions"
   ]
  },
  {
   "cell_type": "code",
   "execution_count": 317,
   "metadata": {},
   "outputs": [],
   "source": [
    "from astropy.io import fits\n",
    "from astropy import table\n",
    "from astroquery.sdss import SDSS\n",
    "from astropy import coordinates as coords\n",
    "import numpy as np\n",
    "import matplotlib.pyplot as plt\n",
    "import pandas as pd\n",
    "import mechanize\n",
    "from io import BytesIO\n",
    "from astropy.table import Table\n",
    "from astropy.table import vstack\n",
    "from astropy import units as u\n",
    "from astropy.io import ascii\n",
    "import matplotlib as mpl\n",
    "from tqdm import tqdm_notebook as tqdm"
   ]
  },
  {
   "cell_type": "code",
   "execution_count": 2,
   "metadata": {},
   "outputs": [],
   "source": [
    "mpl.style.use('dark_background')\n",
    "mpl.rcParams['figure.facecolor'] = 'k'"
   ]
  },
  {
   "cell_type": "markdown",
   "metadata": {
    "toc-hr-collapsed": true
   },
   "source": [
    "## Generating Metallicities"
   ]
  },
  {
   "cell_type": "markdown",
   "metadata": {},
   "source": [
    "Let's use the M91 calibration mentioned in [Kewley & Ellison 2008 (KE08)](http://adsabs.harvard.edu/abs/2008ApJ...681.1183K):\n",
    "\n",
    "$$12 + \\log(O/H)_\\text{lower} = 12 - 4.944 + 0.767x + 0.602x^2 - y(0.29+0.332x - 0.331x^2)$$\n",
    "\n",
    "$$12 + \\log(O/H)_\\text{upper} = 12 - 2.939 - 0.2x - 0.37x^2 - 0.305 x^3 - 0.0283x^4 - y(0.0047 - 0.221x - 0.102x^2 - 0.0817x^3 - 0.00717x^4)$$\n",
    "\n",
    "where $$x = \\log R_{23} = \\log\\left[\\frac{[\\text{OII}\\lambda3727 + [\\text{OIII}]\\lambda4959 + [\\text{OIII}]\\lambda5007}{\\text{H}\\beta}\\right]$$\n",
    "and $$y = \\log\\text{O}_{32} = \\log\\left[\\frac{[\\text{OIII}]\\lambda4959 + [\\text{OIII}]\\lambda5007}{[\\text{OII}]\\lambda3727}\\right]$$"
   ]
  },
  {
   "cell_type": "code",
   "execution_count": 3,
   "metadata": {},
   "outputs": [],
   "source": [
    "def getlogR23(OII3727,OIII4959,OIII5007,HB):\n",
    "    return np.log10((OII3727 + OIII4959 + OIII5007)/HB)\n",
    "\n",
    "def getlogO32(OIII4959,OIII5007,OII3727):\n",
    "    return np.log10((OIII4959 + OIII5007)/OII3727)\n",
    "\n",
    "def getlogOHlow(x,y):\n",
    "    return (-4.944 + 0.767*x + 0.602*x**2 - y*(0.29 + 0.332*x - 0.331*x**2))\n",
    "\n",
    "def getlogOHup(x,y):\n",
    "    return (-2.939 - 0.2*x - 0.37*x**2 - 0.305*x**3 - 0.0283*x**4 - \n",
    "            y*(0.0047 - 0.221*x - 0.102*x**2 - 0.0817*x**3 - 0.00717*x**4))"
   ]
  },
  {
   "cell_type": "markdown",
   "metadata": {},
   "source": [
    "### M91 Branches\n",
    "\n",
    "We need to determine if we are using the upper branch or the lower branch. To do this, we need to get $$\\log\\left(\\frac{[\\text{NII}]\\lambda6584}{[\\text{OII}]\\lambda3727}\\right)$$"
   ]
  },
  {
   "cell_type": "code",
   "execution_count": 4,
   "metadata": {},
   "outputs": [],
   "source": [
    "def getlogNiiOii(NII6584,OII3727):\n",
    "    return np.log10(NII6584/OII3727)"
   ]
  },
  {
   "cell_type": "markdown",
   "metadata": {},
   "source": [
    "If this value is greater than $-1.2$, then we use the upper branch, while if it is smaller, we use the lower branch."
   ]
  },
  {
   "cell_type": "code",
   "execution_count": 211,
   "metadata": {},
   "outputs": [],
   "source": [
    "def M91cal(obj):\n",
    "    \n",
    "    x = getlogR23(obj['OII3726'],obj['OIII4959'],obj['OIII5007'],obj['HBeta'])\n",
    "    y = getlogO32(obj['OIII4959'],obj['OIII5007'],obj['OII3726'])\n",
    "    \n",
    "    branchCheck = getlogNiiOii(obj['NII6584'],obj['OII3726'])\n",
    "    \n",
    "    if branchCheck > -1.2:\n",
    "        return branchCheck, getlogOHup(x,y) + 12\n",
    "    else:\n",
    "        return branchCheck, getlogOHlow(x,y) + 12"
   ]
  },
  {
   "cell_type": "markdown",
   "metadata": {},
   "source": [
    "## `astroquery` SQL search"
   ]
  },
  {
   "cell_type": "code",
   "execution_count": 202,
   "metadata": {},
   "outputs": [],
   "source": [
    "def getSpecDataRADEC(RA,DEC):\n",
    "    pos = coords.SkyCoord(RA,DEC,unit='deg')\n",
    "    xid = SDSS.query_region(pos,spectro = True,radius = 20*u.arcsec)\n",
    "    \n",
    "    if not xid:\n",
    "        return False, False\n",
    "    \n",
    "    if len(xid) > 1:\n",
    "#         print ('oh no')\n",
    "        xid = table.unique(xid,keys='objid',keep='last')\n",
    "    \n",
    "    sp = SDSS.get_spectra(matches=xid)\n",
    "    spData = sp[0][1].data\n",
    "    return xid"
   ]
  },
  {
   "cell_type": "code",
   "execution_count": 7,
   "metadata": {},
   "outputs": [],
   "source": [
    "def genSQLsearch(xid):\n",
    "    SQL = \"SELECT \\\n",
    "    s.specObjID, g.class, g.subClass, g.z, g.ra, g.dec, g.plate, g.fiberID, g.MJD, \\\n",
    "    s.oii_3726_flux as OII3726, s.oiii_4959_flux as OIII4959,s.oiii_5007_flux as OIII5007, \\\n",
    "    s.h_beta_flux as HBeta,s.h_alpha_flux as HAlpha,s.nii_6584_flux as NII6584, \\\n",
    "    x.logMass as logM \\\n",
    "    FROM galSpecLine s \\\n",
    "    JOIN stellarMassFSPSGranEarlyDust x ON x.specObjID = s.specObjID \\\n",
    "    JOIN specObj g ON g.specObjID = s.specObjID \\\n",
    "    WHERE g.plate = %s AND g.fiberID = %s\"%(xid['plate'],xid['fiberID'])\n",
    "    return SQL"
   ]
  },
  {
   "cell_type": "code",
   "execution_count": 53,
   "metadata": {},
   "outputs": [],
   "source": [
    "def genSQLsearchNoM(xid):\n",
    "    SQL = \"SELECT \\\n",
    "    s.specObjID, g.class, g.subClass, g.z, g.ra, g.dec, g.plate, g.fiberID, g.MJD, \\\n",
    "    s.oii_3726_flux as OII3726, s.oiii_4959_flux as OIII4959,s.oiii_5007_flux as OIII5007, \\\n",
    "    s.h_beta_flux as HBeta,s.h_alpha_flux as HAlpha,s.nii_6584_flux as NII6584 \\\n",
    "    FROM galSpecLine s \\\n",
    "    JOIN specObj g ON g.specObjID = s.specObjID \\\n",
    "    WHERE g.plate = %s AND g.fiberID = %s\"%(xid['plate'],xid['fiberID'])\n",
    "    return SQL"
   ]
  },
  {
   "cell_type": "markdown",
   "metadata": {},
   "source": [
    "## Generating Tables"
   ]
  },
  {
   "cell_type": "code",
   "execution_count": 304,
   "metadata": {},
   "outputs": [],
   "source": [
    "def tableGen(RA,DEC):\n",
    "    xid = getSpecDataRADEC(RA,DEC)\n",
    "    \n",
    "    xidList = []\n",
    "    for x in xid:\n",
    "        if not x:\n",
    "            print('No xid')\n",
    "            continue\n",
    "        xidList.append(x)\n",
    "    \n",
    "    if not xidList:\n",
    "        return\n",
    "    \n",
    "    queries = [genSQLsearch(x) for x in xidList]\n",
    "    noMqueries = [genSQLsearchNoM(x) for x in xidList]\n",
    "    results = [SDSS.query_sql(query) for query in queries]\n",
    "    resultsnoM = [SDSS.query_sql(query) for query in noMqueries]\n",
    "    newResults = []\n",
    "    for n in range(0,len(resultsnoM)):\n",
    "        if resultsnoM[n] == None:\n",
    "            continue\n",
    "        elif None in resultsnoM[n]:\n",
    "            continue\n",
    "        resultsnoM[n]['subClass'] = resultsnoM[n]['subClass'].astype(str)\n",
    "        resultsnoM[n]['logNiiOii'],resultsnoM[n]['M91'] = M91cal(resultsnoM[n])\n",
    "        try:\n",
    "            resultsnoM[n]['logM'] = results[n]['logM']\n",
    "        except TypeError:\n",
    "            resultsnoM[n]['logM'] = 0 \n",
    "        newResults.append(resultsnoM[n])\n",
    "    if len(newResults) > 0:\n",
    "        rTable = vstack([res for res in newResults])\n",
    "    else:\n",
    "        return\n",
    "    return rTable"
   ]
  },
  {
   "cell_type": "markdown",
   "metadata": {},
   "source": [
    "### Testing"
   ]
  },
  {
   "cell_type": "code",
   "execution_count": 286,
   "metadata": {},
   "outputs": [
    {
     "data": {
      "text/html": [
       "<i>Table length=2</i>\n",
       "<table id=\"table139982467604040\" class=\"table-striped table-bordered table-condensed\">\n",
       "<thead><tr><th>ra</th><th>dec</th><th>objid</th><th>run</th><th>rerun</th><th>camcol</th><th>field</th><th>z</th><th>plate</th><th>mjd</th><th>fiberID</th><th>specobjid</th><th>run2d</th><th>instrument</th></tr></thead>\n",
       "<thead><tr><th>float64</th><th>float64</th><th>int64</th><th>int64</th><th>int64</th><th>int64</th><th>int64</th><th>float64</th><th>int64</th><th>int64</th><th>int64</th><th>int64</th><th>bytes6</th><th>bytes4</th></tr></thead>\n",
       "<tr><td>340.30886495574</td><td>-0.620854386728136</td><td>1237663542613639326</td><td>4207</td><td>301</td><td>2</td><td>240</td><td>0.005918281</td><td>1101</td><td>52621</td><td>62</td><td>1239632883837069312</td><td>26</td><td>SDSS</td></tr>\n",
       "<tr><td>340.310156254532</td><td>-0.617873852786732</td><td>1237663542613639327</td><td>4207</td><td>301</td><td>2</td><td>240</td><td>0.005904465</td><td>4204</td><td>55470</td><td>126</td><td>4733317934754754560</td><td>v5_7_0</td><td>BOSS</td></tr>\n",
       "</table>"
      ],
      "text/plain": [
       "<Table length=2>\n",
       "       ra               dec                objid        ... run2d  instrument\n",
       "    float64           float64              int64        ... bytes6   bytes4  \n",
       "---------------- ------------------ ------------------- ... ------ ----------\n",
       " 340.30886495574 -0.620854386728136 1237663542613639326 ...     26       SDSS\n",
       "340.310156254532 -0.617873852786732 1237663542613639327 ... v5_7_0       BOSS"
      ]
     },
     "execution_count": 286,
     "metadata": {},
     "output_type": "execute_result"
    }
   ],
   "source": [
    "xid = getSpecDataRADEC(340.309, -0.621)\n",
    "xid"
   ]
  },
  {
   "cell_type": "code",
   "execution_count": 275,
   "metadata": {},
   "outputs": [],
   "source": [
    "queries = [genSQLsearch(x) for x in xid]\n",
    "noMqueries = [genSQLsearchNoM(x) for x in xid]\n",
    "results = [SDSS.query_sql(query) for query in queries]\n",
    "resultsnoM = [SDSS.query_sql(query) for query in noMqueries]"
   ]
  },
  {
   "cell_type": "code",
   "execution_count": 276,
   "metadata": {},
   "outputs": [
    {
     "data": {
      "text/plain": [
       "[None, None]"
      ]
     },
     "execution_count": 276,
     "metadata": {},
     "output_type": "execute_result"
    }
   ],
   "source": [
    "resultsnoM"
   ]
  },
  {
   "cell_type": "code",
   "execution_count": 296,
   "metadata": {},
   "outputs": [
    {
     "name": "stdout",
     "output_type": "stream",
     "text": [
      "ohno\n"
     ]
    }
   ],
   "source": [
    "if None in resultsnoM:\n",
    "    print('ohno')"
   ]
  },
  {
   "cell_type": "code",
   "execution_count": 278,
   "metadata": {},
   "outputs": [],
   "source": [
    "newResults = []\n",
    "for n in range(0,len(resultsnoM)):\n",
    "    if resultsnoM[n] == None:\n",
    "        continue\n",
    "    resultsnoM[n]['subClass'] = resultsnoM[n]['subClass'].astype(str)\n",
    "    resultsnoM[n]['logNiiOii'],resultsnoM[n]['M91'] = M91cal(resultsnoM[n])\n",
    "    try:\n",
    "        resultsnoM[n]['logM'] = results[n]['logM']\n",
    "    except TypeError:\n",
    "        resultsnoM[n]['logM'] = 0 \n",
    "    newResults.append(resultsnoM[n])"
   ]
  },
  {
   "cell_type": "code",
   "execution_count": 280,
   "metadata": {},
   "outputs": [
    {
     "ename": "ValueError",
     "evalue": "no values provided to stack.",
     "output_type": "error",
     "traceback": [
      "\u001b[0;31m---------------------------------------------------------------------------\u001b[0m",
      "\u001b[0;31mValueError\u001b[0m                                Traceback (most recent call last)",
      "\u001b[0;32m<ipython-input-280-99809ef9ae44>\u001b[0m in \u001b[0;36m<module>\u001b[0;34m\u001b[0m\n\u001b[0;32m----> 1\u001b[0;31m \u001b[0mrTable\u001b[0m \u001b[0;34m=\u001b[0m \u001b[0mvstack\u001b[0m\u001b[0;34m(\u001b[0m\u001b[0;34m[\u001b[0m\u001b[0mres\u001b[0m \u001b[0;32mfor\u001b[0m \u001b[0mres\u001b[0m \u001b[0;32min\u001b[0m \u001b[0mnewResults\u001b[0m\u001b[0;34m]\u001b[0m\u001b[0;34m)\u001b[0m\u001b[0;34m\u001b[0m\u001b[0;34m\u001b[0m\u001b[0m\n\u001b[0m",
      "\u001b[0;32m~/anaconda3/lib/python3.7/site-packages/astropy/table/operations.py\u001b[0m in \u001b[0;36mvstack\u001b[0;34m(tables, join_type, metadata_conflicts)\u001b[0m\n\u001b[1;32m    285\u001b[0m         \u001b[0;36m6\u001b[0m   \u001b[0;36m8\u001b[0m\u001b[0;34m\u001b[0m\u001b[0;34m\u001b[0m\u001b[0m\n\u001b[1;32m    286\u001b[0m     \"\"\"\n\u001b[0;32m--> 287\u001b[0;31m     \u001b[0mtables\u001b[0m \u001b[0;34m=\u001b[0m \u001b[0m_get_list_of_tables\u001b[0m\u001b[0;34m(\u001b[0m\u001b[0mtables\u001b[0m\u001b[0;34m)\u001b[0m  \u001b[0;31m# validates input\u001b[0m\u001b[0;34m\u001b[0m\u001b[0;34m\u001b[0m\u001b[0m\n\u001b[0m\u001b[1;32m    288\u001b[0m     \u001b[0;32mif\u001b[0m \u001b[0mlen\u001b[0m\u001b[0;34m(\u001b[0m\u001b[0mtables\u001b[0m\u001b[0;34m)\u001b[0m \u001b[0;34m==\u001b[0m \u001b[0;36m1\u001b[0m\u001b[0;34m:\u001b[0m\u001b[0;34m\u001b[0m\u001b[0;34m\u001b[0m\u001b[0m\n\u001b[1;32m    289\u001b[0m         \u001b[0;32mreturn\u001b[0m \u001b[0mtables\u001b[0m\u001b[0;34m[\u001b[0m\u001b[0;36m0\u001b[0m\u001b[0;34m]\u001b[0m  \u001b[0;31m# no point in stacking a single table\u001b[0m\u001b[0;34m\u001b[0m\u001b[0;34m\u001b[0m\u001b[0m\n",
      "\u001b[0;32m~/anaconda3/lib/python3.7/site-packages/astropy/table/operations.py\u001b[0m in \u001b[0;36m_get_list_of_tables\u001b[0;34m(tables)\u001b[0m\n\u001b[1;32m     46\u001b[0m     \u001b[0;31m# Make sure there is something to stack\u001b[0m\u001b[0;34m\u001b[0m\u001b[0;34m\u001b[0m\u001b[0;34m\u001b[0m\u001b[0m\n\u001b[1;32m     47\u001b[0m     \u001b[0;32mif\u001b[0m \u001b[0mlen\u001b[0m\u001b[0;34m(\u001b[0m\u001b[0mtables\u001b[0m\u001b[0;34m)\u001b[0m \u001b[0;34m==\u001b[0m \u001b[0;36m0\u001b[0m\u001b[0;34m:\u001b[0m\u001b[0;34m\u001b[0m\u001b[0;34m\u001b[0m\u001b[0m\n\u001b[0;32m---> 48\u001b[0;31m         \u001b[0;32mraise\u001b[0m \u001b[0mValueError\u001b[0m\u001b[0;34m(\u001b[0m\u001b[0;34m'no values provided to stack.'\u001b[0m\u001b[0;34m)\u001b[0m\u001b[0;34m\u001b[0m\u001b[0;34m\u001b[0m\u001b[0m\n\u001b[0m\u001b[1;32m     49\u001b[0m \u001b[0;34m\u001b[0m\u001b[0m\n\u001b[1;32m     50\u001b[0m     \u001b[0;31m# Convert inputs (Table, Row, or anything column-like) to Tables.\u001b[0m\u001b[0;34m\u001b[0m\u001b[0;34m\u001b[0m\u001b[0;34m\u001b[0m\u001b[0m\n",
      "\u001b[0;31mValueError\u001b[0m: no values provided to stack."
     ]
    }
   ],
   "source": [
    "rTable = vstack([res for res in newResults])"
   ]
  },
  {
   "cell_type": "code",
   "execution_count": 262,
   "metadata": {},
   "outputs": [
    {
     "data": {
      "text/html": [
       "<i>Table length=2</i>\n",
       "<table id=\"table139982467246288\" class=\"table-striped table-bordered table-condensed\">\n",
       "<thead><tr><th>specObjID</th><th>class</th><th>subClass</th><th>z</th><th>ra</th><th>dec</th><th>plate</th><th>fiberID</th><th>MJD</th><th>OII3726</th><th>OIII4959</th><th>OIII5007</th><th>HBeta</th><th>HAlpha</th><th>NII6584</th><th>logNiiOii</th><th>M91</th><th>logM</th></tr></thead>\n",
       "<thead><tr><th>int64</th><th>bytes6</th><th>str9</th><th>float64</th><th>float64</th><th>float64</th><th>int64</th><th>int64</th><th>int64</th><th>int64</th><th>float64</th><th>float64</th><th>float64</th><th>float64</th><th>float64</th><th>float64</th><th>float64</th><th>float64</th></tr></thead>\n",
       "<tr><td>442554559789819904</td><td>GALAXY</td><td>False</td><td>0.01330698</td><td>10.349474</td><td>-0.064968354</td><td>393</td><td>276</td><td>51794</td><td>0</td><td>0.3852063</td><td>10.67733</td><td>11.60589</td><td>30.77504</td><td>5.468029</td><td>inf</td><td>-inf</td><td>9.23184975868996</td></tr>\n",
       "<tr><td>1683282807406749696</td><td>GALAXY</td><td>STARBURST</td><td>0.01338809</td><td>10.346346</td><td>-0.063367</td><td>1495</td><td>227</td><td>52944</td><td>0</td><td>16.07723</td><td>55.49376</td><td>32.06713</td><td>80.72696</td><td>7.343747</td><td>inf</td><td>inf</td><td>6.90638247831332</td></tr>\n",
       "</table>"
      ],
      "text/plain": [
       "<Table length=2>\n",
       "     specObjID      class   subClass ... logNiiOii   M91         logM      \n",
       "       int64        bytes6    str9   ...  float64  float64     float64     \n",
       "------------------- ------ --------- ... --------- ------- ----------------\n",
       " 442554559789819904 GALAXY     False ...       inf    -inf 9.23184975868996\n",
       "1683282807406749696 GALAXY STARBURST ...       inf     inf 6.90638247831332"
      ]
     },
     "execution_count": 262,
     "metadata": {},
     "output_type": "execute_result"
    }
   ],
   "source": [
    "rTable"
   ]
  },
  {
   "cell_type": "markdown",
   "metadata": {},
   "source": [
    "### Interesting Objects:"
   ]
  },
  {
   "cell_type": "code",
   "execution_count": 263,
   "metadata": {},
   "outputs": [],
   "source": [
    "intObjs = [(23.422,-1.158),(22.515,0.743),(4.878,-0.602),(37.884,-0.728),(37.861,-0.793),(329.604,-0.740),(10.349,-0.065),(13.241,0.369),\n",
    "           (7.410,0.410),(11.389,-1.106),(35.901,0.226),(350.466,-0.691),(350.533,-0.054),(20.575,1.007),(46.347,-0.242),(323.217,-0.311),\n",
    "           (41.796,-1.044),(18.415,0.875),(14.731,1.005),(23.281,0.176),(28.497,-0.750),(33.000,1.218),(57.287,1.163),(47.617,1.098),\n",
    "           (43.355,-0.232),(41.489,-0.753),(357.970,0.755),(20.339,0.090),(7.948,0.559),(324.986,0.323),(2.526,-0.438),(32.201,0.800),\n",
    "           (56.529,0.390),(2.915,-0.477),(34.749,-0.601),(45.264,-0.743),(312.717,-0.326),(340.309,-0.621),(333.085,0.561),(351.096,-0.108),\n",
    "           (47.492,-0.694),(49.025,-0.440),(40.200,1.105),(7.437,0.170),(350.147,-0.881),(35.624,0.383),(47.889,-1.244),(43.711,1.057),(49.334,-0.077)]"
   ]
  },
  {
   "cell_type": "code",
   "execution_count": 325,
   "metadata": {},
   "outputs": [
    {
     "data": {
      "text/plain": [
       "True"
      ]
     },
     "execution_count": 325,
     "metadata": {},
     "output_type": "execute_result"
    }
   ],
   "source": [
    "not tableGen(*intObjs[37])"
   ]
  },
  {
   "cell_type": "code",
   "execution_count": 323,
   "metadata": {},
   "outputs": [
    {
     "data": {
      "application/vnd.jupyter.widget-view+json": {
       "model_id": "5c7427ef84f54e619452cea4d791e30d",
       "version_major": 2,
       "version_minor": 0
      },
      "text/plain": [
       "HBox(children=(IntProgress(value=0, max=49), HTML(value='')))"
      ]
     },
     "metadata": {},
     "output_type": "display_data"
    },
    {
     "name": "stderr",
     "output_type": "stream",
     "text": [
      "/home/mike/anaconda3/lib/python3.7/site-packages/ipykernel_launcher.py:5: RuntimeWarning: divide by zero encountered in true_divide\n",
      "  \"\"\"\n",
      "/home/mike/anaconda3/lib/python3.7/site-packages/ipykernel_launcher.py:2: RuntimeWarning: divide by zero encountered in true_divide\n",
      "  \n",
      "/home/mike/anaconda3/lib/python3.7/site-packages/ipykernel_launcher.py:2: RuntimeWarning: invalid value encountered in log10\n",
      "  \n",
      "/home/mike/anaconda3/lib/python3.7/site-packages/ipykernel_launcher.py:5: RuntimeWarning: invalid value encountered in log10\n",
      "  \"\"\"\n",
      "/home/mike/anaconda3/lib/python3.7/site-packages/ipykernel_launcher.py:2: RuntimeWarning: invalid value encountered in true_divide\n",
      "  \n",
      "/home/mike/anaconda3/lib/python3.7/site-packages/ipykernel_launcher.py:5: RuntimeWarning: invalid value encountered in true_divide\n",
      "  \"\"\"\n"
     ]
    }
   ],
   "source": [
    "tableList = []\n",
    "intBar = tqdm(total=len(intObjs))\n",
    "for obj in intObjs:\n",
    "    intBar.set_description(str(obj))\n",
    "    tab = tableGen(*obj)\n",
    "    if not tab:\n",
    "        continue\n",
    "    else:\n",
    "        tableList.append(tab)\n",
    "    intBar.update(1)"
   ]
  },
  {
   "cell_type": "code",
   "execution_count": 326,
   "metadata": {},
   "outputs": [
    {
     "data": {
      "text/plain": [
       "48"
      ]
     },
     "execution_count": 326,
     "metadata": {},
     "output_type": "execute_result"
    }
   ],
   "source": [
    "len(tableList)"
   ]
  },
  {
   "cell_type": "code",
   "execution_count": 328,
   "metadata": {},
   "outputs": [],
   "source": [
    "tableList2 = []\n",
    "for tab in tableList:\n",
    "    if np.inf not in tab['logNiiOii']:\n",
    "        tableList2.append(tab)"
   ]
  },
  {
   "cell_type": "code",
   "execution_count": 330,
   "metadata": {},
   "outputs": [
    {
     "data": {
      "text/plain": [
       "26"
      ]
     },
     "execution_count": 330,
     "metadata": {},
     "output_type": "execute_result"
    }
   ],
   "source": [
    "len(tableList2)"
   ]
  },
  {
   "cell_type": "code",
   "execution_count": 331,
   "metadata": {},
   "outputs": [
    {
     "data": {
      "text/html": [
       "<i>Table length=2</i>\n",
       "<table id=\"table139982464630736\" class=\"table-striped table-bordered table-condensed\">\n",
       "<thead><tr><th>specObjID</th><th>class</th><th>subClass</th><th>z</th><th>ra</th><th>dec</th><th>plate</th><th>fiberID</th><th>MJD</th><th>OII3726</th><th>OIII4959</th><th>OIII5007</th><th>HBeta</th><th>HAlpha</th><th>NII6584</th><th>logNiiOii</th><th>M91</th><th>logM</th></tr></thead>\n",
       "<thead><tr><th>int64</th><th>bytes6</th><th>str11</th><th>float64</th><th>float64</th><th>float64</th><th>int64</th><th>int64</th><th>int64</th><th>float64</th><th>float64</th><th>float64</th><th>float64</th><th>float64</th><th>float64</th><th>float64</th><th>float64</th><th>float64</th></tr></thead>\n",
       "<tr><td>437980866312955904</td><td>GALAXY</td><td>STARBURST</td><td>0.03285039</td><td>4.8778482</td><td>-0.60175283</td><td>389</td><td>21</td><td>51795</td><td>326.444</td><td>120.0465</td><td>338.3001</td><td>235.3608</td><td>655.7142</td><td>132.9357</td><td>-0.3901670639614821</td><td>8.831685537003343</td><td>0.0</td></tr>\n",
       "<tr><td>1678727256727382016</td><td>GALAXY</td><td>STARFORMING</td><td>0.03292816</td><td>4.879452</td><td>-0.60177</td><td>1491</td><td>38</td><td>52996</td><td>55.34501</td><td>9.218669</td><td>32.70643</td><td>48.17247</td><td>156.0314</td><td>34.77625</td><td>-0.20179572099619789</td><td>8.947588816527292</td><td>7.90438092122952</td></tr>\n",
       "</table>"
      ],
      "text/plain": [
       "<Table length=2>\n",
       "     specObjID      class    subClass  ...        M91              logM      \n",
       "       int64        bytes6    str11    ...      float64          float64     \n",
       "------------------- ------ ----------- ... ----------------- ----------------\n",
       " 437980866312955904 GALAXY   STARBURST ... 8.831685537003343              0.0\n",
       "1678727256727382016 GALAXY STARFORMING ... 8.947588816527292 7.90438092122952"
      ]
     },
     "execution_count": 331,
     "metadata": {},
     "output_type": "execute_result"
    }
   ],
   "source": [
    "tableList2[0]"
   ]
  },
  {
   "cell_type": "code",
   "execution_count": null,
   "metadata": {},
   "outputs": [],
   "source": []
  }
 ],
 "metadata": {
  "kernelspec": {
   "display_name": "Python 3",
   "language": "python",
   "name": "python3"
  },
  "language_info": {
   "codemirror_mode": {
    "name": "ipython",
    "version": 3
   },
   "file_extension": ".py",
   "mimetype": "text/x-python",
   "name": "python",
   "nbconvert_exporter": "python",
   "pygments_lexer": "ipython3",
   "version": "3.7.3"
  }
 },
 "nbformat": 4,
 "nbformat_minor": 2
}
