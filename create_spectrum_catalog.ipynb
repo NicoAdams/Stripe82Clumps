{
 "cells": [
  {
   "cell_type": "code",
   "execution_count": 1,
   "metadata": {},
   "outputs": [
    {
     "name": "stderr",
     "output_type": "stream",
     "text": [
      "/anaconda3/lib/python3.6/site-packages/astroquery/sdss/__init__.py:29: UserWarning: Experimental: SDSS has not yet been refactored to have its API match the rest of astroquery (but it's nearly there).\n",
      "  warnings.warn(\"Experimental: SDSS has not yet been refactored to have its API \"\n"
     ]
    }
   ],
   "source": [
    "from astropy.io import fits\n",
    "from astropy import table\n",
    "from astroquery.sdss import SDSS\n",
    "from astropy import coordinates as coords\n",
    "from astropy import units as u\n",
    "import numpy as np\n",
    "from uuid import uuid4\n",
    "\n",
    "from urllib.request import urlopen\n",
    "from urllib.parse import quote\n",
    "import json\n",
    "\n",
    "import csv\n",
    "\n",
    "import matplotlib.pyplot as plt"
   ]
  },
  {
   "cell_type": "code",
   "execution_count": 2,
   "metadata": {},
   "outputs": [],
   "source": [
    "def getUUID(s=12):\n",
    "    return int(str(uuid4().int)[:s])"
   ]
  },
  {
   "cell_type": "markdown",
   "metadata": {},
   "source": [
    "Useful SDSS query commands\n",
    "---\n",
    "\n",
    "Photo primary table (most info on the galactic hosts will be here):\n",
    "https://skyserver.sdss.org/dr14/en/help/browser/browser.aspx#&&history=description+PhotoPrimary+V\n",
    "\n",
    "Spectrum table:\n",
    "https://skyserver.sdss.org/dr14/en/help/browser/browser.aspx#&&history=description+SpecObj+V"
   ]
  },
  {
   "cell_type": "code",
   "execution_count": 3,
   "metadata": {},
   "outputs": [],
   "source": [
    "# ----- Riding through the SQL storm ----- \n",
    "\n",
    "\n",
    "# -- Gets host information given an RA, DEC --\n",
    "\n",
    "dr = 14\n",
    "sqlSearchUrl = \"http://skyserver.sdss.org/dr{}/SkyServerWS/SearchTools/SqlSearch?\".format(dr)\n",
    "\n",
    "def convertNoneValsTo0(hostDict):\n",
    "    return {k: 0 if hostDict[k]==None else hostDict[k] for k in hostDict}\n",
    "\n",
    "def getSQLSearchCommandUrl(command):\n",
    "    urlCmd = quote(command)\n",
    "    args = \"cmd={}&limit=0\".format(urlCmd)\n",
    "    url = sqlSearchUrl + args\n",
    "    return url\n",
    "\n",
    "def processResponse(response):\n",
    "    responseReadout = response.read()\n",
    "    responseObject = json.loads(responseReadout.decode(\"utf-8\"))\n",
    "    hostsList = responseObject[0]['Rows'] # Extracts the dictionary of hosts info\n",
    "    hostsList = list(map(convertNoneValsTo0, hostsList))\n",
    "    return hostsList\n",
    "\n",
    "# -- SQL commands for searches --\n",
    "\n",
    "def getNearestHostsCommand(ra, dec, arcsecLimit, numLimit):\n",
    "    arcminLimit = arcsecLimit / 60\n",
    "    return (\n",
    "        \"SELECT TOP {}\"\n",
    "        \"  p.objid, p.specobjid, p.ra, p.dec\"\n",
    "        \", p.u, p.g, p.r, p.i, p.z\"\n",
    "        \", p.err_u, p.err_g, p.err_r, p.err_i, p.err_z\"\n",
    "        \", n.distance AS offset\"\n",
    "        \", pz.z AS redshift, pz.zErr AS redshift_err\"\n",
    "        \", p.expRad_r\"\n",
    "        \" FROM fGetNearbyObjEq({},{},{}) n\"\n",
    "        \" JOIN PhotoPrimary p ON n.objID=p.objID\"\n",
    "        \" LEFT JOIN Photoz pz ON pz.objID=p.objID\"\n",
    "        \" ORDER BY offset\"\n",
    "    ).format(numLimit, ra, dec, arcminLimit)\n",
    "\n",
    "def getNearestSpectrumInfoCommand(ra, dec, arcsecLimit):\n",
    "    arcminLimit = arcsecLimit / 60\n",
    "    return (\n",
    "        \"SELECT\"\n",
    "        \"  s.specObjID, s.ra, s.dec, n.distance AS offset\"\n",
    "        \", s.class, s.subclass\"\n",
    "        \", s.z AS redshift, s.zErr AS redshift_err\"\n",
    "        \", s.velDisp, s.velDispErr\"\n",
    "        \", s.plate, s.mjd, s.fiberID\" # These three are needed to get the actual spectrum\n",
    "        \" FROM fGetNearbySpecObjEq({},{},{}) n\"\n",
    "        \" JOIN SpecObj s ON n.specObjID=s.specObjID\"\n",
    "        \" ORDER BY offset\"\n",
    "    ).format(ra, dec, arcminLimit)\n",
    "\n",
    "# -- Specific search functions --\n",
    "\n",
    "def searchSQL(sqlCommand):\n",
    "    url = getSQLSearchCommandUrl(sqlCommand)\n",
    "    response = urlopen(url)\n",
    "    return processResponse(response)\n",
    "\n",
    "def searchNearestHosts(ra, dec, radius, num):\n",
    "    command = getNearestHostsCommand(ra, dec, radius, num)\n",
    "    return searchSQL(command)\n",
    "                       \n",
    "def getNearestHost(ra, dec, radius):\n",
    "    hostList = searchNearestHosts(ra, dec, radius, 1)\n",
    "    if len(hostList) == 0: return None\n",
    "    return hostList[0]\n",
    "\n",
    "def getNearestSpectraInfo(ra, dec, radius):\n",
    "    command = getNearestSpectrumInfoCommand(ra, dec, radius)\n",
    "    return searchSQL(command)\n"
   ]
  },
  {
   "cell_type": "code",
   "execution_count": 4,
   "metadata": {},
   "outputs": [
    {
     "data": {
      "text/plain": [
       "[{'specObjID': 1109090338984716288,\n",
       "  'ra': 315.903,\n",
       "  'dec': -1.2285646,\n",
       "  'offset': 0.00247261586638966,\n",
       "  'class': 'GALAXY',\n",
       "  'subclass': 'STARFORMING',\n",
       "  'redshift': 0.0645438,\n",
       "  'redshift_err': 7.137781e-06,\n",
       "  'velDisp': 133.1707,\n",
       "  'velDispErr': 39.50918,\n",
       "  'plate': 985,\n",
       "  'mjd': 52431,\n",
       "  'fiberID': 287}]"
      ]
     },
     "execution_count": 4,
     "metadata": {},
     "output_type": "execute_result"
    }
   ],
   "source": [
    "getNearestSpectraInfo(315.90303127, -1.22853775, 1)"
   ]
  },
  {
   "cell_type": "code",
   "execution_count": 5,
   "metadata": {},
   "outputs": [],
   "source": [
    "# -- Get spectra in a region given RA, DEC --\n",
    "\n",
    "def getSpectrum(specInfo):\n",
    "    spectra = SDSS.get_spectra(plate=specInfo['plate'], mjd=specInfo['mjd'], fiberID=specInfo['fiberID'])\n",
    "    if len(spectra) == 0: return None\n",
    "    return spectra[0]\n",
    "\n",
    "# def getHostSpectra(hostInfo, galacticRadiusLimit):\n",
    "#     hostRa, hostDec = hostInfo['ra'], hostInfo['dec']\n",
    "#     hostCoord = coords.SkyCoord(hostRa * u.deg, hostDec * u.deg)\n",
    "#     print(\"hostCoord\", hostCoord)\n",
    "#     radiusLimit = galacticRadiusLimit * hostInfo['expRad_r']\n",
    "#     print(radiusLimit * u.arcsec)\n",
    "#     return SDSS.get_spectra(coordinates = hostCoord, radius = radiusLimit * u.arcsec)"
   ]
  },
  {
   "cell_type": "code",
   "execution_count": 6,
   "metadata": {},
   "outputs": [
    {
     "ename": "NameError",
     "evalue": "name 'specInfo' is not defined",
     "output_type": "error",
     "traceback": [
      "\u001b[0;31m---------------------------------------------------------------------------\u001b[0m",
      "\u001b[0;31mNameError\u001b[0m                                 Traceback (most recent call last)",
      "\u001b[0;32m<ipython-input-6-52ca8c8080bb>\u001b[0m in \u001b[0;36m<module>\u001b[0;34m()\u001b[0m\n\u001b[0;32m----> 1\u001b[0;31m \u001b[0mgetSpectrum\u001b[0m\u001b[0;34m(\u001b[0m\u001b[0mspecInfo\u001b[0m\u001b[0;34m)\u001b[0m\u001b[0;34m\u001b[0m\u001b[0m\n\u001b[0m",
      "\u001b[0;31mNameError\u001b[0m: name 'specInfo' is not defined"
     ]
    }
   ],
   "source": [
    "getSpectrum(specInfo)"
   ]
  },
  {
   "cell_type": "code",
   "execution_count": 204,
   "metadata": {
    "collapsed": true
   },
   "outputs": [],
   "source": [
    "catFile = 'catalogs/clumpy_stripe82_fullsample.fits'\n",
    "catFits = fits.open(catFile) \n",
    "catTable = table.Table(catFits[1].data)"
   ]
  },
  {
   "cell_type": "markdown",
   "metadata": {},
   "source": [
    "Creates the actual spectrum catalog\n",
    "---"
   ]
  },
  {
   "cell_type": "code",
   "execution_count": 315,
   "metadata": {
    "collapsed": true
   },
   "outputs": [],
   "source": [
    "def getSpectrumFilename(galId, spectrumIndex):\n",
    "    return '{}_{}.fits'.format(galId, spectrumIndex)\n",
    "\n",
    "def getAngleDistance(raDec1, raDec2):\n",
    "    ra1, dec1 = raDec1\n",
    "    ra2, dec2 = raDec2\n",
    "    return \\\n",
    "        coords.SkyCoord(ra1 * u.deg, dec1 * u.deg) \\\n",
    "        .separation(coords.SkyCoord(ra2 * u.deg, dec2 * u.deg)) \\\n",
    "        .to(u.arcsec).value\n",
    "\n",
    "# Returns the distance between the spectrum and the host galaxy in galactic radii\n",
    "def getSpectrumGalaxyDistance(hostInfo, spectrum):\n",
    "    specRaDec = (specInfo['ra'], specInfo['dec'])\n",
    "    hostRaDec = (hostInfo['ra'], hostInfo['dec'])\n",
    "    angleDistance = getAngleDistance(specRaDec, hostRaDec)\n",
    "    \n",
    "    hostRadius = hostInfo['expRad_r']\n",
    "    galaxyDistance = angleDistance / hostRadius\n",
    "    \n",
    "    return galaxyDistance\n",
    "    \n",
    "# -- Structure of a row in the catalog --    \n",
    "\n",
    "# This is where we want to start thinking about what info we want to save from the spectrum\n",
    "\n",
    "def getEmptyRowDict():\n",
    "    return {\n",
    "        'galaxy_id': None,\n",
    "        'spectrum_index': None,\n",
    "        'filename': None,\n",
    "        'gal_ra': None,\n",
    "        'gal_dec': None,\n",
    "        'gal_redshift': None,\n",
    "        'gal_redshift_err': None,\n",
    "        'gal_radius': None,\n",
    "        'spec_ra': None,\n",
    "        'spec_dec': None,\n",
    "        'spec_distance': None,\n",
    "        'spec_redshift': None,\n",
    "        'spec_redshift_err': None,\n",
    "        'class': None,\n",
    "        'subclass': None,\n",
    "        'vel_disp': None,\n",
    "        'vel_disp_err': None\n",
    "    }\n",
    "\n",
    "fieldnames = list(getEmptyRowDict().keys())\n",
    "\n",
    "def getSpectrumRowDict(galId, spectrumIndex, hostInfo, specInfo):\n",
    "    rowDict = getEmptyRowDict()\n",
    "    rowDict['galaxy_id'] = galId\n",
    "    rowDict['spectrum_index'] = spectrumIndex\n",
    "    rowDict['filename'] = getSpectrumFilename(galId, spectrumIndex)\n",
    "    rowDict['gal_ra'] = hostInfo['ra']\n",
    "    rowDict['gal_dec'] = hostInfo['dec']\n",
    "    rowDict['gal_redshift'] = hostInfo['redshift']\n",
    "    rowDict['gal_redshift_err'] = hostInfo['redshift_err']\n",
    "    rowDict['gal_radius'] = hostInfo['expRad_r']\n",
    "    rowDict['spec_ra'] = specInfo['ra']\n",
    "    rowDict['spec_dec'] = specInfo['dec']\n",
    "    rowDict['spec_distance'] = getSpectrumGalaxyDistance(hostInfo, specInfo)\n",
    "    rowDict['spec_redshift'] = specInfo['redshift']\n",
    "    rowDict['spec_redshift_err'] = specInfo['redshift_err']\n",
    "    rowDict['class'] = specInfo['class']\n",
    "    rowDict['subclass'] = specInfo['subclass']\n",
    "    rowDict['vel_disp'] = specInfo['velDisp']\n",
    "    rowDict['vel_disp_err'] = specInfo['velDispErr']\n",
    "    return rowDict"
   ]
  },
  {
   "cell_type": "markdown",
   "metadata": {},
   "source": [
    "TODO: Run the below cell on the whole catalog"
   ]
  },
  {
   "cell_type": "code",
   "execution_count": 316,
   "metadata": {},
   "outputs": [
    {
     "name": "stdout",
     "output_type": "stream",
     "text": [
      "Total 281\n",
      "\n",
      "Galaxy: 1\n",
      "Galaxy info: {'objid': 1237656567039787633, 'specobjid': 1109090338984716288, 'ra': 315.903027033787, 'dec': -1.22852938693264, 'u': 18.93229, 'g': 17.5829, 'r': 17.25282, 'i': 17.00515, 'z': 16.99127, 'err_u': 0.1025007, 'err_g': 0.009931025, 'err_r': 0.009251588, 'err_i': 0.01361759, 'err_z': 0.0377005, 'offset': 0.000562460057429133, 'redshift': 0.043284, 'redshift_err': 0.015217, 'expRad_r': 3.411275}\n",
      "Writing spectra to catalog...\n",
      "\tSpec 0\n",
      "\n",
      "Galaxy: 2\n",
      "Galaxy info: {'objid': 1237656567042343485, 'specobjid': 1112474362390276096, 'ra': 321.637909591718, 'dec': -1.12279996353434, 'u': 22.14544, 'g': 18.89027, 'r': 17.51433, 'i': 17.05244, 'z': 16.61683, 'err_u': 0.5355909, 'err_g': 0.01648477, 'err_r': 0.007732976, 'err_i': 0.007604408, 'err_z': 0.01759662, 'offset': 0.000377096800907386, 'redshift': 0.202843, 'redshift_err': 0.018906, 'expRad_r': 1.449321}\n",
      "Writing spectra to catalog...\n",
      "\tSpec 0\n",
      "\n",
      "Galaxy: 3\n",
      "Galaxy info: {'objid': 1237663456705970284, 'specobjid': 1114718464699820032, 'ra': 324.560730666068, 'dec': -0.783785097429241, 'u': 18.95165, 'g': 18.00957, 'r': 17.29992, 'i': 16.96671, 'z': 16.36353, 'err_u': 0.0376578, 'err_g': 0.008204127, 'err_r': 0.006685696, 'err_i': 0.007244658, 'err_z': 0.01379487, 'offset': 0.000725428741161027, 'redshift': 0.121058, 'redshift_err': 0.05116, 'expRad_r': 2.398588}\n",
      "Writing spectra to catalog...\n",
      "\tSpec 0\n",
      "\tSpec 1\n"
     ]
    }
   ],
   "source": [
    "galacticRadiusLimit = 10\n",
    "\n",
    "spectraDir = 'spectra_sdss/'\n",
    "\n",
    "catalogFilename = spectraDir + 'catalog.csv'\n",
    "\n",
    "with open(catalogFilename, 'w') as catalogFile:\n",
    "    writer = csv.DictWriter(catalogFile, fieldnames)\n",
    "    writer.writeheader()\n",
    "\n",
    "    print(\"Total\", len(catTable))\n",
    "    count = 1;\n",
    "    for row in catTable[:3]:\n",
    "        try:\n",
    "            print()\n",
    "            print('Galaxy:', count)\n",
    "            count += 1\n",
    "\n",
    "            arcsecToSearch = 1\n",
    "            hostInfo = getNearestHost(row['RA'], row['DEC'], arcsecToSearch)\n",
    "            print('Galaxy info:', hostInfo)\n",
    "\n",
    "            hostRadius = hostInfo['expRad_r']\n",
    "            radiusLimit = galacticRadiusLimit * hostRadius\n",
    "            specInfoList = getNearestSpectraInfo(hostInfo['ra'], hostInfo['dec'], radiusLimit)\n",
    "\n",
    "            galId = hostInfo['objid']\n",
    "\n",
    "            print('Writing spectra to catalog...')\n",
    "            for spectrumIndex in range(len(specInfoList)):\n",
    "                print('\\tSpec', spectrumIndex)\n",
    "\n",
    "                specInfo = specInfoList[spectrumIndex]\n",
    "                spectrum = getSpectrum(specInfo)\n",
    "\n",
    "                filename = getSpectrumFilename(galId, spectrumIndex)\n",
    "\n",
    "                # Saves the spectrum file\n",
    "                spectrum.writeto(spectraDir + filename, overwrite=True)\n",
    "\n",
    "                # Saves the info about the spectrum\n",
    "                csvRow = getSpectrumRowDict(galId, spectrumIndex, hostInfo, specInfo)\n",
    "                writer.writerow(csvRow)\n",
    "            except Exception as e:\n",
    "                print(\"Failed to write\")\n",
    "                print(type(e))\n",
    "                print(e)\n"
   ]
  },
  {
   "cell_type": "code",
   "execution_count": 271,
   "metadata": {},
   "outputs": [
    {
     "data": {
      "image/png": "[encoded data removed]",
      "text/plain": [
       "<Figure size 432x288 with 1 Axes>"
      ]
     },
     "metadata": {},
     "output_type": "display_data"
    },
    {
     "name": "stdout",
     "output_type": "stream",
     "text": [
      "324.02026 -0.025889\n"
     ]
    }
   ],
   "source": [
    "specData = table.Table(spectrum[1].data)\n",
    "plt.plot(10**specData['loglam'], specData['flux'])\n",
    "plt.show()\n",
    "print(spectrum[0].header['RA'], spectrum[0].header['DEC'])"
   ]
  },
  {
   "cell_type": "code",
   "execution_count": 283,
   "metadata": {},
   "outputs": [
    {
     "data": {
      "text/plain": [
       "{'specObjID': 4723324198390308864,\n",
       " 'ra': 324.00902,\n",
       " 'dec': 0.0022094895,\n",
       " 'offset': 1.81579341757762,\n",
       " 'class': 'GALAXY',\n",
       " 'subclass': '',\n",
       " 'redshift': 0.4860547,\n",
       " 'redshift_err': 0.0001126065,\n",
       " 'velDisp': 196.4215,\n",
       " 'velDispErr': 28.41779,\n",
       " 'plate': 4195,\n",
       " 'mjd': 55452,\n",
       " 'fiberID': 633}"
      ]
     },
     "execution_count": 283,
     "metadata": {},
     "output_type": "execute_result"
    }
   ],
   "source": []
  }
 ],
 "metadata": {
  "kernelspec": {
   "display_name": "Python 3",
   "language": "python",
   "name": "python3"
  },
  "language_info": {
   "codemirror_mode": {
    "name": "ipython",
    "version": 3
   },
   "file_extension": ".py",
   "mimetype": "text/x-python",
   "name": "python",
   "nbconvert_exporter": "python",
   "pygments_lexer": "ipython3",
   "version": "3.6.5"
  }
 },
 "nbformat": 4,
 "nbformat_minor": 2
}
