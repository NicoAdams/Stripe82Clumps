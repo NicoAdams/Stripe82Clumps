{
 "cells": [
  {
   "cell_type": "code",
   "execution_count": 291,
   "metadata": {},
   "outputs": [],
   "source": [
    "from astropy.io import fits\n",
    "from astropy import table\n",
    "from astroquery.sdss import SDSS\n",
    "from astropy import coordinates as coords\n",
    "import numpy as np\n",
    "import matplotlib.pyplot as plt\n",
    "plt.style.use(['dark_background'])\n",
    "%matplotlib inline"
   ]
  },
  {
   "cell_type": "code",
   "execution_count": 2,
   "metadata": {
    "scrolled": true
   },
   "outputs": [
    {
     "name": "stdout",
     "output_type": "stream",
     "text": [
      "0 objid_1 \n",
      "\n",
      "1 sample_1 \n",
      "\n",
      "2 asset_id \n",
      "\n",
      "3 objid_str \n",
      "\n",
      "4 total_count \n",
      "\n",
      "5 total_weight \n",
      "\n",
      "6 t01_smooth_or_features_a01_smooth_count \n",
      "\n",
      "7 t01_smooth_or_features_a01_smooth_weight \n",
      "\n",
      "8 t01_smooth_or_features_a01_smooth_fraction \n",
      "\n",
      "9 t01_smooth_or_features_a01_smooth_weighted_fraction \n",
      "\n",
      "10 t01_smooth_or_features_a02_features_or_disk_count \n",
      "\n",
      "11 t01_smooth_or_features_a02_features_or_disk_weight \n",
      "\n",
      "12 t01_smooth_or_features_a02_features_or_disk_fraction \n",
      "\n",
      "13 t01_smooth_or_features_a02_features_or_disk_weighted_fraction \n",
      "\n",
      "14 t01_smooth_or_features_a03_star_or_artifact_count \n",
      "\n",
      "15 t01_smooth_or_features_a03_star_or_artifact_weight \n",
      "\n",
      "16 t01_smooth_or_features_a03_star_or_artifact_fraction \n",
      "\n",
      "17 t01_smooth_or_features_a03_star_or_artifact_weighted_fraction \n",
      "\n",
      "18 t01_smooth_or_features_total_count \n",
      "\n",
      "19 t01_smooth_or_features_total_weight \n",
      "\n",
      "20 t02_edgeon_a04_yes_count \n",
      "\n",
      "21 t02_edgeon_a04_yes_weight \n",
      "\n",
      "22 t02_edgeon_a04_yes_fraction \n",
      "\n",
      "23 t02_edgeon_a04_yes_weighted_fraction \n",
      "\n",
      "24 t02_edgeon_a05_no_count \n",
      "\n",
      "25 t02_edgeon_a05_no_weight \n",
      "\n",
      "26 t02_edgeon_a05_no_fraction \n",
      "\n",
      "27 t02_edgeon_a05_no_weighted_fraction \n",
      "\n",
      "28 t02_edgeon_total_count \n",
      "\n",
      "29 t02_edgeon_total_weight \n",
      "\n",
      "30 t03_bar_a06_bar_count \n",
      "\n",
      "31 t03_bar_a06_bar_weight \n",
      "\n",
      "32 t03_bar_a06_bar_fraction \n",
      "\n",
      "33 t03_bar_a06_bar_weighted_fraction \n",
      "\n",
      "34 t03_bar_a07_no_bar_count \n",
      "\n",
      "35 t03_bar_a07_no_bar_weight \n",
      "\n",
      "36 t03_bar_a07_no_bar_fraction \n",
      "\n",
      "37 t03_bar_a07_no_bar_weighted_fraction \n",
      "\n",
      "38 t03_bar_total_count \n",
      "\n",
      "39 t03_bar_total_weight \n",
      "\n",
      "40 t04_spiral_a08_spiral_count \n",
      "\n",
      "41 t04_spiral_a08_spiral_weight \n",
      "\n",
      "42 t04_spiral_a08_spiral_fraction \n",
      "\n",
      "43 t04_spiral_a08_spiral_weighted_fraction \n",
      "\n",
      "44 t04_spiral_a09_no_spiral_count \n",
      "\n",
      "45 t04_spiral_a09_no_spiral_weight \n",
      "\n",
      "46 t04_spiral_a09_no_spiral_fraction \n",
      "\n",
      "47 t04_spiral_a09_no_spiral_weighted_fraction \n",
      "\n",
      "48 t04_spiral_total_count \n",
      "\n",
      "49 t04_spiral_total_weight \n",
      "\n",
      "50 t05_bulge_prominence_a10_no_bulge_count \n",
      "\n",
      "51 t05_bulge_prominence_a10_no_bulge_weight \n",
      "\n",
      "52 t05_bulge_prominence_a10_no_bulge_fraction \n",
      "\n",
      "53 t05_bulge_prominence_a10_no_bulge_weighted_fraction \n",
      "\n",
      "54 t05_bulge_prominence_a11_just_noticeable_count \n",
      "\n",
      "55 t05_bulge_prominence_a11_just_noticeable_weight \n",
      "\n",
      "56 t05_bulge_prominence_a11_just_noticeable_fraction \n",
      "\n",
      "57 t05_bulge_prominence_a11_just_noticeable_weighted_fraction \n",
      "\n",
      "58 t05_bulge_prominence_a12_obvious_count \n",
      "\n",
      "59 t05_bulge_prominence_a12_obvious_weight \n",
      "\n",
      "60 t05_bulge_prominence_a12_obvious_fraction \n",
      "\n",
      "61 t05_bulge_prominence_a12_obvious_weighted_fraction \n",
      "\n",
      "62 t05_bulge_prominence_a13_dominant_count \n",
      "\n",
      "63 t05_bulge_prominence_a13_dominant_weight \n",
      "\n",
      "64 t05_bulge_prominence_a13_dominant_fraction \n",
      "\n",
      "65 t05_bulge_prominence_a13_dominant_weighted_fraction \n",
      "\n",
      "66 t05_bulge_prominence_total_count \n",
      "\n",
      "67 t05_bulge_prominence_total_weight \n",
      "\n",
      "68 t06_odd_a14_yes_count \n",
      "\n",
      "69 t06_odd_a14_yes_weight \n",
      "\n",
      "70 t06_odd_a14_yes_fraction \n",
      "\n",
      "71 t06_odd_a14_yes_weighted_fraction \n",
      "\n",
      "72 t06_odd_a15_no_count \n",
      "\n",
      "73 t06_odd_a15_no_weight \n",
      "\n",
      "74 t06_odd_a15_no_fraction \n",
      "\n",
      "75 t06_odd_a15_no_weighted_fraction \n",
      "\n",
      "76 t06_odd_total_count \n",
      "\n",
      "77 t06_odd_total_weight \n",
      "\n",
      "78 t07_rounded_a16_completely_round_count \n",
      "\n",
      "79 t07_rounded_a16_completely_round_weight \n",
      "\n",
      "80 t07_rounded_a16_completely_round_fraction \n",
      "\n",
      "81 t07_rounded_a16_completely_round_weighted_fraction \n",
      "\n",
      "82 t07_rounded_a17_in_between_count \n",
      "\n",
      "83 t07_rounded_a17_in_between_weight \n",
      "\n",
      "84 t07_rounded_a17_in_between_fraction \n",
      "\n",
      "85 t07_rounded_a17_in_between_weighted_fraction \n",
      "\n",
      "86 t07_rounded_a18_cigar_shaped_count \n",
      "\n",
      "87 t07_rounded_a18_cigar_shaped_weight \n",
      "\n",
      "88 t07_rounded_a18_cigar_shaped_fraction \n",
      "\n",
      "89 t07_rounded_a18_cigar_shaped_weighted_fraction \n",
      "\n",
      "90 t07_rounded_total_count \n",
      "\n",
      "91 t07_rounded_total_weight \n",
      "\n",
      "92 t08_odd_feature_a19_ring_count \n",
      "\n",
      "93 t08_odd_feature_a19_ring_weight \n",
      "\n",
      "94 t08_odd_feature_a19_ring_fraction \n",
      "\n",
      "95 t08_odd_feature_a19_ring_weighted_fraction \n",
      "\n",
      "96 t08_odd_feature_a20_lens_or_arc_count \n",
      "\n",
      "97 t08_odd_feature_a20_lens_or_arc_weight \n",
      "\n",
      "98 t08_odd_feature_a20_lens_or_arc_fraction \n",
      "\n",
      "99 t08_odd_feature_a20_lens_or_arc_weighted_fraction \n",
      "\n",
      "100 t08_odd_feature_a21_disturbed_count \n",
      "\n",
      "101 t08_odd_feature_a21_disturbed_weight \n",
      "\n",
      "102 t08_odd_feature_a21_disturbed_fraction \n",
      "\n",
      "103 t08_odd_feature_a21_disturbed_weighted_fraction \n",
      "\n",
      "104 t08_odd_feature_a22_irregular_count \n",
      "\n",
      "105 t08_odd_feature_a22_irregular_weight \n",
      "\n",
      "106 t08_odd_feature_a22_irregular_fraction \n",
      "\n",
      "107 t08_odd_feature_a22_irregular_weighted_fraction \n",
      "\n",
      "108 t08_odd_feature_a23_other_count \n",
      "\n",
      "109 t08_odd_feature_a23_other_weight \n",
      "\n",
      "110 t08_odd_feature_a23_other_fraction \n",
      "\n",
      "111 t08_odd_feature_a23_other_weighted_fraction \n",
      "\n",
      "112 t08_odd_feature_a24_merger_count \n",
      "\n",
      "113 t08_odd_feature_a24_merger_weight \n",
      "\n",
      "114 t08_odd_feature_a24_merger_fraction \n",
      "\n",
      "115 t08_odd_feature_a24_merger_weighted_fraction \n",
      "\n",
      "116 t08_odd_feature_a38_dust_lane_count \n",
      "\n",
      "117 t08_odd_feature_a38_dust_lane_weight \n",
      "\n",
      "118 t08_odd_feature_a38_dust_lane_fraction \n",
      "\n",
      "119 t08_odd_feature_a38_dust_lane_weighted_fraction \n",
      "\n",
      "120 t08_odd_feature_total_count \n",
      "\n",
      "121 t08_odd_feature_total_weight \n",
      "\n",
      "122 t09_bulge_shape_a25_rounded_count \n",
      "\n",
      "123 t09_bulge_shape_a25_rounded_weight \n",
      "\n",
      "124 t09_bulge_shape_a25_rounded_fraction \n",
      "\n",
      "125 t09_bulge_shape_a25_rounded_weighted_fraction \n",
      "\n",
      "126 t09_bulge_shape_a26_boxy_count \n",
      "\n",
      "127 t09_bulge_shape_a26_boxy_weight \n",
      "\n",
      "128 t09_bulge_shape_a26_boxy_fraction \n",
      "\n",
      "129 t09_bulge_shape_a26_boxy_weighted_fraction \n",
      "\n",
      "130 t09_bulge_shape_a27_no_bulge_count \n",
      "\n",
      "131 t09_bulge_shape_a27_no_bulge_weight \n",
      "\n",
      "132 t09_bulge_shape_a27_no_bulge_fraction \n",
      "\n",
      "133 t09_bulge_shape_a27_no_bulge_weighted_fraction \n",
      "\n",
      "134 t09_bulge_shape_total_count \n",
      "\n",
      "135 t09_bulge_shape_total_weight \n",
      "\n",
      "136 t10_arms_winding_a28_tight_count \n",
      "\n",
      "137 t10_arms_winding_a28_tight_weight \n",
      "\n",
      "138 t10_arms_winding_a28_tight_fraction \n",
      "\n",
      "139 t10_arms_winding_a28_tight_weighted_fraction \n",
      "\n",
      "140 t10_arms_winding_a29_medium_count \n",
      "\n",
      "141 t10_arms_winding_a29_medium_weight \n",
      "\n",
      "142 t10_arms_winding_a29_medium_fraction \n",
      "\n",
      "143 t10_arms_winding_a29_medium_weighted_fraction \n",
      "\n",
      "144 t10_arms_winding_a30_loose_count \n",
      "\n",
      "145 t10_arms_winding_a30_loose_weight \n",
      "\n",
      "146 t10_arms_winding_a30_loose_fraction \n",
      "\n",
      "147 t10_arms_winding_a30_loose_weighted_fraction \n",
      "\n",
      "148 t10_arms_winding_total_count \n",
      "\n",
      "149 t10_arms_winding_total_weight \n",
      "\n",
      "150 t11_arms_number_a31_1_count \n",
      "\n",
      "151 t11_arms_number_a31_1_weight \n",
      "\n",
      "152 t11_arms_number_a31_1_fraction \n",
      "\n",
      "153 t11_arms_number_a31_1_weighted_fraction \n",
      "\n",
      "154 t11_arms_number_a32_2_count \n",
      "\n",
      "155 t11_arms_number_a32_2_weight \n",
      "\n",
      "156 t11_arms_number_a32_2_fraction \n",
      "\n",
      "157 t11_arms_number_a32_2_weighted_fraction \n",
      "\n",
      "158 t11_arms_number_a33_3_count \n",
      "\n",
      "159 t11_arms_number_a33_3_weight \n",
      "\n",
      "160 t11_arms_number_a33_3_fraction \n",
      "\n",
      "161 t11_arms_number_a33_3_weighted_fraction \n",
      "\n",
      "162 t11_arms_number_a34_4_count \n",
      "\n",
      "163 t11_arms_number_a34_4_weight \n",
      "\n",
      "164 t11_arms_number_a34_4_fraction \n",
      "\n",
      "165 t11_arms_number_a34_4_weighted_fraction \n",
      "\n",
      "166 t11_arms_number_a36_more_than_4_count \n",
      "\n",
      "167 t11_arms_number_a36_more_than_4_weight \n",
      "\n",
      "168 t11_arms_number_a36_more_than_4_fraction \n",
      "\n",
      "169 t11_arms_number_a36_more_than_4_weighted_fraction \n",
      "\n",
      "170 t11_arms_number_a37_cant_tell_count \n",
      "\n",
      "171 t11_arms_number_a37_cant_tell_weight \n",
      "\n",
      "172 t11_arms_number_a37_cant_tell_fraction \n",
      "\n",
      "173 t11_arms_number_a37_cant_tell_weighted_fraction \n",
      "\n",
      "174 t11_arms_number_total_count \n",
      "\n",
      "175 t11_arms_number_total_weight \n",
      "\n",
      "176 t12_arms_number_total_count \n",
      "\n",
      "177 t12_arms_number_total_weight \n",
      "\n",
      "178 t13_arms_number_total_count \n",
      "\n",
      "179 t13_arms_number_total_weight \n",
      "\n",
      "180 t14_clumpy_a39_yes_count \n",
      "\n",
      "181 t14_clumpy_a39_yes_weight \n",
      "\n",
      "182 t14_clumpy_a39_yes_fraction \n",
      "\n",
      "183 t14_clumpy_a39_yes_weighted_fraction \n",
      "\n",
      "184 t14_clumpy_a40_no_count \n",
      "\n",
      "185 t14_clumpy_a40_no_weight \n",
      "\n",
      "186 t14_clumpy_a40_no_fraction \n",
      "\n",
      "187 t14_clumpy_a40_no_weighted_fraction \n",
      "\n",
      "188 t14_clumpy_total_count \n",
      "\n",
      "189 t14_clumpy_total_weight \n",
      "\n",
      "190 t15_multiple_clumps_a41_yes_count \n",
      "\n",
      "191 t15_multiple_clumps_a41_yes_weight \n",
      "\n",
      "192 t15_multiple_clumps_a41_yes_fraction \n",
      "\n",
      "193 t15_multiple_clumps_a41_yes_weighted_fraction \n",
      "\n",
      "194 t15_multiple_clumps_a42_no_count \n",
      "\n",
      "195 t15_multiple_clumps_a42_no_weight \n",
      "\n",
      "196 t15_multiple_clumps_a42_no_fraction \n",
      "\n",
      "197 t15_multiple_clumps_a42_no_weighted_fraction \n",
      "\n",
      "198 t15_multiple_clumps_total_count \n",
      "\n",
      "199 t15_multiple_clumps_total_weight \n",
      "\n",
      "200 t16_bright_clump_a43_yes_count \n",
      "\n",
      "201 t16_bright_clump_a43_yes_weight \n",
      "\n",
      "202 t16_bright_clump_a43_yes_fraction \n",
      "\n",
      "203 t16_bright_clump_a43_yes_weighted_fraction \n",
      "\n",
      "204 t16_bright_clump_a44_no_count \n",
      "\n",
      "205 t16_bright_clump_a44_no_weight \n",
      "\n",
      "206 t16_bright_clump_a44_no_fraction \n",
      "\n",
      "207 t16_bright_clump_a44_no_weighted_fraction \n",
      "\n",
      "208 t16_bright_clump_total_count \n",
      "\n",
      "209 t16_bright_clump_total_weight \n",
      "\n",
      "210 t17_bright_clump_central_a45_yes_count \n",
      "\n",
      "211 t17_bright_clump_central_a45_yes_weight \n",
      "\n",
      "212 t17_bright_clump_central_a45_yes_fraction \n",
      "\n",
      "213 t17_bright_clump_central_a45_yes_weighted_fraction \n",
      "\n",
      "214 t17_bright_clump_central_a46_no_count \n",
      "\n",
      "215 t17_bright_clump_central_a46_no_weight \n",
      "\n",
      "216 t17_bright_clump_central_a46_no_fraction \n",
      "\n",
      "217 t17_bright_clump_central_a46_no_weighted_fraction \n",
      "\n",
      "218 t17_bright_clump_central_total_count \n",
      "\n",
      "219 t17_bright_clump_central_total_weight \n",
      "\n",
      "220 t18_clumps_arrangement_a47_line_count \n",
      "\n",
      "221 t18_clumps_arrangement_a47_line_weight \n",
      "\n",
      "222 t18_clumps_arrangement_a47_line_fraction \n",
      "\n",
      "223 t18_clumps_arrangement_a47_line_weighted_fraction \n",
      "\n",
      "224 t18_clumps_arrangement_a48_chain_count \n",
      "\n",
      "225 t18_clumps_arrangement_a48_chain_weight \n",
      "\n",
      "226 t18_clumps_arrangement_a48_chain_fraction \n",
      "\n",
      "227 t18_clumps_arrangement_a48_chain_weighted_fraction \n",
      "\n",
      "228 t18_clumps_arrangement_a49_cluster_count \n",
      "\n",
      "229 t18_clumps_arrangement_a49_cluster_weight \n",
      "\n",
      "230 t18_clumps_arrangement_a49_cluster_fraction \n",
      "\n",
      "231 t18_clumps_arrangement_a49_cluster_weighted_fraction \n",
      "\n",
      "232 t18_clumps_arrangement_a59_spiral_count \n",
      "\n",
      "233 t18_clumps_arrangement_a59_spiral_weight \n",
      "\n",
      "234 t18_clumps_arrangement_a59_spiral_fraction \n",
      "\n",
      "235 t18_clumps_arrangement_a59_spiral_weighted_fraction \n",
      "\n",
      "236 t18_clumps_arrangement_total_count \n",
      "\n",
      "237 t18_clumps_arrangement_total_weight \n",
      "\n",
      "238 t19_clumps_count_a50_2_count \n",
      "\n",
      "239 t19_clumps_count_a50_2_weight \n",
      "\n",
      "240 t19_clumps_count_a50_2_fraction \n",
      "\n",
      "241 t19_clumps_count_a50_2_weighted_fraction \n",
      "\n",
      "242 t19_clumps_count_a51_3_count \n",
      "\n",
      "243 t19_clumps_count_a51_3_weight \n",
      "\n",
      "244 t19_clumps_count_a51_3_fraction \n",
      "\n",
      "245 t19_clumps_count_a51_3_weighted_fraction \n",
      "\n",
      "246 t19_clumps_count_a52_4_count \n",
      "\n",
      "247 t19_clumps_count_a52_4_weight \n",
      "\n",
      "248 t19_clumps_count_a52_4_fraction \n",
      "\n",
      "249 t19_clumps_count_a52_4_weighted_fraction \n",
      "\n",
      "250 t19_clumps_count_a53_more_than_4_count \n",
      "\n",
      "251 t19_clumps_count_a53_more_than_4_weight \n",
      "\n",
      "252 t19_clumps_count_a53_more_than_4_fraction \n",
      "\n",
      "253 t19_clumps_count_a53_more_than_4_weighted_fraction \n",
      "\n",
      "254 t19_clumps_count_a54_cant_tell_count \n",
      "\n",
      "255 t19_clumps_count_a54_cant_tell_weight \n",
      "\n",
      "256 t19_clumps_count_a54_cant_tell_fraction \n",
      "\n",
      "257 t19_clumps_count_a54_cant_tell_weighted_fraction \n",
      "\n",
      "258 t19_clumps_count_a60_1_count \n",
      "\n",
      "259 t19_clumps_count_a60_1_weight \n",
      "\n",
      "260 t19_clumps_count_a60_1_fraction \n",
      "\n",
      "261 t19_clumps_count_a60_1_weighted_fraction \n",
      "\n",
      "262 t19_clumps_count_total_count \n",
      "\n",
      "263 t19_clumps_count_total_weight \n",
      "\n",
      "264 t20_clumps_symmetrical_a55_yes_count \n",
      "\n",
      "265 t20_clumps_symmetrical_a55_yes_weight \n",
      "\n",
      "266 t20_clumps_symmetrical_a55_yes_fraction \n",
      "\n",
      "267 t20_clumps_symmetrical_a55_yes_weighted_fraction \n",
      "\n",
      "268 t20_clumps_symmetrical_a56_no_count \n",
      "\n",
      "269 t20_clumps_symmetrical_a56_no_weight \n",
      "\n",
      "270 t20_clumps_symmetrical_a56_no_fraction \n",
      "\n",
      "271 t20_clumps_symmetrical_a56_no_weighted_fraction \n",
      "\n",
      "272 t20_clumps_symmetrical_total_count \n",
      "\n",
      "273 t20_clumps_symmetrical_total_weight \n",
      "\n",
      "274 t21_clumps_embedded_a57_yes_count \n",
      "\n",
      "275 t21_clumps_embedded_a57_yes_weight \n",
      "\n",
      "276 t21_clumps_embedded_a57_yes_fraction \n",
      "\n",
      "277 t21_clumps_embedded_a57_yes_weighted_fraction \n",
      "\n",
      "278 t21_clumps_embedded_a58_no_count \n",
      "\n",
      "279 t21_clumps_embedded_a58_no_weight \n",
      "\n",
      "280 t21_clumps_embedded_a58_no_fraction \n",
      "\n",
      "281 t21_clumps_embedded_a58_no_weighted_fraction \n",
      "\n",
      "282 t21_clumps_embedded_total_count \n",
      "\n",
      "283 t21_clumps_embedded_total_weight \n",
      "\n",
      "284 OBJID_2 \n",
      "\n",
      "285 RUN \n",
      "\n",
      "286 RERUN \n",
      "\n",
      "287 CAMCOL \n",
      "\n",
      "288 FIELD \n",
      "\n",
      "289 OBJ \n",
      "\n",
      "290 RA \n",
      "\n",
      "291 DEC \n",
      "\n",
      "292 PETROR50_R \n",
      "\n",
      "293 PETROR90_R \n",
      "\n",
      "294 PETROMAG_U \n",
      "\n",
      "295 PETROMAG_G \n",
      "\n",
      "296 PETROMAG_R \n",
      "\n",
      "297 PETROMAG_I \n",
      "\n",
      "298 PETROMAG_Z \n",
      "\n",
      "299 PETROMAGERR_U \n",
      "\n",
      "300 PETROMAGERR_G \n",
      "\n",
      "301 PETROMAGERR_R \n",
      "\n",
      "302 PETROMAGERR_I \n",
      "\n",
      "303 PETROMAGERR_Z \n",
      "\n",
      "304 PSFMAG_R \n",
      "\n",
      "305 FIBERMAG_R \n",
      "\n",
      "306 DEVMAG_R \n",
      "\n",
      "307 DEVMAGERR_R \n",
      "\n",
      "308 EXPMAG_R \n",
      "\n",
      "309 EXPMAGERR_R \n",
      "\n",
      "310 FRACDEV_R \n",
      "\n",
      "311 MU50_R \n",
      "\n",
      "312 EXTINCTION_U \n",
      "\n",
      "313 EXTINCTION_G \n",
      "\n",
      "314 EXTINCTION_R \n",
      "\n",
      "315 EXTINCTION_I \n",
      "\n",
      "316 EXTINCTION_Z \n",
      "\n",
      "317 ROWC_U \n",
      "\n",
      "318 COLC_U \n",
      "\n",
      "319 ROWC_G \n",
      "\n",
      "320 COLC_G \n",
      "\n",
      "321 ROWC_R \n",
      "\n",
      "322 COLC_R \n",
      "\n",
      "323 ROWC_I \n",
      "\n",
      "324 COLC_I \n",
      "\n",
      "325 ROWC_Z \n",
      "\n",
      "326 COLC_Z \n",
      "\n",
      "327 CMODELMAG_R \n",
      "\n",
      "328 CMODELMAGERR_R \n",
      "\n",
      "329 REDSHIFT \n",
      "\n",
      "330 REDSHIFTERR \n",
      "\n",
      "331 PETROMAG_MU \n",
      "\n",
      "332 PETROMAG_MG \n",
      "\n",
      "333 PETROMAG_MR \n",
      "\n",
      "334 PETROMAG_MI \n",
      "\n",
      "335 PETROMAG_MZ \n",
      "\n",
      "336 PETROMAGERR_MU \n",
      "\n",
      "337 PETROMAGERR_MG \n",
      "\n",
      "338 PETROMAGERR_MR \n",
      "\n",
      "339 PETROMAGERR_MI \n",
      "\n",
      "340 PETROMAGERR_MZ \n",
      "\n",
      "341 PETROR50_R_KPC \n",
      "\n",
      "342 REGION \n",
      "\n",
      "343 PETROR50_R_KPC_SIMPLE_BIN \n",
      "\n",
      "344 PETROMAG_MR_SIMPLE_BIN \n",
      "\n",
      "345 REDSHIFT_SIMPLE_BIN \n",
      "\n",
      "346 WVT_BIN \n",
      "\n",
      "347 SAMPLE_2 \n",
      "\n",
      "348 gr_color \n",
      "\n",
      "349 ur_color \n",
      "\n"
     ]
    }
   ],
   "source": [
    "catFile = 'catalogs/clumpy_stripe82_fullsample.fits'\n",
    "catFits = fits.open(catFile) \n",
    "# catFits.info() \n",
    "catTable = table.Table(catFits[1].data)\n",
    "# print(*catTable.columns, sep='\\n')\n",
    "n = 0\n",
    "for column in catTable.columns:\n",
    "    print(n, column,'\\n')\n",
    "    n+=1"
   ]
  },
  {
   "cell_type": "code",
   "execution_count": 3,
   "metadata": {},
   "outputs": [
    {
     "data": {
      "text/plain": [
       "125"
      ]
     },
     "execution_count": 3,
     "metadata": {},
     "output_type": "execute_result"
    }
   ],
   "source": [
    "catTable[1]['FIELD']"
   ]
  },
  {
   "cell_type": "markdown",
   "metadata": {},
   "source": [
    "## Spectra from Bulk"
   ]
  },
  {
   "cell_type": "code",
   "execution_count": 4,
   "metadata": {},
   "outputs": [
    {
     "name": "stdout",
     "output_type": "stream",
     "text": [
      "315.90303127,-1.22853775\n",
      "321.63790911,-1.12280623\n",
      "324.56071869,-0.78378343\n",
      "309.70230142,-0.22634834\n",
      "312.71737669,-0.32570262\n"
     ]
    }
   ],
   "source": [
    "for cat in catTable[:5]:\n",
    "    print(str(cat['RA'])+','+str(cat['DEC']))"
   ]
  },
  {
   "cell_type": "code",
   "execution_count": 5,
   "metadata": {},
   "outputs": [],
   "source": [
    "def genSpectraAQ(file):\n",
    "    objFits = fits.open(file)\n",
    "    objTable = table.Table(objFits[1].data)\n",
    "    plt.figure(figsize=(15,7.5))\n",
    "    plt.plot(10**objTable['loglam'],objTable['flux'])\n",
    "    plt.show()\n",
    "    return objTable"
   ]
  },
  {
   "cell_type": "code",
   "execution_count": 6,
   "metadata": {},
   "outputs": [],
   "source": [
    "# genSpectraAQ('spec-0985-52431-0287.fits')"
   ]
  },
  {
   "cell_type": "markdown",
   "metadata": {},
   "source": [
    "## Testing AstroQuery"
   ]
  },
  {
   "cell_type": "code",
   "execution_count": 48,
   "metadata": {},
   "outputs": [
    {
     "name": "stderr",
     "output_type": "stream",
     "text": [
      "/Users/mike/anaconda3/lib/python3.7/site-packages/astroquery/sdss/core.py:856: VisibleDeprecationWarning: Reading unicode strings without specifying the encoding argument is deprecated. Set the encoding, use None for the system default.\n",
      "  comments='#'))\n"
     ]
    },
    {
     "data": {
      "text/html": [
       "<i>Table length=1</i>\n",
       "<table id=\"table4753621456\" class=\"table-striped table-bordered table-condensed\">\n",
       "<thead><tr><th>ra</th><th>dec</th><th>objid</th><th>run</th><th>rerun</th><th>camcol</th><th>field</th><th>z</th><th>plate</th><th>mjd</th><th>fiberID</th><th>specobjid</th><th>run2d</th><th>instrument</th></tr></thead>\n",
       "<thead><tr><th>float64</th><th>float64</th><th>int64</th><th>int64</th><th>int64</th><th>int64</th><th>int64</th><th>float64</th><th>int64</th><th>int64</th><th>int64</th><th>int64</th><th>int64</th><th>bytes4</th></tr></thead>\n",
       "<tr><td>309.702302871984</td><td>-0.226347768496051</td><td>1237656568110842101</td><td>2583</td><td>301</td><td>3</td><td>45</td><td>0.07841583</td><td>1117</td><td>52885</td><td>234</td><td>1257694565775730688</td><td>26</td><td>SDSS</td></tr>\n",
       "</table>"
      ],
      "text/plain": [
       "<Table length=1>\n",
       "       ra               dec                objid        ... run2d instrument\n",
       "    float64           float64              int64        ... int64   bytes4  \n",
       "---------------- ------------------ ------------------- ... ----- ----------\n",
       "309.702302871984 -0.226347768496051 1237656568110842101 ...    26       SDSS"
      ]
     },
     "execution_count": 48,
     "metadata": {},
     "output_type": "execute_result"
    }
   ],
   "source": [
    "test = {'RA':catTable[3]['RA'],'DEC':catTable[3]['DEC']}\n",
    "pos = coords.SkyCoord(test['RA'],test['DEC'],unit='deg')\n",
    "xid = SDSS.query_region(pos,spectro=True)\n",
    "xid"
   ]
  },
  {
   "cell_type": "code",
   "execution_count": 8,
   "metadata": {},
   "outputs": [],
   "source": [
    "def specPlt(catTable,index,spData):\n",
    "    plt.figure(figsize=(10,5))\n",
    "    plt.plot(10**spData['loglam'],spData['flux'])\n",
    "    plt.title('OBJ: %s, RA: %.3f, DEC: %.3f'%(index,catTable[index]['RA'],catTable[index]['DEC']))\n",
    "    plt.xlabel(\"Wavelength [Angstroms]\")\n",
    "    plt.ylabel(\"Flux [$10^{-17}$ erg/cm$^2$/s/A]\")\n",
    "    plt.tight_layout()\n",
    "    plt.savefig('spectra imgs/obj_%s.png'%index)\n",
    "    plt.show()"
   ]
  },
  {
   "cell_type": "code",
   "execution_count": 9,
   "metadata": {},
   "outputs": [],
   "source": [
    "def genSpectra(catTable,index,pltShow):\n",
    "    pos = coords.SkyCoord(catTable[index]['RA'],\n",
    "                          catTable[index]['DEC'],unit='deg')\n",
    "    xid = SDSS.query_region(pos,spectro=True)\n",
    "    \n",
    "    if not xid:\n",
    "        print('--------\\nNo spectra for object %s\\n--------'%index)\n",
    "        return\n",
    "    sp = SDSS.get_spectra(matches=xid)\n",
    "    spData = sp[0][1].data\n",
    "    if pltShow:\n",
    "        specPlt(catTable,index,spData)\n",
    "    return xid,table.Table(spData)"
   ]
  },
  {
   "cell_type": "code",
   "execution_count": 10,
   "metadata": {
    "scrolled": true
   },
   "outputs": [],
   "source": [
    "# from tqdm import tqdm_notebook as tqdm\n",
    "# genBar = tqdm(desc='object',total=len(catTable))\n",
    "# for n in range(0,len(catTable)):\n",
    "#     genSpectra(catTable,n,False)\n",
    "#     genBar.update(1)"
   ]
  },
  {
   "cell_type": "code",
   "execution_count": 11,
   "metadata": {},
   "outputs": [
    {
     "data": {
      "image/png": "[encoded data removed]",
      "text/plain": [
       "<Figure size 720x360 with 1 Axes>"
      ]
     },
     "metadata": {
      "needs_background": "dark"
     },
     "output_type": "display_data"
    }
   ],
   "source": [
    "obj34 = genSpectra(catTable,34,True)"
   ]
  },
  {
   "cell_type": "code",
   "execution_count": 12,
   "metadata": {},
   "outputs": [
    {
     "data": {
      "text/html": [
       "<i>Table length=2</i>\n",
       "<table id=\"table4681980840\" class=\"table-striped table-bordered table-condensed\">\n",
       "<thead><tr><th>ra</th><th>dec</th><th>objid</th><th>run</th><th>rerun</th><th>camcol</th><th>field</th><th>z</th><th>plate</th><th>mjd</th><th>fiberID</th><th>specobjid</th><th>run2d</th><th>instrument</th></tr></thead>\n",
       "<thead><tr><th>float64</th><th>float64</th><th>int64</th><th>int64</th><th>int64</th><th>int64</th><th>int64</th><th>float64</th><th>int64</th><th>int64</th><th>int64</th><th>int64</th><th>int64</th><th>bytes4</th></tr></thead>\n",
       "<tr><td>310.311530645619</td><td>1.17984347905548</td><td>1237656896140018098</td><td>2659</td><td>301</td><td>6</td><td>61</td><td>0.02704323</td><td>981</td><td>52435</td><td>599</td><td>1104672501331421184</td><td>26</td><td>SDSS</td></tr>\n",
       "<tr><td>310.311530645619</td><td>1.17984347905548</td><td>1237656896140018098</td><td>2659</td><td>301</td><td>6</td><td>61</td><td>0.02705698</td><td>1021</td><td>52460</td><td>527</td><td>1149688706815256576</td><td>26</td><td>SDSS</td></tr>\n",
       "</table>"
      ],
      "text/plain": [
       "<Table length=2>\n",
       "       ra              dec               objid        ... run2d instrument\n",
       "    float64          float64             int64        ... int64   bytes4  \n",
       "---------------- ---------------- ------------------- ... ----- ----------\n",
       "310.311530645619 1.17984347905548 1237656896140018098 ...    26       SDSS\n",
       "310.311530645619 1.17984347905548 1237656896140018098 ...    26       SDSS"
      ]
     },
     "execution_count": 12,
     "metadata": {},
     "output_type": "execute_result"
    }
   ],
   "source": [
    "obj34[0]"
   ]
  },
  {
   "cell_type": "code",
   "execution_count": 13,
   "metadata": {},
   "outputs": [
    {
     "data": {
      "text/html": [
       "<i>Row index=34</i>\n",
       "<table id=\"table4678696576\">\n",
       "<thead><tr><th>objid_1</th><th>sample_1</th><th>asset_id</th><th>objid_str</th><th>total_count</th><th>total_weight</th><th>t01_smooth_or_features_a01_smooth_count</th><th>t01_smooth_or_features_a01_smooth_weight</th><th>t01_smooth_or_features_a01_smooth_fraction</th><th>t01_smooth_or_features_a01_smooth_weighted_fraction</th><th>t01_smooth_or_features_a02_features_or_disk_count</th><th>t01_smooth_or_features_a02_features_or_disk_weight</th><th>t01_smooth_or_features_a02_features_or_disk_fraction</th><th>t01_smooth_or_features_a02_features_or_disk_weighted_fraction</th><th>t01_smooth_or_features_a03_star_or_artifact_count</th><th>t01_smooth_or_features_a03_star_or_artifact_weight</th><th>t01_smooth_or_features_a03_star_or_artifact_fraction</th><th>t01_smooth_or_features_a03_star_or_artifact_weighted_fraction</th><th>t01_smooth_or_features_total_count</th><th>t01_smooth_or_features_total_weight</th><th>t02_edgeon_a04_yes_count</th><th>t02_edgeon_a04_yes_weight</th><th>t02_edgeon_a04_yes_fraction</th><th>t02_edgeon_a04_yes_weighted_fraction</th><th>t02_edgeon_a05_no_count</th><th>t02_edgeon_a05_no_weight</th><th>t02_edgeon_a05_no_fraction</th><th>t02_edgeon_a05_no_weighted_fraction</th><th>t02_edgeon_total_count</th><th>t02_edgeon_total_weight</th><th>t03_bar_a06_bar_count</th><th>t03_bar_a06_bar_weight</th><th>t03_bar_a06_bar_fraction</th><th>t03_bar_a06_bar_weighted_fraction</th><th>t03_bar_a07_no_bar_count</th><th>t03_bar_a07_no_bar_weight</th><th>t03_bar_a07_no_bar_fraction</th><th>t03_bar_a07_no_bar_weighted_fraction</th><th>t03_bar_total_count</th><th>t03_bar_total_weight</th><th>t04_spiral_a08_spiral_count</th><th>t04_spiral_a08_spiral_weight</th><th>t04_spiral_a08_spiral_fraction</th><th>t04_spiral_a08_spiral_weighted_fraction</th><th>t04_spiral_a09_no_spiral_count</th><th>t04_spiral_a09_no_spiral_weight</th><th>t04_spiral_a09_no_spiral_fraction</th><th>t04_spiral_a09_no_spiral_weighted_fraction</th><th>t04_spiral_total_count</th><th>t04_spiral_total_weight</th><th>t05_bulge_prominence_a10_no_bulge_count</th><th>t05_bulge_prominence_a10_no_bulge_weight</th><th>t05_bulge_prominence_a10_no_bulge_fraction</th><th>t05_bulge_prominence_a10_no_bulge_weighted_fraction</th><th>t05_bulge_prominence_a11_just_noticeable_count</th><th>t05_bulge_prominence_a11_just_noticeable_weight</th><th>t05_bulge_prominence_a11_just_noticeable_fraction</th><th>t05_bulge_prominence_a11_just_noticeable_weighted_fraction</th><th>t05_bulge_prominence_a12_obvious_count</th><th>t05_bulge_prominence_a12_obvious_weight</th><th>t05_bulge_prominence_a12_obvious_fraction</th><th>t05_bulge_prominence_a12_obvious_weighted_fraction</th><th>t05_bulge_prominence_a13_dominant_count</th><th>t05_bulge_prominence_a13_dominant_weight</th><th>t05_bulge_prominence_a13_dominant_fraction</th><th>t05_bulge_prominence_a13_dominant_weighted_fraction</th><th>t05_bulge_prominence_total_count</th><th>t05_bulge_prominence_total_weight</th><th>t06_odd_a14_yes_count</th><th>t06_odd_a14_yes_weight</th><th>t06_odd_a14_yes_fraction</th><th>t06_odd_a14_yes_weighted_fraction</th><th>t06_odd_a15_no_count</th><th>t06_odd_a15_no_weight</th><th>t06_odd_a15_no_fraction</th><th>t06_odd_a15_no_weighted_fraction</th><th>t06_odd_total_count</th><th>t06_odd_total_weight</th><th>t07_rounded_a16_completely_round_count</th><th>t07_rounded_a16_completely_round_weight</th><th>t07_rounded_a16_completely_round_fraction</th><th>t07_rounded_a16_completely_round_weighted_fraction</th><th>t07_rounded_a17_in_between_count</th><th>t07_rounded_a17_in_between_weight</th><th>t07_rounded_a17_in_between_fraction</th><th>t07_rounded_a17_in_between_weighted_fraction</th><th>t07_rounded_a18_cigar_shaped_count</th><th>t07_rounded_a18_cigar_shaped_weight</th><th>t07_rounded_a18_cigar_shaped_fraction</th><th>t07_rounded_a18_cigar_shaped_weighted_fraction</th><th>t07_rounded_total_count</th><th>t07_rounded_total_weight</th><th>t08_odd_feature_a19_ring_count</th><th>t08_odd_feature_a19_ring_weight</th><th>t08_odd_feature_a19_ring_fraction</th><th>t08_odd_feature_a19_ring_weighted_fraction</th><th>t08_odd_feature_a20_lens_or_arc_count</th><th>t08_odd_feature_a20_lens_or_arc_weight</th><th>t08_odd_feature_a20_lens_or_arc_fraction</th><th>t08_odd_feature_a20_lens_or_arc_weighted_fraction</th><th>t08_odd_feature_a21_disturbed_count</th><th>t08_odd_feature_a21_disturbed_weight</th><th>t08_odd_feature_a21_disturbed_fraction</th><th>t08_odd_feature_a21_disturbed_weighted_fraction</th><th>t08_odd_feature_a22_irregular_count</th><th>t08_odd_feature_a22_irregular_weight</th><th>t08_odd_feature_a22_irregular_fraction</th><th>t08_odd_feature_a22_irregular_weighted_fraction</th><th>t08_odd_feature_a23_other_count</th><th>t08_odd_feature_a23_other_weight</th><th>t08_odd_feature_a23_other_fraction</th><th>t08_odd_feature_a23_other_weighted_fraction</th><th>t08_odd_feature_a24_merger_count</th><th>t08_odd_feature_a24_merger_weight</th><th>t08_odd_feature_a24_merger_fraction</th><th>t08_odd_feature_a24_merger_weighted_fraction</th><th>t08_odd_feature_a38_dust_lane_count</th><th>t08_odd_feature_a38_dust_lane_weight</th><th>t08_odd_feature_a38_dust_lane_fraction</th><th>t08_odd_feature_a38_dust_lane_weighted_fraction</th><th>t08_odd_feature_total_count</th><th>t08_odd_feature_total_weight</th><th>t09_bulge_shape_a25_rounded_count</th><th>t09_bulge_shape_a25_rounded_weight</th><th>t09_bulge_shape_a25_rounded_fraction</th><th>t09_bulge_shape_a25_rounded_weighted_fraction</th><th>t09_bulge_shape_a26_boxy_count</th><th>t09_bulge_shape_a26_boxy_weight</th><th>t09_bulge_shape_a26_boxy_fraction</th><th>t09_bulge_shape_a26_boxy_weighted_fraction</th><th>t09_bulge_shape_a27_no_bulge_count</th><th>t09_bulge_shape_a27_no_bulge_weight</th><th>t09_bulge_shape_a27_no_bulge_fraction</th><th>t09_bulge_shape_a27_no_bulge_weighted_fraction</th><th>t09_bulge_shape_total_count</th><th>t09_bulge_shape_total_weight</th><th>t10_arms_winding_a28_tight_count</th><th>t10_arms_winding_a28_tight_weight</th><th>t10_arms_winding_a28_tight_fraction</th><th>t10_arms_winding_a28_tight_weighted_fraction</th><th>t10_arms_winding_a29_medium_count</th><th>t10_arms_winding_a29_medium_weight</th><th>t10_arms_winding_a29_medium_fraction</th><th>t10_arms_winding_a29_medium_weighted_fraction</th><th>t10_arms_winding_a30_loose_count</th><th>t10_arms_winding_a30_loose_weight</th><th>t10_arms_winding_a30_loose_fraction</th><th>t10_arms_winding_a30_loose_weighted_fraction</th><th>t10_arms_winding_total_count</th><th>t10_arms_winding_total_weight</th><th>t11_arms_number_a31_1_count</th><th>t11_arms_number_a31_1_weight</th><th>t11_arms_number_a31_1_fraction</th><th>t11_arms_number_a31_1_weighted_fraction</th><th>t11_arms_number_a32_2_count</th><th>t11_arms_number_a32_2_weight</th><th>t11_arms_number_a32_2_fraction</th><th>t11_arms_number_a32_2_weighted_fraction</th><th>t11_arms_number_a33_3_count</th><th>t11_arms_number_a33_3_weight</th><th>t11_arms_number_a33_3_fraction</th><th>t11_arms_number_a33_3_weighted_fraction</th><th>t11_arms_number_a34_4_count</th><th>t11_arms_number_a34_4_weight</th><th>t11_arms_number_a34_4_fraction</th><th>t11_arms_number_a34_4_weighted_fraction</th><th>t11_arms_number_a36_more_than_4_count</th><th>t11_arms_number_a36_more_than_4_weight</th><th>t11_arms_number_a36_more_than_4_fraction</th><th>t11_arms_number_a36_more_than_4_weighted_fraction</th><th>t11_arms_number_a37_cant_tell_count</th><th>t11_arms_number_a37_cant_tell_weight</th><th>t11_arms_number_a37_cant_tell_fraction</th><th>t11_arms_number_a37_cant_tell_weighted_fraction</th><th>t11_arms_number_total_count</th><th>t11_arms_number_total_weight</th><th>t12_arms_number_total_count</th><th>t12_arms_number_total_weight</th><th>t13_arms_number_total_count</th><th>t13_arms_number_total_weight</th><th>t14_clumpy_a39_yes_count</th><th>t14_clumpy_a39_yes_weight</th><th>t14_clumpy_a39_yes_fraction</th><th>t14_clumpy_a39_yes_weighted_fraction</th><th>t14_clumpy_a40_no_count</th><th>t14_clumpy_a40_no_weight</th><th>t14_clumpy_a40_no_fraction</th><th>t14_clumpy_a40_no_weighted_fraction</th><th>t14_clumpy_total_count</th><th>t14_clumpy_total_weight</th><th>t15_multiple_clumps_a41_yes_count</th><th>t15_multiple_clumps_a41_yes_weight</th><th>t15_multiple_clumps_a41_yes_fraction</th><th>t15_multiple_clumps_a41_yes_weighted_fraction</th><th>t15_multiple_clumps_a42_no_count</th><th>t15_multiple_clumps_a42_no_weight</th><th>t15_multiple_clumps_a42_no_fraction</th><th>t15_multiple_clumps_a42_no_weighted_fraction</th><th>t15_multiple_clumps_total_count</th><th>t15_multiple_clumps_total_weight</th><th>t16_bright_clump_a43_yes_count</th><th>t16_bright_clump_a43_yes_weight</th><th>t16_bright_clump_a43_yes_fraction</th><th>t16_bright_clump_a43_yes_weighted_fraction</th><th>t16_bright_clump_a44_no_count</th><th>t16_bright_clump_a44_no_weight</th><th>t16_bright_clump_a44_no_fraction</th><th>t16_bright_clump_a44_no_weighted_fraction</th><th>t16_bright_clump_total_count</th><th>t16_bright_clump_total_weight</th><th>t17_bright_clump_central_a45_yes_count</th><th>t17_bright_clump_central_a45_yes_weight</th><th>t17_bright_clump_central_a45_yes_fraction</th><th>t17_bright_clump_central_a45_yes_weighted_fraction</th><th>t17_bright_clump_central_a46_no_count</th><th>t17_bright_clump_central_a46_no_weight</th><th>t17_bright_clump_central_a46_no_fraction</th><th>t17_bright_clump_central_a46_no_weighted_fraction</th><th>t17_bright_clump_central_total_count</th><th>t17_bright_clump_central_total_weight</th><th>t18_clumps_arrangement_a47_line_count</th><th>t18_clumps_arrangement_a47_line_weight</th><th>t18_clumps_arrangement_a47_line_fraction</th><th>t18_clumps_arrangement_a47_line_weighted_fraction</th><th>t18_clumps_arrangement_a48_chain_count</th><th>t18_clumps_arrangement_a48_chain_weight</th><th>t18_clumps_arrangement_a48_chain_fraction</th><th>t18_clumps_arrangement_a48_chain_weighted_fraction</th><th>t18_clumps_arrangement_a49_cluster_count</th><th>t18_clumps_arrangement_a49_cluster_weight</th><th>t18_clumps_arrangement_a49_cluster_fraction</th><th>t18_clumps_arrangement_a49_cluster_weighted_fraction</th><th>t18_clumps_arrangement_a59_spiral_count</th><th>t18_clumps_arrangement_a59_spiral_weight</th><th>t18_clumps_arrangement_a59_spiral_fraction</th><th>t18_clumps_arrangement_a59_spiral_weighted_fraction</th><th>t18_clumps_arrangement_total_count</th><th>t18_clumps_arrangement_total_weight</th><th>t19_clumps_count_a50_2_count</th><th>t19_clumps_count_a50_2_weight</th><th>t19_clumps_count_a50_2_fraction</th><th>t19_clumps_count_a50_2_weighted_fraction</th><th>t19_clumps_count_a51_3_count</th><th>t19_clumps_count_a51_3_weight</th><th>t19_clumps_count_a51_3_fraction</th><th>t19_clumps_count_a51_3_weighted_fraction</th><th>t19_clumps_count_a52_4_count</th><th>t19_clumps_count_a52_4_weight</th><th>t19_clumps_count_a52_4_fraction</th><th>t19_clumps_count_a52_4_weighted_fraction</th><th>t19_clumps_count_a53_more_than_4_count</th><th>t19_clumps_count_a53_more_than_4_weight</th><th>t19_clumps_count_a53_more_than_4_fraction</th><th>t19_clumps_count_a53_more_than_4_weighted_fraction</th><th>t19_clumps_count_a54_cant_tell_count</th><th>t19_clumps_count_a54_cant_tell_weight</th><th>t19_clumps_count_a54_cant_tell_fraction</th><th>t19_clumps_count_a54_cant_tell_weighted_fraction</th><th>t19_clumps_count_a60_1_count</th><th>t19_clumps_count_a60_1_weight</th><th>t19_clumps_count_a60_1_fraction</th><th>t19_clumps_count_a60_1_weighted_fraction</th><th>t19_clumps_count_total_count</th><th>t19_clumps_count_total_weight</th><th>t20_clumps_symmetrical_a55_yes_count</th><th>t20_clumps_symmetrical_a55_yes_weight</th><th>t20_clumps_symmetrical_a55_yes_fraction</th><th>t20_clumps_symmetrical_a55_yes_weighted_fraction</th><th>t20_clumps_symmetrical_a56_no_count</th><th>t20_clumps_symmetrical_a56_no_weight</th><th>t20_clumps_symmetrical_a56_no_fraction</th><th>t20_clumps_symmetrical_a56_no_weighted_fraction</th><th>t20_clumps_symmetrical_total_count</th><th>t20_clumps_symmetrical_total_weight</th><th>t21_clumps_embedded_a57_yes_count</th><th>t21_clumps_embedded_a57_yes_weight</th><th>t21_clumps_embedded_a57_yes_fraction</th><th>t21_clumps_embedded_a57_yes_weighted_fraction</th><th>t21_clumps_embedded_a58_no_count</th><th>t21_clumps_embedded_a58_no_weight</th><th>t21_clumps_embedded_a58_no_fraction</th><th>t21_clumps_embedded_a58_no_weighted_fraction</th><th>t21_clumps_embedded_total_count</th><th>t21_clumps_embedded_total_weight</th><th>OBJID_2</th><th>RUN</th><th>RERUN</th><th>CAMCOL</th><th>FIELD</th><th>OBJ</th><th>RA</th><th>DEC</th><th>PETROR50_R</th><th>PETROR90_R</th><th>PETROMAG_U</th><th>PETROMAG_G</th><th>PETROMAG_R</th><th>PETROMAG_I</th><th>PETROMAG_Z</th><th>PETROMAGERR_U</th><th>PETROMAGERR_G</th><th>PETROMAGERR_R</th><th>PETROMAGERR_I</th><th>PETROMAGERR_Z</th><th>PSFMAG_R</th><th>FIBERMAG_R</th><th>DEVMAG_R</th><th>DEVMAGERR_R</th><th>EXPMAG_R</th><th>EXPMAGERR_R</th><th>FRACDEV_R</th><th>MU50_R</th><th>EXTINCTION_U</th><th>EXTINCTION_G</th><th>EXTINCTION_R</th><th>EXTINCTION_I</th><th>EXTINCTION_Z</th><th>ROWC_U</th><th>COLC_U</th><th>ROWC_G</th><th>COLC_G</th><th>ROWC_R</th><th>COLC_R</th><th>ROWC_I</th><th>COLC_I</th><th>ROWC_Z</th><th>COLC_Z</th><th>CMODELMAG_R</th><th>CMODELMAGERR_R</th><th>REDSHIFT</th><th>REDSHIFTERR</th><th>PETROMAG_MU</th><th>PETROMAG_MG</th><th>PETROMAG_MR</th><th>PETROMAG_MI</th><th>PETROMAG_MZ</th><th>PETROMAGERR_MU</th><th>PETROMAGERR_MG</th><th>PETROMAGERR_MR</th><th>PETROMAGERR_MI</th><th>PETROMAGERR_MZ</th><th>PETROR50_R_KPC</th><th>REGION</th><th>PETROR50_R_KPC_SIMPLE_BIN</th><th>PETROMAG_MR_SIMPLE_BIN</th><th>REDSHIFT_SIMPLE_BIN</th><th>WVT_BIN</th><th>SAMPLE_2</th><th>gr_color</th><th>ur_color</th></tr></thead>\n",
       "<thead><tr><th>int64</th><th>str22</th><th>int32</th><th>str20</th><th>int16</th><th>float32</th><th>int16</th><th>float32</th><th>float32</th><th>float32</th><th>int16</th><th>float32</th><th>float32</th><th>float32</th><th>int16</th><th>float32</th><th>float32</th><th>float32</th><th>int16</th><th>float32</th><th>int16</th><th>float32</th><th>float32</th><th>float32</th><th>int16</th><th>float32</th><th>float32</th><th>float32</th><th>int16</th><th>float32</th><th>int16</th><th>float32</th><th>float32</th><th>float32</th><th>int16</th><th>float32</th><th>float32</th><th>float32</th><th>int16</th><th>float32</th><th>int16</th><th>float32</th><th>float32</th><th>float32</th><th>int16</th><th>float32</th><th>float32</th><th>float32</th><th>int16</th><th>float32</th><th>int16</th><th>float32</th><th>float32</th><th>float32</th><th>int16</th><th>float32</th><th>float32</th><th>float32</th><th>int16</th><th>float32</th><th>float32</th><th>float32</th><th>int16</th><th>float32</th><th>float32</th><th>float32</th><th>int16</th><th>float32</th><th>int16</th><th>float32</th><th>float32</th><th>float32</th><th>int16</th><th>float32</th><th>float32</th><th>float32</th><th>int16</th><th>float32</th><th>int16</th><th>float32</th><th>float32</th><th>float32</th><th>int16</th><th>float32</th><th>float32</th><th>float32</th><th>int16</th><th>float32</th><th>float32</th><th>float32</th><th>int16</th><th>float32</th><th>int16</th><th>float32</th><th>float32</th><th>float32</th><th>int16</th><th>float32</th><th>float32</th><th>float32</th><th>int16</th><th>float32</th><th>float32</th><th>float32</th><th>int16</th><th>float32</th><th>float32</th><th>float32</th><th>int16</th><th>float32</th><th>float32</th><th>float32</th><th>int16</th><th>float32</th><th>float32</th><th>float32</th><th>int16</th><th>float32</th><th>float32</th><th>float32</th><th>int16</th><th>float32</th><th>int16</th><th>float32</th><th>float32</th><th>float32</th><th>int16</th><th>float32</th><th>float32</th><th>float32</th><th>int16</th><th>float32</th><th>float32</th><th>float32</th><th>int16</th><th>float32</th><th>int16</th><th>float32</th><th>float32</th><th>float32</th><th>int16</th><th>float32</th><th>float32</th><th>float32</th><th>int16</th><th>float32</th><th>float32</th><th>float32</th><th>int16</th><th>float32</th><th>int16</th><th>float32</th><th>float32</th><th>float32</th><th>int16</th><th>float32</th><th>float32</th><th>float32</th><th>int16</th><th>float32</th><th>float32</th><th>float32</th><th>int16</th><th>float32</th><th>float32</th><th>float32</th><th>int16</th><th>float32</th><th>float32</th><th>float32</th><th>int16</th><th>float32</th><th>float32</th><th>float32</th><th>int16</th><th>float32</th><th>int16</th><th>float32</th><th>int16</th><th>float32</th><th>int16</th><th>float32</th><th>float32</th><th>float32</th><th>int16</th><th>float32</th><th>float32</th><th>float32</th><th>int16</th><th>float32</th><th>int16</th><th>float32</th><th>float32</th><th>float32</th><th>int16</th><th>float32</th><th>float32</th><th>float32</th><th>int16</th><th>float32</th><th>int16</th><th>float32</th><th>float32</th><th>float32</th><th>int16</th><th>float32</th><th>float32</th><th>float32</th><th>int16</th><th>float32</th><th>int16</th><th>float32</th><th>float32</th><th>float32</th><th>int16</th><th>float32</th><th>float32</th><th>float32</th><th>int16</th><th>float32</th><th>int16</th><th>float32</th><th>float32</th><th>float32</th><th>int16</th><th>float32</th><th>float32</th><th>float32</th><th>int16</th><th>float32</th><th>float32</th><th>float32</th><th>int16</th><th>float32</th><th>float32</th><th>float32</th><th>int16</th><th>float32</th><th>int16</th><th>float32</th><th>float32</th><th>float32</th><th>int16</th><th>float32</th><th>float32</th><th>float32</th><th>int16</th><th>float32</th><th>float32</th><th>float32</th><th>int16</th><th>float32</th><th>float32</th><th>float32</th><th>int16</th><th>float32</th><th>float32</th><th>float32</th><th>int16</th><th>float32</th><th>float32</th><th>float32</th><th>int16</th><th>float32</th><th>int16</th><th>float32</th><th>float32</th><th>float32</th><th>int16</th><th>float32</th><th>float32</th><th>float32</th><th>int16</th><th>float32</th><th>int16</th><th>float32</th><th>float32</th><th>float32</th><th>int16</th><th>float32</th><th>float32</th><th>float32</th><th>int16</th><th>float32</th><th>int64</th><th>int16</th><th>int16</th><th>int16</th><th>int16</th><th>int16</th><th>float64</th><th>float64</th><th>float32</th><th>float32</th><th>float32</th><th>float32</th><th>float32</th><th>float32</th><th>float32</th><th>float32</th><th>float32</th><th>float32</th><th>float32</th><th>float32</th><th>float32</th><th>float32</th><th>float32</th><th>float32</th><th>float32</th><th>float32</th><th>float32</th><th>float64</th><th>float32</th><th>float32</th><th>float32</th><th>float32</th><th>float32</th><th>float32</th><th>float32</th><th>float32</th><th>float32</th><th>float32</th><th>float32</th><th>float32</th><th>float32</th><th>float32</th><th>float32</th><th>float64</th><th>float64</th><th>float32</th><th>float32</th><th>float32</th><th>float32</th><th>float32</th><th>float32</th><th>float32</th><th>float32</th><th>float32</th><th>float32</th><th>float32</th><th>float32</th><th>float32</th><th>int16</th><th>int16</th><th>int16</th><th>int16</th><th>int16</th><th>str22</th><th>float32</th><th>float32</th></tr></thead>\n",
       "<tr><td>587731174915113401</td><td>stripe82</td><td>23867</td><td>587731174915113401</td><td>258</td><td>254.006</td><td>15</td><td>14.001</td><td>0.333</td><td>0.326</td><td>23</td><td>23.0</td><td>0.511</td><td>0.535</td><td>7</td><td>6.003</td><td>0.156</td><td>0.14</td><td>45</td><td>43.004</td><td>0</td><td>0.0</td><td>0.0</td><td>0.0</td><td>7</td><td>7.0</td><td>1.0</td><td>1.0</td><td>7</td><td>7.0</td><td>3</td><td>3.0</td><td>0.429</td><td>0.429</td><td>4</td><td>4.0</td><td>0.571</td><td>0.571</td><td>7</td><td>7.0</td><td>3</td><td>3.0</td><td>0.429</td><td>0.429</td><td>4</td><td>4.0</td><td>0.571</td><td>0.571</td><td>7</td><td>7.0</td><td>5</td><td>5.0</td><td>0.714</td><td>0.714</td><td>2</td><td>2.0</td><td>0.286</td><td>0.286</td><td>0</td><td>0.0</td><td>0.0</td><td>0.0</td><td>0</td><td>0.0</td><td>0.0</td><td>0.0</td><td>7</td><td>7.0</td><td>18</td><td>18.0</td><td>0.474</td><td>0.486</td><td>20</td><td>19.001</td><td>0.526</td><td>0.514</td><td>38</td><td>37.001</td><td>3</td><td>2.001</td><td>0.188</td><td>0.133</td><td>12</td><td>12.0</td><td>0.75</td><td>0.8</td><td>1</td><td>1.0</td><td>0.062</td><td>0.067</td><td>16</td><td>15.000999</td><td>0</td><td>0.0</td><td>0.0</td><td>0.0</td><td>0</td><td>0.0</td><td>0.0</td><td>0.0</td><td>1</td><td>1.0</td><td>0.056</td><td>0.056</td><td>5</td><td>5.0</td><td>0.278</td><td>0.278</td><td>8</td><td>8.0</td><td>0.444</td><td>0.444</td><td>4</td><td>4.0</td><td>0.222</td><td>0.222</td><td>0</td><td>0.0</td><td>0.0</td><td>0.0</td><td>18</td><td>18.0</td><td>0</td><td>0.0</td><td>0.0</td><td>0.0</td><td>0</td><td>0.0</td><td>0.0</td><td>0.0</td><td>0</td><td>0.0</td><td>0.0</td><td>0.0</td><td>0</td><td>0.0</td><td>1</td><td>1.0</td><td>0.333</td><td>0.333</td><td>2</td><td>2.0</td><td>0.667</td><td>0.667</td><td>0</td><td>0.0</td><td>0.0</td><td>0.0</td><td>3</td><td>3.0</td><td>2</td><td>2.0</td><td>0.667</td><td>0.667</td><td>1</td><td>1.0</td><td>0.333</td><td>0.333</td><td>0</td><td>0.0</td><td>0.0</td><td>0.0</td><td>0</td><td>0.0</td><td>0.0</td><td>0.0</td><td>0</td><td>0.0</td><td>0.0</td><td>0.0</td><td>0</td><td>0.0</td><td>0.0</td><td>0.0</td><td>3</td><td>3.0</td><td>0</td><td>0.0</td><td>0</td><td>0.0</td><td>16</td><td>16.0</td><td>0.696</td><td>0.696</td><td>7</td><td>7.0</td><td>0.304</td><td>0.304</td><td>23</td><td>23.0</td><td>0</td><td>0.0</td><td>0.0</td><td>0.0</td><td>0</td><td>0.0</td><td>0.0</td><td>0.0</td><td>0</td><td>0.0</td><td>13</td><td>13.0</td><td>0.929</td><td>0.929</td><td>1</td><td>1.0</td><td>0.071</td><td>0.071</td><td>14</td><td>14.0</td><td>0</td><td>0.0</td><td>0.0</td><td>0.0</td><td>13</td><td>13.0</td><td>1.0</td><td>1.0</td><td>13</td><td>13.0</td><td>0</td><td>0.0</td><td>0.0</td><td>0.0</td><td>3</td><td>3.0</td><td>0.333</td><td>0.333</td><td>6</td><td>6.0</td><td>0.667</td><td>0.667</td><td>0</td><td>0.0</td><td>0.0</td><td>0.0</td><td>9</td><td>9.0</td><td>5</td><td>5.0</td><td>0.312</td><td>0.312</td><td>6</td><td>6.0</td><td>0.375</td><td>0.375</td><td>1</td><td>1.0</td><td>0.062</td><td>0.062</td><td>1</td><td>1.0</td><td>0.062</td><td>0.062</td><td>1</td><td>1.0</td><td>0.062</td><td>0.062</td><td>2</td><td>2.0</td><td>0.125</td><td>0.125</td><td>16</td><td>16.0</td><td>2</td><td>2.0</td><td>0.125</td><td>0.125</td><td>14</td><td>14.0</td><td>0.875</td><td>0.875</td><td>16</td><td>16.0</td><td>10</td><td>10.0</td><td>0.625</td><td>0.625</td><td>6</td><td>6.0</td><td>0.375</td><td>0.375</td><td>16</td><td>16.0</td><td>587731174915113401</td><td>2659</td><td>40</td><td>6</td><td>61</td><td>441</td><td>310.31152523</td><td>1.17985096</td><td>3.2303386</td><td>7.783539</td><td>18.284086</td><td>17.361382</td><td>16.912163</td><td>16.635872</td><td>16.575432</td><td>0.2971967</td><td>0.49241605</td><td>0.7674685</td><td>0.79533625</td><td>0.8451982</td><td>19.272758</td><td>18.81686</td><td>16.458809</td><td>0.008127883</td><td>16.980036</td><td>0.007906992</td><td>0.11522031</td><td>21.453852615305497</td><td>0.44049382</td><td>0.32411116</td><td>0.23507246</td><td>0.17824833</td><td>0.12638028</td><td>1038.6462</td><td>1269.45</td><td>1045.016</td><td>1266.9722</td><td>1033.3402</td><td>1263.7152</td><td>1039.1073</td><td>1264.5415</td><td>1044.5983</td><td>1264.2041</td><td>16.905565248328003</td><td>0.006683306276144206</td><td>0.0270547</td><td>8.55638e-05</td><td>-17.57859</td><td>-18.333477</td><td>-18.725151</td><td>-18.892918</td><td>-18.869383</td><td>0.29787108</td><td>0.49251795</td><td>0.76753414</td><td>0.7953999</td><td>0.84527075</td><td>1.7560135</td><td>0</td><td>17</td><td>105</td><td>1</td><td>3</td><td>stripe82</td><td>0.44921875</td><td>1.3719234</td></tr>\n",
       "</table>"
      ],
      "text/plain": [
       "<Row index=34>\n",
       "     objid_1              sample_1        asset_id      objid_str       total_count total_weight t01_smooth_or_features_a01_smooth_count t01_smooth_or_features_a01_smooth_weight t01_smooth_or_features_a01_smooth_fraction t01_smooth_or_features_a01_smooth_weighted_fraction t01_smooth_or_features_a02_features_or_disk_count t01_smooth_or_features_a02_features_or_disk_weight t01_smooth_or_features_a02_features_or_disk_fraction t01_smooth_or_features_a02_features_or_disk_weighted_fraction t01_smooth_or_features_a03_star_or_artifact_count t01_smooth_or_features_a03_star_or_artifact_weight t01_smooth_or_features_a03_star_or_artifact_fraction t01_smooth_or_features_a03_star_or_artifact_weighted_fraction t01_smooth_or_features_total_count t01_smooth_or_features_total_weight t02_edgeon_a04_yes_count t02_edgeon_a04_yes_weight t02_edgeon_a04_yes_fraction t02_edgeon_a04_yes_weighted_fraction t02_edgeon_a05_no_count t02_edgeon_a05_no_weight t02_edgeon_a05_no_fraction t02_edgeon_a05_no_weighted_fraction t02_edgeon_total_count t02_edgeon_total_weight t03_bar_a06_bar_count t03_bar_a06_bar_weight t03_bar_a06_bar_fraction t03_bar_a06_bar_weighted_fraction t03_bar_a07_no_bar_count t03_bar_a07_no_bar_weight t03_bar_a07_no_bar_fraction t03_bar_a07_no_bar_weighted_fraction t03_bar_total_count t03_bar_total_weight t04_spiral_a08_spiral_count t04_spiral_a08_spiral_weight t04_spiral_a08_spiral_fraction t04_spiral_a08_spiral_weighted_fraction t04_spiral_a09_no_spiral_count t04_spiral_a09_no_spiral_weight t04_spiral_a09_no_spiral_fraction t04_spiral_a09_no_spiral_weighted_fraction t04_spiral_total_count t04_spiral_total_weight t05_bulge_prominence_a10_no_bulge_count t05_bulge_prominence_a10_no_bulge_weight t05_bulge_prominence_a10_no_bulge_fraction t05_bulge_prominence_a10_no_bulge_weighted_fraction t05_bulge_prominence_a11_just_noticeable_count t05_bulge_prominence_a11_just_noticeable_weight t05_bulge_prominence_a11_just_noticeable_fraction t05_bulge_prominence_a11_just_noticeable_weighted_fraction t05_bulge_prominence_a12_obvious_count t05_bulge_prominence_a12_obvious_weight t05_bulge_prominence_a12_obvious_fraction t05_bulge_prominence_a12_obvious_weighted_fraction t05_bulge_prominence_a13_dominant_count t05_bulge_prominence_a13_dominant_weight t05_bulge_prominence_a13_dominant_fraction t05_bulge_prominence_a13_dominant_weighted_fraction t05_bulge_prominence_total_count t05_bulge_prominence_total_weight t06_odd_a14_yes_count t06_odd_a14_yes_weight t06_odd_a14_yes_fraction t06_odd_a14_yes_weighted_fraction t06_odd_a15_no_count t06_odd_a15_no_weight t06_odd_a15_no_fraction t06_odd_a15_no_weighted_fraction t06_odd_total_count t06_odd_total_weight t07_rounded_a16_completely_round_count t07_rounded_a16_completely_round_weight t07_rounded_a16_completely_round_fraction t07_rounded_a16_completely_round_weighted_fraction t07_rounded_a17_in_between_count t07_rounded_a17_in_between_weight t07_rounded_a17_in_between_fraction t07_rounded_a17_in_between_weighted_fraction t07_rounded_a18_cigar_shaped_count t07_rounded_a18_cigar_shaped_weight t07_rounded_a18_cigar_shaped_fraction t07_rounded_a18_cigar_shaped_weighted_fraction t07_rounded_total_count t07_rounded_total_weight t08_odd_feature_a19_ring_count t08_odd_feature_a19_ring_weight t08_odd_feature_a19_ring_fraction t08_odd_feature_a19_ring_weighted_fraction t08_odd_feature_a20_lens_or_arc_count t08_odd_feature_a20_lens_or_arc_weight t08_odd_feature_a20_lens_or_arc_fraction t08_odd_feature_a20_lens_or_arc_weighted_fraction t08_odd_feature_a21_disturbed_count t08_odd_feature_a21_disturbed_weight t08_odd_feature_a21_disturbed_fraction t08_odd_feature_a21_disturbed_weighted_fraction t08_odd_feature_a22_irregular_count t08_odd_feature_a22_irregular_weight t08_odd_feature_a22_irregular_fraction t08_odd_feature_a22_irregular_weighted_fraction t08_odd_feature_a23_other_count t08_odd_feature_a23_other_weight t08_odd_feature_a23_other_fraction t08_odd_feature_a23_other_weighted_fraction t08_odd_feature_a24_merger_count t08_odd_feature_a24_merger_weight t08_odd_feature_a24_merger_fraction t08_odd_feature_a24_merger_weighted_fraction t08_odd_feature_a38_dust_lane_count t08_odd_feature_a38_dust_lane_weight t08_odd_feature_a38_dust_lane_fraction t08_odd_feature_a38_dust_lane_weighted_fraction t08_odd_feature_total_count t08_odd_feature_total_weight t09_bulge_shape_a25_rounded_count t09_bulge_shape_a25_rounded_weight t09_bulge_shape_a25_rounded_fraction t09_bulge_shape_a25_rounded_weighted_fraction t09_bulge_shape_a26_boxy_count t09_bulge_shape_a26_boxy_weight t09_bulge_shape_a26_boxy_fraction t09_bulge_shape_a26_boxy_weighted_fraction t09_bulge_shape_a27_no_bulge_count t09_bulge_shape_a27_no_bulge_weight t09_bulge_shape_a27_no_bulge_fraction t09_bulge_shape_a27_no_bulge_weighted_fraction t09_bulge_shape_total_count t09_bulge_shape_total_weight t10_arms_winding_a28_tight_count t10_arms_winding_a28_tight_weight t10_arms_winding_a28_tight_fraction t10_arms_winding_a28_tight_weighted_fraction t10_arms_winding_a29_medium_count t10_arms_winding_a29_medium_weight t10_arms_winding_a29_medium_fraction t10_arms_winding_a29_medium_weighted_fraction t10_arms_winding_a30_loose_count t10_arms_winding_a30_loose_weight t10_arms_winding_a30_loose_fraction t10_arms_winding_a30_loose_weighted_fraction t10_arms_winding_total_count t10_arms_winding_total_weight t11_arms_number_a31_1_count t11_arms_number_a31_1_weight t11_arms_number_a31_1_fraction t11_arms_number_a31_1_weighted_fraction t11_arms_number_a32_2_count t11_arms_number_a32_2_weight t11_arms_number_a32_2_fraction t11_arms_number_a32_2_weighted_fraction t11_arms_number_a33_3_count t11_arms_number_a33_3_weight t11_arms_number_a33_3_fraction t11_arms_number_a33_3_weighted_fraction t11_arms_number_a34_4_count t11_arms_number_a34_4_weight t11_arms_number_a34_4_fraction t11_arms_number_a34_4_weighted_fraction t11_arms_number_a36_more_than_4_count t11_arms_number_a36_more_than_4_weight t11_arms_number_a36_more_than_4_fraction t11_arms_number_a36_more_than_4_weighted_fraction t11_arms_number_a37_cant_tell_count t11_arms_number_a37_cant_tell_weight t11_arms_number_a37_cant_tell_fraction t11_arms_number_a37_cant_tell_weighted_fraction t11_arms_number_total_count t11_arms_number_total_weight t12_arms_number_total_count t12_arms_number_total_weight t13_arms_number_total_count t13_arms_number_total_weight t14_clumpy_a39_yes_count t14_clumpy_a39_yes_weight t14_clumpy_a39_yes_fraction t14_clumpy_a39_yes_weighted_fraction t14_clumpy_a40_no_count t14_clumpy_a40_no_weight t14_clumpy_a40_no_fraction t14_clumpy_a40_no_weighted_fraction t14_clumpy_total_count t14_clumpy_total_weight t15_multiple_clumps_a41_yes_count t15_multiple_clumps_a41_yes_weight t15_multiple_clumps_a41_yes_fraction t15_multiple_clumps_a41_yes_weighted_fraction t15_multiple_clumps_a42_no_count t15_multiple_clumps_a42_no_weight t15_multiple_clumps_a42_no_fraction t15_multiple_clumps_a42_no_weighted_fraction t15_multiple_clumps_total_count t15_multiple_clumps_total_weight t16_bright_clump_a43_yes_count t16_bright_clump_a43_yes_weight t16_bright_clump_a43_yes_fraction t16_bright_clump_a43_yes_weighted_fraction t16_bright_clump_a44_no_count t16_bright_clump_a44_no_weight t16_bright_clump_a44_no_fraction t16_bright_clump_a44_no_weighted_fraction t16_bright_clump_total_count t16_bright_clump_total_weight t17_bright_clump_central_a45_yes_count t17_bright_clump_central_a45_yes_weight t17_bright_clump_central_a45_yes_fraction t17_bright_clump_central_a45_yes_weighted_fraction t17_bright_clump_central_a46_no_count t17_bright_clump_central_a46_no_weight t17_bright_clump_central_a46_no_fraction t17_bright_clump_central_a46_no_weighted_fraction t17_bright_clump_central_total_count t17_bright_clump_central_total_weight t18_clumps_arrangement_a47_line_count t18_clumps_arrangement_a47_line_weight t18_clumps_arrangement_a47_line_fraction t18_clumps_arrangement_a47_line_weighted_fraction t18_clumps_arrangement_a48_chain_count t18_clumps_arrangement_a48_chain_weight t18_clumps_arrangement_a48_chain_fraction t18_clumps_arrangement_a48_chain_weighted_fraction t18_clumps_arrangement_a49_cluster_count t18_clumps_arrangement_a49_cluster_weight t18_clumps_arrangement_a49_cluster_fraction t18_clumps_arrangement_a49_cluster_weighted_fraction t18_clumps_arrangement_a59_spiral_count t18_clumps_arrangement_a59_spiral_weight t18_clumps_arrangement_a59_spiral_fraction t18_clumps_arrangement_a59_spiral_weighted_fraction t18_clumps_arrangement_total_count t18_clumps_arrangement_total_weight t19_clumps_count_a50_2_count t19_clumps_count_a50_2_weight t19_clumps_count_a50_2_fraction t19_clumps_count_a50_2_weighted_fraction t19_clumps_count_a51_3_count t19_clumps_count_a51_3_weight t19_clumps_count_a51_3_fraction t19_clumps_count_a51_3_weighted_fraction t19_clumps_count_a52_4_count t19_clumps_count_a52_4_weight t19_clumps_count_a52_4_fraction t19_clumps_count_a52_4_weighted_fraction t19_clumps_count_a53_more_than_4_count t19_clumps_count_a53_more_than_4_weight t19_clumps_count_a53_more_than_4_fraction t19_clumps_count_a53_more_than_4_weighted_fraction t19_clumps_count_a54_cant_tell_count t19_clumps_count_a54_cant_tell_weight t19_clumps_count_a54_cant_tell_fraction t19_clumps_count_a54_cant_tell_weighted_fraction t19_clumps_count_a60_1_count t19_clumps_count_a60_1_weight t19_clumps_count_a60_1_fraction t19_clumps_count_a60_1_weighted_fraction t19_clumps_count_total_count t19_clumps_count_total_weight t20_clumps_symmetrical_a55_yes_count t20_clumps_symmetrical_a55_yes_weight t20_clumps_symmetrical_a55_yes_fraction t20_clumps_symmetrical_a55_yes_weighted_fraction t20_clumps_symmetrical_a56_no_count t20_clumps_symmetrical_a56_no_weight t20_clumps_symmetrical_a56_no_fraction t20_clumps_symmetrical_a56_no_weighted_fraction t20_clumps_symmetrical_total_count t20_clumps_symmetrical_total_weight t21_clumps_embedded_a57_yes_count t21_clumps_embedded_a57_yes_weight t21_clumps_embedded_a57_yes_fraction t21_clumps_embedded_a57_yes_weighted_fraction t21_clumps_embedded_a58_no_count t21_clumps_embedded_a58_no_weight t21_clumps_embedded_a58_no_fraction t21_clumps_embedded_a58_no_weighted_fraction t21_clumps_embedded_total_count t21_clumps_embedded_total_weight      OBJID_2        RUN  RERUN CAMCOL FIELD  OBJ       RA         DEC     PETROR50_R PETROR90_R PETROMAG_U PETROMAG_G PETROMAG_R PETROMAG_I PETROMAG_Z PETROMAGERR_U PETROMAGERR_G PETROMAGERR_R PETROMAGERR_I PETROMAGERR_Z  PSFMAG_R FIBERMAG_R  DEVMAG_R DEVMAGERR_R  EXPMAG_R EXPMAGERR_R FRACDEV_R        MU50_R       EXTINCTION_U EXTINCTION_G EXTINCTION_R EXTINCTION_I EXTINCTION_Z   ROWC_U   COLC_U  ROWC_G    COLC_G    ROWC_R    COLC_R    ROWC_I    COLC_I    ROWC_Z    COLC_Z     CMODELMAG_R        CMODELMAGERR_R     REDSHIFT REDSHIFTERR PETROMAG_MU PETROMAG_MG PETROMAG_MR PETROMAG_MI PETROMAG_MZ PETROMAGERR_MU PETROMAGERR_MG PETROMAGERR_MR PETROMAGERR_MI PETROMAGERR_MZ PETROR50_R_KPC REGION PETROR50_R_KPC_SIMPLE_BIN PETROMAG_MR_SIMPLE_BIN REDSHIFT_SIMPLE_BIN WVT_BIN        SAMPLE_2         gr_color   ur_color\n",
       "      int64                str22           int32          str20            int16      float32                     int16                                  float32                                   float32                                         float32                                             int16                                            float32                                             float32                                                   float32                                                  int16                                            float32                                             float32                                                   float32                                          int16                              float32                        int16                    float32                    float32                         float32                         int16                  float32                   float32                         float32                       int16                  float32                 int16                float32                 float32                       float32                       int16                    float32                    float32                         float32                       int16              float32                   int16                      float32                       float32                             float32                             int16                          float32                          float32                               float32                           int16                  float32                          int16                                  float32                                   float32                                         float32                                           int16                                          float32                                          float32                                               float32                                           int16                                  float32                                  float32                                       float32                                        int16                                  float32                                   float32                                         float32                                    int16                            float32                      int16                float32                 float32                       float32                     int16                float32                float32                     float32                     int16              float32                        int16                                  float32                                  float32                                       float32                                    int16                            float32                            float32                                 float32                                  int16                              float32                              float32                                   float32                              int16                  float32                      int16                          float32                          float32                               float32                                   int16                                float32                                 float32                                       float32                                     int16                              float32                               float32                                     float32                                    int16                              float32                               float32                                     float32                                  int16                          float32                           float32                                 float32                                int16                            float32                            float32                                 float32                                   int16                              float32                               float32                                     float32                                int16                      float32                          int16                            float32                             float32                                   float32                                int16                          float32                          float32                               float32                                 int16                              float32                              float32                                   float32                                int16                      float32                         int16                            float32                            float32                                 float32                                  int16                            float32                             float32                                   float32                                 int16                            float32                            float32                                 float32                               int16                        float32                       int16                      float32                       float32                             float32                            int16                      float32                       float32                             float32                            int16                      float32                       float32                             float32                            int16                      float32                       float32                             float32                                 int16                                float32                                 float32                                       float32                                     int16                              float32                               float32                                     float32                                int16                      float32                       int16                      float32                       int16                      float32                     int16                    float32                    float32                         float32                         int16                  float32                   float32                         float32                       int16                  float32                       int16                            float32                             float32                                   float32                                 int16                            float32                            float32                                 float32                                 int16                          float32                          int16                          float32                          float32                               float32                               int16                        float32                         float32                               float32                             int16                        float32                            int16                                  float32                                  float32                                       float32                                       int16                                float32                                 float32                                       float32                                     int16                                float32                                int16                                float32                                 float32                                       float32                                      int16                                  float32                                  float32                                       float32                                        int16                                    float32                                    float32                                         float32                                         int16                                  float32                                   float32                                         float32                                     int16                              float32                          int16                        float32                        float32                             float32                             int16                        float32                        float32                             float32                             int16                        float32                        float32                             float32                                  int16                                  float32                                  float32                                       float32                                      int16                                float32                                float32                                     float32                                 int16                        float32                        float32                             float32                             int16                        float32                           int16                                float32                                float32                                     float32                                     int16                              float32                               float32                                     float32                                   int16                              float32                             int16                            float32                             float32                                   float32                                 int16                            float32                            float32                                 float32                                 int16                          float32                    int64        int16 int16 int16  int16 int16   float64     float64    float32    float32    float32    float32    float32    float32    float32      float32       float32       float32       float32       float32     float32   float32    float32    float32    float32    float32    float32        float64         float32      float32      float32      float32      float32     float32  float32 float32   float32   float32   float32   float32   float32   float32   float32       float64             float64         float32    float32     float32     float32     float32     float32     float32      float32        float32        float32        float32        float32        float32     int16            int16                   int16                 int16         int16          str22           float32    float32 \n",
       "------------------ ---------------------- -------- -------------------- ----------- ------------ --------------------------------------- ---------------------------------------- ------------------------------------------ --------------------------------------------------- ------------------------------------------------- -------------------------------------------------- ---------------------------------------------------- ------------------------------------------------------------- ------------------------------------------------- -------------------------------------------------- ---------------------------------------------------- ------------------------------------------------------------- ---------------------------------- ----------------------------------- ------------------------ ------------------------- --------------------------- ------------------------------------ ----------------------- ------------------------ -------------------------- ----------------------------------- ---------------------- ----------------------- --------------------- ---------------------- ------------------------ --------------------------------- ------------------------ ------------------------- --------------------------- ------------------------------------ ------------------- -------------------- --------------------------- ---------------------------- ------------------------------ --------------------------------------- ------------------------------ ------------------------------- --------------------------------- ------------------------------------------ ---------------------- ----------------------- --------------------------------------- ---------------------------------------- ------------------------------------------ --------------------------------------------------- ---------------------------------------------- ----------------------------------------------- ------------------------------------------------- ---------------------------------------------------------- -------------------------------------- --------------------------------------- ----------------------------------------- -------------------------------------------------- --------------------------------------- ---------------------------------------- ------------------------------------------ --------------------------------------------------- -------------------------------- --------------------------------- --------------------- ---------------------- ------------------------ --------------------------------- -------------------- --------------------- ----------------------- -------------------------------- ------------------- -------------------- -------------------------------------- --------------------------------------- ----------------------------------------- -------------------------------------------------- -------------------------------- --------------------------------- ----------------------------------- -------------------------------------------- ---------------------------------- ----------------------------------- ------------------------------------- ---------------------------------------------- ----------------------- ------------------------ ------------------------------ ------------------------------- --------------------------------- ------------------------------------------ ------------------------------------- -------------------------------------- ---------------------------------------- ------------------------------------------------- ----------------------------------- ------------------------------------ -------------------------------------- ----------------------------------------------- ----------------------------------- ------------------------------------ -------------------------------------- ----------------------------------------------- ------------------------------- -------------------------------- ---------------------------------- ------------------------------------------- -------------------------------- --------------------------------- ----------------------------------- -------------------------------------------- ----------------------------------- ------------------------------------ -------------------------------------- ----------------------------------------------- --------------------------- ---------------------------- --------------------------------- ---------------------------------- ------------------------------------ --------------------------------------------- ------------------------------ ------------------------------- --------------------------------- ------------------------------------------ ---------------------------------- ----------------------------------- ------------------------------------- ---------------------------------------------- --------------------------- ---------------------------- -------------------------------- --------------------------------- ----------------------------------- -------------------------------------------- --------------------------------- ---------------------------------- ------------------------------------ --------------------------------------------- -------------------------------- --------------------------------- ----------------------------------- -------------------------------------------- ---------------------------- ----------------------------- --------------------------- ---------------------------- ------------------------------ --------------------------------------- --------------------------- ---------------------------- ------------------------------ --------------------------------------- --------------------------- ---------------------------- ------------------------------ --------------------------------------- --------------------------- ---------------------------- ------------------------------ --------------------------------------- ------------------------------------- -------------------------------------- ---------------------------------------- ------------------------------------------------- ----------------------------------- ------------------------------------ -------------------------------------- ----------------------------------------------- --------------------------- ---------------------------- --------------------------- ---------------------------- --------------------------- ---------------------------- ------------------------ ------------------------- --------------------------- ------------------------------------ ----------------------- ------------------------ -------------------------- ----------------------------------- ---------------------- ----------------------- --------------------------------- ---------------------------------- ------------------------------------ --------------------------------------------- -------------------------------- --------------------------------- ----------------------------------- -------------------------------------------- ------------------------------- -------------------------------- ------------------------------ ------------------------------- --------------------------------- ------------------------------------------ ----------------------------- ------------------------------ -------------------------------- ----------------------------------------- ---------------------------- ----------------------------- -------------------------------------- --------------------------------------- ----------------------------------------- -------------------------------------------------- ------------------------------------- -------------------------------------- ---------------------------------------- ------------------------------------------------- ------------------------------------ ------------------------------------- ------------------------------------- -------------------------------------- ---------------------------------------- ------------------------------------------------- -------------------------------------- --------------------------------------- ----------------------------------------- -------------------------------------------------- ---------------------------------------- ----------------------------------------- ------------------------------------------- ---------------------------------------------------- --------------------------------------- ---------------------------------------- ------------------------------------------ --------------------------------------------------- ---------------------------------- ----------------------------------- ---------------------------- ----------------------------- ------------------------------- ---------------------------------------- ---------------------------- ----------------------------- ------------------------------- ---------------------------------------- ---------------------------- ----------------------------- ------------------------------- ---------------------------------------- -------------------------------------- --------------------------------------- ----------------------------------------- -------------------------------------------------- ------------------------------------ ------------------------------------- --------------------------------------- ------------------------------------------------ ---------------------------- ----------------------------- ------------------------------- ---------------------------------------- ---------------------------- ----------------------------- ------------------------------------ ------------------------------------- --------------------------------------- ------------------------------------------------ ----------------------------------- ------------------------------------ -------------------------------------- ----------------------------------------------- ---------------------------------- ----------------------------------- --------------------------------- ---------------------------------- ------------------------------------ --------------------------------------------- -------------------------------- --------------------------------- ----------------------------------- -------------------------------------------- ------------------------------- -------------------------------- ------------------ ----- ----- ------ ----- ----- ------------ ---------- ---------- ---------- ---------- ---------- ---------- ---------- ---------- ------------- ------------- ------------- ------------- ------------- --------- ---------- --------- ----------- --------- ----------- ---------- ------------------ ------------ ------------ ------------ ------------ ------------ --------- ------- -------- --------- --------- --------- --------- --------- --------- --------- ------------------ -------------------- --------- ----------- ----------- ----------- ----------- ----------- ----------- -------------- -------------- -------------- -------------- -------------- -------------- ------ ------------------------- ---------------------- ------------------- ------- ---------------------- ---------- ---------\n",
       "587731174915113401 stripe82                  23867 587731174915113401           258      254.006                                      15                                   14.001                                      0.333                                               0.326                                                23                                               23.0                                                0.511                                                         0.535                                                 7                                              6.003                                                0.156                                                          0.14                                 45                              43.004                        0                       0.0                         0.0                                  0.0                       7                      7.0                        1.0                                 1.0                      7                     7.0                     3                    3.0                    0.429                             0.429                        4                       4.0                       0.571                                0.571                   7                  7.0                           3                          3.0                          0.429                                   0.429                              4                             4.0                             0.571                                      0.571                      7                     7.0                                       5                                      5.0                                      0.714                                               0.714                                              2                                             2.0                                             0.286                                                      0.286                                      0                                     0.0                                       0.0                                                0.0                                       0                                      0.0                                        0.0                                                 0.0                                7                               7.0                    18                   18.0                    0.474                             0.486                   20                19.001                   0.526                            0.514                  38               37.001                                      3                                   2.001                                     0.188                                              0.133                               12                              12.0                                0.75                                          0.8                                  1                                 1.0                                 0.062                                          0.067                      16                15.000999                              0                             0.0                               0.0                                        0.0                                     0                                    0.0                                      0.0                                               0.0                                   1                                  1.0                                  0.056                                           0.056                                   5                                  5.0                                  0.278                                           0.278                               8                              8.0                              0.444                                       0.444                                4                               4.0                               0.222                                        0.222                                   0                                  0.0                                    0.0                                             0.0                          18                         18.0                                 0                                0.0                                  0.0                                           0.0                              0                             0.0                               0.0                                        0.0                                  0                                 0.0                                   0.0                                            0.0                           0                          0.0                                1                               1.0                               0.333                                        0.333                                 2                                2.0                                0.667                                         0.667                                0                               0.0                                 0.0                                          0.0                            3                           3.0                           2                          2.0                          0.667                                   0.667                           1                          1.0                          0.333                                   0.333                           0                          0.0                            0.0                                     0.0                           0                          0.0                            0.0                                     0.0                                     0                                    0.0                                      0.0                                               0.0                                   0                                  0.0                                    0.0                                             0.0                           3                          3.0                           0                          0.0                           0                          0.0                       16                      16.0                       0.696                                0.696                       7                      7.0                      0.304                               0.304                     23                    23.0                                 0                                0.0                                  0.0                                           0.0                                0                               0.0                                 0.0                                          0.0                               0                              0.0                             13                            13.0                             0.929                                      0.929                             1                            1.0                            0.071                                     0.071                           14                          14.0                                      0                                     0.0                                       0.0                                                0.0                                    13                                   13.0                                      1.0                                               1.0                                   13                                  13.0                                     0                                    0.0                                      0.0                                               0.0                                      3                                     3.0                                     0.333                                              0.333                                        6                                       6.0                                       0.667                                                0.667                                       0                                      0.0                                        0.0                                                 0.0                                  9                                 9.0                            5                           5.0                           0.312                                    0.312                            6                           6.0                           0.375                                    0.375                            1                           1.0                           0.062                                    0.062                                      1                                     1.0                                     0.062                                              0.062                                    1                                   1.0                                   0.062                                            0.062                            2                           2.0                           0.125                                    0.125                           16                          16.0                                    2                                   2.0                                   0.125                                            0.125                                  14                                 14.0                                  0.875                                           0.875                                 16                                16.0                                10                               10.0                                0.625                                         0.625                                6                               6.0                               0.375                                        0.375                              16                             16.0 587731174915113401  2659    40      6    61   441 310.31152523 1.17985096  3.2303386   7.783539  18.284086  17.361382  16.912163  16.635872  16.575432     0.2971967    0.49241605     0.7674685    0.79533625     0.8451982 19.272758   18.81686 16.458809 0.008127883 16.980036 0.007906992 0.11522031 21.453852615305497   0.44049382   0.32411116   0.23507246   0.17824833   0.12638028 1038.6462 1269.45 1045.016 1266.9722 1033.3402 1263.7152 1039.1073 1264.5415 1044.5983 1264.2041 16.905565248328003 0.006683306276144206 0.0270547 8.55638e-05   -17.57859  -18.333477  -18.725151  -18.892918  -18.869383     0.29787108     0.49251795     0.76753414      0.7953999     0.84527075      1.7560135      0                        17                    105                   1       3 stripe82               0.44921875 1.3719234"
      ]
     },
     "execution_count": 13,
     "metadata": {},
     "output_type": "execute_result"
    }
   ],
   "source": [
    "catTable[34]"
   ]
  },
  {
   "cell_type": "code",
   "execution_count": 14,
   "metadata": {},
   "outputs": [
    {
     "data": {
      "image/png": "[encoded data removed]",
      "text/plain": [
       "<Figure size 720x360 with 1 Axes>"
      ]
     },
     "metadata": {
      "needs_background": "dark"
     },
     "output_type": "display_data"
    }
   ],
   "source": [
    "plt.figure(figsize=(10,5))\n",
    "plt.plot(10**obj34[1]['loglam'],obj34[1]['flux'])\n",
    "plt.title('OBJ: %s, RA: %.3f, DEC: %.3f, PLATE: %s, MJD: %s, FIBER: %s'\n",
    "          %(34,catTable[34]['RA'],catTable[34]['DEC'],obj34[0]['plate'][0],\n",
    "            obj34[0]['mjd'][0],obj34[0]['fiberID'][0]))\n",
    "plt.xlabel(\"Wavelength [Angstroms]\")\n",
    "plt.ylabel(\"Flux [$10^{-17}$ erg/cm$^2$/s/A]\")\n",
    "plt.ylim(-20,120)\n",
    "# plt.xlim(6800,7000)\n",
    "plt.text(6680,107,r'H$\\alpha$')\n",
    "plt.text(6850,30,'SII')\n",
    "plt.text(5050,85,'OIII')\n",
    "plt.text(4900,38,r'H$\\beta$')\n",
    "plt.text(3760,67,'OII')\n",
    "plt.tight_layout()\n",
    "plt.savefig('spectra imgs/label_obj_%s.png'%34)\n",
    "plt.show()"
   ]
  },
  {
   "cell_type": "markdown",
   "metadata": {},
   "source": [
    "## Let's play \"Try to get a metallicity!\""
   ]
  },
  {
   "cell_type": "markdown",
   "metadata": {},
   "source": [
    "We will try to generate a metallicity for object 34 in Melanie's clump catalog as an example (since I'm too lazy to look for a different spectra)."
   ]
  },
  {
   "cell_type": "markdown",
   "metadata": {},
   "source": [
    "### M91 Theoretical Calibration\n",
    "\n",
    "Let's use the M91 calibration mentioned in [Kewley & Ellison 2008 (KE08)](http://adsabs.harvard.edu/abs/2008ApJ...681.1183K):\n",
    "\n",
    "$$12 + \\log(O/H)_\\text{lower} = 12 - 4.944 + 0.767x + 0.602x^2 - y(0.29+0.332x - 0.331x^2)$$\n",
    "\n",
    "$$12 + \\log(O/H)_\\text{upper} = 12 - 2.939 - 0.2x - 0.37x^2 - 0.305 x^3 - 0.0283x^4 - y(0.0047 - 0.221x - 0.102x^2 - 0.0817x^3 - 0.00717x^4)$$\n",
    "\n",
    "where $$x = \\log R_{23} = \\log\\left[\\frac{[\\text{OII}\\lambda3727 + [\\text{OIII}]\\lambda4959 + [\\text{OIII}]\\lambda5007}{\\text{H}\\beta}\\right]$$\n",
    "and $$y = \\log\\text{O}_{32} = \\log\\left[\\frac{[\\text{OIII}]\\lambda4959 + [\\text{OIII}]\\lambda5007}{[\\text{OII}]\\lambda3727}\\right]$$"
   ]
  },
  {
   "cell_type": "markdown",
   "metadata": {},
   "source": [
    "For now, we'll be lazy and take the line fluxes directly from the [SDSS DR12 Science Archive Server](https://dr12.sdss.org/spectrumDetail?mjd=52435&fiber=599&plateid=981)."
   ]
  },
  {
   "cell_type": "code",
   "execution_count": 15,
   "metadata": {},
   "outputs": [],
   "source": [
    "def getlogR23(OII3727,OIII4959,OIII5007,HB):\n",
    "    return np.log10((OII3727 + OIII4959 + OIII5007)/HB)\n",
    "\n",
    "def getlogO32(OIII4959,OIII5007,OII3727):\n",
    "    return np.log10((OIII4959 + OIII5007)/OII3727)"
   ]
  },
  {
   "cell_type": "code",
   "execution_count": 16,
   "metadata": {},
   "outputs": [],
   "source": [
    "def getlogOHlow(x,y):\n",
    "    return (-4.944 + 0.767*x + 0.602*x**2 - y*(0.29 + 0.332*x - 0.331*x**2))\n",
    "\n",
    "def getlogOHup(x,y):\n",
    "    return (-2.939 - 0.2*x - 0.37*x**2 - 0.305*x**3 - 0.0283*x**4 - \n",
    "            y*(0.0047 - 0.221*x - 0.102*x**2 - 0.0817*x**3 - 0.00717*x**4))"
   ]
  },
  {
   "cell_type": "code",
   "execution_count": 17,
   "metadata": {},
   "outputs": [],
   "source": [
    "# all in units of 1e-17 erg/cm^2/s\n",
    "OII3727 = 108\n",
    "OIII4959 = 68.61\n",
    "OIII5007 = 207.8\n",
    "HB = 81.96"
   ]
  },
  {
   "cell_type": "code",
   "execution_count": 18,
   "metadata": {},
   "outputs": [],
   "source": [
    "x = getlogR23(OII3727,OIII4959,OIII5007,HB)\n",
    "y = getlogO32(OIII4959,OIII5007,OII3727)"
   ]
  },
  {
   "cell_type": "code",
   "execution_count": 19,
   "metadata": {},
   "outputs": [
    {
     "name": "stdout",
     "output_type": "stream",
     "text": [
      " low O/H:\t 4.9381052649105053e-05 \n",
      "high O/H:\t 0.0005625498281286387\n"
     ]
    }
   ],
   "source": [
    "logOHlow = getlogOHlow(x,y)\n",
    "logOHup = getlogOHup(x,y)\n",
    "\n",
    "print(' low O/H:\\t',10**logOHlow,'\\nhigh O/H:\\t',10**logOHup)"
   ]
  },
  {
   "cell_type": "markdown",
   "metadata": {},
   "source": [
    "Let's ssee how it compares to the other items on the graph by adding 12:"
   ]
  },
  {
   "cell_type": "code",
   "execution_count": 20,
   "metadata": {},
   "outputs": [
    {
     "name": "stdout",
     "output_type": "stream",
     "text": [
      "low:\tlog O/H + 12 = 7.693560343490305 \n",
      "high:\tlog O/H + 12 = 8.75016099633521\n"
     ]
    }
   ],
   "source": [
    "logOHlow12 = logOHlow+12\n",
    "logOHup12 = logOHup+12\n",
    "print('low:\\tlog O/H + 12 =',logOHlow12,'\\nhigh:\\tlog O/H + 12 =',logOHup12)"
   ]
  },
  {
   "cell_type": "markdown",
   "metadata": {},
   "source": [
    "Comparing these to the items shown in Figures 1 and 2, our lower branch doesn't even appear on the graph while the upper branch actually appears fairly reasonable."
   ]
  },
  {
   "cell_type": "markdown",
   "metadata": {},
   "source": [
    "### Branching Out\n",
    "\n",
    "Lets determine if this makes sense by following section A1 in KE08. First we need to determine if we are using the upper branch or the lower branch. To do this, we need to get $$\\log\\left(\\frac{[\\text{NII}]\\lambda6584}{[\\text{OII}]\\lambda3727}\\right)$$"
   ]
  },
  {
   "cell_type": "code",
   "execution_count": 21,
   "metadata": {},
   "outputs": [],
   "source": [
    "def getlogNiiOii(NII6584,OII3727):\n",
    "    return np.log10(NII6584/OII3727)"
   ]
  },
  {
   "cell_type": "code",
   "execution_count": 22,
   "metadata": {},
   "outputs": [],
   "source": [
    "NII6584 = 48.93"
   ]
  },
  {
   "cell_type": "code",
   "execution_count": 23,
   "metadata": {},
   "outputs": [
    {
     "name": "stdout",
     "output_type": "stream",
     "text": [
      "-0.34384853972701146\n"
     ]
    }
   ],
   "source": [
    "logNiiOii = getlogNiiOii(NII6584,OII3727)\n",
    "print(logNiiOii)"
   ]
  },
  {
   "cell_type": "markdown",
   "metadata": {},
   "source": [
    "The break between upper and lower branches is set at $$\\log\\left(\\frac{[\\text{NII}]}{[\\text{OII}]}\\right) \\approx -1.2$$ so we should use the upper branch, as we kind of determined already."
   ]
  },
  {
   "cell_type": "markdown",
   "metadata": {},
   "source": [
    "### Check the graphs!\n",
    "\n",
    "How about the mass, though? Where does it fit on this graph? That is a, uh, good question... these catalogs specifically don't have masses, and neither does the archive server, but I'd imagine I could find them."
   ]
  },
  {
   "cell_type": "markdown",
   "metadata": {},
   "source": [
    "Okay I think I got it after a long treasure hunt. [Here](http://skyserver.sdss.org/DR12//en/tools/explore/Summary.aspx?sid=1104672501331421184) is the link (I used `FSPSGranEarlyDust`), which gives us a $\\log M = 9.49196471616599$. (It also gives us lots of useful stuff like age, metallicity(!), mass to light, etc.)\n",
    "\n",
    "The point $(\\log M, 12 + \\log(O/H)_\\text{upper}) = (9.492,8.750)$ fits nicely onto the graph in Fig. 1 for M91."
   ]
  },
  {
   "cell_type": "markdown",
   "metadata": {},
   "source": [
    "### Metallicity problems?\n",
    "Quick aside to look at metallicities. We're given a $Z$ on that webpage, but it doesn't match up..."
   ]
  },
  {
   "cell_type": "code",
   "execution_count": 24,
   "metadata": {},
   "outputs": [],
   "source": [
    "givenZ12 = np.log10(0.00769999995827675) + 12"
   ]
  },
  {
   "cell_type": "code",
   "execution_count": 25,
   "metadata": {},
   "outputs": [
    {
     "name": "stdout",
     "output_type": "stream",
     "text": [
      "given:\t\tlog Z + 12 = 9.886490722819213 \n",
      "calculated:\tlog O/H + 12 = 8.75016099633521\n"
     ]
    }
   ],
   "source": [
    "print('given:\\t\\tlog Z + 12 =',givenZ12, '\\ncalculated:\\tlog O/H + 12 =',logOHup12)"
   ]
  },
  {
   "cell_type": "markdown",
   "metadata": {},
   "source": [
    "~~ACTUALLY this makes sense since we should only be doing *relative* metallicity comparisons and this might be using a different calibration. Interestingly, the given $Z$ doesn't seem to match **any** of the calibrations listed in KE08.~~\n",
    "\n",
    "**UPDATE (2/27)**\n",
    "\n",
    "Of course this doesn't work - $Z$ is fundamentally different from $[O/H]$."
   ]
  },
  {
   "cell_type": "markdown",
   "metadata": {},
   "source": [
    "## Let's try to download stuff with SQL!"
   ]
  },
  {
   "cell_type": "markdown",
   "metadata": {},
   "source": [
    "Supposedly we *should* be able to download all the information (spectra, masses, object type, etc.) from the [SDSS SkyServers](http://skyserver.sdss.org/DR15/en/home.aspx).\n",
    "\n",
    "SQL Tutorial: http://skyserver.sdss.org/DR15/en/help/howto/search/searchhowtohome.aspx\n",
    "\n",
    "Another link: http://balbuceosastropy.blogspot.com/2013/10/an-easy-way-to-make-sql-queries-from.html"
   ]
  },
  {
   "cell_type": "code",
   "execution_count": 26,
   "metadata": {},
   "outputs": [],
   "source": [
    "import pandas as pd\n",
    "import mechanize\n",
    "from io import BytesIO\n",
    "from astropy.table import Table\n",
    "\n",
    "url = 'http://skyserver.sdss.org/dr15/en/tools/search/sql.aspx'\n",
    "br = mechanize.Browser()\n",
    "br.open(url)\n",
    "br.select_form(name='sql')"
   ]
  },
  {
   "cell_type": "code",
   "execution_count": 27,
   "metadata": {},
   "outputs": [],
   "source": [
    "s = \"select top 100 \\\n",
    "x.plate,x.mjd,x.ra,x.dec,x.z,x.logMass, \\\n",
    "g.oii_3726_flux,g.oii_3726_flux_err \\\n",
    "from stellarMassFSPSGranEarlyDust x \\\n",
    "JOIN galSpecLine g ON g.specObjID = x.specObjID \\\n",
    "WHERE \\\n",
    "ra BETWEEN 140 AND 141 AND \\\n",
    "dec BETWEEN 20 AND 21\""
   ]
  },
  {
   "cell_type": "code",
   "execution_count": 28,
   "metadata": {},
   "outputs": [],
   "source": [
    "br['cmd'] = s\n",
    "br['format'] = ['csv']\n",
    "response = br.submit()"
   ]
  },
  {
   "cell_type": "code",
   "execution_count": 29,
   "metadata": {},
   "outputs": [
    {
     "data": {
      "text/plain": [
       "b'#Table1\\nplate,mjd,ra,dec,z,logMass,oii_3726_flux,oii_3726_flux_err\\n2290,53727,140.64793,20.851769,0.03163753,10.5796135812458,23.22126,5.492704\\n2290,53727,140.80891,20.995964,0.03072425,9.87657533955672,18.95947,5.541257\\n2288,53699,140.15684,20.083256,0.0495753,10.2272191214165,3.365189,4.690804\\n2290,53727,140.95356,20.780761,0.1044504,11.3824132388912,-2.640033,5.969037\\n2288,53699,140.15554,20.105117,0.05049838,9.99064286708204,-1.027585,4.423676\\n2290,53727,140.69767,20.63901,0.03892758,9.4751080214046,67.36094,5.384182\\n2288,53699,140.50641,20.025607,0.1896406,11.4596037629911,11.31752,4.007096\\n2290,53727,140.26998,20.665789,0.1331454,11.2624220531044,-8.543897,6.060204\\n2288,53699,140.05184,20.2779,0.132707,10.9095832417465,4.076246,4.504348\\n2290,53727,140.57416,20.706345,0.1052138,11.0071838404101,6.615705,6.957438\\n2288,53699,140.10695,20.211484,0.1893492,11.3441016897656,7.287684,2.694031\\n2290,53727,140.44327,20.924712,0.1320706,10.7416424691483,30.03158,3.689734\\n2288,53699,140.13437,20.265079,0.05019956,9.88314532741928,46.09643,5.985684\\n2290,53727,140.15704,20.692553,0.1325974,11.171059932586,-0.2738519,3.286216\\n2290,53727,140.03739,20.77995,0.1121336,11.437867833542,13.25456,5.196297\\n2290,53727,140.25431,20.81501,0.2001448,11.4937242272191,5.600251,4.085724\\n2290,53727,140.23398,20.770453,0.131226,11.3617208262971,6.62786,6.420592\\n2290,53727,140.05228,20.67318,0.1321685,11.0488116876312,-1.057122,11.33886\\n2290,53727,140.16735,20.666888,0.1329592,11.2145915844032,-18.92307,15.5825\\n2290,53727,140.14972,20.780753,0.1085079,10.7250975549825,7.680293,3.194535\\n2290,53727,140.09268,20.536479,0.1606691,11.2446033205216,19.17855,4.619219\\n2288,53699,140.18071,20.712627,0.13299,11.539574672635,-2.152424,2.308095\\n2288,53699,140.67465,20.4905,0.1052677,10.4002672910939,28.00938,4.009051\\n2290,53727,140.01957,20.762055,0.133439,10.8886316921095,7.401802,3.580171\\n2288,53699,140.23398,20.770453,0.1310831,11.3606928831331,0.2128547,6.390822\\n2288,53699,140.5115,20.410653,0.1343094,10.9867235344559,12.87471,3.545231\\n2290,53727,140.00334,20.774178,0.1125196,10.5758895188838,11.1195,3.040413\\n2288,53699,140.31007,20.374799,0.1635136,11.2230534492814,32.80753,14.18511\\n2289,53708,140.90492,20.087905,0.1314967,11.502754964838,-3.570294,3.209493\\n2289,53708,140.90699,20.028906,0.1414274,11.0074323515336,5.586955,3.753975\\n2289,53708,140.87483,20.169229,0.1629775,11.4829991698657,10.83175,4.395977\\n2289,53708,140.81524,20.097714,0.1512314,11.1936349092426,34.17778,5.097872\\n2289,53708,140.97144,20.045201,0.056986,11.0156744309604,10.90928,4.012956\\n2289,53708,140.90578,20.185376,0.1787376,9.82334882991429,-1.102594,5.831004\\n2289,53708,140.97915,20.029572,0.267461,11.7036504232244,-0.1723032,1.523447\\n2289,53708,140.8742,20.293365,0.16191,11.2292253133442,29.79192,3.859761\\n2289,53708,140.94223,20.292555,0.1916146,11.6038921167287,1.054075,1.902316\\n2289,53708,140.71457,20.401091,0.268119,11.6728394051893,5.034232,3.971041\\n2289,53708,140.67465,20.4905,0.1052765,10.4003457969693,37.42807,3.364\\n2289,53708,140.88619,20.478171,0.4091246,11.9859336072816,12.25687,6.334622\\n2289,53708,140.8744,20.550558,0.1318938,11.4347162678296,17.0703,4.003838\\n2289,53708,140.75456,20.395459,0.1052007,11.2230121157945,11.95843,4.411171\\n2289,53708,140.70442,20.355897,0.1052536,11.2849262211161,-0.3945048,3.188465\\n2289,53708,140.77807,20.538571,0.1983238,11.4143949478431,0,-0.7293621\\n2289,53708,140.72754,20.583188,0.1124067,11.3275412833557,0,-0.7527218\\n2289,53708,140.51558,20.054071,0.02770882,9.51182400290151,126.3849,8.246509\\n2289,53708,140.50641,20.025607,0.1896663,11.4597352298021,5.981316,2.926799\\n2289,53708,140.39955,20.063411,0.1052438,10.9447389892467,7.487658,3.874803\\n2289,53708,140.73783,20.079782,0.04969232,10.6364731806549,17.17228,4.574369\\n2289,53708,140.28107,20.229602,0.1050601,10.932924899018,26.72243,14.38179\\n2289,53708,140.47812,20.195024,0.1067191,11.2594518188333,10.5465,3.030938\\n2289,53708,140.5115,20.410653,0.134221,10.9861006726624,9.656895,3.66696\\n2289,53708,140.51004,20.262785,0.05146006,10.0188666186366,182.8379,7.717996\\n2289,53708,140.55977,20.264997,0.05158396,10.0641978536303,30.43549,4.62745\\n2289,53708,140.56124,20.414472,0.1129354,11.177630621803,21.35311,4.656704\\n2289,53708,140.57416,20.706345,0.1051317,11.0064564053099,4.302671,2.933151\\n2289,53708,140.35157,20.735508,0.07359334,10.4183968888313,29.9727,4.754623\\n2289,53708,140.6307,20.377395,0.1597834,11.2838766282968,7.722525,4.150578\\n2289,53708,140.31007,20.374799,0.1634962,11.2223509106662,-1.486976,1.660416\\n2289,53708,140.43593,20.450317,0.1319087,10.7558548186688,17.53251,2.473313\\n2289,53708,140.32603,20.627772,0.1326224,11.3596120192763,91.4934,6.586244\\n2289,53708,140.23398,20.770453,0.1312321,11.3617645508318,-1.617717,4.779515\\n2289,53708,140.44327,20.924712,0.1320579,10.741551722089,12.97732,2.652763\\n2289,53708,140.62338,20.919049,0.2679857,11.6399695285485,-0.8381649,1.517579\\n2289,53708,140.8453,20.942462,0.1578027,11.0555197766782,16.64007,3.060714\\n2289,53708,140.64793,20.851769,0.03162152,10.5791634105184,-0.5784376,4.448799\\n2289,53708,140.80891,20.995964,0.03069726,9.8757938987582,6.413735,4.26133\\n'"
      ]
     },
     "execution_count": 29,
     "metadata": {},
     "output_type": "execute_result"
    }
   ],
   "source": [
    "response.get_data()"
   ]
  },
  {
   "cell_type": "code",
   "execution_count": 30,
   "metadata": {},
   "outputs": [],
   "source": [
    "file_like = BytesIO(response.get_data())\n",
    "df = pd.read_csv(file_like,skiprows=1)"
   ]
  },
  {
   "cell_type": "code",
   "execution_count": 31,
   "metadata": {},
   "outputs": [
    {
     "data": {
      "text/html": [
       "<div>\n",
       "<style scoped>\n",
       "    .dataframe tbody tr th:only-of-type {\n",
       "        vertical-align: middle;\n",
       "    }\n",
       "\n",
       "    .dataframe tbody tr th {\n",
       "        vertical-align: top;\n",
       "    }\n",
       "\n",
       "    .dataframe thead th {\n",
       "        text-align: right;\n",
       "    }\n",
       "</style>\n",
       "<table border=\"1\" class=\"dataframe\">\n",
       "  <thead>\n",
       "    <tr style=\"text-align: right;\">\n",
       "      <th></th>\n",
       "      <th>plate</th>\n",
       "      <th>mjd</th>\n",
       "      <th>ra</th>\n",
       "      <th>dec</th>\n",
       "      <th>z</th>\n",
       "      <th>logMass</th>\n",
       "      <th>oii_3726_flux</th>\n",
       "      <th>oii_3726_flux_err</th>\n",
       "    </tr>\n",
       "  </thead>\n",
       "  <tbody>\n",
       "    <tr>\n",
       "      <th>0</th>\n",
       "      <td>2290</td>\n",
       "      <td>53727</td>\n",
       "      <td>140.64793</td>\n",
       "      <td>20.851769</td>\n",
       "      <td>0.031638</td>\n",
       "      <td>10.579614</td>\n",
       "      <td>23.221260</td>\n",
       "      <td>5.492704</td>\n",
       "    </tr>\n",
       "    <tr>\n",
       "      <th>1</th>\n",
       "      <td>2290</td>\n",
       "      <td>53727</td>\n",
       "      <td>140.80891</td>\n",
       "      <td>20.995964</td>\n",
       "      <td>0.030724</td>\n",
       "      <td>9.876575</td>\n",
       "      <td>18.959470</td>\n",
       "      <td>5.541257</td>\n",
       "    </tr>\n",
       "    <tr>\n",
       "      <th>2</th>\n",
       "      <td>2288</td>\n",
       "      <td>53699</td>\n",
       "      <td>140.15684</td>\n",
       "      <td>20.083256</td>\n",
       "      <td>0.049575</td>\n",
       "      <td>10.227219</td>\n",
       "      <td>3.365189</td>\n",
       "      <td>4.690804</td>\n",
       "    </tr>\n",
       "    <tr>\n",
       "      <th>3</th>\n",
       "      <td>2290</td>\n",
       "      <td>53727</td>\n",
       "      <td>140.95356</td>\n",
       "      <td>20.780761</td>\n",
       "      <td>0.104450</td>\n",
       "      <td>11.382413</td>\n",
       "      <td>-2.640033</td>\n",
       "      <td>5.969037</td>\n",
       "    </tr>\n",
       "    <tr>\n",
       "      <th>4</th>\n",
       "      <td>2288</td>\n",
       "      <td>53699</td>\n",
       "      <td>140.15554</td>\n",
       "      <td>20.105117</td>\n",
       "      <td>0.050498</td>\n",
       "      <td>9.990643</td>\n",
       "      <td>-1.027585</td>\n",
       "      <td>4.423676</td>\n",
       "    </tr>\n",
       "    <tr>\n",
       "      <th>5</th>\n",
       "      <td>2290</td>\n",
       "      <td>53727</td>\n",
       "      <td>140.69767</td>\n",
       "      <td>20.639010</td>\n",
       "      <td>0.038928</td>\n",
       "      <td>9.475108</td>\n",
       "      <td>67.360940</td>\n",
       "      <td>5.384182</td>\n",
       "    </tr>\n",
       "    <tr>\n",
       "      <th>6</th>\n",
       "      <td>2288</td>\n",
       "      <td>53699</td>\n",
       "      <td>140.50641</td>\n",
       "      <td>20.025607</td>\n",
       "      <td>0.189641</td>\n",
       "      <td>11.459604</td>\n",
       "      <td>11.317520</td>\n",
       "      <td>4.007096</td>\n",
       "    </tr>\n",
       "    <tr>\n",
       "      <th>7</th>\n",
       "      <td>2290</td>\n",
       "      <td>53727</td>\n",
       "      <td>140.26998</td>\n",
       "      <td>20.665789</td>\n",
       "      <td>0.133145</td>\n",
       "      <td>11.262422</td>\n",
       "      <td>-8.543897</td>\n",
       "      <td>6.060204</td>\n",
       "    </tr>\n",
       "    <tr>\n",
       "      <th>8</th>\n",
       "      <td>2288</td>\n",
       "      <td>53699</td>\n",
       "      <td>140.05184</td>\n",
       "      <td>20.277900</td>\n",
       "      <td>0.132707</td>\n",
       "      <td>10.909583</td>\n",
       "      <td>4.076246</td>\n",
       "      <td>4.504348</td>\n",
       "    </tr>\n",
       "    <tr>\n",
       "      <th>9</th>\n",
       "      <td>2290</td>\n",
       "      <td>53727</td>\n",
       "      <td>140.57416</td>\n",
       "      <td>20.706345</td>\n",
       "      <td>0.105214</td>\n",
       "      <td>11.007184</td>\n",
       "      <td>6.615705</td>\n",
       "      <td>6.957438</td>\n",
       "    </tr>\n",
       "    <tr>\n",
       "      <th>10</th>\n",
       "      <td>2288</td>\n",
       "      <td>53699</td>\n",
       "      <td>140.10695</td>\n",
       "      <td>20.211484</td>\n",
       "      <td>0.189349</td>\n",
       "      <td>11.344102</td>\n",
       "      <td>7.287684</td>\n",
       "      <td>2.694031</td>\n",
       "    </tr>\n",
       "    <tr>\n",
       "      <th>11</th>\n",
       "      <td>2290</td>\n",
       "      <td>53727</td>\n",
       "      <td>140.44327</td>\n",
       "      <td>20.924712</td>\n",
       "      <td>0.132071</td>\n",
       "      <td>10.741642</td>\n",
       "      <td>30.031580</td>\n",
       "      <td>3.689734</td>\n",
       "    </tr>\n",
       "    <tr>\n",
       "      <th>12</th>\n",
       "      <td>2288</td>\n",
       "      <td>53699</td>\n",
       "      <td>140.13437</td>\n",
       "      <td>20.265079</td>\n",
       "      <td>0.050200</td>\n",
       "      <td>9.883145</td>\n",
       "      <td>46.096430</td>\n",
       "      <td>5.985684</td>\n",
       "    </tr>\n",
       "    <tr>\n",
       "      <th>13</th>\n",
       "      <td>2290</td>\n",
       "      <td>53727</td>\n",
       "      <td>140.15704</td>\n",
       "      <td>20.692553</td>\n",
       "      <td>0.132597</td>\n",
       "      <td>11.171060</td>\n",
       "      <td>-0.273852</td>\n",
       "      <td>3.286216</td>\n",
       "    </tr>\n",
       "    <tr>\n",
       "      <th>14</th>\n",
       "      <td>2290</td>\n",
       "      <td>53727</td>\n",
       "      <td>140.03739</td>\n",
       "      <td>20.779950</td>\n",
       "      <td>0.112134</td>\n",
       "      <td>11.437868</td>\n",
       "      <td>13.254560</td>\n",
       "      <td>5.196297</td>\n",
       "    </tr>\n",
       "    <tr>\n",
       "      <th>15</th>\n",
       "      <td>2290</td>\n",
       "      <td>53727</td>\n",
       "      <td>140.25431</td>\n",
       "      <td>20.815010</td>\n",
       "      <td>0.200145</td>\n",
       "      <td>11.493724</td>\n",
       "      <td>5.600251</td>\n",
       "      <td>4.085724</td>\n",
       "    </tr>\n",
       "    <tr>\n",
       "      <th>16</th>\n",
       "      <td>2290</td>\n",
       "      <td>53727</td>\n",
       "      <td>140.23398</td>\n",
       "      <td>20.770453</td>\n",
       "      <td>0.131226</td>\n",
       "      <td>11.361721</td>\n",
       "      <td>6.627860</td>\n",
       "      <td>6.420592</td>\n",
       "    </tr>\n",
       "    <tr>\n",
       "      <th>17</th>\n",
       "      <td>2290</td>\n",
       "      <td>53727</td>\n",
       "      <td>140.05228</td>\n",
       "      <td>20.673180</td>\n",
       "      <td>0.132168</td>\n",
       "      <td>11.048812</td>\n",
       "      <td>-1.057122</td>\n",
       "      <td>11.338860</td>\n",
       "    </tr>\n",
       "    <tr>\n",
       "      <th>18</th>\n",
       "      <td>2290</td>\n",
       "      <td>53727</td>\n",
       "      <td>140.16735</td>\n",
       "      <td>20.666888</td>\n",
       "      <td>0.132959</td>\n",
       "      <td>11.214592</td>\n",
       "      <td>-18.923070</td>\n",
       "      <td>15.582500</td>\n",
       "    </tr>\n",
       "    <tr>\n",
       "      <th>19</th>\n",
       "      <td>2290</td>\n",
       "      <td>53727</td>\n",
       "      <td>140.14972</td>\n",
       "      <td>20.780753</td>\n",
       "      <td>0.108508</td>\n",
       "      <td>10.725098</td>\n",
       "      <td>7.680293</td>\n",
       "      <td>3.194535</td>\n",
       "    </tr>\n",
       "    <tr>\n",
       "      <th>20</th>\n",
       "      <td>2290</td>\n",
       "      <td>53727</td>\n",
       "      <td>140.09268</td>\n",
       "      <td>20.536479</td>\n",
       "      <td>0.160669</td>\n",
       "      <td>11.244603</td>\n",
       "      <td>19.178550</td>\n",
       "      <td>4.619219</td>\n",
       "    </tr>\n",
       "    <tr>\n",
       "      <th>21</th>\n",
       "      <td>2288</td>\n",
       "      <td>53699</td>\n",
       "      <td>140.18071</td>\n",
       "      <td>20.712627</td>\n",
       "      <td>0.132990</td>\n",
       "      <td>11.539575</td>\n",
       "      <td>-2.152424</td>\n",
       "      <td>2.308095</td>\n",
       "    </tr>\n",
       "    <tr>\n",
       "      <th>22</th>\n",
       "      <td>2288</td>\n",
       "      <td>53699</td>\n",
       "      <td>140.67465</td>\n",
       "      <td>20.490500</td>\n",
       "      <td>0.105268</td>\n",
       "      <td>10.400267</td>\n",
       "      <td>28.009380</td>\n",
       "      <td>4.009051</td>\n",
       "    </tr>\n",
       "    <tr>\n",
       "      <th>23</th>\n",
       "      <td>2290</td>\n",
       "      <td>53727</td>\n",
       "      <td>140.01957</td>\n",
       "      <td>20.762055</td>\n",
       "      <td>0.133439</td>\n",
       "      <td>10.888632</td>\n",
       "      <td>7.401802</td>\n",
       "      <td>3.580171</td>\n",
       "    </tr>\n",
       "    <tr>\n",
       "      <th>24</th>\n",
       "      <td>2288</td>\n",
       "      <td>53699</td>\n",
       "      <td>140.23398</td>\n",
       "      <td>20.770453</td>\n",
       "      <td>0.131083</td>\n",
       "      <td>11.360693</td>\n",
       "      <td>0.212855</td>\n",
       "      <td>6.390822</td>\n",
       "    </tr>\n",
       "    <tr>\n",
       "      <th>25</th>\n",
       "      <td>2288</td>\n",
       "      <td>53699</td>\n",
       "      <td>140.51150</td>\n",
       "      <td>20.410653</td>\n",
       "      <td>0.134309</td>\n",
       "      <td>10.986724</td>\n",
       "      <td>12.874710</td>\n",
       "      <td>3.545231</td>\n",
       "    </tr>\n",
       "    <tr>\n",
       "      <th>26</th>\n",
       "      <td>2290</td>\n",
       "      <td>53727</td>\n",
       "      <td>140.00334</td>\n",
       "      <td>20.774178</td>\n",
       "      <td>0.112520</td>\n",
       "      <td>10.575890</td>\n",
       "      <td>11.119500</td>\n",
       "      <td>3.040413</td>\n",
       "    </tr>\n",
       "    <tr>\n",
       "      <th>27</th>\n",
       "      <td>2288</td>\n",
       "      <td>53699</td>\n",
       "      <td>140.31007</td>\n",
       "      <td>20.374799</td>\n",
       "      <td>0.163514</td>\n",
       "      <td>11.223053</td>\n",
       "      <td>32.807530</td>\n",
       "      <td>14.185110</td>\n",
       "    </tr>\n",
       "    <tr>\n",
       "      <th>28</th>\n",
       "      <td>2289</td>\n",
       "      <td>53708</td>\n",
       "      <td>140.90492</td>\n",
       "      <td>20.087905</td>\n",
       "      <td>0.131497</td>\n",
       "      <td>11.502755</td>\n",
       "      <td>-3.570294</td>\n",
       "      <td>3.209493</td>\n",
       "    </tr>\n",
       "    <tr>\n",
       "      <th>29</th>\n",
       "      <td>2289</td>\n",
       "      <td>53708</td>\n",
       "      <td>140.90699</td>\n",
       "      <td>20.028906</td>\n",
       "      <td>0.141427</td>\n",
       "      <td>11.007432</td>\n",
       "      <td>5.586955</td>\n",
       "      <td>3.753975</td>\n",
       "    </tr>\n",
       "    <tr>\n",
       "      <th>...</th>\n",
       "      <td>...</td>\n",
       "      <td>...</td>\n",
       "      <td>...</td>\n",
       "      <td>...</td>\n",
       "      <td>...</td>\n",
       "      <td>...</td>\n",
       "      <td>...</td>\n",
       "      <td>...</td>\n",
       "    </tr>\n",
       "    <tr>\n",
       "      <th>37</th>\n",
       "      <td>2289</td>\n",
       "      <td>53708</td>\n",
       "      <td>140.71457</td>\n",
       "      <td>20.401091</td>\n",
       "      <td>0.268119</td>\n",
       "      <td>11.672839</td>\n",
       "      <td>5.034232</td>\n",
       "      <td>3.971041</td>\n",
       "    </tr>\n",
       "    <tr>\n",
       "      <th>38</th>\n",
       "      <td>2289</td>\n",
       "      <td>53708</td>\n",
       "      <td>140.67465</td>\n",
       "      <td>20.490500</td>\n",
       "      <td>0.105277</td>\n",
       "      <td>10.400346</td>\n",
       "      <td>37.428070</td>\n",
       "      <td>3.364000</td>\n",
       "    </tr>\n",
       "    <tr>\n",
       "      <th>39</th>\n",
       "      <td>2289</td>\n",
       "      <td>53708</td>\n",
       "      <td>140.88619</td>\n",
       "      <td>20.478171</td>\n",
       "      <td>0.409125</td>\n",
       "      <td>11.985934</td>\n",
       "      <td>12.256870</td>\n",
       "      <td>6.334622</td>\n",
       "    </tr>\n",
       "    <tr>\n",
       "      <th>40</th>\n",
       "      <td>2289</td>\n",
       "      <td>53708</td>\n",
       "      <td>140.87440</td>\n",
       "      <td>20.550558</td>\n",
       "      <td>0.131894</td>\n",
       "      <td>11.434716</td>\n",
       "      <td>17.070300</td>\n",
       "      <td>4.003838</td>\n",
       "    </tr>\n",
       "    <tr>\n",
       "      <th>41</th>\n",
       "      <td>2289</td>\n",
       "      <td>53708</td>\n",
       "      <td>140.75456</td>\n",
       "      <td>20.395459</td>\n",
       "      <td>0.105201</td>\n",
       "      <td>11.223012</td>\n",
       "      <td>11.958430</td>\n",
       "      <td>4.411171</td>\n",
       "    </tr>\n",
       "    <tr>\n",
       "      <th>42</th>\n",
       "      <td>2289</td>\n",
       "      <td>53708</td>\n",
       "      <td>140.70442</td>\n",
       "      <td>20.355897</td>\n",
       "      <td>0.105254</td>\n",
       "      <td>11.284926</td>\n",
       "      <td>-0.394505</td>\n",
       "      <td>3.188465</td>\n",
       "    </tr>\n",
       "    <tr>\n",
       "      <th>43</th>\n",
       "      <td>2289</td>\n",
       "      <td>53708</td>\n",
       "      <td>140.77807</td>\n",
       "      <td>20.538571</td>\n",
       "      <td>0.198324</td>\n",
       "      <td>11.414395</td>\n",
       "      <td>0.000000</td>\n",
       "      <td>-0.729362</td>\n",
       "    </tr>\n",
       "    <tr>\n",
       "      <th>44</th>\n",
       "      <td>2289</td>\n",
       "      <td>53708</td>\n",
       "      <td>140.72754</td>\n",
       "      <td>20.583188</td>\n",
       "      <td>0.112407</td>\n",
       "      <td>11.327541</td>\n",
       "      <td>0.000000</td>\n",
       "      <td>-0.752722</td>\n",
       "    </tr>\n",
       "    <tr>\n",
       "      <th>45</th>\n",
       "      <td>2289</td>\n",
       "      <td>53708</td>\n",
       "      <td>140.51558</td>\n",
       "      <td>20.054071</td>\n",
       "      <td>0.027709</td>\n",
       "      <td>9.511824</td>\n",
       "      <td>126.384900</td>\n",
       "      <td>8.246509</td>\n",
       "    </tr>\n",
       "    <tr>\n",
       "      <th>46</th>\n",
       "      <td>2289</td>\n",
       "      <td>53708</td>\n",
       "      <td>140.50641</td>\n",
       "      <td>20.025607</td>\n",
       "      <td>0.189666</td>\n",
       "      <td>11.459735</td>\n",
       "      <td>5.981316</td>\n",
       "      <td>2.926799</td>\n",
       "    </tr>\n",
       "    <tr>\n",
       "      <th>47</th>\n",
       "      <td>2289</td>\n",
       "      <td>53708</td>\n",
       "      <td>140.39955</td>\n",
       "      <td>20.063411</td>\n",
       "      <td>0.105244</td>\n",
       "      <td>10.944739</td>\n",
       "      <td>7.487658</td>\n",
       "      <td>3.874803</td>\n",
       "    </tr>\n",
       "    <tr>\n",
       "      <th>48</th>\n",
       "      <td>2289</td>\n",
       "      <td>53708</td>\n",
       "      <td>140.73783</td>\n",
       "      <td>20.079782</td>\n",
       "      <td>0.049692</td>\n",
       "      <td>10.636473</td>\n",
       "      <td>17.172280</td>\n",
       "      <td>4.574369</td>\n",
       "    </tr>\n",
       "    <tr>\n",
       "      <th>49</th>\n",
       "      <td>2289</td>\n",
       "      <td>53708</td>\n",
       "      <td>140.28107</td>\n",
       "      <td>20.229602</td>\n",
       "      <td>0.105060</td>\n",
       "      <td>10.932925</td>\n",
       "      <td>26.722430</td>\n",
       "      <td>14.381790</td>\n",
       "    </tr>\n",
       "    <tr>\n",
       "      <th>50</th>\n",
       "      <td>2289</td>\n",
       "      <td>53708</td>\n",
       "      <td>140.47812</td>\n",
       "      <td>20.195024</td>\n",
       "      <td>0.106719</td>\n",
       "      <td>11.259452</td>\n",
       "      <td>10.546500</td>\n",
       "      <td>3.030938</td>\n",
       "    </tr>\n",
       "    <tr>\n",
       "      <th>51</th>\n",
       "      <td>2289</td>\n",
       "      <td>53708</td>\n",
       "      <td>140.51150</td>\n",
       "      <td>20.410653</td>\n",
       "      <td>0.134221</td>\n",
       "      <td>10.986101</td>\n",
       "      <td>9.656895</td>\n",
       "      <td>3.666960</td>\n",
       "    </tr>\n",
       "    <tr>\n",
       "      <th>52</th>\n",
       "      <td>2289</td>\n",
       "      <td>53708</td>\n",
       "      <td>140.51004</td>\n",
       "      <td>20.262785</td>\n",
       "      <td>0.051460</td>\n",
       "      <td>10.018867</td>\n",
       "      <td>182.837900</td>\n",
       "      <td>7.717996</td>\n",
       "    </tr>\n",
       "    <tr>\n",
       "      <th>53</th>\n",
       "      <td>2289</td>\n",
       "      <td>53708</td>\n",
       "      <td>140.55977</td>\n",
       "      <td>20.264997</td>\n",
       "      <td>0.051584</td>\n",
       "      <td>10.064198</td>\n",
       "      <td>30.435490</td>\n",
       "      <td>4.627450</td>\n",
       "    </tr>\n",
       "    <tr>\n",
       "      <th>54</th>\n",
       "      <td>2289</td>\n",
       "      <td>53708</td>\n",
       "      <td>140.56124</td>\n",
       "      <td>20.414472</td>\n",
       "      <td>0.112935</td>\n",
       "      <td>11.177631</td>\n",
       "      <td>21.353110</td>\n",
       "      <td>4.656704</td>\n",
       "    </tr>\n",
       "    <tr>\n",
       "      <th>55</th>\n",
       "      <td>2289</td>\n",
       "      <td>53708</td>\n",
       "      <td>140.57416</td>\n",
       "      <td>20.706345</td>\n",
       "      <td>0.105132</td>\n",
       "      <td>11.006456</td>\n",
       "      <td>4.302671</td>\n",
       "      <td>2.933151</td>\n",
       "    </tr>\n",
       "    <tr>\n",
       "      <th>56</th>\n",
       "      <td>2289</td>\n",
       "      <td>53708</td>\n",
       "      <td>140.35157</td>\n",
       "      <td>20.735508</td>\n",
       "      <td>0.073593</td>\n",
       "      <td>10.418397</td>\n",
       "      <td>29.972700</td>\n",
       "      <td>4.754623</td>\n",
       "    </tr>\n",
       "    <tr>\n",
       "      <th>57</th>\n",
       "      <td>2289</td>\n",
       "      <td>53708</td>\n",
       "      <td>140.63070</td>\n",
       "      <td>20.377395</td>\n",
       "      <td>0.159783</td>\n",
       "      <td>11.283877</td>\n",
       "      <td>7.722525</td>\n",
       "      <td>4.150578</td>\n",
       "    </tr>\n",
       "    <tr>\n",
       "      <th>58</th>\n",
       "      <td>2289</td>\n",
       "      <td>53708</td>\n",
       "      <td>140.31007</td>\n",
       "      <td>20.374799</td>\n",
       "      <td>0.163496</td>\n",
       "      <td>11.222351</td>\n",
       "      <td>-1.486976</td>\n",
       "      <td>1.660416</td>\n",
       "    </tr>\n",
       "    <tr>\n",
       "      <th>59</th>\n",
       "      <td>2289</td>\n",
       "      <td>53708</td>\n",
       "      <td>140.43593</td>\n",
       "      <td>20.450317</td>\n",
       "      <td>0.131909</td>\n",
       "      <td>10.755855</td>\n",
       "      <td>17.532510</td>\n",
       "      <td>2.473313</td>\n",
       "    </tr>\n",
       "    <tr>\n",
       "      <th>60</th>\n",
       "      <td>2289</td>\n",
       "      <td>53708</td>\n",
       "      <td>140.32603</td>\n",
       "      <td>20.627772</td>\n",
       "      <td>0.132622</td>\n",
       "      <td>11.359612</td>\n",
       "      <td>91.493400</td>\n",
       "      <td>6.586244</td>\n",
       "    </tr>\n",
       "    <tr>\n",
       "      <th>61</th>\n",
       "      <td>2289</td>\n",
       "      <td>53708</td>\n",
       "      <td>140.23398</td>\n",
       "      <td>20.770453</td>\n",
       "      <td>0.131232</td>\n",
       "      <td>11.361765</td>\n",
       "      <td>-1.617717</td>\n",
       "      <td>4.779515</td>\n",
       "    </tr>\n",
       "    <tr>\n",
       "      <th>62</th>\n",
       "      <td>2289</td>\n",
       "      <td>53708</td>\n",
       "      <td>140.44327</td>\n",
       "      <td>20.924712</td>\n",
       "      <td>0.132058</td>\n",
       "      <td>10.741552</td>\n",
       "      <td>12.977320</td>\n",
       "      <td>2.652763</td>\n",
       "    </tr>\n",
       "    <tr>\n",
       "      <th>63</th>\n",
       "      <td>2289</td>\n",
       "      <td>53708</td>\n",
       "      <td>140.62338</td>\n",
       "      <td>20.919049</td>\n",
       "      <td>0.267986</td>\n",
       "      <td>11.639970</td>\n",
       "      <td>-0.838165</td>\n",
       "      <td>1.517579</td>\n",
       "    </tr>\n",
       "    <tr>\n",
       "      <th>64</th>\n",
       "      <td>2289</td>\n",
       "      <td>53708</td>\n",
       "      <td>140.84530</td>\n",
       "      <td>20.942462</td>\n",
       "      <td>0.157803</td>\n",
       "      <td>11.055520</td>\n",
       "      <td>16.640070</td>\n",
       "      <td>3.060714</td>\n",
       "    </tr>\n",
       "    <tr>\n",
       "      <th>65</th>\n",
       "      <td>2289</td>\n",
       "      <td>53708</td>\n",
       "      <td>140.64793</td>\n",
       "      <td>20.851769</td>\n",
       "      <td>0.031622</td>\n",
       "      <td>10.579163</td>\n",
       "      <td>-0.578438</td>\n",
       "      <td>4.448799</td>\n",
       "    </tr>\n",
       "    <tr>\n",
       "      <th>66</th>\n",
       "      <td>2289</td>\n",
       "      <td>53708</td>\n",
       "      <td>140.80891</td>\n",
       "      <td>20.995964</td>\n",
       "      <td>0.030697</td>\n",
       "      <td>9.875794</td>\n",
       "      <td>6.413735</td>\n",
       "      <td>4.261330</td>\n",
       "    </tr>\n",
       "  </tbody>\n",
       "</table>\n",
       "<p>67 rows × 8 columns</p>\n",
       "</div>"
      ],
      "text/plain": [
       "    plate    mjd         ra        dec         z    logMass  oii_3726_flux  \\\n",
       "0    2290  53727  140.64793  20.851769  0.031638  10.579614      23.221260   \n",
       "1    2290  53727  140.80891  20.995964  0.030724   9.876575      18.959470   \n",
       "2    2288  53699  140.15684  20.083256  0.049575  10.227219       3.365189   \n",
       "3    2290  53727  140.95356  20.780761  0.104450  11.382413      -2.640033   \n",
       "4    2288  53699  140.15554  20.105117  0.050498   9.990643      -1.027585   \n",
       "5    2290  53727  140.69767  20.639010  0.038928   9.475108      67.360940   \n",
       "6    2288  53699  140.50641  20.025607  0.189641  11.459604      11.317520   \n",
       "7    2290  53727  140.26998  20.665789  0.133145  11.262422      -8.543897   \n",
       "8    2288  53699  140.05184  20.277900  0.132707  10.909583       4.076246   \n",
       "9    2290  53727  140.57416  20.706345  0.105214  11.007184       6.615705   \n",
       "10   2288  53699  140.10695  20.211484  0.189349  11.344102       7.287684   \n",
       "11   2290  53727  140.44327  20.924712  0.132071  10.741642      30.031580   \n",
       "12   2288  53699  140.13437  20.265079  0.050200   9.883145      46.096430   \n",
       "13   2290  53727  140.15704  20.692553  0.132597  11.171060      -0.273852   \n",
       "14   2290  53727  140.03739  20.779950  0.112134  11.437868      13.254560   \n",
       "15   2290  53727  140.25431  20.815010  0.200145  11.493724       5.600251   \n",
       "16   2290  53727  140.23398  20.770453  0.131226  11.361721       6.627860   \n",
       "17   2290  53727  140.05228  20.673180  0.132168  11.048812      -1.057122   \n",
       "18   2290  53727  140.16735  20.666888  0.132959  11.214592     -18.923070   \n",
       "19   2290  53727  140.14972  20.780753  0.108508  10.725098       7.680293   \n",
       "20   2290  53727  140.09268  20.536479  0.160669  11.244603      19.178550   \n",
       "21   2288  53699  140.18071  20.712627  0.132990  11.539575      -2.152424   \n",
       "22   2288  53699  140.67465  20.490500  0.105268  10.400267      28.009380   \n",
       "23   2290  53727  140.01957  20.762055  0.133439  10.888632       7.401802   \n",
       "24   2288  53699  140.23398  20.770453  0.131083  11.360693       0.212855   \n",
       "25   2288  53699  140.51150  20.410653  0.134309  10.986724      12.874710   \n",
       "26   2290  53727  140.00334  20.774178  0.112520  10.575890      11.119500   \n",
       "27   2288  53699  140.31007  20.374799  0.163514  11.223053      32.807530   \n",
       "28   2289  53708  140.90492  20.087905  0.131497  11.502755      -3.570294   \n",
       "29   2289  53708  140.90699  20.028906  0.141427  11.007432       5.586955   \n",
       "..    ...    ...        ...        ...       ...        ...            ...   \n",
       "37   2289  53708  140.71457  20.401091  0.268119  11.672839       5.034232   \n",
       "38   2289  53708  140.67465  20.490500  0.105277  10.400346      37.428070   \n",
       "39   2289  53708  140.88619  20.478171  0.409125  11.985934      12.256870   \n",
       "40   2289  53708  140.87440  20.550558  0.131894  11.434716      17.070300   \n",
       "41   2289  53708  140.75456  20.395459  0.105201  11.223012      11.958430   \n",
       "42   2289  53708  140.70442  20.355897  0.105254  11.284926      -0.394505   \n",
       "43   2289  53708  140.77807  20.538571  0.198324  11.414395       0.000000   \n",
       "44   2289  53708  140.72754  20.583188  0.112407  11.327541       0.000000   \n",
       "45   2289  53708  140.51558  20.054071  0.027709   9.511824     126.384900   \n",
       "46   2289  53708  140.50641  20.025607  0.189666  11.459735       5.981316   \n",
       "47   2289  53708  140.39955  20.063411  0.105244  10.944739       7.487658   \n",
       "48   2289  53708  140.73783  20.079782  0.049692  10.636473      17.172280   \n",
       "49   2289  53708  140.28107  20.229602  0.105060  10.932925      26.722430   \n",
       "50   2289  53708  140.47812  20.195024  0.106719  11.259452      10.546500   \n",
       "51   2289  53708  140.51150  20.410653  0.134221  10.986101       9.656895   \n",
       "52   2289  53708  140.51004  20.262785  0.051460  10.018867     182.837900   \n",
       "53   2289  53708  140.55977  20.264997  0.051584  10.064198      30.435490   \n",
       "54   2289  53708  140.56124  20.414472  0.112935  11.177631      21.353110   \n",
       "55   2289  53708  140.57416  20.706345  0.105132  11.006456       4.302671   \n",
       "56   2289  53708  140.35157  20.735508  0.073593  10.418397      29.972700   \n",
       "57   2289  53708  140.63070  20.377395  0.159783  11.283877       7.722525   \n",
       "58   2289  53708  140.31007  20.374799  0.163496  11.222351      -1.486976   \n",
       "59   2289  53708  140.43593  20.450317  0.131909  10.755855      17.532510   \n",
       "60   2289  53708  140.32603  20.627772  0.132622  11.359612      91.493400   \n",
       "61   2289  53708  140.23398  20.770453  0.131232  11.361765      -1.617717   \n",
       "62   2289  53708  140.44327  20.924712  0.132058  10.741552      12.977320   \n",
       "63   2289  53708  140.62338  20.919049  0.267986  11.639970      -0.838165   \n",
       "64   2289  53708  140.84530  20.942462  0.157803  11.055520      16.640070   \n",
       "65   2289  53708  140.64793  20.851769  0.031622  10.579163      -0.578438   \n",
       "66   2289  53708  140.80891  20.995964  0.030697   9.875794       6.413735   \n",
       "\n",
       "    oii_3726_flux_err  \n",
       "0            5.492704  \n",
       "1            5.541257  \n",
       "2            4.690804  \n",
       "3            5.969037  \n",
       "4            4.423676  \n",
       "5            5.384182  \n",
       "6            4.007096  \n",
       "7            6.060204  \n",
       "8            4.504348  \n",
       "9            6.957438  \n",
       "10           2.694031  \n",
       "11           3.689734  \n",
       "12           5.985684  \n",
       "13           3.286216  \n",
       "14           5.196297  \n",
       "15           4.085724  \n",
       "16           6.420592  \n",
       "17          11.338860  \n",
       "18          15.582500  \n",
       "19           3.194535  \n",
       "20           4.619219  \n",
       "21           2.308095  \n",
       "22           4.009051  \n",
       "23           3.580171  \n",
       "24           6.390822  \n",
       "25           3.545231  \n",
       "26           3.040413  \n",
       "27          14.185110  \n",
       "28           3.209493  \n",
       "29           3.753975  \n",
       "..                ...  \n",
       "37           3.971041  \n",
       "38           3.364000  \n",
       "39           6.334622  \n",
       "40           4.003838  \n",
       "41           4.411171  \n",
       "42           3.188465  \n",
       "43          -0.729362  \n",
       "44          -0.752722  \n",
       "45           8.246509  \n",
       "46           2.926799  \n",
       "47           3.874803  \n",
       "48           4.574369  \n",
       "49          14.381790  \n",
       "50           3.030938  \n",
       "51           3.666960  \n",
       "52           7.717996  \n",
       "53           4.627450  \n",
       "54           4.656704  \n",
       "55           2.933151  \n",
       "56           4.754623  \n",
       "57           4.150578  \n",
       "58           1.660416  \n",
       "59           2.473313  \n",
       "60           6.586244  \n",
       "61           4.779515  \n",
       "62           2.652763  \n",
       "63           1.517579  \n",
       "64           3.060714  \n",
       "65           4.448799  \n",
       "66           4.261330  \n",
       "\n",
       "[67 rows x 8 columns]"
      ]
     },
     "execution_count": 31,
     "metadata": {},
     "output_type": "execute_result"
    }
   ],
   "source": [
    "df"
   ]
  },
  {
   "cell_type": "code",
   "execution_count": 32,
   "metadata": {},
   "outputs": [],
   "source": [
    "def SDSS_select(sql):\n",
    "    \n",
    "    '''\n",
    "    input: SQL query\n",
    "    output: pandas DF\n",
    "    '''\n",
    "    \n",
    "    import pandas as pd\n",
    "    import mechanize\n",
    "    from io import BytesIO\n",
    "    from astropy.table import Table\n",
    "    \n",
    "    url = 'http://skyserver.sdss.org/dr15/en/tools/search/sql.aspx'\n",
    "    br = mechanize.Browser()\n",
    "    br.open(url)\n",
    "    br.select_form(name='sql')\n",
    "    br['cmd'] = sql\n",
    "    br['format'] = ['csv']\n",
    "    response = br.submit()\n",
    "    file_like = BytesIO(response.get_data())\n",
    "    df = pd.read_csv(file_like,skiprows=1)\n",
    "    return df"
   ]
  },
  {
   "cell_type": "code",
   "execution_count": 33,
   "metadata": {},
   "outputs": [],
   "source": [
    "testTable = SDSS_select(s)"
   ]
  },
  {
   "cell_type": "code",
   "execution_count": 34,
   "metadata": {},
   "outputs": [],
   "source": [
    "s2 = \"select top 100 \\\n",
    "x.plate,x.mjd,x.ra,x.dec,x.z,x.logMass, \\\n",
    "g.oii_3726_flux,g.oii_3726_flux_err \\\n",
    "from stellarMassFSPSGranEarlyDust x \\\n",
    "JOIN galSpecLine g ON g.specObjID = x.specObjID \\\n",
    "WHERE \\\n",
    "ra BETWEEN 141 AND 142 AND \\\n",
    "dec BETWEEN 20 AND 21\""
   ]
  },
  {
   "cell_type": "code",
   "execution_count": 35,
   "metadata": {},
   "outputs": [],
   "source": [
    "testTable = testTable.append(SDSS_select(s2),ignore_index=True)"
   ]
  },
  {
   "cell_type": "code",
   "execution_count": 36,
   "metadata": {},
   "outputs": [],
   "source": [
    "raDec34 = (catTable[34]['RA'],catTable[34]['DEC'])"
   ]
  },
  {
   "cell_type": "code",
   "execution_count": 37,
   "metadata": {},
   "outputs": [
    {
     "data": {
      "text/plain": [
       "(310.31152523, 1.17985096)"
      ]
     },
     "execution_count": 37,
     "metadata": {},
     "output_type": "execute_result"
    }
   ],
   "source": [
    "raDec34"
   ]
  },
  {
   "cell_type": "code",
   "execution_count": 38,
   "metadata": {},
   "outputs": [],
   "source": [
    "testS = \"SELECT \\\n",
    "x.ra, x.dec, s.specObjID, \\\n",
    "s.oii_3726_flux as OII3726, s.oiii_4959_flux as OIII4959, \\\n",
    "s.oiii_5007_flux as OIII5007,s.h_beta_flux as HBeta,s.nii_6584_flux as NII6584,x.logMass as logM \\\n",
    "FROM fGetNearbySpecObjEq(%s,%s,2) n \\\n",
    "JOIN galSpecLine s ON n.specObjID=s.specObjID \\\n",
    "JOIN stellarMassFSPSGranEarlyDust x ON x.specObjID = s.specObjID\"%(raDec34[0],raDec34[1])"
   ]
  },
  {
   "cell_type": "code",
   "execution_count": 39,
   "metadata": {},
   "outputs": [],
   "source": [
    "newTable = SDSS_select(testS)"
   ]
  },
  {
   "cell_type": "code",
   "execution_count": 40,
   "metadata": {},
   "outputs": [
    {
     "data": {
      "text/html": [
       "<div>\n",
       "<style scoped>\n",
       "    .dataframe tbody tr th:only-of-type {\n",
       "        vertical-align: middle;\n",
       "    }\n",
       "\n",
       "    .dataframe tbody tr th {\n",
       "        vertical-align: top;\n",
       "    }\n",
       "\n",
       "    .dataframe thead th {\n",
       "        text-align: right;\n",
       "    }\n",
       "</style>\n",
       "<table border=\"1\" class=\"dataframe\">\n",
       "  <thead>\n",
       "    <tr style=\"text-align: right;\">\n",
       "      <th></th>\n",
       "      <th>ra</th>\n",
       "      <th>dec</th>\n",
       "      <th>specObjID</th>\n",
       "      <th>OII3726</th>\n",
       "      <th>OIII4959</th>\n",
       "      <th>OIII5007</th>\n",
       "      <th>HBeta</th>\n",
       "      <th>NII6584</th>\n",
       "      <th>logM</th>\n",
       "    </tr>\n",
       "  </thead>\n",
       "  <tbody>\n",
       "    <tr>\n",
       "      <th>0</th>\n",
       "      <td>310.31146</td>\n",
       "      <td>1.179918</td>\n",
       "      <td>1149688706815256576</td>\n",
       "      <td>136.488</td>\n",
       "      <td>90.46273</td>\n",
       "      <td>273.7783</td>\n",
       "      <td>131.0639</td>\n",
       "      <td>54.71912</td>\n",
       "      <td>9.492415</td>\n",
       "    </tr>\n",
       "  </tbody>\n",
       "</table>\n",
       "</div>"
      ],
      "text/plain": [
       "          ra       dec            specObjID  OII3726  OIII4959  OIII5007  \\\n",
       "0  310.31146  1.179918  1149688706815256576  136.488  90.46273  273.7783   \n",
       "\n",
       "      HBeta   NII6584      logM  \n",
       "0  131.0639  54.71912  9.492415  "
      ]
     },
     "execution_count": 40,
     "metadata": {},
     "output_type": "execute_result"
    }
   ],
   "source": [
    "newTable"
   ]
  },
  {
   "cell_type": "code",
   "execution_count": 41,
   "metadata": {},
   "outputs": [
    {
     "data": {
      "text/plain": [
       "ra           3.103115e+02\n",
       "dec          1.179918e+00\n",
       "specObjID    1.149689e+18\n",
       "OII3726      1.364880e+02\n",
       "OIII4959     9.046273e+01\n",
       "OIII5007     2.737783e+02\n",
       "HBeta        1.310639e+02\n",
       "NII6584      5.471912e+01\n",
       "logM         9.492415e+00\n",
       "Name: 0, dtype: float64"
      ]
     },
     "execution_count": 41,
     "metadata": {},
     "output_type": "execute_result"
    }
   ],
   "source": [
    "newTable.loc[0]"
   ]
  },
  {
   "cell_type": "code",
   "execution_count": 42,
   "metadata": {},
   "outputs": [],
   "source": [
    "branch = getlogNiiOii(newTable.loc[0]['NII6584'],newTable.loc[0]['OII3726'])"
   ]
  },
  {
   "cell_type": "code",
   "execution_count": 43,
   "metadata": {},
   "outputs": [
    {
     "data": {
      "text/plain": [
       "-0.39695536557585825"
      ]
     },
     "execution_count": 43,
     "metadata": {},
     "output_type": "execute_result"
    }
   ],
   "source": [
    "branch"
   ]
  },
  {
   "cell_type": "code",
   "execution_count": 44,
   "metadata": {},
   "outputs": [],
   "source": [
    "def genSDSSsearch(ra,dec):\n",
    "    testS = \"SELECT \\\n",
    "    x.ra, x.dec, s.specObjID, \\\n",
    "    s.oii_3726_flux as OII3726, s.oiii_4959_flux as OIII4959, \\\n",
    "    s.oiii_5007_flux as OIII5007,s.h_beta_flux as HBeta,s.nii_6584_flux as NII6584,x.logMass as logM \\\n",
    "    FROM fGetNearbySpecObjEq(%s,%s,0.1) n \\\n",
    "    JOIN galSpecLine s ON n.specObjID=s.specObjID \\\n",
    "    JOIN stellarMassFSPSGranEarlyDust x ON x.specObjID = s.specObjID\"%(ra,dec)\n",
    "    return testS"
   ]
  },
  {
   "cell_type": "code",
   "execution_count": 45,
   "metadata": {},
   "outputs": [],
   "source": [
    "searchList = []\n",
    "\n",
    "for obj in catTable:\n",
    "    searchList.append(genSDSSsearch(obj['RA'],obj['DEC']))"
   ]
  },
  {
   "cell_type": "code",
   "execution_count": 46,
   "metadata": {},
   "outputs": [
    {
     "data": {
      "application/vnd.jupyter.widget-view+json": {
       "model_id": "f808c43ad22b46bdb213c3c076e5fd40",
       "version_major": 2,
       "version_minor": 0
      },
      "text/plain": [
       "HBox(children=(IntProgress(value=0, description='search', max=5, style=ProgressStyle(description_width='initia…"
      ]
     },
     "metadata": {},
     "output_type": "display_data"
    }
   ],
   "source": [
    "from tqdm import tqdm_notebook as tqdm\n",
    "searchbar = tqdm(desc='search',total=len(catTable[:5]))\n",
    "bigList = []\n",
    "for search in searchList[:5]:\n",
    "    bigList.append(SDSS_select(search))\n",
    "    searchbar.update(1)"
   ]
  },
  {
   "cell_type": "code",
   "execution_count": 47,
   "metadata": {},
   "outputs": [
    {
     "data": {
      "text/plain": [
       "[        ra       dec            specObjID  OII3726  OIII4959  OIII5007  \\\n",
       " 0  315.903 -1.228565  1109090338984716288  80.6043  19.88178  62.38308   \n",
       " \n",
       "       HBeta   NII6584      logM  \n",
       " 0  48.43876  30.69232  10.03922  ,\n",
       "           ra       dec            specObjID  OII3726  OIII4959  OIII5007  \\\n",
       " 0  321.63791 -1.122804  1112474362390276096  6.89355  1.433883  1.358712   \n",
       " \n",
       "       HBeta   NII6584       logM  \n",
       " 0 -19.07879  10.12107  11.513085  ,\n",
       "           ra       dec            specObjID   OII3726  OIII4959  OIII5007  \\\n",
       " 0  324.56033 -0.783221  1158565346647500800  39.15007  11.09579  27.12723   \n",
       " \n",
       "       HBeta  NII6584       logM  \n",
       " 0  63.41087  83.9248  10.052202  ,\n",
       "           ra       dec            specObjID   OII3726  OIII4959   OIII5007  \\\n",
       " 0  309.70178 -0.226084  1104566948215154688  216.5311  21.62632   82.51499   \n",
       " 1  309.70230 -0.226370  1257694565775730688  429.2838  98.89053  282.57240   \n",
       " \n",
       "       HBeta    NII6584       logM  \n",
       " 0  135.3240   410.3942   9.019719  \n",
       " 1  642.7031  1238.0860  11.051063  ,\n",
       "           ra       dec            specObjID   OII3726  OIII4959  OIII5007  \\\n",
       " 0  312.71863 -0.325496  1105649967688607744  80.21972  15.94538  35.66068   \n",
       " \n",
       "       HBeta   NII6584     logM  \n",
       " 0  89.37849  153.3291  9.97542  ]"
      ]
     },
     "execution_count": 47,
     "metadata": {},
     "output_type": "execute_result"
    }
   ],
   "source": [
    "bigList"
   ]
  },
  {
   "cell_type": "markdown",
   "metadata": {},
   "source": [
    "I think i should try searching by `plate`, `mjd`, and `fiberID`"
   ]
  },
  {
   "cell_type": "markdown",
   "metadata": {},
   "source": [
    "okay so to do that:\n",
    "\n",
    "1. get the `RA` and `DEC` from `catTable`\n",
    "2. use `astroquery` to get the `plate`, `fiberID`, and `MJD`\n",
    "3. take the `plate`, `fiberID`, and `MJD` to get the spectra information:\n",
    "```\n",
    "SELECT\n",
    " x.ra, x.dec, s.specObjID, x.plate, x.fiberID, x.MJD,\n",
    " s.oii_3726_flux as OII3726, s.oiii_4959_flux as OIII4959,\n",
    " s.oiii_5007_flux as OIII5007,s.h_beta_flux as HBeta,s.nii_6584_flux as NII6584,x.logMass as logM\n",
    " FROM galSpecLine s\n",
    " JOIN stellarMassFSPSGranEarlyDust x ON x.specObjID = s.specObjID\n",
    " WHERE x.plate = {plate} AND x.fiberID = {fiberID} AND x.MJD = {mjd}\n",
    "```"
   ]
  },
  {
   "cell_type": "markdown",
   "metadata": {},
   "source": [
    "let's test this out."
   ]
  },
  {
   "cell_type": "code",
   "execution_count": 49,
   "metadata": {},
   "outputs": [
    {
     "data": {
      "text/html": [
       "<i>Row index=3</i>\n",
       "<table id=\"table4678696576\">\n",
       "<thead><tr><th>objid_1</th><th>sample_1</th><th>asset_id</th><th>objid_str</th><th>total_count</th><th>total_weight</th><th>t01_smooth_or_features_a01_smooth_count</th><th>t01_smooth_or_features_a01_smooth_weight</th><th>t01_smooth_or_features_a01_smooth_fraction</th><th>t01_smooth_or_features_a01_smooth_weighted_fraction</th><th>t01_smooth_or_features_a02_features_or_disk_count</th><th>t01_smooth_or_features_a02_features_or_disk_weight</th><th>t01_smooth_or_features_a02_features_or_disk_fraction</th><th>t01_smooth_or_features_a02_features_or_disk_weighted_fraction</th><th>t01_smooth_or_features_a03_star_or_artifact_count</th><th>t01_smooth_or_features_a03_star_or_artifact_weight</th><th>t01_smooth_or_features_a03_star_or_artifact_fraction</th><th>t01_smooth_or_features_a03_star_or_artifact_weighted_fraction</th><th>t01_smooth_or_features_total_count</th><th>t01_smooth_or_features_total_weight</th><th>t02_edgeon_a04_yes_count</th><th>t02_edgeon_a04_yes_weight</th><th>t02_edgeon_a04_yes_fraction</th><th>t02_edgeon_a04_yes_weighted_fraction</th><th>t02_edgeon_a05_no_count</th><th>t02_edgeon_a05_no_weight</th><th>t02_edgeon_a05_no_fraction</th><th>t02_edgeon_a05_no_weighted_fraction</th><th>t02_edgeon_total_count</th><th>t02_edgeon_total_weight</th><th>t03_bar_a06_bar_count</th><th>t03_bar_a06_bar_weight</th><th>t03_bar_a06_bar_fraction</th><th>t03_bar_a06_bar_weighted_fraction</th><th>t03_bar_a07_no_bar_count</th><th>t03_bar_a07_no_bar_weight</th><th>t03_bar_a07_no_bar_fraction</th><th>t03_bar_a07_no_bar_weighted_fraction</th><th>t03_bar_total_count</th><th>t03_bar_total_weight</th><th>t04_spiral_a08_spiral_count</th><th>t04_spiral_a08_spiral_weight</th><th>t04_spiral_a08_spiral_fraction</th><th>t04_spiral_a08_spiral_weighted_fraction</th><th>t04_spiral_a09_no_spiral_count</th><th>t04_spiral_a09_no_spiral_weight</th><th>t04_spiral_a09_no_spiral_fraction</th><th>t04_spiral_a09_no_spiral_weighted_fraction</th><th>t04_spiral_total_count</th><th>t04_spiral_total_weight</th><th>t05_bulge_prominence_a10_no_bulge_count</th><th>t05_bulge_prominence_a10_no_bulge_weight</th><th>t05_bulge_prominence_a10_no_bulge_fraction</th><th>t05_bulge_prominence_a10_no_bulge_weighted_fraction</th><th>t05_bulge_prominence_a11_just_noticeable_count</th><th>t05_bulge_prominence_a11_just_noticeable_weight</th><th>t05_bulge_prominence_a11_just_noticeable_fraction</th><th>t05_bulge_prominence_a11_just_noticeable_weighted_fraction</th><th>t05_bulge_prominence_a12_obvious_count</th><th>t05_bulge_prominence_a12_obvious_weight</th><th>t05_bulge_prominence_a12_obvious_fraction</th><th>t05_bulge_prominence_a12_obvious_weighted_fraction</th><th>t05_bulge_prominence_a13_dominant_count</th><th>t05_bulge_prominence_a13_dominant_weight</th><th>t05_bulge_prominence_a13_dominant_fraction</th><th>t05_bulge_prominence_a13_dominant_weighted_fraction</th><th>t05_bulge_prominence_total_count</th><th>t05_bulge_prominence_total_weight</th><th>t06_odd_a14_yes_count</th><th>t06_odd_a14_yes_weight</th><th>t06_odd_a14_yes_fraction</th><th>t06_odd_a14_yes_weighted_fraction</th><th>t06_odd_a15_no_count</th><th>t06_odd_a15_no_weight</th><th>t06_odd_a15_no_fraction</th><th>t06_odd_a15_no_weighted_fraction</th><th>t06_odd_total_count</th><th>t06_odd_total_weight</th><th>t07_rounded_a16_completely_round_count</th><th>t07_rounded_a16_completely_round_weight</th><th>t07_rounded_a16_completely_round_fraction</th><th>t07_rounded_a16_completely_round_weighted_fraction</th><th>t07_rounded_a17_in_between_count</th><th>t07_rounded_a17_in_between_weight</th><th>t07_rounded_a17_in_between_fraction</th><th>t07_rounded_a17_in_between_weighted_fraction</th><th>t07_rounded_a18_cigar_shaped_count</th><th>t07_rounded_a18_cigar_shaped_weight</th><th>t07_rounded_a18_cigar_shaped_fraction</th><th>t07_rounded_a18_cigar_shaped_weighted_fraction</th><th>t07_rounded_total_count</th><th>t07_rounded_total_weight</th><th>t08_odd_feature_a19_ring_count</th><th>t08_odd_feature_a19_ring_weight</th><th>t08_odd_feature_a19_ring_fraction</th><th>t08_odd_feature_a19_ring_weighted_fraction</th><th>t08_odd_feature_a20_lens_or_arc_count</th><th>t08_odd_feature_a20_lens_or_arc_weight</th><th>t08_odd_feature_a20_lens_or_arc_fraction</th><th>t08_odd_feature_a20_lens_or_arc_weighted_fraction</th><th>t08_odd_feature_a21_disturbed_count</th><th>t08_odd_feature_a21_disturbed_weight</th><th>t08_odd_feature_a21_disturbed_fraction</th><th>t08_odd_feature_a21_disturbed_weighted_fraction</th><th>t08_odd_feature_a22_irregular_count</th><th>t08_odd_feature_a22_irregular_weight</th><th>t08_odd_feature_a22_irregular_fraction</th><th>t08_odd_feature_a22_irregular_weighted_fraction</th><th>t08_odd_feature_a23_other_count</th><th>t08_odd_feature_a23_other_weight</th><th>t08_odd_feature_a23_other_fraction</th><th>t08_odd_feature_a23_other_weighted_fraction</th><th>t08_odd_feature_a24_merger_count</th><th>t08_odd_feature_a24_merger_weight</th><th>t08_odd_feature_a24_merger_fraction</th><th>t08_odd_feature_a24_merger_weighted_fraction</th><th>t08_odd_feature_a38_dust_lane_count</th><th>t08_odd_feature_a38_dust_lane_weight</th><th>t08_odd_feature_a38_dust_lane_fraction</th><th>t08_odd_feature_a38_dust_lane_weighted_fraction</th><th>t08_odd_feature_total_count</th><th>t08_odd_feature_total_weight</th><th>t09_bulge_shape_a25_rounded_count</th><th>t09_bulge_shape_a25_rounded_weight</th><th>t09_bulge_shape_a25_rounded_fraction</th><th>t09_bulge_shape_a25_rounded_weighted_fraction</th><th>t09_bulge_shape_a26_boxy_count</th><th>t09_bulge_shape_a26_boxy_weight</th><th>t09_bulge_shape_a26_boxy_fraction</th><th>t09_bulge_shape_a26_boxy_weighted_fraction</th><th>t09_bulge_shape_a27_no_bulge_count</th><th>t09_bulge_shape_a27_no_bulge_weight</th><th>t09_bulge_shape_a27_no_bulge_fraction</th><th>t09_bulge_shape_a27_no_bulge_weighted_fraction</th><th>t09_bulge_shape_total_count</th><th>t09_bulge_shape_total_weight</th><th>t10_arms_winding_a28_tight_count</th><th>t10_arms_winding_a28_tight_weight</th><th>t10_arms_winding_a28_tight_fraction</th><th>t10_arms_winding_a28_tight_weighted_fraction</th><th>t10_arms_winding_a29_medium_count</th><th>t10_arms_winding_a29_medium_weight</th><th>t10_arms_winding_a29_medium_fraction</th><th>t10_arms_winding_a29_medium_weighted_fraction</th><th>t10_arms_winding_a30_loose_count</th><th>t10_arms_winding_a30_loose_weight</th><th>t10_arms_winding_a30_loose_fraction</th><th>t10_arms_winding_a30_loose_weighted_fraction</th><th>t10_arms_winding_total_count</th><th>t10_arms_winding_total_weight</th><th>t11_arms_number_a31_1_count</th><th>t11_arms_number_a31_1_weight</th><th>t11_arms_number_a31_1_fraction</th><th>t11_arms_number_a31_1_weighted_fraction</th><th>t11_arms_number_a32_2_count</th><th>t11_arms_number_a32_2_weight</th><th>t11_arms_number_a32_2_fraction</th><th>t11_arms_number_a32_2_weighted_fraction</th><th>t11_arms_number_a33_3_count</th><th>t11_arms_number_a33_3_weight</th><th>t11_arms_number_a33_3_fraction</th><th>t11_arms_number_a33_3_weighted_fraction</th><th>t11_arms_number_a34_4_count</th><th>t11_arms_number_a34_4_weight</th><th>t11_arms_number_a34_4_fraction</th><th>t11_arms_number_a34_4_weighted_fraction</th><th>t11_arms_number_a36_more_than_4_count</th><th>t11_arms_number_a36_more_than_4_weight</th><th>t11_arms_number_a36_more_than_4_fraction</th><th>t11_arms_number_a36_more_than_4_weighted_fraction</th><th>t11_arms_number_a37_cant_tell_count</th><th>t11_arms_number_a37_cant_tell_weight</th><th>t11_arms_number_a37_cant_tell_fraction</th><th>t11_arms_number_a37_cant_tell_weighted_fraction</th><th>t11_arms_number_total_count</th><th>t11_arms_number_total_weight</th><th>t12_arms_number_total_count</th><th>t12_arms_number_total_weight</th><th>t13_arms_number_total_count</th><th>t13_arms_number_total_weight</th><th>t14_clumpy_a39_yes_count</th><th>t14_clumpy_a39_yes_weight</th><th>t14_clumpy_a39_yes_fraction</th><th>t14_clumpy_a39_yes_weighted_fraction</th><th>t14_clumpy_a40_no_count</th><th>t14_clumpy_a40_no_weight</th><th>t14_clumpy_a40_no_fraction</th><th>t14_clumpy_a40_no_weighted_fraction</th><th>t14_clumpy_total_count</th><th>t14_clumpy_total_weight</th><th>t15_multiple_clumps_a41_yes_count</th><th>t15_multiple_clumps_a41_yes_weight</th><th>t15_multiple_clumps_a41_yes_fraction</th><th>t15_multiple_clumps_a41_yes_weighted_fraction</th><th>t15_multiple_clumps_a42_no_count</th><th>t15_multiple_clumps_a42_no_weight</th><th>t15_multiple_clumps_a42_no_fraction</th><th>t15_multiple_clumps_a42_no_weighted_fraction</th><th>t15_multiple_clumps_total_count</th><th>t15_multiple_clumps_total_weight</th><th>t16_bright_clump_a43_yes_count</th><th>t16_bright_clump_a43_yes_weight</th><th>t16_bright_clump_a43_yes_fraction</th><th>t16_bright_clump_a43_yes_weighted_fraction</th><th>t16_bright_clump_a44_no_count</th><th>t16_bright_clump_a44_no_weight</th><th>t16_bright_clump_a44_no_fraction</th><th>t16_bright_clump_a44_no_weighted_fraction</th><th>t16_bright_clump_total_count</th><th>t16_bright_clump_total_weight</th><th>t17_bright_clump_central_a45_yes_count</th><th>t17_bright_clump_central_a45_yes_weight</th><th>t17_bright_clump_central_a45_yes_fraction</th><th>t17_bright_clump_central_a45_yes_weighted_fraction</th><th>t17_bright_clump_central_a46_no_count</th><th>t17_bright_clump_central_a46_no_weight</th><th>t17_bright_clump_central_a46_no_fraction</th><th>t17_bright_clump_central_a46_no_weighted_fraction</th><th>t17_bright_clump_central_total_count</th><th>t17_bright_clump_central_total_weight</th><th>t18_clumps_arrangement_a47_line_count</th><th>t18_clumps_arrangement_a47_line_weight</th><th>t18_clumps_arrangement_a47_line_fraction</th><th>t18_clumps_arrangement_a47_line_weighted_fraction</th><th>t18_clumps_arrangement_a48_chain_count</th><th>t18_clumps_arrangement_a48_chain_weight</th><th>t18_clumps_arrangement_a48_chain_fraction</th><th>t18_clumps_arrangement_a48_chain_weighted_fraction</th><th>t18_clumps_arrangement_a49_cluster_count</th><th>t18_clumps_arrangement_a49_cluster_weight</th><th>t18_clumps_arrangement_a49_cluster_fraction</th><th>t18_clumps_arrangement_a49_cluster_weighted_fraction</th><th>t18_clumps_arrangement_a59_spiral_count</th><th>t18_clumps_arrangement_a59_spiral_weight</th><th>t18_clumps_arrangement_a59_spiral_fraction</th><th>t18_clumps_arrangement_a59_spiral_weighted_fraction</th><th>t18_clumps_arrangement_total_count</th><th>t18_clumps_arrangement_total_weight</th><th>t19_clumps_count_a50_2_count</th><th>t19_clumps_count_a50_2_weight</th><th>t19_clumps_count_a50_2_fraction</th><th>t19_clumps_count_a50_2_weighted_fraction</th><th>t19_clumps_count_a51_3_count</th><th>t19_clumps_count_a51_3_weight</th><th>t19_clumps_count_a51_3_fraction</th><th>t19_clumps_count_a51_3_weighted_fraction</th><th>t19_clumps_count_a52_4_count</th><th>t19_clumps_count_a52_4_weight</th><th>t19_clumps_count_a52_4_fraction</th><th>t19_clumps_count_a52_4_weighted_fraction</th><th>t19_clumps_count_a53_more_than_4_count</th><th>t19_clumps_count_a53_more_than_4_weight</th><th>t19_clumps_count_a53_more_than_4_fraction</th><th>t19_clumps_count_a53_more_than_4_weighted_fraction</th><th>t19_clumps_count_a54_cant_tell_count</th><th>t19_clumps_count_a54_cant_tell_weight</th><th>t19_clumps_count_a54_cant_tell_fraction</th><th>t19_clumps_count_a54_cant_tell_weighted_fraction</th><th>t19_clumps_count_a60_1_count</th><th>t19_clumps_count_a60_1_weight</th><th>t19_clumps_count_a60_1_fraction</th><th>t19_clumps_count_a60_1_weighted_fraction</th><th>t19_clumps_count_total_count</th><th>t19_clumps_count_total_weight</th><th>t20_clumps_symmetrical_a55_yes_count</th><th>t20_clumps_symmetrical_a55_yes_weight</th><th>t20_clumps_symmetrical_a55_yes_fraction</th><th>t20_clumps_symmetrical_a55_yes_weighted_fraction</th><th>t20_clumps_symmetrical_a56_no_count</th><th>t20_clumps_symmetrical_a56_no_weight</th><th>t20_clumps_symmetrical_a56_no_fraction</th><th>t20_clumps_symmetrical_a56_no_weighted_fraction</th><th>t20_clumps_symmetrical_total_count</th><th>t20_clumps_symmetrical_total_weight</th><th>t21_clumps_embedded_a57_yes_count</th><th>t21_clumps_embedded_a57_yes_weight</th><th>t21_clumps_embedded_a57_yes_fraction</th><th>t21_clumps_embedded_a57_yes_weighted_fraction</th><th>t21_clumps_embedded_a58_no_count</th><th>t21_clumps_embedded_a58_no_weight</th><th>t21_clumps_embedded_a58_no_fraction</th><th>t21_clumps_embedded_a58_no_weighted_fraction</th><th>t21_clumps_embedded_total_count</th><th>t21_clumps_embedded_total_weight</th><th>OBJID_2</th><th>RUN</th><th>RERUN</th><th>CAMCOL</th><th>FIELD</th><th>OBJ</th><th>RA</th><th>DEC</th><th>PETROR50_R</th><th>PETROR90_R</th><th>PETROMAG_U</th><th>PETROMAG_G</th><th>PETROMAG_R</th><th>PETROMAG_I</th><th>PETROMAG_Z</th><th>PETROMAGERR_U</th><th>PETROMAGERR_G</th><th>PETROMAGERR_R</th><th>PETROMAGERR_I</th><th>PETROMAGERR_Z</th><th>PSFMAG_R</th><th>FIBERMAG_R</th><th>DEVMAG_R</th><th>DEVMAGERR_R</th><th>EXPMAG_R</th><th>EXPMAGERR_R</th><th>FRACDEV_R</th><th>MU50_R</th><th>EXTINCTION_U</th><th>EXTINCTION_G</th><th>EXTINCTION_R</th><th>EXTINCTION_I</th><th>EXTINCTION_Z</th><th>ROWC_U</th><th>COLC_U</th><th>ROWC_G</th><th>COLC_G</th><th>ROWC_R</th><th>COLC_R</th><th>ROWC_I</th><th>COLC_I</th><th>ROWC_Z</th><th>COLC_Z</th><th>CMODELMAG_R</th><th>CMODELMAGERR_R</th><th>REDSHIFT</th><th>REDSHIFTERR</th><th>PETROMAG_MU</th><th>PETROMAG_MG</th><th>PETROMAG_MR</th><th>PETROMAG_MI</th><th>PETROMAG_MZ</th><th>PETROMAGERR_MU</th><th>PETROMAGERR_MG</th><th>PETROMAGERR_MR</th><th>PETROMAGERR_MI</th><th>PETROMAGERR_MZ</th><th>PETROR50_R_KPC</th><th>REGION</th><th>PETROR50_R_KPC_SIMPLE_BIN</th><th>PETROMAG_MR_SIMPLE_BIN</th><th>REDSHIFT_SIMPLE_BIN</th><th>WVT_BIN</th><th>SAMPLE_2</th><th>gr_color</th><th>ur_color</th></tr></thead>\n",
       "<thead><tr><th>int64</th><th>str22</th><th>int32</th><th>str20</th><th>int16</th><th>float32</th><th>int16</th><th>float32</th><th>float32</th><th>float32</th><th>int16</th><th>float32</th><th>float32</th><th>float32</th><th>int16</th><th>float32</th><th>float32</th><th>float32</th><th>int16</th><th>float32</th><th>int16</th><th>float32</th><th>float32</th><th>float32</th><th>int16</th><th>float32</th><th>float32</th><th>float32</th><th>int16</th><th>float32</th><th>int16</th><th>float32</th><th>float32</th><th>float32</th><th>int16</th><th>float32</th><th>float32</th><th>float32</th><th>int16</th><th>float32</th><th>int16</th><th>float32</th><th>float32</th><th>float32</th><th>int16</th><th>float32</th><th>float32</th><th>float32</th><th>int16</th><th>float32</th><th>int16</th><th>float32</th><th>float32</th><th>float32</th><th>int16</th><th>float32</th><th>float32</th><th>float32</th><th>int16</th><th>float32</th><th>float32</th><th>float32</th><th>int16</th><th>float32</th><th>float32</th><th>float32</th><th>int16</th><th>float32</th><th>int16</th><th>float32</th><th>float32</th><th>float32</th><th>int16</th><th>float32</th><th>float32</th><th>float32</th><th>int16</th><th>float32</th><th>int16</th><th>float32</th><th>float32</th><th>float32</th><th>int16</th><th>float32</th><th>float32</th><th>float32</th><th>int16</th><th>float32</th><th>float32</th><th>float32</th><th>int16</th><th>float32</th><th>int16</th><th>float32</th><th>float32</th><th>float32</th><th>int16</th><th>float32</th><th>float32</th><th>float32</th><th>int16</th><th>float32</th><th>float32</th><th>float32</th><th>int16</th><th>float32</th><th>float32</th><th>float32</th><th>int16</th><th>float32</th><th>float32</th><th>float32</th><th>int16</th><th>float32</th><th>float32</th><th>float32</th><th>int16</th><th>float32</th><th>float32</th><th>float32</th><th>int16</th><th>float32</th><th>int16</th><th>float32</th><th>float32</th><th>float32</th><th>int16</th><th>float32</th><th>float32</th><th>float32</th><th>int16</th><th>float32</th><th>float32</th><th>float32</th><th>int16</th><th>float32</th><th>int16</th><th>float32</th><th>float32</th><th>float32</th><th>int16</th><th>float32</th><th>float32</th><th>float32</th><th>int16</th><th>float32</th><th>float32</th><th>float32</th><th>int16</th><th>float32</th><th>int16</th><th>float32</th><th>float32</th><th>float32</th><th>int16</th><th>float32</th><th>float32</th><th>float32</th><th>int16</th><th>float32</th><th>float32</th><th>float32</th><th>int16</th><th>float32</th><th>float32</th><th>float32</th><th>int16</th><th>float32</th><th>float32</th><th>float32</th><th>int16</th><th>float32</th><th>float32</th><th>float32</th><th>int16</th><th>float32</th><th>int16</th><th>float32</th><th>int16</th><th>float32</th><th>int16</th><th>float32</th><th>float32</th><th>float32</th><th>int16</th><th>float32</th><th>float32</th><th>float32</th><th>int16</th><th>float32</th><th>int16</th><th>float32</th><th>float32</th><th>float32</th><th>int16</th><th>float32</th><th>float32</th><th>float32</th><th>int16</th><th>float32</th><th>int16</th><th>float32</th><th>float32</th><th>float32</th><th>int16</th><th>float32</th><th>float32</th><th>float32</th><th>int16</th><th>float32</th><th>int16</th><th>float32</th><th>float32</th><th>float32</th><th>int16</th><th>float32</th><th>float32</th><th>float32</th><th>int16</th><th>float32</th><th>int16</th><th>float32</th><th>float32</th><th>float32</th><th>int16</th><th>float32</th><th>float32</th><th>float32</th><th>int16</th><th>float32</th><th>float32</th><th>float32</th><th>int16</th><th>float32</th><th>float32</th><th>float32</th><th>int16</th><th>float32</th><th>int16</th><th>float32</th><th>float32</th><th>float32</th><th>int16</th><th>float32</th><th>float32</th><th>float32</th><th>int16</th><th>float32</th><th>float32</th><th>float32</th><th>int16</th><th>float32</th><th>float32</th><th>float32</th><th>int16</th><th>float32</th><th>float32</th><th>float32</th><th>int16</th><th>float32</th><th>float32</th><th>float32</th><th>int16</th><th>float32</th><th>int16</th><th>float32</th><th>float32</th><th>float32</th><th>int16</th><th>float32</th><th>float32</th><th>float32</th><th>int16</th><th>float32</th><th>int16</th><th>float32</th><th>float32</th><th>float32</th><th>int16</th><th>float32</th><th>float32</th><th>float32</th><th>int16</th><th>float32</th><th>int64</th><th>int16</th><th>int16</th><th>int16</th><th>int16</th><th>int16</th><th>float64</th><th>float64</th><th>float32</th><th>float32</th><th>float32</th><th>float32</th><th>float32</th><th>float32</th><th>float32</th><th>float32</th><th>float32</th><th>float32</th><th>float32</th><th>float32</th><th>float32</th><th>float32</th><th>float32</th><th>float32</th><th>float32</th><th>float32</th><th>float32</th><th>float64</th><th>float32</th><th>float32</th><th>float32</th><th>float32</th><th>float32</th><th>float32</th><th>float32</th><th>float32</th><th>float32</th><th>float32</th><th>float32</th><th>float32</th><th>float32</th><th>float32</th><th>float32</th><th>float64</th><th>float64</th><th>float32</th><th>float32</th><th>float32</th><th>float32</th><th>float32</th><th>float32</th><th>float32</th><th>float32</th><th>float32</th><th>float32</th><th>float32</th><th>float32</th><th>float32</th><th>int16</th><th>int16</th><th>int16</th><th>int16</th><th>int16</th><th>str22</th><th>float32</th><th>float32</th></tr></thead>\n",
       "<tr><td>587730846885937508</td><td>stripe82</td><td>22224</td><td>587730846885937508</td><td>309</td><td>303.7</td><td>15</td><td>15.0</td><td>0.306</td><td>0.343</td><td>26</td><td>26.0</td><td>0.531</td><td>0.595</td><td>8</td><td>2.7</td><td>0.163</td><td>0.062</td><td>49</td><td>43.7</td><td>0</td><td>0.0</td><td>0.0</td><td>0.0</td><td>12</td><td>12.0</td><td>1.0</td><td>1.0</td><td>12</td><td>12.0</td><td>0</td><td>0.0</td><td>0.0</td><td>0.0</td><td>12</td><td>12.0</td><td>1.0</td><td>1.0</td><td>12</td><td>12.0</td><td>8</td><td>8.0</td><td>0.667</td><td>0.667</td><td>4</td><td>4.0</td><td>0.333</td><td>0.333</td><td>12</td><td>12.0</td><td>2</td><td>2.0</td><td>0.167</td><td>0.167</td><td>1</td><td>1.0</td><td>0.083</td><td>0.083</td><td>5</td><td>5.0</td><td>0.417</td><td>0.417</td><td>4</td><td>4.0</td><td>0.333</td><td>0.333</td><td>12</td><td>12.0</td><td>32</td><td>32.0</td><td>0.78</td><td>0.78</td><td>9</td><td>9.0</td><td>0.22</td><td>0.22</td><td>41</td><td>41.0</td><td>8</td><td>8.0</td><td>0.533</td><td>0.533</td><td>7</td><td>7.0</td><td>0.467</td><td>0.467</td><td>0</td><td>0.0</td><td>0.0</td><td>0.0</td><td>15</td><td>15.0</td><td>0</td><td>0.0</td><td>0.0</td><td>0.0</td><td>0</td><td>0.0</td><td>0.0</td><td>0.0</td><td>9</td><td>9.0</td><td>0.281</td><td>0.281</td><td>6</td><td>6.0</td><td>0.188</td><td>0.188</td><td>5</td><td>5.0</td><td>0.156</td><td>0.156</td><td>11</td><td>11.0</td><td>0.344</td><td>0.344</td><td>1</td><td>1.0</td><td>0.031</td><td>0.031</td><td>32</td><td>32.0</td><td>0</td><td>0.0</td><td>0.0</td><td>0.0</td><td>0</td><td>0.0</td><td>0.0</td><td>0.0</td><td>0</td><td>0.0</td><td>0.0</td><td>0.0</td><td>0</td><td>0.0</td><td>0</td><td>0.0</td><td>0.0</td><td>0.0</td><td>1</td><td>1.0</td><td>0.125</td><td>0.125</td><td>7</td><td>7.0</td><td>0.875</td><td>0.875</td><td>8</td><td>8.0</td><td>7</td><td>7.0</td><td>0.875</td><td>0.875</td><td>1</td><td>1.0</td><td>0.125</td><td>0.125</td><td>0</td><td>0.0</td><td>0.0</td><td>0.0</td><td>0</td><td>0.0</td><td>0.0</td><td>0.0</td><td>0</td><td>0.0</td><td>0.0</td><td>0.0</td><td>0</td><td>0.0</td><td>0.0</td><td>0.0</td><td>8</td><td>8.0</td><td>0</td><td>0.0</td><td>0</td><td>0.0</td><td>14</td><td>14.0</td><td>0.538</td><td>0.538</td><td>12</td><td>12.0</td><td>0.462</td><td>0.462</td><td>26</td><td>26.0</td><td>0</td><td>0.0</td><td>0.0</td><td>0.0</td><td>0</td><td>0.0</td><td>0.0</td><td>0.0</td><td>0</td><td>0.0</td><td>13</td><td>13.0</td><td>0.929</td><td>0.929</td><td>1</td><td>1.0</td><td>0.071</td><td>0.071</td><td>14</td><td>14.0</td><td>11</td><td>11.0</td><td>0.846</td><td>0.846</td><td>2</td><td>2.0</td><td>0.154</td><td>0.154</td><td>13</td><td>13.0</td><td>0</td><td>0.0</td><td>0.0</td><td>0.0</td><td>1</td><td>1.0</td><td>0.077</td><td>0.077</td><td>12</td><td>12.0</td><td>0.923</td><td>0.923</td><td>0</td><td>0.0</td><td>0.0</td><td>0.0</td><td>13</td><td>13.0</td><td>1</td><td>1.0</td><td>0.071</td><td>0.071</td><td>11</td><td>11.0</td><td>0.786</td><td>0.786</td><td>0</td><td>0.0</td><td>0.0</td><td>0.0</td><td>0</td><td>0.0</td><td>0.0</td><td>0.0</td><td>2</td><td>2.0</td><td>0.143</td><td>0.143</td><td>0</td><td>0.0</td><td>0.0</td><td>0.0</td><td>14</td><td>14.0</td><td>2</td><td>2.0</td><td>0.143</td><td>0.143</td><td>12</td><td>12.0</td><td>0.857</td><td>0.857</td><td>14</td><td>14.0</td><td>13</td><td>13.0</td><td>0.929</td><td>0.929</td><td>1</td><td>1.0</td><td>0.071</td><td>0.071</td><td>14</td><td>14.0</td><td>587730846885937508</td><td>2583</td><td>40</td><td>3</td><td>45</td><td>356</td><td>309.70230142</td><td>-0.22634834</td><td>2.192235</td><td>6.3223505</td><td>18.315151</td><td>16.821005</td><td>16.252125</td><td>15.708695</td><td>15.729564</td><td>0.06339462</td><td>0.011870807</td><td>0.016208988</td><td>0.01581548</td><td>0.027214674</td><td>17.95605</td><td>17.526915</td><td>16.132486</td><td>0.0039509493</td><td>16.488533</td><td>0.004114062</td><td>0.97488487</td><td>19.95200993310001</td><td>0.395807</td><td>0.29123104</td><td>0.21122503</td><td>0.16016555</td><td>0.11355937</td><td>597.3891</td><td>1829.1343</td><td>600.24976</td><td>1829.1748</td><td>590.0657</td><td>1825.5125</td><td>592.80096</td><td>1824.9998</td><td>596.55164</td><td>1826.1748</td><td>16.140137117196637</td><td>0.003879682486745728</td><td>nan</td><td>nan</td><td>nan</td><td>nan</td><td>nan</td><td>nan</td><td>nan</td><td>nan</td><td>nan</td><td>nan</td><td>nan</td><td>nan</td><td>nan</td><td>0</td><td>-9999</td><td>-9999</td><td>-9999</td><td>0</td><td>stripe82</td><td>0.5688801</td><td>2.0630264</td></tr>\n",
       "</table>"
      ],
      "text/plain": [
       "<Row index=3>\n",
       "     objid_1              sample_1        asset_id      objid_str       total_count total_weight t01_smooth_or_features_a01_smooth_count t01_smooth_or_features_a01_smooth_weight t01_smooth_or_features_a01_smooth_fraction t01_smooth_or_features_a01_smooth_weighted_fraction t01_smooth_or_features_a02_features_or_disk_count t01_smooth_or_features_a02_features_or_disk_weight t01_smooth_or_features_a02_features_or_disk_fraction t01_smooth_or_features_a02_features_or_disk_weighted_fraction t01_smooth_or_features_a03_star_or_artifact_count t01_smooth_or_features_a03_star_or_artifact_weight t01_smooth_or_features_a03_star_or_artifact_fraction t01_smooth_or_features_a03_star_or_artifact_weighted_fraction t01_smooth_or_features_total_count t01_smooth_or_features_total_weight t02_edgeon_a04_yes_count t02_edgeon_a04_yes_weight t02_edgeon_a04_yes_fraction t02_edgeon_a04_yes_weighted_fraction t02_edgeon_a05_no_count t02_edgeon_a05_no_weight t02_edgeon_a05_no_fraction t02_edgeon_a05_no_weighted_fraction t02_edgeon_total_count t02_edgeon_total_weight t03_bar_a06_bar_count t03_bar_a06_bar_weight t03_bar_a06_bar_fraction t03_bar_a06_bar_weighted_fraction t03_bar_a07_no_bar_count t03_bar_a07_no_bar_weight t03_bar_a07_no_bar_fraction t03_bar_a07_no_bar_weighted_fraction t03_bar_total_count t03_bar_total_weight t04_spiral_a08_spiral_count t04_spiral_a08_spiral_weight t04_spiral_a08_spiral_fraction t04_spiral_a08_spiral_weighted_fraction t04_spiral_a09_no_spiral_count t04_spiral_a09_no_spiral_weight t04_spiral_a09_no_spiral_fraction t04_spiral_a09_no_spiral_weighted_fraction t04_spiral_total_count t04_spiral_total_weight t05_bulge_prominence_a10_no_bulge_count t05_bulge_prominence_a10_no_bulge_weight t05_bulge_prominence_a10_no_bulge_fraction t05_bulge_prominence_a10_no_bulge_weighted_fraction t05_bulge_prominence_a11_just_noticeable_count t05_bulge_prominence_a11_just_noticeable_weight t05_bulge_prominence_a11_just_noticeable_fraction t05_bulge_prominence_a11_just_noticeable_weighted_fraction t05_bulge_prominence_a12_obvious_count t05_bulge_prominence_a12_obvious_weight t05_bulge_prominence_a12_obvious_fraction t05_bulge_prominence_a12_obvious_weighted_fraction t05_bulge_prominence_a13_dominant_count t05_bulge_prominence_a13_dominant_weight t05_bulge_prominence_a13_dominant_fraction t05_bulge_prominence_a13_dominant_weighted_fraction t05_bulge_prominence_total_count t05_bulge_prominence_total_weight t06_odd_a14_yes_count t06_odd_a14_yes_weight t06_odd_a14_yes_fraction t06_odd_a14_yes_weighted_fraction t06_odd_a15_no_count t06_odd_a15_no_weight t06_odd_a15_no_fraction t06_odd_a15_no_weighted_fraction t06_odd_total_count t06_odd_total_weight t07_rounded_a16_completely_round_count t07_rounded_a16_completely_round_weight t07_rounded_a16_completely_round_fraction t07_rounded_a16_completely_round_weighted_fraction t07_rounded_a17_in_between_count t07_rounded_a17_in_between_weight t07_rounded_a17_in_between_fraction t07_rounded_a17_in_between_weighted_fraction t07_rounded_a18_cigar_shaped_count t07_rounded_a18_cigar_shaped_weight t07_rounded_a18_cigar_shaped_fraction t07_rounded_a18_cigar_shaped_weighted_fraction t07_rounded_total_count t07_rounded_total_weight t08_odd_feature_a19_ring_count t08_odd_feature_a19_ring_weight t08_odd_feature_a19_ring_fraction t08_odd_feature_a19_ring_weighted_fraction t08_odd_feature_a20_lens_or_arc_count t08_odd_feature_a20_lens_or_arc_weight t08_odd_feature_a20_lens_or_arc_fraction t08_odd_feature_a20_lens_or_arc_weighted_fraction t08_odd_feature_a21_disturbed_count t08_odd_feature_a21_disturbed_weight t08_odd_feature_a21_disturbed_fraction t08_odd_feature_a21_disturbed_weighted_fraction t08_odd_feature_a22_irregular_count t08_odd_feature_a22_irregular_weight t08_odd_feature_a22_irregular_fraction t08_odd_feature_a22_irregular_weighted_fraction t08_odd_feature_a23_other_count t08_odd_feature_a23_other_weight t08_odd_feature_a23_other_fraction t08_odd_feature_a23_other_weighted_fraction t08_odd_feature_a24_merger_count t08_odd_feature_a24_merger_weight t08_odd_feature_a24_merger_fraction t08_odd_feature_a24_merger_weighted_fraction t08_odd_feature_a38_dust_lane_count t08_odd_feature_a38_dust_lane_weight t08_odd_feature_a38_dust_lane_fraction t08_odd_feature_a38_dust_lane_weighted_fraction t08_odd_feature_total_count t08_odd_feature_total_weight t09_bulge_shape_a25_rounded_count t09_bulge_shape_a25_rounded_weight t09_bulge_shape_a25_rounded_fraction t09_bulge_shape_a25_rounded_weighted_fraction t09_bulge_shape_a26_boxy_count t09_bulge_shape_a26_boxy_weight t09_bulge_shape_a26_boxy_fraction t09_bulge_shape_a26_boxy_weighted_fraction t09_bulge_shape_a27_no_bulge_count t09_bulge_shape_a27_no_bulge_weight t09_bulge_shape_a27_no_bulge_fraction t09_bulge_shape_a27_no_bulge_weighted_fraction t09_bulge_shape_total_count t09_bulge_shape_total_weight t10_arms_winding_a28_tight_count t10_arms_winding_a28_tight_weight t10_arms_winding_a28_tight_fraction t10_arms_winding_a28_tight_weighted_fraction t10_arms_winding_a29_medium_count t10_arms_winding_a29_medium_weight t10_arms_winding_a29_medium_fraction t10_arms_winding_a29_medium_weighted_fraction t10_arms_winding_a30_loose_count t10_arms_winding_a30_loose_weight t10_arms_winding_a30_loose_fraction t10_arms_winding_a30_loose_weighted_fraction t10_arms_winding_total_count t10_arms_winding_total_weight t11_arms_number_a31_1_count t11_arms_number_a31_1_weight t11_arms_number_a31_1_fraction t11_arms_number_a31_1_weighted_fraction t11_arms_number_a32_2_count t11_arms_number_a32_2_weight t11_arms_number_a32_2_fraction t11_arms_number_a32_2_weighted_fraction t11_arms_number_a33_3_count t11_arms_number_a33_3_weight t11_arms_number_a33_3_fraction t11_arms_number_a33_3_weighted_fraction t11_arms_number_a34_4_count t11_arms_number_a34_4_weight t11_arms_number_a34_4_fraction t11_arms_number_a34_4_weighted_fraction t11_arms_number_a36_more_than_4_count t11_arms_number_a36_more_than_4_weight t11_arms_number_a36_more_than_4_fraction t11_arms_number_a36_more_than_4_weighted_fraction t11_arms_number_a37_cant_tell_count t11_arms_number_a37_cant_tell_weight t11_arms_number_a37_cant_tell_fraction t11_arms_number_a37_cant_tell_weighted_fraction t11_arms_number_total_count t11_arms_number_total_weight t12_arms_number_total_count t12_arms_number_total_weight t13_arms_number_total_count t13_arms_number_total_weight t14_clumpy_a39_yes_count t14_clumpy_a39_yes_weight t14_clumpy_a39_yes_fraction t14_clumpy_a39_yes_weighted_fraction t14_clumpy_a40_no_count t14_clumpy_a40_no_weight t14_clumpy_a40_no_fraction t14_clumpy_a40_no_weighted_fraction t14_clumpy_total_count t14_clumpy_total_weight t15_multiple_clumps_a41_yes_count t15_multiple_clumps_a41_yes_weight t15_multiple_clumps_a41_yes_fraction t15_multiple_clumps_a41_yes_weighted_fraction t15_multiple_clumps_a42_no_count t15_multiple_clumps_a42_no_weight t15_multiple_clumps_a42_no_fraction t15_multiple_clumps_a42_no_weighted_fraction t15_multiple_clumps_total_count t15_multiple_clumps_total_weight t16_bright_clump_a43_yes_count t16_bright_clump_a43_yes_weight t16_bright_clump_a43_yes_fraction t16_bright_clump_a43_yes_weighted_fraction t16_bright_clump_a44_no_count t16_bright_clump_a44_no_weight t16_bright_clump_a44_no_fraction t16_bright_clump_a44_no_weighted_fraction t16_bright_clump_total_count t16_bright_clump_total_weight t17_bright_clump_central_a45_yes_count t17_bright_clump_central_a45_yes_weight t17_bright_clump_central_a45_yes_fraction t17_bright_clump_central_a45_yes_weighted_fraction t17_bright_clump_central_a46_no_count t17_bright_clump_central_a46_no_weight t17_bright_clump_central_a46_no_fraction t17_bright_clump_central_a46_no_weighted_fraction t17_bright_clump_central_total_count t17_bright_clump_central_total_weight t18_clumps_arrangement_a47_line_count t18_clumps_arrangement_a47_line_weight t18_clumps_arrangement_a47_line_fraction t18_clumps_arrangement_a47_line_weighted_fraction t18_clumps_arrangement_a48_chain_count t18_clumps_arrangement_a48_chain_weight t18_clumps_arrangement_a48_chain_fraction t18_clumps_arrangement_a48_chain_weighted_fraction t18_clumps_arrangement_a49_cluster_count t18_clumps_arrangement_a49_cluster_weight t18_clumps_arrangement_a49_cluster_fraction t18_clumps_arrangement_a49_cluster_weighted_fraction t18_clumps_arrangement_a59_spiral_count t18_clumps_arrangement_a59_spiral_weight t18_clumps_arrangement_a59_spiral_fraction t18_clumps_arrangement_a59_spiral_weighted_fraction t18_clumps_arrangement_total_count t18_clumps_arrangement_total_weight t19_clumps_count_a50_2_count t19_clumps_count_a50_2_weight t19_clumps_count_a50_2_fraction t19_clumps_count_a50_2_weighted_fraction t19_clumps_count_a51_3_count t19_clumps_count_a51_3_weight t19_clumps_count_a51_3_fraction t19_clumps_count_a51_3_weighted_fraction t19_clumps_count_a52_4_count t19_clumps_count_a52_4_weight t19_clumps_count_a52_4_fraction t19_clumps_count_a52_4_weighted_fraction t19_clumps_count_a53_more_than_4_count t19_clumps_count_a53_more_than_4_weight t19_clumps_count_a53_more_than_4_fraction t19_clumps_count_a53_more_than_4_weighted_fraction t19_clumps_count_a54_cant_tell_count t19_clumps_count_a54_cant_tell_weight t19_clumps_count_a54_cant_tell_fraction t19_clumps_count_a54_cant_tell_weighted_fraction t19_clumps_count_a60_1_count t19_clumps_count_a60_1_weight t19_clumps_count_a60_1_fraction t19_clumps_count_a60_1_weighted_fraction t19_clumps_count_total_count t19_clumps_count_total_weight t20_clumps_symmetrical_a55_yes_count t20_clumps_symmetrical_a55_yes_weight t20_clumps_symmetrical_a55_yes_fraction t20_clumps_symmetrical_a55_yes_weighted_fraction t20_clumps_symmetrical_a56_no_count t20_clumps_symmetrical_a56_no_weight t20_clumps_symmetrical_a56_no_fraction t20_clumps_symmetrical_a56_no_weighted_fraction t20_clumps_symmetrical_total_count t20_clumps_symmetrical_total_weight t21_clumps_embedded_a57_yes_count t21_clumps_embedded_a57_yes_weight t21_clumps_embedded_a57_yes_fraction t21_clumps_embedded_a57_yes_weighted_fraction t21_clumps_embedded_a58_no_count t21_clumps_embedded_a58_no_weight t21_clumps_embedded_a58_no_fraction t21_clumps_embedded_a58_no_weighted_fraction t21_clumps_embedded_total_count t21_clumps_embedded_total_weight      OBJID_2        RUN  RERUN CAMCOL FIELD  OBJ       RA          DEC     PETROR50_R PETROR90_R PETROMAG_U PETROMAG_G PETROMAG_R PETROMAG_I PETROMAG_Z PETROMAGERR_U PETROMAGERR_G PETROMAGERR_R PETROMAGERR_I PETROMAGERR_Z PSFMAG_R FIBERMAG_R  DEVMAG_R DEVMAGERR_R   EXPMAG_R EXPMAGERR_R FRACDEV_R        MU50_R      EXTINCTION_U EXTINCTION_G EXTINCTION_R EXTINCTION_I EXTINCTION_Z  ROWC_U    COLC_U    ROWC_G    COLC_G   ROWC_R    COLC_R    ROWC_I    COLC_I    ROWC_Z    COLC_Z     CMODELMAG_R        CMODELMAGERR_R    REDSHIFT REDSHIFTERR PETROMAG_MU PETROMAG_MG PETROMAG_MR PETROMAG_MI PETROMAG_MZ PETROMAGERR_MU PETROMAGERR_MG PETROMAGERR_MR PETROMAGERR_MI PETROMAGERR_MZ PETROR50_R_KPC REGION PETROR50_R_KPC_SIMPLE_BIN PETROMAG_MR_SIMPLE_BIN REDSHIFT_SIMPLE_BIN WVT_BIN        SAMPLE_2         gr_color  ur_color\n",
       "      int64                str22           int32          str20            int16      float32                     int16                                  float32                                   float32                                         float32                                             int16                                            float32                                             float32                                                   float32                                                  int16                                            float32                                             float32                                                   float32                                          int16                              float32                        int16                    float32                    float32                         float32                         int16                  float32                   float32                         float32                       int16                  float32                 int16                float32                 float32                       float32                       int16                    float32                    float32                         float32                       int16              float32                   int16                      float32                       float32                             float32                             int16                          float32                          float32                               float32                           int16                  float32                          int16                                  float32                                   float32                                         float32                                           int16                                          float32                                          float32                                               float32                                           int16                                  float32                                  float32                                       float32                                        int16                                  float32                                   float32                                         float32                                    int16                            float32                      int16                float32                 float32                       float32                     int16                float32                float32                     float32                     int16              float32                        int16                                  float32                                  float32                                       float32                                    int16                            float32                            float32                                 float32                                  int16                              float32                              float32                                   float32                              int16                  float32                      int16                          float32                          float32                               float32                                   int16                                float32                                 float32                                       float32                                     int16                              float32                               float32                                     float32                                    int16                              float32                               float32                                     float32                                  int16                          float32                           float32                                 float32                                int16                            float32                            float32                                 float32                                   int16                              float32                               float32                                     float32                                int16                      float32                          int16                            float32                             float32                                   float32                                int16                          float32                          float32                               float32                                 int16                              float32                              float32                                   float32                                int16                      float32                         int16                            float32                            float32                                 float32                                  int16                            float32                             float32                                   float32                                 int16                            float32                            float32                                 float32                               int16                        float32                       int16                      float32                       float32                             float32                            int16                      float32                       float32                             float32                            int16                      float32                       float32                             float32                            int16                      float32                       float32                             float32                                 int16                                float32                                 float32                                       float32                                     int16                              float32                               float32                                     float32                                int16                      float32                       int16                      float32                       int16                      float32                     int16                    float32                    float32                         float32                         int16                  float32                   float32                         float32                       int16                  float32                       int16                            float32                             float32                                   float32                                 int16                            float32                            float32                                 float32                                 int16                          float32                          int16                          float32                          float32                               float32                               int16                        float32                         float32                               float32                             int16                        float32                            int16                                  float32                                  float32                                       float32                                       int16                                float32                                 float32                                       float32                                     int16                                float32                                int16                                float32                                 float32                                       float32                                      int16                                  float32                                  float32                                       float32                                        int16                                    float32                                    float32                                         float32                                         int16                                  float32                                   float32                                         float32                                     int16                              float32                          int16                        float32                        float32                             float32                             int16                        float32                        float32                             float32                             int16                        float32                        float32                             float32                                  int16                                  float32                                  float32                                       float32                                      int16                                float32                                float32                                     float32                                 int16                        float32                        float32                             float32                             int16                        float32                           int16                                float32                                float32                                     float32                                     int16                              float32                               float32                                     float32                                   int16                              float32                             int16                            float32                             float32                                   float32                                 int16                            float32                            float32                                 float32                                 int16                          float32                    int64        int16 int16 int16  int16 int16   float64      float64    float32    float32    float32    float32    float32    float32    float32      float32       float32       float32       float32       float32    float32   float32    float32    float32     float32    float32    float32        float64        float32      float32      float32      float32      float32    float32   float32   float32   float32  float32   float32   float32   float32   float32   float32       float64             float64        float32    float32     float32     float32     float32     float32     float32      float32        float32        float32        float32        float32        float32     int16            int16                   int16                 int16         int16          str22           float32   float32 \n",
       "------------------ ---------------------- -------- -------------------- ----------- ------------ --------------------------------------- ---------------------------------------- ------------------------------------------ --------------------------------------------------- ------------------------------------------------- -------------------------------------------------- ---------------------------------------------------- ------------------------------------------------------------- ------------------------------------------------- -------------------------------------------------- ---------------------------------------------------- ------------------------------------------------------------- ---------------------------------- ----------------------------------- ------------------------ ------------------------- --------------------------- ------------------------------------ ----------------------- ------------------------ -------------------------- ----------------------------------- ---------------------- ----------------------- --------------------- ---------------------- ------------------------ --------------------------------- ------------------------ ------------------------- --------------------------- ------------------------------------ ------------------- -------------------- --------------------------- ---------------------------- ------------------------------ --------------------------------------- ------------------------------ ------------------------------- --------------------------------- ------------------------------------------ ---------------------- ----------------------- --------------------------------------- ---------------------------------------- ------------------------------------------ --------------------------------------------------- ---------------------------------------------- ----------------------------------------------- ------------------------------------------------- ---------------------------------------------------------- -------------------------------------- --------------------------------------- ----------------------------------------- -------------------------------------------------- --------------------------------------- ---------------------------------------- ------------------------------------------ --------------------------------------------------- -------------------------------- --------------------------------- --------------------- ---------------------- ------------------------ --------------------------------- -------------------- --------------------- ----------------------- -------------------------------- ------------------- -------------------- -------------------------------------- --------------------------------------- ----------------------------------------- -------------------------------------------------- -------------------------------- --------------------------------- ----------------------------------- -------------------------------------------- ---------------------------------- ----------------------------------- ------------------------------------- ---------------------------------------------- ----------------------- ------------------------ ------------------------------ ------------------------------- --------------------------------- ------------------------------------------ ------------------------------------- -------------------------------------- ---------------------------------------- ------------------------------------------------- ----------------------------------- ------------------------------------ -------------------------------------- ----------------------------------------------- ----------------------------------- ------------------------------------ -------------------------------------- ----------------------------------------------- ------------------------------- -------------------------------- ---------------------------------- ------------------------------------------- -------------------------------- --------------------------------- ----------------------------------- -------------------------------------------- ----------------------------------- ------------------------------------ -------------------------------------- ----------------------------------------------- --------------------------- ---------------------------- --------------------------------- ---------------------------------- ------------------------------------ --------------------------------------------- ------------------------------ ------------------------------- --------------------------------- ------------------------------------------ ---------------------------------- ----------------------------------- ------------------------------------- ---------------------------------------------- --------------------------- ---------------------------- -------------------------------- --------------------------------- ----------------------------------- -------------------------------------------- --------------------------------- ---------------------------------- ------------------------------------ --------------------------------------------- -------------------------------- --------------------------------- ----------------------------------- -------------------------------------------- ---------------------------- ----------------------------- --------------------------- ---------------------------- ------------------------------ --------------------------------------- --------------------------- ---------------------------- ------------------------------ --------------------------------------- --------------------------- ---------------------------- ------------------------------ --------------------------------------- --------------------------- ---------------------------- ------------------------------ --------------------------------------- ------------------------------------- -------------------------------------- ---------------------------------------- ------------------------------------------------- ----------------------------------- ------------------------------------ -------------------------------------- ----------------------------------------------- --------------------------- ---------------------------- --------------------------- ---------------------------- --------------------------- ---------------------------- ------------------------ ------------------------- --------------------------- ------------------------------------ ----------------------- ------------------------ -------------------------- ----------------------------------- ---------------------- ----------------------- --------------------------------- ---------------------------------- ------------------------------------ --------------------------------------------- -------------------------------- --------------------------------- ----------------------------------- -------------------------------------------- ------------------------------- -------------------------------- ------------------------------ ------------------------------- --------------------------------- ------------------------------------------ ----------------------------- ------------------------------ -------------------------------- ----------------------------------------- ---------------------------- ----------------------------- -------------------------------------- --------------------------------------- ----------------------------------------- -------------------------------------------------- ------------------------------------- -------------------------------------- ---------------------------------------- ------------------------------------------------- ------------------------------------ ------------------------------------- ------------------------------------- -------------------------------------- ---------------------------------------- ------------------------------------------------- -------------------------------------- --------------------------------------- ----------------------------------------- -------------------------------------------------- ---------------------------------------- ----------------------------------------- ------------------------------------------- ---------------------------------------------------- --------------------------------------- ---------------------------------------- ------------------------------------------ --------------------------------------------------- ---------------------------------- ----------------------------------- ---------------------------- ----------------------------- ------------------------------- ---------------------------------------- ---------------------------- ----------------------------- ------------------------------- ---------------------------------------- ---------------------------- ----------------------------- ------------------------------- ---------------------------------------- -------------------------------------- --------------------------------------- ----------------------------------------- -------------------------------------------------- ------------------------------------ ------------------------------------- --------------------------------------- ------------------------------------------------ ---------------------------- ----------------------------- ------------------------------- ---------------------------------------- ---------------------------- ----------------------------- ------------------------------------ ------------------------------------- --------------------------------------- ------------------------------------------------ ----------------------------------- ------------------------------------ -------------------------------------- ----------------------------------------------- ---------------------------------- ----------------------------------- --------------------------------- ---------------------------------- ------------------------------------ --------------------------------------------- -------------------------------- --------------------------------- ----------------------------------- -------------------------------------------- ------------------------------- -------------------------------- ------------------ ----- ----- ------ ----- ----- ------------ ----------- ---------- ---------- ---------- ---------- ---------- ---------- ---------- ------------- ------------- ------------- ------------- ------------- -------- ---------- --------- ------------ --------- ----------- ---------- ----------------- ------------ ------------ ------------ ------------ ------------ -------- --------- --------- --------- -------- --------- --------- --------- --------- --------- ------------------ -------------------- -------- ----------- ----------- ----------- ----------- ----------- ----------- -------------- -------------- -------------- -------------- -------------- -------------- ------ ------------------------- ---------------------- ------------------- ------- ---------------------- --------- ---------\n",
       "587730846885937508 stripe82                  22224 587730846885937508           309        303.7                                      15                                     15.0                                      0.306                                               0.343                                                26                                               26.0                                                0.531                                                         0.595                                                 8                                                2.7                                                0.163                                                         0.062                                 49                                43.7                        0                       0.0                         0.0                                  0.0                      12                     12.0                        1.0                                 1.0                     12                    12.0                     0                    0.0                      0.0                               0.0                       12                      12.0                         1.0                                  1.0                  12                 12.0                           8                          8.0                          0.667                                   0.667                              4                             4.0                             0.333                                      0.333                     12                    12.0                                       2                                      2.0                                      0.167                                               0.167                                              1                                             1.0                                             0.083                                                      0.083                                      5                                     5.0                                     0.417                                              0.417                                       4                                      4.0                                      0.333                                               0.333                               12                              12.0                    32                   32.0                     0.78                              0.78                    9                   9.0                    0.22                             0.22                  41                 41.0                                      8                                     8.0                                     0.533                                              0.533                                7                               7.0                               0.467                                        0.467                                  0                                 0.0                                   0.0                                            0.0                      15                     15.0                              0                             0.0                               0.0                                        0.0                                     0                                    0.0                                      0.0                                               0.0                                   9                                  9.0                                  0.281                                           0.281                                   6                                  6.0                                  0.188                                           0.188                               5                              5.0                              0.156                                       0.156                               11                              11.0                               0.344                                        0.344                                   1                                  1.0                                  0.031                                           0.031                          32                         32.0                                 0                                0.0                                  0.0                                           0.0                              0                             0.0                               0.0                                        0.0                                  0                                 0.0                                   0.0                                            0.0                           0                          0.0                                0                               0.0                                 0.0                                          0.0                                 1                                1.0                                0.125                                         0.125                                7                               7.0                               0.875                                        0.875                            8                           8.0                           7                          7.0                          0.875                                   0.875                           1                          1.0                          0.125                                   0.125                           0                          0.0                            0.0                                     0.0                           0                          0.0                            0.0                                     0.0                                     0                                    0.0                                      0.0                                               0.0                                   0                                  0.0                                    0.0                                             0.0                           8                          8.0                           0                          0.0                           0                          0.0                       14                      14.0                       0.538                                0.538                      12                     12.0                      0.462                               0.462                     26                    26.0                                 0                                0.0                                  0.0                                           0.0                                0                               0.0                                 0.0                                          0.0                               0                              0.0                             13                            13.0                             0.929                                      0.929                             1                            1.0                            0.071                                     0.071                           14                          14.0                                     11                                    11.0                                     0.846                                              0.846                                     2                                    2.0                                    0.154                                             0.154                                   13                                  13.0                                     0                                    0.0                                      0.0                                               0.0                                      1                                     1.0                                     0.077                                              0.077                                       12                                      12.0                                       0.923                                                0.923                                       0                                      0.0                                        0.0                                                 0.0                                 13                                13.0                            1                           1.0                           0.071                                    0.071                           11                          11.0                           0.786                                    0.786                            0                           0.0                             0.0                                      0.0                                      0                                     0.0                                       0.0                                                0.0                                    2                                   2.0                                   0.143                                            0.143                            0                           0.0                             0.0                                      0.0                           14                          14.0                                    2                                   2.0                                   0.143                                            0.143                                  12                                 12.0                                  0.857                                           0.857                                 14                                14.0                                13                               13.0                                0.929                                         0.929                                1                               1.0                               0.071                                        0.071                              14                             14.0 587730846885937508  2583    40      3    45   356 309.70230142 -0.22634834   2.192235  6.3223505  18.315151  16.821005  16.252125  15.708695  15.729564    0.06339462   0.011870807   0.016208988    0.01581548   0.027214674 17.95605  17.526915 16.132486 0.0039509493 16.488533 0.004114062 0.97488487 19.95200993310001     0.395807   0.29123104   0.21122503   0.16016555   0.11355937 597.3891 1829.1343 600.24976 1829.1748 590.0657 1825.5125 592.80096 1824.9998 596.55164 1826.1748 16.140137117196637 0.003879682486745728      nan         nan         nan         nan         nan         nan         nan            nan            nan            nan            nan            nan            nan      0                     -9999                  -9999               -9999       0 stripe82               0.5688801 2.0630264"
      ]
     },
     "execution_count": 49,
     "metadata": {},
     "output_type": "execute_result"
    }
   ],
   "source": [
    "catTable[3]"
   ]
  },
  {
   "cell_type": "code",
   "execution_count": 101,
   "metadata": {},
   "outputs": [],
   "source": [
    "def getSpecData(catTable,index):\n",
    "    pos = coords.SkyCoord(catTable[index]['RA'],catTable[index]['DEC'],unit='deg')\n",
    "    xid = SDSS.query_region(pos,spectro = True)\n",
    "    \n",
    "    if not xid:\n",
    "#         print('--------\\nNo spectra for object %s\\n--------'%index)\n",
    "        return False, False\n",
    "    \n",
    "    sp = SDSS.get_spectra(matches=xid)\n",
    "    spData = sp[0][1].data\n",
    "    return xid, table.Table(spData)"
   ]
  },
  {
   "cell_type": "code",
   "execution_count": 51,
   "metadata": {},
   "outputs": [],
   "source": [
    "cat3 = getSpecData(catTable,3)"
   ]
  },
  {
   "cell_type": "code",
   "execution_count": 55,
   "metadata": {},
   "outputs": [
    {
     "data": {
      "text/html": [
       "<i>Table length=1</i>\n",
       "<table id=\"table4686713464\" class=\"table-striped table-bordered table-condensed\">\n",
       "<thead><tr><th>ra</th><th>dec</th><th>objid</th><th>run</th><th>rerun</th><th>camcol</th><th>field</th><th>z</th><th>plate</th><th>mjd</th><th>fiberID</th><th>specobjid</th><th>run2d</th><th>instrument</th></tr></thead>\n",
       "<thead><tr><th>float64</th><th>float64</th><th>int64</th><th>int64</th><th>int64</th><th>int64</th><th>int64</th><th>float64</th><th>int64</th><th>int64</th><th>int64</th><th>int64</th><th>int64</th><th>bytes4</th></tr></thead>\n",
       "<tr><td>309.702302871984</td><td>-0.226347768496051</td><td>1237656568110842101</td><td>2583</td><td>301</td><td>3</td><td>45</td><td>0.07841583</td><td>1117</td><td>52885</td><td>234</td><td>1257694565775730688</td><td>26</td><td>SDSS</td></tr>\n",
       "</table>"
      ],
      "text/plain": [
       "<Table length=1>\n",
       "       ra               dec                objid        ... run2d instrument\n",
       "    float64           float64              int64        ... int64   bytes4  \n",
       "---------------- ------------------ ------------------- ... ----- ----------\n",
       "309.702302871984 -0.226347768496051 1237656568110842101 ...    26       SDSS"
      ]
     },
     "execution_count": 55,
     "metadata": {},
     "output_type": "execute_result"
    }
   ],
   "source": [
    "cat3[0]"
   ]
  },
  {
   "cell_type": "code",
   "execution_count": 69,
   "metadata": {},
   "outputs": [],
   "source": [
    "cat3SQL = \"SELECT \\\n",
    "s.specObjID, x.ra, x.dec, x.plate, x.fiberID, x.MJD, \\\n",
    "s.oii_3726_flux as OII3726, s.oiii_4959_flux as OIII4959, \\\n",
    "s.oiii_5007_flux as OIII5007,s.h_beta_flux as HBeta,s.nii_6584_flux as NII6584,x.logMass as logM \\\n",
    "FROM galSpecLine s \\\n",
    "JOIN stellarMassFSPSGranEarlyDust x ON x.specObjID = s.specObjID \\\n",
    "WHERE x.plate = %s AND x.fiberID = %s AND x.MJD = %s\"%(cat3[0]['plate'][0],cat3[0]['fiberID'][0],cat3[0]['mjd'][0])"
   ]
  },
  {
   "cell_type": "code",
   "execution_count": 233,
   "metadata": {},
   "outputs": [],
   "source": [
    "def genSQLsearch(xid):\n",
    "    SQL = \"SELECT \\\n",
    "    s.specObjID, x.z, x.ra, x.dec, x.plate, x.fiberID, x.MJD, \\\n",
    "    s.oii_3726_flux as OII3726, s.oiii_4959_flux as OIII4959,s.oiii_5007_flux as OIII5007, \\\n",
    "    s.h_beta_flux as HBeta,s.h_alpha_flux as HAlpha,s.nii_6584_flux as NII6584,x.logMass as logM \\\n",
    "    FROM galSpecLine s \\\n",
    "    JOIN stellarMassFSPSGranEarlyDust x ON x.specObjID = s.specObjID \\\n",
    "    WHERE x.plate = %s AND x.fiberID = %s\"%(xid['plate'][0],xid['fiberID'][0])\n",
    "    return SQL"
   ]
  },
  {
   "cell_type": "code",
   "execution_count": 173,
   "metadata": {},
   "outputs": [
    {
     "data": {
      "text/plain": [
       "1117"
      ]
     },
     "execution_count": 173,
     "metadata": {},
     "output_type": "execute_result"
    }
   ],
   "source": [
    "cat3[0]['plate'][0]"
   ]
  },
  {
   "cell_type": "code",
   "execution_count": 174,
   "metadata": {},
   "outputs": [
    {
     "data": {
      "text/plain": [
       "'SELECT x.ra, x.dec, s.specObjID, x.plate, x.fiberID, x.MJD, s.oii_3726_flux as OII3726, s.oiii_4959_flux as OIII4959, s.oiii_5007_flux as OIII5007,s.h_beta_flux as HBeta,s.nii_6584_flux as NII6584,x.logMass as logM FROM galSpecLine s JOIN stellarMassFSPSGranEarlyDust x ON x.specObjID = s.specObjID WHERE x.plate = 1117 AND x.fiberID = 234 AND x.MJD = 52885'"
      ]
     },
     "execution_count": 174,
     "metadata": {},
     "output_type": "execute_result"
    }
   ],
   "source": [
    "cat3SQL"
   ]
  },
  {
   "cell_type": "code",
   "execution_count": 175,
   "metadata": {},
   "outputs": [],
   "source": [
    "cat3SDSS = SDSS_select(cat3SQL)"
   ]
  },
  {
   "cell_type": "code",
   "execution_count": 176,
   "metadata": {},
   "outputs": [
    {
     "data": {
      "text/html": [
       "<div>\n",
       "<style scoped>\n",
       "    .dataframe tbody tr th:only-of-type {\n",
       "        vertical-align: middle;\n",
       "    }\n",
       "\n",
       "    .dataframe tbody tr th {\n",
       "        vertical-align: top;\n",
       "    }\n",
       "\n",
       "    .dataframe thead th {\n",
       "        text-align: right;\n",
       "    }\n",
       "</style>\n",
       "<table border=\"1\" class=\"dataframe\">\n",
       "  <thead>\n",
       "    <tr style=\"text-align: right;\">\n",
       "      <th></th>\n",
       "      <th>ra</th>\n",
       "      <th>dec</th>\n",
       "      <th>specObjID</th>\n",
       "      <th>plate</th>\n",
       "      <th>fiberID</th>\n",
       "      <th>MJD</th>\n",
       "      <th>OII3726</th>\n",
       "      <th>OIII4959</th>\n",
       "      <th>OIII5007</th>\n",
       "      <th>HBeta</th>\n",
       "      <th>NII6584</th>\n",
       "      <th>logM</th>\n",
       "    </tr>\n",
       "  </thead>\n",
       "  <tbody>\n",
       "    <tr>\n",
       "      <th>0</th>\n",
       "      <td>309.7023</td>\n",
       "      <td>-0.22637</td>\n",
       "      <td>1257694565775730688</td>\n",
       "      <td>1117</td>\n",
       "      <td>234</td>\n",
       "      <td>52885</td>\n",
       "      <td>429.2838</td>\n",
       "      <td>98.89053</td>\n",
       "      <td>282.5724</td>\n",
       "      <td>642.7031</td>\n",
       "      <td>1238.086</td>\n",
       "      <td>11.051063</td>\n",
       "    </tr>\n",
       "  </tbody>\n",
       "</table>\n",
       "</div>"
      ],
      "text/plain": [
       "         ra      dec            specObjID  plate  fiberID    MJD   OII3726  \\\n",
       "0  309.7023 -0.22637  1257694565775730688   1117      234  52885  429.2838   \n",
       "\n",
       "   OIII4959  OIII5007     HBeta   NII6584       logM  \n",
       "0  98.89053  282.5724  642.7031  1238.086  11.051063  "
      ]
     },
     "execution_count": 176,
     "metadata": {},
     "output_type": "execute_result"
    }
   ],
   "source": [
    "cat3SDSS"
   ]
  },
  {
   "cell_type": "markdown",
   "metadata": {},
   "source": [
    "okay that worked i guess. let's generalize it."
   ]
  },
  {
   "cell_type": "code",
   "execution_count": 177,
   "metadata": {},
   "outputs": [],
   "source": [
    "def getOneSDSS(catTable,index):\n",
    "    xid, spectra = getSpecData(catTable,index)\n",
    "    if not xid:\n",
    "        return False\n",
    "    SQLsearch = genSQLsearch(xid)\n",
    "    SDSS = SDSS_select(SQLsearch)\n",
    "    return SDSS"
   ]
  },
  {
   "cell_type": "code",
   "execution_count": 178,
   "metadata": {},
   "outputs": [
    {
     "name": "stdout",
     "output_type": "stream",
     "text": [
      "good\n"
     ]
    }
   ],
   "source": [
    "if not getOneSDSS(catTable,0).empty:\n",
    "    print('good')"
   ]
  },
  {
   "cell_type": "code",
   "execution_count": 179,
   "metadata": {},
   "outputs": [],
   "source": [
    "t0 = getOneSDSS(catTable,0)"
   ]
  },
  {
   "cell_type": "code",
   "execution_count": 180,
   "metadata": {},
   "outputs": [],
   "source": [
    "t0 = t0.append(getOneSDSS(catTable,1),ignore_index=True)"
   ]
  },
  {
   "cell_type": "code",
   "execution_count": 181,
   "metadata": {},
   "outputs": [
    {
     "data": {
      "text/plain": [
       "False"
      ]
     },
     "execution_count": 181,
     "metadata": {},
     "output_type": "execute_result"
    }
   ],
   "source": [
    "getOneSDSS(catTable,4)"
   ]
  },
  {
   "cell_type": "code",
   "execution_count": 182,
   "metadata": {},
   "outputs": [],
   "source": [
    "t0 = t0.append(getOneSDSS(catTable,2),ignore_index=True)"
   ]
  },
  {
   "cell_type": "code",
   "execution_count": 183,
   "metadata": {},
   "outputs": [
    {
     "data": {
      "text/html": [
       "<div>\n",
       "<style scoped>\n",
       "    .dataframe tbody tr th:only-of-type {\n",
       "        vertical-align: middle;\n",
       "    }\n",
       "\n",
       "    .dataframe tbody tr th {\n",
       "        vertical-align: top;\n",
       "    }\n",
       "\n",
       "    .dataframe thead th {\n",
       "        text-align: right;\n",
       "    }\n",
       "</style>\n",
       "<table border=\"1\" class=\"dataframe\">\n",
       "  <thead>\n",
       "    <tr style=\"text-align: right;\">\n",
       "      <th></th>\n",
       "      <th>specObjID</th>\n",
       "      <th>ra</th>\n",
       "      <th>dec</th>\n",
       "      <th>plate</th>\n",
       "      <th>fiberID</th>\n",
       "      <th>MJD</th>\n",
       "      <th>OII3726</th>\n",
       "      <th>OIII4959</th>\n",
       "      <th>OIII5007</th>\n",
       "      <th>HBeta</th>\n",
       "      <th>NII6584</th>\n",
       "      <th>logM</th>\n",
       "    </tr>\n",
       "  </thead>\n",
       "  <tbody>\n",
       "    <tr>\n",
       "      <th>0</th>\n",
       "      <td>1109090338984716288</td>\n",
       "      <td>315.90300</td>\n",
       "      <td>-1.228565</td>\n",
       "      <td>985</td>\n",
       "      <td>287</td>\n",
       "      <td>52431</td>\n",
       "      <td>80.60430</td>\n",
       "      <td>19.881780</td>\n",
       "      <td>62.383080</td>\n",
       "      <td>48.43876</td>\n",
       "      <td>30.69232</td>\n",
       "      <td>10.039220</td>\n",
       "    </tr>\n",
       "    <tr>\n",
       "      <th>1</th>\n",
       "      <td>1112474362390276096</td>\n",
       "      <td>321.63791</td>\n",
       "      <td>-1.122804</td>\n",
       "      <td>988</td>\n",
       "      <td>310</td>\n",
       "      <td>52520</td>\n",
       "      <td>6.89355</td>\n",
       "      <td>1.433883</td>\n",
       "      <td>1.358712</td>\n",
       "      <td>-19.07879</td>\n",
       "      <td>10.12107</td>\n",
       "      <td>11.513085</td>\n",
       "    </tr>\n",
       "    <tr>\n",
       "      <th>2</th>\n",
       "      <td>1158565346647500800</td>\n",
       "      <td>324.56033</td>\n",
       "      <td>-0.783221</td>\n",
       "      <td>1029</td>\n",
       "      <td>52</td>\n",
       "      <td>52912</td>\n",
       "      <td>39.15007</td>\n",
       "      <td>11.095790</td>\n",
       "      <td>27.127230</td>\n",
       "      <td>63.41087</td>\n",
       "      <td>83.92480</td>\n",
       "      <td>10.052202</td>\n",
       "    </tr>\n",
       "  </tbody>\n",
       "</table>\n",
       "</div>"
      ],
      "text/plain": [
       "             specObjID         ra       dec  plate  fiberID    MJD   OII3726  \\\n",
       "0  1109090338984716288  315.90300 -1.228565    985      287  52431  80.60430   \n",
       "1  1112474362390276096  321.63791 -1.122804    988      310  52520   6.89355   \n",
       "2  1158565346647500800  324.56033 -0.783221   1029       52  52912  39.15007   \n",
       "\n",
       "    OIII4959   OIII5007     HBeta   NII6584       logM  \n",
       "0  19.881780  62.383080  48.43876  30.69232  10.039220  \n",
       "1   1.433883   1.358712 -19.07879  10.12107  11.513085  \n",
       "2  11.095790  27.127230  63.41087  83.92480  10.052202  "
      ]
     },
     "execution_count": 183,
     "metadata": {},
     "output_type": "execute_result"
    }
   ],
   "source": [
    "t0"
   ]
  },
  {
   "cell_type": "code",
   "execution_count": 209,
   "metadata": {},
   "outputs": [],
   "source": [
    "def getCatSDSS(catTable):\n",
    "    from tqdm import tqdm_notebook as tqdm\n",
    "    from astropy.table import Table\n",
    "    \n",
    "    objBar = tqdm(desc = 'Getting Obj',total = len(catTable))\n",
    "    n = 0\n",
    "    nospec = 0\n",
    "    while n >= 0:\n",
    "#         print(n)\n",
    "        if type(getOneSDSS(catTable,n)) is bool:\n",
    "            objBar.update(1)\n",
    "            nospec += 1\n",
    "            n+=1\n",
    "        else:\n",
    "            SDSSTable = getOneSDSS(catTable,n)\n",
    "            objBar.update(1)\n",
    "            break\n",
    "            \n",
    "    nrange = range(n+1,len(catTable))\n",
    "    for obj in nrange:\n",
    "#         print('\\n',obj)\n",
    "        objTable = getOneSDSS(catTable,obj)\n",
    "#         print(objTable)\n",
    "        if type(objTable) is bool:\n",
    "            objBar.update(1)\n",
    "            nospec += 1\n",
    "            continue\n",
    "        else:\n",
    "            SDSSTable = SDSSTable.append(objTable,ignore_index=True)\n",
    "            objBar.update(1)\n",
    "        \n",
    "    print('Number of spectra:\\t',len(catTable)-nospec)\n",
    "    print('Number with no spectra:\\t',nospec)\n",
    "    return Table.from_pandas(SDSSTable)\n",
    "    "
   ]
  },
  {
   "cell_type": "code",
   "execution_count": 234,
   "metadata": {},
   "outputs": [
    {
     "data": {
      "application/vnd.jupyter.widget-view+json": {
       "model_id": "fb52ffca96284eb4bc4ca59d7e0dadc0",
       "version_major": 2,
       "version_minor": 0
      },
      "text/plain": [
       "HBox(children=(IntProgress(value=0, description='Getting Obj', max=281, style=ProgressStyle(description_width=…"
      ]
     },
     "metadata": {},
     "output_type": "display_data"
    },
    {
     "name": "stdout",
     "output_type": "stream",
     "text": [
      "Number of spectra:\t 259\n",
      "Number with no spectra:\t 22\n"
     ]
    }
   ],
   "source": [
    "catSDSS = getCatSDSS(catTable)"
   ]
  },
  {
   "cell_type": "code",
   "execution_count": 250,
   "metadata": {},
   "outputs": [
    {
     "data": {
      "text/html": [
       "<i>Table length=296</i>\n",
       "<table id=\"table4765558320\" class=\"table-striped table-bordered table-condensed\">\n",
       "<thead><tr><th>specObjID</th><th>z</th><th>ra</th><th>dec</th><th>plate</th><th>fiberID</th><th>MJD</th><th>OII3726</th><th>OIII4959</th><th>OIII5007</th><th>HBeta</th><th>HAlpha</th><th>NII6584</th><th>logM</th><th>6584/6563</th><th>5007/4861</th></tr></thead>\n",
       "<thead><tr><th>object</th><th>float64</th><th>float64</th><th>float64</th><th>object</th><th>object</th><th>object</th><th>float64</th><th>float64</th><th>float64</th><th>float64</th><th>float64</th><th>float64</th><th>float64</th><th>float64</th><th>float64</th></tr></thead>\n",
       "<tr><td>1109090338984716288</td><td>0.0645438</td><td>315.903</td><td>-1.2285646000000001</td><td>985</td><td>287</td><td>52431</td><td>80.6043</td><td>19.88178</td><td>62.38308000000001</td><td>48.438759999999995</td><td>158.3462</td><td>30.692320000000002</td><td>10.039219930207802</td><td>0.19383048030202177</td><td>1.2878752470129295</td></tr>\n",
       "<tr><td>1112474362390276096</td><td>0.2234196</td><td>321.63791000000003</td><td>-1.1228035</td><td>988</td><td>310</td><td>52520</td><td>6.89355</td><td>1.433883</td><td>1.3587120000000001</td><td>-19.078789999999998</td><td>-1.009784</td><td>10.12107</td><td>11.513085126453301</td><td>-10.02300491986405</td><td>-0.07121583706304227</td></tr>\n",
       "<tr><td>1158565346647500800</td><td>0.13620339999999997</td><td>324.56032999999996</td><td>-0.7832213000000001</td><td>1029</td><td>52</td><td>52912</td><td>39.15007</td><td>11.09579</td><td>27.127229999999997</td><td>63.410869999999996</td><td>235.1983</td><td>83.9248</td><td>10.0522017709479</td><td>0.3568257083490825</td><td>0.42780094327675994</td></tr>\n",
       "<tr><td>1257694565775730688</td><td>0.07841583</td><td>309.7023</td><td>-0.22637</td><td>1117</td><td>234</td><td>52885</td><td>429.2838</td><td>98.89053</td><td>282.5724</td><td>642.7031</td><td>2897.423</td><td>1238.086</td><td>11.0510632987819</td><td>0.42730591977767834</td><td>0.43966241955266755</td></tr>\n",
       "<tr><td>1106787686959572992</td><td>0.053935300000000005</td><td>313.83986</td><td>-0.4135969</td><td>983</td><td>102</td><td>52443</td><td>389.1815</td><td>100.4663</td><td>300.6974</td><td>243.6258</td><td>857.1979</td><td>161.17700000000002</td><td>10.070017488963302</td><td>0.1880277588174213</td><td>1.2342592615396235</td></tr>\n",
       "<tr><td>1107959766338004992</td><td>0.16102139999999998</td><td>313.84397</td><td>-0.21567006</td><td>984</td><td>270</td><td>52442</td><td>-2.921211</td><td>0.5868384</td><td>-3.145225</td><td>2.777259</td><td>1.719148</td><td>-2.5048169999999996</td><td>11.322639788478199</td><td>-1.4570106820355198</td><td>-1.132492504300103</td></tr>\n",
       "<tr><td>1151825063914268672</td><td>0.10526569999999999</td><td>313.97955</td><td>-0.38000929</td><td>1023</td><td>107</td><td>52818</td><td>100.9711</td><td>60.348180000000006</td><td>166.9989</td><td>87.07244</td><td>284.0529</td><td>55.076190000000004</td><td>9.811521031712509</td><td>0.19389413028347888</td><td>1.9179306333898531</td></tr>\n",
       "<tr><td>1109017496339376128</td><td>0.06095252</td><td>317.92962</td><td>-0.2488862</td><td>985</td><td>22</td><td>52431</td><td>104.6725</td><td>34.55397</td><td>110.3786</td><td>64.19955999999999</td><td>210.2455</td><td>29.927120000000002</td><td>9.80370657856509</td><td>0.14234368868774838</td><td>1.719304618287104</td></tr>\n",
       "<tr><td>1113576896802613248</td><td>0.0312197</td><td>323.21668999999997</td><td>-0.31125654</td><td>989</td><td>225</td><td>52468</td><td>175.921</td><td>42.29002</td><td>132.1998</td><td>126.7821</td><td>394.1497</td><td>78.76794</td><td>9.76424917347831</td><td>0.19984269936016696</td><td>1.0427323731031433</td></tr>\n",
       "<tr><td>1106898462756071424</td><td>0.1760007</td><td>313.88698</td><td>0.08226390900000001</td><td>983</td><td>505</td><td>52443</td><td>-0.5923653</td><td>-1.582652</td><td>-0.08375362</td><td>9.177752</td><td>4.5662650000000005</td><td>2.52705</td><td>11.4977887107129</td><td>0.5534172896229194</td><td>-0.009125722726000877</td></tr>\n",
       "<tr><td>...</td><td>...</td><td>...</td><td>...</td><td>...</td><td>...</td><td>...</td><td>...</td><td>...</td><td>...</td><td>...</td><td>...</td><td>...</td><td>...</td><td>...</td><td>...</td></tr>\n",
       "<tr><td>449322604000471040</td><td>0.05546235</td><td>20.57553</td><td>1.0072288</td><td>399</td><td>322</td><td>51817</td><td>1224.759</td><td>339.0022</td><td>1010.067</td><td>1151.595</td><td>4563.0470000000005</td><td>1397.25</td><td>10.2300016301781</td><td>0.3062098637160651</td><td>0.8771026272257174</td></tr>\n",
       "<tr><td>453894099376826368</td><td>0.1672027</td><td>30.044287</td><td>0.89618419</td><td>403</td><td>569</td><td>51871</td><td>4.6650339999999995</td><td>-1.4843819999999999</td><td>4.065695</td><td>-1.8354130000000002</td><td>1.148147</td><td>1.124148</td><td>11.6203902169537</td><td>0.9790976242589144</td><td>-2.215139044999681</td></tr>\n",
       "<tr><td>789369120951920640</td><td>0.165927</td><td>30.045334999999998</td><td>0.89695514</td><td>701</td><td>412</td><td>52179</td><td>4.04812</td><td>-1.019683</td><td>7.391675</td><td>2.663596</td><td>8.848894</td><td>9.915646</td><td>10.9991246364839</td><td>1.120552014748962</td><td>2.775073622276051</td></tr>\n",
       "<tr><td>457283893809145856</td><td>0.1286938</td><td>37.082577</td><td>0.88956003</td><td>406</td><td>613</td><td>51876</td><td>42.836220000000004</td><td>6.057484</td><td>19.55935</td><td>76.81729</td><td>382.8832</td><td>142.8147</td><td>11.0122201856021</td><td>0.37299808401099865</td><td>0.25462171341894513</td></tr>\n",
       "<tr><td>457283894211799040</td><td>0.12869</td><td>37.082577</td><td>0.88956003</td><td>406</td><td>613</td><td>51900</td><td>46.938790000000004</td><td>7.527439</td><td>24.34362</td><td>73.33140999999999</td><td>397.084</td><td>147.8435</td><td>11.0121923338073</td><td>0.37232298455742363</td><td>0.33196716113872626</td></tr>\n",
       "<tr><td>457283892819290112</td><td>0.1286945</td><td>37.082577</td><td>0.88956003</td><td>406</td><td>613</td><td>51817</td><td>46.68013</td><td>4.636149</td><td>15.718379999999998</td><td>81.33764000000001</td><td>383.7386</td><td>140.2448</td><td>11.0122246763027</td><td>0.3654696191626279</td><td>0.19324853782332505</td></tr>\n",
       "<tr><td>457283893691705344</td><td>0.1286897</td><td>37.082577</td><td>0.88956003</td><td>406</td><td>613</td><td>51869</td><td>38.30962</td><td>12.39767</td><td>20.33434</td><td>82.07625</td><td>379.3802</td><td>144.3936</td><td>11.012189680662901</td><td>0.38060394295748695</td><td>0.24774937938806904</td></tr>\n",
       "<tr><td>457283899882498048</td><td>0.1403672</td><td>36.958617</td><td>0.90842822</td><td>406</td><td>613</td><td>52238</td><td>3.257012</td><td>-3.302426</td><td>4.081244</td><td>2.15898</td><td>2.8982419999999998</td><td>2.928546</td><td>11.2015363330926</td><td>1.0104559936678856</td><td>1.8903574836265271</td></tr>\n",
       "<tr><td>799480505161508864</td><td>0.11818569999999999</td><td>46.362938</td><td>0.86304776</td><td>710</td><td>333</td><td>52203</td><td>14.52312</td><td>5.996544</td><td>11.60063</td><td>10.31696</td><td>26.365820000000003</td><td>20.45777</td><td>11.3992570591454</td><td>0.7759201117204015</td><td>1.1244232797258107</td></tr>\n",
       "<tr><td>467339202573395968</td><td>0.08611155</td><td>52.589558999999994</td><td>1.0424632</td><td>415</td><td>330</td><td>51879</td><td>23.17445</td><td>12.39049</td><td>11.75057</td><td>64.3659</td><td>298.0063</td><td>89.78443</td><td>11.063527778512</td><td>0.3012836641373018</td><td>0.18255893260251158</td></tr>\n",
       "</table>"
      ],
      "text/plain": [
       "<Table length=296>\n",
       "     specObjID               z           ...       5007/4861      \n",
       "       object             float64        ...        float64       \n",
       "------------------- -------------------- ... ---------------------\n",
       "1109090338984716288            0.0645438 ...    1.2878752470129295\n",
       "1112474362390276096            0.2234196 ...  -0.07121583706304227\n",
       "1158565346647500800  0.13620339999999997 ...   0.42780094327675994\n",
       "1257694565775730688           0.07841583 ...   0.43966241955266755\n",
       "1106787686959572992 0.053935300000000005 ...    1.2342592615396235\n",
       "1107959766338004992  0.16102139999999998 ...    -1.132492504300103\n",
       "1151825063914268672  0.10526569999999999 ...    1.9179306333898531\n",
       "1109017496339376128           0.06095252 ...     1.719304618287104\n",
       "1113576896802613248            0.0312197 ...    1.0427323731031433\n",
       "1106898462756071424            0.1760007 ... -0.009125722726000877\n",
       "                ...                  ... ...                   ...\n",
       " 449322604000471040           0.05546235 ...    0.8771026272257174\n",
       " 453894099376826368            0.1672027 ...    -2.215139044999681\n",
       " 789369120951920640             0.165927 ...     2.775073622276051\n",
       " 457283893809145856            0.1286938 ...   0.25462171341894513\n",
       " 457283894211799040              0.12869 ...   0.33196716113872626\n",
       " 457283892819290112            0.1286945 ...   0.19324853782332505\n",
       " 457283893691705344            0.1286897 ...   0.24774937938806904\n",
       " 457283899882498048            0.1403672 ...    1.8903574836265271\n",
       " 799480505161508864  0.11818569999999999 ...    1.1244232797258107\n",
       " 467339202573395968           0.08611155 ...   0.18255893260251158"
      ]
     },
     "execution_count": 250,
     "metadata": {},
     "output_type": "execute_result"
    }
   ],
   "source": [
    "catSDSS"
   ]
  },
  {
   "cell_type": "markdown",
   "metadata": {},
   "source": [
    "## BPT Diagram\n",
    "\n",
    "okay let's make that BPT diagram. We need to use (NII 6584 / Ha 6563) vs (OIII 5007 / Hb 4861)."
   ]
  },
  {
   "cell_type": "code",
   "execution_count": 238,
   "metadata": {},
   "outputs": [],
   "source": [
    "catSDSS['6584/6563'] = catSDSS['NII6584']/catSDSS['HAlpha']"
   ]
  },
  {
   "cell_type": "code",
   "execution_count": 239,
   "metadata": {},
   "outputs": [],
   "source": [
    "catSDSS['5007/4861'] = catSDSS['OIII5007']/catSDSS['HBeta']"
   ]
  },
  {
   "cell_type": "markdown",
   "metadata": {},
   "source": [
    "[Kewley et al. 2013](https://arxiv.org/pdf/1307.0514.pdf) gives our classification line as:\n",
    "$$ \\log([\\text{OIII}/\\text{H}\\alpha]) = \\frac{0.61}{(\\log([\\text{NII}/\\text{H}\\alpha]) - 0.02} + 1.2$$\n",
    "where we took $z \\approx 0$ as we are in a low redshift regime. Above this line should be AGNs and other non-regular star forming galaxies (or possibly clumps?)."
   ]
  },
  {
   "cell_type": "code",
   "execution_count": 294,
   "metadata": {},
   "outputs": [
    {
     "name": "stderr",
     "output_type": "stream",
     "text": [
      "/Users/mike/anaconda3/lib/python3.7/site-packages/ipykernel_launcher.py:3: RuntimeWarning: invalid value encountered in log10\n",
      "  This is separate from the ipykernel package so we can avoid doing imports until\n"
     ]
    },
    {
     "data": {
      "image/png": "[encoded data removed]",
      "text/plain": [
       "<Figure size 432x432 with 1 Axes>"
      ]
     },
     "metadata": {
      "needs_background": "dark"
     },
     "output_type": "display_data"
    }
   ],
   "source": [
    "plt.figure(figsize=(6,6))\n",
    "# plt.style.use('default')\n",
    "plt.scatter(np.log10(catSDSS['6584/6563']),np.log10(catSDSS['5007/4861']),marker='.')\n",
    "\n",
    "niihaspace = np.logspace(-2.5,0,1000)\n",
    "def logclassLine(x):\n",
    "    return 0.61/(np.log10(x) - 0.02) + 1.2\n",
    "plt.plot(np.log10(niihaspace),logclassLine(niihaspace))\n",
    "\n",
    "plt.title('BPT Diagram')\n",
    "plt.xlabel('log 6584/6563')\n",
    "plt.ylabel('log 5007/4861')\n",
    "plt.xlim(-2.5,1)\n",
    "plt.ylim(-1.5,2)\n",
    "plt.tight_layout()\n",
    "plt.savefig('mikesandboximgs/BPTDiagram.png')\n",
    "plt.show()"
   ]
  },
  {
   "cell_type": "markdown",
   "metadata": {},
   "source": [
    "## Let's try to reproduce the KE08 M91 Plot"
   ]
  },
  {
   "cell_type": "markdown",
   "metadata": {},
   "source": [
    "Copying from above:"
   ]
  },
  {
   "cell_type": "markdown",
   "metadata": {},
   "source": [
    "### M91 Theoretical Calibration\n",
    "\n",
    "Let's use the M91 calibration mentioned in [Kewley & Ellison 2008 (KE08)](http://adsabs.harvard.edu/abs/2008ApJ...681.1183K):\n",
    "\n",
    "$$12 + \\log(O/H)_\\text{lower} = 12 - 4.944 + 0.767x + 0.602x^2 - y(0.29+0.332x - 0.331x^2)$$\n",
    "\n",
    "$$12 + \\log(O/H)_\\text{upper} = 12 - 2.939 - 0.2x - 0.37x^2 - 0.305 x^3 - 0.0283x^4 - y(0.0047 - 0.221x - 0.102x^2 - 0.0817x^3 - 0.00717x^4)$$\n",
    "\n",
    "where $$x = \\log R_{23} = \\log\\left[\\frac{[\\text{OII}\\lambda3727 + [\\text{OIII}]\\lambda4959 + [\\text{OIII}]\\lambda5007}{\\text{H}\\beta}\\right]$$\n",
    "and $$y = \\log\\text{O}_{32} = \\log\\left[\\frac{[\\text{OIII}]\\lambda4959 + [\\text{OIII}]\\lambda5007}{[\\text{OII}]\\lambda3727}\\right]$$"
   ]
  },
  {
   "cell_type": "markdown",
   "metadata": {},
   "source": [
    "```\n",
    "def getlogR23(OII3727,OIII4959,OIII5007,HB):\n",
    "    return np.log10((OII3727 + OIII4959 + OIII5007)/HB)\n",
    "\n",
    "def getlogO32(OIII4959,OIII5007,OII3727):\n",
    "    return np.log10((OIII4959 + OIII5007)/OII3727)\n",
    "    ```"
   ]
  },
  {
   "cell_type": "markdown",
   "metadata": {},
   "source": [
    "```\n",
    "def getlogOHlow(x,y):\n",
    "    return (-4.944 + 0.767*x + 0.602*x**2 - y*(0.29 + 0.332*x - 0.331*x**2))\n",
    "\n",
    "def getlogOHup(x,y):\n",
    "    return (-2.939 - 0.2*x - 0.37*x**2 - 0.305*x**3 - 0.0283*x**4 - \n",
    "            y*(0.0047 - 0.221*x - 0.102*x**2 - 0.0817*x**3 - 0.00717*x**4))\n",
    "            ```"
   ]
  },
  {
   "cell_type": "markdown",
   "metadata": {},
   "source": [
    "### Branching Out\n",
    "\n",
    "Lets determine if this makes sense by following section A1 in KE08. First we need to determine if we are using the upper branch or the lower branch. To do this, we need to get $$\\log\\left(\\frac{[\\text{NII}]\\lambda6584}{[\\text{OII}]\\lambda3727}\\right)$$"
   ]
  },
  {
   "cell_type": "markdown",
   "metadata": {},
   "source": [
    "```\n",
    "def getlogNiiOii(NII6584,OII3727):\n",
    "    return np.log10(NII6584/OII3727)\n",
    "    ```"
   ]
  },
  {
   "cell_type": "markdown",
   "metadata": {},
   "source": [
    "The break between upper and lower branches is set at $$\\log\\left(\\frac{[\\text{NII}]}{[\\text{OII}]}\\right) \\approx -1.2$$ so we should use the upper branch, as we kind of determined already."
   ]
  },
  {
   "cell_type": "markdown",
   "metadata": {},
   "source": [
    "creating a function that deals with the branches right away:"
   ]
  },
  {
   "cell_type": "code",
   "execution_count": 282,
   "metadata": {},
   "outputs": [],
   "source": [
    "def M91cal(obj):\n",
    "    \n",
    "    x = getlogR23(obj['OII3726'],obj['OIII4959'],obj['OIII5007'],obj['HBeta'])\n",
    "    y = getlogO32(obj['OIII4959'],obj['OIII5007'],obj['OII3726'])\n",
    "    \n",
    "    if getlogNiiOii(obj['NII6584'],obj['OII3726']) > -1.2:\n",
    "        return getlogOHup(x,y)\n",
    "    else:\n",
    "        return getlogOHlow(x,y)\n",
    "    "
   ]
  },
  {
   "cell_type": "code",
   "execution_count": 283,
   "metadata": {},
   "outputs": [
    {
     "name": "stderr",
     "output_type": "stream",
     "text": [
      "/Users/mike/anaconda3/lib/python3.7/site-packages/ipykernel_launcher.py:2: RuntimeWarning: invalid value encountered in log10\n",
      "  \n",
      "/Users/mike/anaconda3/lib/python3.7/site-packages/ipykernel_launcher.py:5: RuntimeWarning: divide by zero encountered in double_scalars\n",
      "  \"\"\"\n",
      "/Users/mike/anaconda3/lib/python3.7/site-packages/ipykernel_launcher.py:2: RuntimeWarning: divide by zero encountered in double_scalars\n",
      "  \n",
      "/Users/mike/anaconda3/lib/python3.7/site-packages/ipykernel_launcher.py:5: RuntimeWarning: invalid value encountered in log10\n",
      "  \"\"\"\n"
     ]
    }
   ],
   "source": [
    "M91list = [M91cal(cat) + 12 for cat in catSDSS]\n",
    "catSDSS['M91'] = M91list"
   ]
  },
  {
   "cell_type": "code",
   "execution_count": 284,
   "metadata": {},
   "outputs": [
    {
     "name": "stderr",
     "output_type": "stream",
     "text": [
      "/Users/mike/anaconda3/lib/python3.7/site-packages/ipykernel_launcher.py:2: RuntimeWarning: invalid value encountered in log10\n",
      "  \n"
     ]
    },
    {
     "data": {
      "text/plain": [
       "nan"
      ]
     },
     "execution_count": 284,
     "metadata": {},
     "output_type": "execute_result"
    }
   ],
   "source": [
    "M91cal(catSDSS[1])"
   ]
  },
  {
   "cell_type": "code",
   "execution_count": 295,
   "metadata": {},
   "outputs": [
    {
     "data": {
      "image/png": "[encoded data removed]",
      "text/plain": [
       "<Figure size 432x432 with 1 Axes>"
      ]
     },
     "metadata": {
      "needs_background": "dark"
     },
     "output_type": "display_data"
    }
   ],
   "source": [
    "plt.figure(figsize=(6,6))\n",
    "plt.scatter(catSDSS['logM'],catSDSS['M91'],marker = '.')\n",
    "plt.title('M91 Calibration')\n",
    "plt.xlabel('log M')\n",
    "plt.ylabel('log (O/H) + 12')\n",
    "plt.xlim(8,12)\n",
    "plt.ylim(8,9.5)\n",
    "plt.tight_layout()\n",
    "plt.savefig('mikesandboximgs/m91.png')"
   ]
  },
  {
   "cell_type": "markdown",
   "metadata": {},
   "source": [
    "Eh, this looks reasonably similar to Fig 1. These all have higher masses and there does seem to be a bunch trailing down at high mass which is a bit strange"
   ]
  },
  {
   "cell_type": "code",
   "execution_count": null,
   "metadata": {},
   "outputs": [],
   "source": []
  }
 ],
 "metadata": {
  "kernelspec": {
   "display_name": "Python 3",
   "language": "python",
   "name": "python3"
  },
  "language_info": {
   "codemirror_mode": {
    "name": "ipython",
    "version": 3
   },
   "file_extension": ".py",
   "mimetype": "text/x-python",
   "name": "python",
   "nbconvert_exporter": "python",
   "pygments_lexer": "ipython3",
   "version": "3.7.2"
  }
 },
 "nbformat": 4,
 "nbformat_minor": 2
}
