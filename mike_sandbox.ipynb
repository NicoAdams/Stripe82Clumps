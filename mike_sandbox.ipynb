{
 "cells": [
  {
   "cell_type": "code",
   "execution_count": 2,
   "metadata": {},
   "outputs": [
    {
     "name": "stderr",
     "output_type": "stream",
     "text": [
      "/anaconda3/lib/python3.6/site-packages/astroquery/sdss/__init__.py:29: UserWarning: Experimental: SDSS has not yet been refactored to have its API match the rest of astroquery (but it's nearly there).\n",
      "  warnings.warn(\"Experimental: SDSS has not yet been refactored to have its API \"\n"
     ]
    }
   ],
   "source": [
    "from astropy.io import fits\n",
    "from astropy import table\n",
    "from astroquery.sdss import SDSS\n",
    "from astropy import coordinates as coords\n",
    "import numpy as np\n",
    "import matplotlib.pyplot as plt"
   ]
  },
  {
   "cell_type": "code",
   "execution_count": 3,
   "metadata": {
    "scrolled": true
   },
   "outputs": [
    {
     "name": "stdout",
     "output_type": "stream",
     "text": [
      "0 objid_1 \n",
      "\n",
      "1 sample_1 \n",
      "\n",
      "2 asset_id \n",
      "\n",
      "3 objid_str \n",
      "\n",
      "4 total_count \n",
      "\n",
      "5 total_weight \n",
      "\n",
      "6 t01_smooth_or_features_a01_smooth_count \n",
      "\n",
      "7 t01_smooth_or_features_a01_smooth_weight \n",
      "\n",
      "8 t01_smooth_or_features_a01_smooth_fraction \n",
      "\n",
      "9 t01_smooth_or_features_a01_smooth_weighted_fraction \n",
      "\n",
      "10 t01_smooth_or_features_a02_features_or_disk_count \n",
      "\n",
      "11 t01_smooth_or_features_a02_features_or_disk_weight \n",
      "\n",
      "12 t01_smooth_or_features_a02_features_or_disk_fraction \n",
      "\n",
      "13 t01_smooth_or_features_a02_features_or_disk_weighted_fraction \n",
      "\n",
      "14 t01_smooth_or_features_a03_star_or_artifact_count \n",
      "\n",
      "15 t01_smooth_or_features_a03_star_or_artifact_weight \n",
      "\n",
      "16 t01_smooth_or_features_a03_star_or_artifact_fraction \n",
      "\n",
      "17 t01_smooth_or_features_a03_star_or_artifact_weighted_fraction \n",
      "\n",
      "18 t01_smooth_or_features_total_count \n",
      "\n",
      "19 t01_smooth_or_features_total_weight \n",
      "\n",
      "20 t02_edgeon_a04_yes_count \n",
      "\n",
      "21 t02_edgeon_a04_yes_weight \n",
      "\n",
      "22 t02_edgeon_a04_yes_fraction \n",
      "\n",
      "23 t02_edgeon_a04_yes_weighted_fraction \n",
      "\n",
      "24 t02_edgeon_a05_no_count \n",
      "\n",
      "25 t02_edgeon_a05_no_weight \n",
      "\n",
      "26 t02_edgeon_a05_no_fraction \n",
      "\n",
      "27 t02_edgeon_a05_no_weighted_fraction \n",
      "\n",
      "28 t02_edgeon_total_count \n",
      "\n",
      "29 t02_edgeon_total_weight \n",
      "\n",
      "30 t03_bar_a06_bar_count \n",
      "\n",
      "31 t03_bar_a06_bar_weight \n",
      "\n",
      "32 t03_bar_a06_bar_fraction \n",
      "\n",
      "33 t03_bar_a06_bar_weighted_fraction \n",
      "\n",
      "34 t03_bar_a07_no_bar_count \n",
      "\n",
      "35 t03_bar_a07_no_bar_weight \n",
      "\n",
      "36 t03_bar_a07_no_bar_fraction \n",
      "\n",
      "37 t03_bar_a07_no_bar_weighted_fraction \n",
      "\n",
      "38 t03_bar_total_count \n",
      "\n",
      "39 t03_bar_total_weight \n",
      "\n",
      "40 t04_spiral_a08_spiral_count \n",
      "\n",
      "41 t04_spiral_a08_spiral_weight \n",
      "\n",
      "42 t04_spiral_a08_spiral_fraction \n",
      "\n",
      "43 t04_spiral_a08_spiral_weighted_fraction \n",
      "\n",
      "44 t04_spiral_a09_no_spiral_count \n",
      "\n",
      "45 t04_spiral_a09_no_spiral_weight \n",
      "\n",
      "46 t04_spiral_a09_no_spiral_fraction \n",
      "\n",
      "47 t04_spiral_a09_no_spiral_weighted_fraction \n",
      "\n",
      "48 t04_spiral_total_count \n",
      "\n",
      "49 t04_spiral_total_weight \n",
      "\n",
      "50 t05_bulge_prominence_a10_no_bulge_count \n",
      "\n",
      "51 t05_bulge_prominence_a10_no_bulge_weight \n",
      "\n",
      "52 t05_bulge_prominence_a10_no_bulge_fraction \n",
      "\n",
      "53 t05_bulge_prominence_a10_no_bulge_weighted_fraction \n",
      "\n",
      "54 t05_bulge_prominence_a11_just_noticeable_count \n",
      "\n",
      "55 t05_bulge_prominence_a11_just_noticeable_weight \n",
      "\n",
      "56 t05_bulge_prominence_a11_just_noticeable_fraction \n",
      "\n",
      "57 t05_bulge_prominence_a11_just_noticeable_weighted_fraction \n",
      "\n",
      "58 t05_bulge_prominence_a12_obvious_count \n",
      "\n",
      "59 t05_bulge_prominence_a12_obvious_weight \n",
      "\n",
      "60 t05_bulge_prominence_a12_obvious_fraction \n",
      "\n",
      "61 t05_bulge_prominence_a12_obvious_weighted_fraction \n",
      "\n",
      "62 t05_bulge_prominence_a13_dominant_count \n",
      "\n",
      "63 t05_bulge_prominence_a13_dominant_weight \n",
      "\n",
      "64 t05_bulge_prominence_a13_dominant_fraction \n",
      "\n",
      "65 t05_bulge_prominence_a13_dominant_weighted_fraction \n",
      "\n",
      "66 t05_bulge_prominence_total_count \n",
      "\n",
      "67 t05_bulge_prominence_total_weight \n",
      "\n",
      "68 t06_odd_a14_yes_count \n",
      "\n",
      "69 t06_odd_a14_yes_weight \n",
      "\n",
      "70 t06_odd_a14_yes_fraction \n",
      "\n",
      "71 t06_odd_a14_yes_weighted_fraction \n",
      "\n",
      "72 t06_odd_a15_no_count \n",
      "\n",
      "73 t06_odd_a15_no_weight \n",
      "\n",
      "74 t06_odd_a15_no_fraction \n",
      "\n",
      "75 t06_odd_a15_no_weighted_fraction \n",
      "\n",
      "76 t06_odd_total_count \n",
      "\n",
      "77 t06_odd_total_weight \n",
      "\n",
      "78 t07_rounded_a16_completely_round_count \n",
      "\n",
      "79 t07_rounded_a16_completely_round_weight \n",
      "\n",
      "80 t07_rounded_a16_completely_round_fraction \n",
      "\n",
      "81 t07_rounded_a16_completely_round_weighted_fraction \n",
      "\n",
      "82 t07_rounded_a17_in_between_count \n",
      "\n",
      "83 t07_rounded_a17_in_between_weight \n",
      "\n",
      "84 t07_rounded_a17_in_between_fraction \n",
      "\n",
      "85 t07_rounded_a17_in_between_weighted_fraction \n",
      "\n",
      "86 t07_rounded_a18_cigar_shaped_count \n",
      "\n",
      "87 t07_rounded_a18_cigar_shaped_weight \n",
      "\n",
      "88 t07_rounded_a18_cigar_shaped_fraction \n",
      "\n",
      "89 t07_rounded_a18_cigar_shaped_weighted_fraction \n",
      "\n",
      "90 t07_rounded_total_count \n",
      "\n",
      "91 t07_rounded_total_weight \n",
      "\n",
      "92 t08_odd_feature_a19_ring_count \n",
      "\n",
      "93 t08_odd_feature_a19_ring_weight \n",
      "\n",
      "94 t08_odd_feature_a19_ring_fraction \n",
      "\n",
      "95 t08_odd_feature_a19_ring_weighted_fraction \n",
      "\n",
      "96 t08_odd_feature_a20_lens_or_arc_count \n",
      "\n",
      "97 t08_odd_feature_a20_lens_or_arc_weight \n",
      "\n",
      "98 t08_odd_feature_a20_lens_or_arc_fraction \n",
      "\n",
      "99 t08_odd_feature_a20_lens_or_arc_weighted_fraction \n",
      "\n",
      "100 t08_odd_feature_a21_disturbed_count \n",
      "\n",
      "101 t08_odd_feature_a21_disturbed_weight \n",
      "\n",
      "102 t08_odd_feature_a21_disturbed_fraction \n",
      "\n",
      "103 t08_odd_feature_a21_disturbed_weighted_fraction \n",
      "\n",
      "104 t08_odd_feature_a22_irregular_count \n",
      "\n",
      "105 t08_odd_feature_a22_irregular_weight \n",
      "\n",
      "106 t08_odd_feature_a22_irregular_fraction \n",
      "\n",
      "107 t08_odd_feature_a22_irregular_weighted_fraction \n",
      "\n",
      "108 t08_odd_feature_a23_other_count \n",
      "\n",
      "109 t08_odd_feature_a23_other_weight \n",
      "\n",
      "110 t08_odd_feature_a23_other_fraction \n",
      "\n",
      "111 t08_odd_feature_a23_other_weighted_fraction \n",
      "\n",
      "112 t08_odd_feature_a24_merger_count \n",
      "\n",
      "113 t08_odd_feature_a24_merger_weight \n",
      "\n",
      "114 t08_odd_feature_a24_merger_fraction \n",
      "\n",
      "115 t08_odd_feature_a24_merger_weighted_fraction \n",
      "\n",
      "116 t08_odd_feature_a38_dust_lane_count \n",
      "\n",
      "117 t08_odd_feature_a38_dust_lane_weight \n",
      "\n",
      "118 t08_odd_feature_a38_dust_lane_fraction \n",
      "\n",
      "119 t08_odd_feature_a38_dust_lane_weighted_fraction \n",
      "\n",
      "120 t08_odd_feature_total_count \n",
      "\n",
      "121 t08_odd_feature_total_weight \n",
      "\n",
      "122 t09_bulge_shape_a25_rounded_count \n",
      "\n",
      "123 t09_bulge_shape_a25_rounded_weight \n",
      "\n",
      "124 t09_bulge_shape_a25_rounded_fraction \n",
      "\n",
      "125 t09_bulge_shape_a25_rounded_weighted_fraction \n",
      "\n",
      "126 t09_bulge_shape_a26_boxy_count \n",
      "\n",
      "127 t09_bulge_shape_a26_boxy_weight \n",
      "\n",
      "128 t09_bulge_shape_a26_boxy_fraction \n",
      "\n",
      "129 t09_bulge_shape_a26_boxy_weighted_fraction \n",
      "\n",
      "130 t09_bulge_shape_a27_no_bulge_count \n",
      "\n",
      "131 t09_bulge_shape_a27_no_bulge_weight \n",
      "\n",
      "132 t09_bulge_shape_a27_no_bulge_fraction \n",
      "\n",
      "133 t09_bulge_shape_a27_no_bulge_weighted_fraction \n",
      "\n",
      "134 t09_bulge_shape_total_count \n",
      "\n",
      "135 t09_bulge_shape_total_weight \n",
      "\n",
      "136 t10_arms_winding_a28_tight_count \n",
      "\n",
      "137 t10_arms_winding_a28_tight_weight \n",
      "\n",
      "138 t10_arms_winding_a28_tight_fraction \n",
      "\n",
      "139 t10_arms_winding_a28_tight_weighted_fraction \n",
      "\n",
      "140 t10_arms_winding_a29_medium_count \n",
      "\n",
      "141 t10_arms_winding_a29_medium_weight \n",
      "\n",
      "142 t10_arms_winding_a29_medium_fraction \n",
      "\n",
      "143 t10_arms_winding_a29_medium_weighted_fraction \n",
      "\n",
      "144 t10_arms_winding_a30_loose_count \n",
      "\n",
      "145 t10_arms_winding_a30_loose_weight \n",
      "\n",
      "146 t10_arms_winding_a30_loose_fraction \n",
      "\n",
      "147 t10_arms_winding_a30_loose_weighted_fraction \n",
      "\n",
      "148 t10_arms_winding_total_count \n",
      "\n",
      "149 t10_arms_winding_total_weight \n",
      "\n",
      "150 t11_arms_number_a31_1_count \n",
      "\n",
      "151 t11_arms_number_a31_1_weight \n",
      "\n",
      "152 t11_arms_number_a31_1_fraction \n",
      "\n",
      "153 t11_arms_number_a31_1_weighted_fraction \n",
      "\n",
      "154 t11_arms_number_a32_2_count \n",
      "\n",
      "155 t11_arms_number_a32_2_weight \n",
      "\n",
      "156 t11_arms_number_a32_2_fraction \n",
      "\n",
      "157 t11_arms_number_a32_2_weighted_fraction \n",
      "\n",
      "158 t11_arms_number_a33_3_count \n",
      "\n",
      "159 t11_arms_number_a33_3_weight \n",
      "\n",
      "160 t11_arms_number_a33_3_fraction \n",
      "\n",
      "161 t11_arms_number_a33_3_weighted_fraction \n",
      "\n",
      "162 t11_arms_number_a34_4_count \n",
      "\n",
      "163 t11_arms_number_a34_4_weight \n",
      "\n",
      "164 t11_arms_number_a34_4_fraction \n",
      "\n",
      "165 t11_arms_number_a34_4_weighted_fraction \n",
      "\n",
      "166 t11_arms_number_a36_more_than_4_count \n",
      "\n",
      "167 t11_arms_number_a36_more_than_4_weight \n",
      "\n",
      "168 t11_arms_number_a36_more_than_4_fraction \n",
      "\n",
      "169 t11_arms_number_a36_more_than_4_weighted_fraction \n",
      "\n",
      "170 t11_arms_number_a37_cant_tell_count \n",
      "\n",
      "171 t11_arms_number_a37_cant_tell_weight \n",
      "\n",
      "172 t11_arms_number_a37_cant_tell_fraction \n",
      "\n",
      "173 t11_arms_number_a37_cant_tell_weighted_fraction \n",
      "\n",
      "174 t11_arms_number_total_count \n",
      "\n",
      "175 t11_arms_number_total_weight \n",
      "\n",
      "176 t12_arms_number_total_count \n",
      "\n",
      "177 t12_arms_number_total_weight \n",
      "\n",
      "178 t13_arms_number_total_count \n",
      "\n",
      "179 t13_arms_number_total_weight \n",
      "\n",
      "180 t14_clumpy_a39_yes_count \n",
      "\n",
      "181 t14_clumpy_a39_yes_weight \n",
      "\n",
      "182 t14_clumpy_a39_yes_fraction \n",
      "\n",
      "183 t14_clumpy_a39_yes_weighted_fraction \n",
      "\n",
      "184 t14_clumpy_a40_no_count \n",
      "\n",
      "185 t14_clumpy_a40_no_weight \n",
      "\n",
      "186 t14_clumpy_a40_no_fraction \n",
      "\n",
      "187 t14_clumpy_a40_no_weighted_fraction \n",
      "\n",
      "188 t14_clumpy_total_count \n",
      "\n",
      "189 t14_clumpy_total_weight \n",
      "\n",
      "190 t15_multiple_clumps_a41_yes_count \n",
      "\n",
      "191 t15_multiple_clumps_a41_yes_weight \n",
      "\n",
      "192 t15_multiple_clumps_a41_yes_fraction \n",
      "\n",
      "193 t15_multiple_clumps_a41_yes_weighted_fraction \n",
      "\n",
      "194 t15_multiple_clumps_a42_no_count \n",
      "\n",
      "195 t15_multiple_clumps_a42_no_weight \n",
      "\n",
      "196 t15_multiple_clumps_a42_no_fraction \n",
      "\n",
      "197 t15_multiple_clumps_a42_no_weighted_fraction \n",
      "\n",
      "198 t15_multiple_clumps_total_count \n",
      "\n",
      "199 t15_multiple_clumps_total_weight \n",
      "\n",
      "200 t16_bright_clump_a43_yes_count \n",
      "\n",
      "201 t16_bright_clump_a43_yes_weight \n",
      "\n",
      "202 t16_bright_clump_a43_yes_fraction \n",
      "\n",
      "203 t16_bright_clump_a43_yes_weighted_fraction \n",
      "\n",
      "204 t16_bright_clump_a44_no_count \n",
      "\n",
      "205 t16_bright_clump_a44_no_weight \n",
      "\n",
      "206 t16_bright_clump_a44_no_fraction \n",
      "\n",
      "207 t16_bright_clump_a44_no_weighted_fraction \n",
      "\n",
      "208 t16_bright_clump_total_count \n",
      "\n",
      "209 t16_bright_clump_total_weight \n",
      "\n",
      "210 t17_bright_clump_central_a45_yes_count \n",
      "\n",
      "211 t17_bright_clump_central_a45_yes_weight \n",
      "\n",
      "212 t17_bright_clump_central_a45_yes_fraction \n",
      "\n",
      "213 t17_bright_clump_central_a45_yes_weighted_fraction \n",
      "\n",
      "214 t17_bright_clump_central_a46_no_count \n",
      "\n",
      "215 t17_bright_clump_central_a46_no_weight \n",
      "\n",
      "216 t17_bright_clump_central_a46_no_fraction \n",
      "\n",
      "217 t17_bright_clump_central_a46_no_weighted_fraction \n",
      "\n",
      "218 t17_bright_clump_central_total_count \n",
      "\n",
      "219 t17_bright_clump_central_total_weight \n",
      "\n",
      "220 t18_clumps_arrangement_a47_line_count \n",
      "\n",
      "221 t18_clumps_arrangement_a47_line_weight \n",
      "\n",
      "222 t18_clumps_arrangement_a47_line_fraction \n",
      "\n",
      "223 t18_clumps_arrangement_a47_line_weighted_fraction \n",
      "\n",
      "224 t18_clumps_arrangement_a48_chain_count \n",
      "\n",
      "225 t18_clumps_arrangement_a48_chain_weight \n",
      "\n",
      "226 t18_clumps_arrangement_a48_chain_fraction \n",
      "\n",
      "227 t18_clumps_arrangement_a48_chain_weighted_fraction \n",
      "\n",
      "228 t18_clumps_arrangement_a49_cluster_count \n",
      "\n",
      "229 t18_clumps_arrangement_a49_cluster_weight \n",
      "\n",
      "230 t18_clumps_arrangement_a49_cluster_fraction \n",
      "\n",
      "231 t18_clumps_arrangement_a49_cluster_weighted_fraction \n",
      "\n",
      "232 t18_clumps_arrangement_a59_spiral_count \n",
      "\n",
      "233 t18_clumps_arrangement_a59_spiral_weight \n",
      "\n",
      "234 t18_clumps_arrangement_a59_spiral_fraction \n",
      "\n",
      "235 t18_clumps_arrangement_a59_spiral_weighted_fraction \n",
      "\n",
      "236 t18_clumps_arrangement_total_count \n",
      "\n",
      "237 t18_clumps_arrangement_total_weight \n",
      "\n",
      "238 t19_clumps_count_a50_2_count \n",
      "\n",
      "239 t19_clumps_count_a50_2_weight \n",
      "\n",
      "240 t19_clumps_count_a50_2_fraction \n",
      "\n",
      "241 t19_clumps_count_a50_2_weighted_fraction \n",
      "\n",
      "242 t19_clumps_count_a51_3_count \n",
      "\n",
      "243 t19_clumps_count_a51_3_weight \n",
      "\n",
      "244 t19_clumps_count_a51_3_fraction \n",
      "\n",
      "245 t19_clumps_count_a51_3_weighted_fraction \n",
      "\n",
      "246 t19_clumps_count_a52_4_count \n",
      "\n",
      "247 t19_clumps_count_a52_4_weight \n",
      "\n",
      "248 t19_clumps_count_a52_4_fraction \n",
      "\n",
      "249 t19_clumps_count_a52_4_weighted_fraction \n",
      "\n",
      "250 t19_clumps_count_a53_more_than_4_count \n",
      "\n",
      "251 t19_clumps_count_a53_more_than_4_weight \n",
      "\n",
      "252 t19_clumps_count_a53_more_than_4_fraction \n",
      "\n",
      "253 t19_clumps_count_a53_more_than_4_weighted_fraction \n",
      "\n",
      "254 t19_clumps_count_a54_cant_tell_count \n",
      "\n",
      "255 t19_clumps_count_a54_cant_tell_weight \n",
      "\n",
      "256 t19_clumps_count_a54_cant_tell_fraction \n",
      "\n",
      "257 t19_clumps_count_a54_cant_tell_weighted_fraction \n",
      "\n",
      "258 t19_clumps_count_a60_1_count \n",
      "\n",
      "259 t19_clumps_count_a60_1_weight \n",
      "\n",
      "260 t19_clumps_count_a60_1_fraction \n",
      "\n",
      "261 t19_clumps_count_a60_1_weighted_fraction \n",
      "\n",
      "262 t19_clumps_count_total_count \n",
      "\n",
      "263 t19_clumps_count_total_weight \n",
      "\n",
      "264 t20_clumps_symmetrical_a55_yes_count \n",
      "\n",
      "265 t20_clumps_symmetrical_a55_yes_weight \n",
      "\n",
      "266 t20_clumps_symmetrical_a55_yes_fraction \n",
      "\n",
      "267 t20_clumps_symmetrical_a55_yes_weighted_fraction \n",
      "\n",
      "268 t20_clumps_symmetrical_a56_no_count \n",
      "\n",
      "269 t20_clumps_symmetrical_a56_no_weight \n",
      "\n",
      "270 t20_clumps_symmetrical_a56_no_fraction \n",
      "\n",
      "271 t20_clumps_symmetrical_a56_no_weighted_fraction \n",
      "\n",
      "272 t20_clumps_symmetrical_total_count \n",
      "\n",
      "273 t20_clumps_symmetrical_total_weight \n",
      "\n",
      "274 t21_clumps_embedded_a57_yes_count \n",
      "\n",
      "275 t21_clumps_embedded_a57_yes_weight \n",
      "\n",
      "276 t21_clumps_embedded_a57_yes_fraction \n",
      "\n",
      "277 t21_clumps_embedded_a57_yes_weighted_fraction \n",
      "\n",
      "278 t21_clumps_embedded_a58_no_count \n",
      "\n",
      "279 t21_clumps_embedded_a58_no_weight \n",
      "\n",
      "280 t21_clumps_embedded_a58_no_fraction \n",
      "\n",
      "281 t21_clumps_embedded_a58_no_weighted_fraction \n",
      "\n",
      "282 t21_clumps_embedded_total_count \n",
      "\n",
      "283 t21_clumps_embedded_total_weight \n",
      "\n",
      "284 OBJID_2 \n",
      "\n",
      "285 RUN \n",
      "\n",
      "286 RERUN \n",
      "\n",
      "287 CAMCOL \n",
      "\n",
      "288 FIELD \n",
      "\n",
      "289 OBJ \n",
      "\n",
      "290 RA \n",
      "\n",
      "291 DEC \n",
      "\n",
      "292 PETROR50_R \n",
      "\n",
      "293 PETROR90_R \n",
      "\n",
      "294 PETROMAG_U \n",
      "\n",
      "295 PETROMAG_G \n",
      "\n",
      "296 PETROMAG_R \n",
      "\n",
      "297 PETROMAG_I \n",
      "\n",
      "298 PETROMAG_Z \n",
      "\n",
      "299 PETROMAGERR_U \n",
      "\n",
      "300 PETROMAGERR_G \n",
      "\n",
      "301 PETROMAGERR_R \n",
      "\n",
      "302 PETROMAGERR_I \n",
      "\n",
      "303 PETROMAGERR_Z \n",
      "\n",
      "304 PSFMAG_R \n",
      "\n",
      "305 FIBERMAG_R \n",
      "\n",
      "306 DEVMAG_R \n",
      "\n",
      "307 DEVMAGERR_R \n",
      "\n",
      "308 EXPMAG_R \n",
      "\n",
      "309 EXPMAGERR_R \n",
      "\n",
      "310 FRACDEV_R \n",
      "\n",
      "311 MU50_R \n",
      "\n",
      "312 EXTINCTION_U \n",
      "\n",
      "313 EXTINCTION_G \n",
      "\n",
      "314 EXTINCTION_R \n",
      "\n",
      "315 EXTINCTION_I \n",
      "\n",
      "316 EXTINCTION_Z \n",
      "\n",
      "317 ROWC_U \n",
      "\n",
      "318 COLC_U \n",
      "\n",
      "319 ROWC_G \n",
      "\n",
      "320 COLC_G \n",
      "\n",
      "321 ROWC_R \n",
      "\n",
      "322 COLC_R \n",
      "\n",
      "323 ROWC_I \n",
      "\n",
      "324 COLC_I \n",
      "\n",
      "325 ROWC_Z \n",
      "\n",
      "326 COLC_Z \n",
      "\n",
      "327 CMODELMAG_R \n",
      "\n",
      "328 CMODELMAGERR_R \n",
      "\n",
      "329 REDSHIFT \n",
      "\n",
      "330 REDSHIFTERR \n",
      "\n",
      "331 PETROMAG_MU \n",
      "\n",
      "332 PETROMAG_MG \n",
      "\n",
      "333 PETROMAG_MR \n",
      "\n",
      "334 PETROMAG_MI \n",
      "\n",
      "335 PETROMAG_MZ \n",
      "\n",
      "336 PETROMAGERR_MU \n",
      "\n",
      "337 PETROMAGERR_MG \n",
      "\n",
      "338 PETROMAGERR_MR \n",
      "\n",
      "339 PETROMAGERR_MI \n",
      "\n",
      "340 PETROMAGERR_MZ \n",
      "\n",
      "341 PETROR50_R_KPC \n",
      "\n",
      "342 REGION \n",
      "\n",
      "343 PETROR50_R_KPC_SIMPLE_BIN \n",
      "\n",
      "344 PETROMAG_MR_SIMPLE_BIN \n",
      "\n",
      "345 REDSHIFT_SIMPLE_BIN \n",
      "\n",
      "346 WVT_BIN \n",
      "\n",
      "347 SAMPLE_2 \n",
      "\n",
      "348 gr_color \n",
      "\n",
      "349 ur_color \n",
      "\n"
     ]
    }
   ],
   "source": [
    "catFile = 'catalogs/clumpy_stripe82_fullsample.fits'\n",
    "catFits = fits.open(catFile) \n",
    "# catFits.info() \n",
    "catTable = table.Table(catFits[1].data)\n",
    "# print(*catTable.columns, sep='\\n')\n",
    "n = 0\n",
    "for column in catTable.columns:\n",
    "    print(n, column,'\\n')\n",
    "    n+=1"
   ]
  },
  {
   "cell_type": "code",
   "execution_count": 4,
   "metadata": {},
   "outputs": [
    {
     "data": {
      "text/plain": [
       "125"
      ]
     },
     "execution_count": 4,
     "metadata": {},
     "output_type": "execute_result"
    }
   ],
   "source": [
    "catTable[1]['FIELD']"
   ]
  },
  {
   "cell_type": "markdown",
   "metadata": {},
   "source": [
    "## Spectra from Bulk"
   ]
  },
  {
   "cell_type": "code",
   "execution_count": 4,
   "metadata": {},
   "outputs": [
    {
     "name": "stdout",
     "output_type": "stream",
     "text": [
      "315.90303127,-1.22853775\n",
      "321.63790911,-1.12280623\n",
      "324.56071869,-0.78378343\n",
      "309.70230142,-0.22634834\n",
      "312.71737669,-0.32570262\n"
     ]
    }
   ],
   "source": [
    "for cat in catTable[:5]:\n",
    "    print(str(cat['RA'])+','+str(cat['DEC']))"
   ]
  },
  {
   "cell_type": "code",
   "execution_count": 5,
   "metadata": {},
   "outputs": [],
   "source": [
    "def genSpectraAQ(file):\n",
    "    objFits = fits.open(file)\n",
    "    objTable = table.Table(objFits[1].data)\n",
    "    plt.figure(figsize=(15,7.5))\n",
    "    plt.plot(10**objTable['loglam'],objTable['flux'])\n",
    "    plt.show()\n",
    "    return objTable"
   ]
  },
  {
   "cell_type": "code",
   "execution_count": 6,
   "metadata": {},
   "outputs": [],
   "source": [
    "# genSpectraAQ('spec-0985-52431-0287.fits')"
   ]
  },
  {
   "cell_type": "markdown",
   "metadata": {},
   "source": [
    "## Testing AstroQuery"
   ]
  },
  {
   "cell_type": "code",
   "execution_count": 7,
   "metadata": {},
   "outputs": [
    {
     "name": "stderr",
     "output_type": "stream",
     "text": [
      "/anaconda3/lib/python3.6/site-packages/astroquery/sdss/core.py:856: VisibleDeprecationWarning: Reading unicode strings without specifying the encoding argument is deprecated. Set the encoding, use None for the system default.\n",
      "  comments='#'))\n"
     ]
    },
    {
     "data": {
      "text/html": [
       "<i>Table length=1</i>\n",
       "<table id=\"table34583425320\" class=\"table-striped table-bordered table-condensed\">\n",
       "<thead><tr><th>ra</th><th>dec</th><th>objid</th><th>run</th><th>rerun</th><th>camcol</th><th>field</th><th>z</th><th>plate</th><th>mjd</th><th>fiberID</th><th>specobjid</th><th>run2d</th><th>instrument</th></tr></thead>\n",
       "<thead><tr><th>float64</th><th>float64</th><th>int64</th><th>int64</th><th>int64</th><th>int64</th><th>int64</th><th>float64</th><th>int64</th><th>int64</th><th>int64</th><th>int64</th><th>int64</th><th>bytes4</th></tr></thead>\n",
       "<tr><td>321.63790960047</td><td>-1.1227999503427</td><td>1237656567042343485</td><td>2583</td><td>301</td><td>1</td><td>125</td><td>0.2234196</td><td>988</td><td>52520</td><td>310</td><td>1112474362390276096</td><td>26</td><td>SDSS</td></tr>\n",
       "</table>"
      ],
      "text/plain": [
       "<Table length=1>\n",
       "       ra             dec               objid        ... run2d instrument\n",
       "    float64         float64             int64        ... int64   bytes4  \n",
       "--------------- ---------------- ------------------- ... ----- ----------\n",
       "321.63790960047 -1.1227999503427 1237656567042343485 ...    26       SDSS"
      ]
     },
     "execution_count": 7,
     "metadata": {},
     "output_type": "execute_result"
    }
   ],
   "source": [
    "test = {'RA':catTable[1]['RA'],'DEC':catTable[1]['DEC']}\n",
    "pos = coords.SkyCoord(test['RA'],test['DEC'],unit='deg')\n",
    "xid = SDSS.query_region(pos,spectro=True)\n",
    "xid"
   ]
  },
  {
   "cell_type": "code",
   "execution_count": 12,
   "metadata": {},
   "outputs": [],
   "source": [
    "def specPlt(catTable,index,spData):\n",
    "    plt.figure(figsize=(10,5))\n",
    "    plt.plot(10**spData['loglam'],spData['flux'])\n",
    "    plt.title('OBJ: %s, RA: %.3f, DEC: %.3f'%(index,catTable[index]['RA'],catTable[index]['DEC']))\n",
    "    plt.xlabel(\"Wavelength [Angstroms]\")\n",
    "    plt.ylabel(\"Flux [$10^{-17}$ erg/cm$^2$/s/A]\")\n",
    "    plt.tight_layout()\n",
    "    plt.savefig('spectra imgs/obj_%s.png'%index)\n",
    "    plt.show()"
   ]
  },
  {
   "cell_type": "code",
   "execution_count": 13,
   "metadata": {},
   "outputs": [],
   "source": [
    "def genSpectra(catTable,index,pltShow):\n",
    "    pos = coords.SkyCoord(catTable[index]['RA'],\n",
    "                          catTable[index]['DEC'],unit='deg')\n",
    "    xid = SDSS.query_region(pos,spectro=True)\n",
    "    \n",
    "    if not xid:\n",
    "        print('--------\\nNo spectra for object %s\\n--------'%index)\n",
    "        return\n",
    "    sp = SDSS.get_spectra(matches=xid)\n",
    "    spData = sp[0][1].data\n",
    "    if pltShow:\n",
    "        specPlt(catTable,index,spData)\n",
    "    return xid,table.Table(spData)"
   ]
  },
  {
   "cell_type": "code",
   "execution_count": 14,
   "metadata": {
    "scrolled": true
   },
   "outputs": [],
   "source": [
    "# from tqdm import tqdm_notebook as tqdm\n",
    "# genBar = tqdm(desc='object',total=len(catTable))\n",
    "# for n in range(0,len(catTable)):\n",
    "#     genSpectra(catTable,n,False)\n",
    "#     genBar.update(1)"
   ]
  },
  {
   "cell_type": "code",
   "execution_count": 15,
   "metadata": {},
   "outputs": [
    {
     "name": "stderr",
     "output_type": "stream",
     "text": [
      "/anaconda3/lib/python3.6/site-packages/astroquery/sdss/core.py:856: VisibleDeprecationWarning: Reading unicode strings without specifying the encoding argument is deprecated. Set the encoding, use None for the system default.\n",
      "  comments='#'))\n"
     ]
    },
    {
     "data": {
      "image/png": "[encoded data removed]",
      "text/plain": [
       "<Figure size 720x360 with 1 Axes>"
      ]
     },
     "metadata": {},
     "output_type": "display_data"
    }
   ],
   "source": [
    "obj34 = genSpectra(catTable,34,True)"
   ]
  },
  {
   "cell_type": "code",
   "execution_count": 16,
   "metadata": {},
   "outputs": [
    {
     "data": {
      "text/html": [
       "<i>Table length=2</i>\n",
       "<table id=\"table34791481472\" class=\"table-striped table-bordered table-condensed\">\n",
       "<thead><tr><th>ra</th><th>dec</th><th>objid</th><th>run</th><th>rerun</th><th>camcol</th><th>field</th><th>z</th><th>plate</th><th>mjd</th><th>fiberID</th><th>specobjid</th><th>run2d</th><th>instrument</th></tr></thead>\n",
       "<thead><tr><th>float64</th><th>float64</th><th>int64</th><th>int64</th><th>int64</th><th>int64</th><th>int64</th><th>float64</th><th>int64</th><th>int64</th><th>int64</th><th>int64</th><th>int64</th><th>bytes4</th></tr></thead>\n",
       "<tr><td>310.311530645619</td><td>1.17984347905548</td><td>1237656896140018098</td><td>2659</td><td>301</td><td>6</td><td>61</td><td>0.02704323</td><td>981</td><td>52435</td><td>599</td><td>1104672501331421184</td><td>26</td><td>SDSS</td></tr>\n",
       "<tr><td>310.311530645619</td><td>1.17984347905548</td><td>1237656896140018098</td><td>2659</td><td>301</td><td>6</td><td>61</td><td>0.02705698</td><td>1021</td><td>52460</td><td>527</td><td>1149688706815256576</td><td>26</td><td>SDSS</td></tr>\n",
       "</table>"
      ],
      "text/plain": [
       "<Table length=2>\n",
       "       ra              dec               objid        ... run2d instrument\n",
       "    float64          float64             int64        ... int64   bytes4  \n",
       "---------------- ---------------- ------------------- ... ----- ----------\n",
       "310.311530645619 1.17984347905548 1237656896140018098 ...    26       SDSS\n",
       "310.311530645619 1.17984347905548 1237656896140018098 ...    26       SDSS"
      ]
     },
     "execution_count": 16,
     "metadata": {},
     "output_type": "execute_result"
    }
   ],
   "source": [
    "obj34[0]"
   ]
  },
  {
   "cell_type": "code",
   "execution_count": 17,
   "metadata": {},
   "outputs": [
    {
     "data": {
      "text/html": [
       "<i>Row index=34</i>\n",
       "<table id=\"table34784859920\">\n",
       "<thead><tr><th>objid_1</th><th>sample_1</th><th>asset_id</th><th>objid_str</th><th>total_count</th><th>total_weight</th><th>t01_smooth_or_features_a01_smooth_count</th><th>t01_smooth_or_features_a01_smooth_weight</th><th>t01_smooth_or_features_a01_smooth_fraction</th><th>t01_smooth_or_features_a01_smooth_weighted_fraction</th><th>t01_smooth_or_features_a02_features_or_disk_count</th><th>t01_smooth_or_features_a02_features_or_disk_weight</th><th>t01_smooth_or_features_a02_features_or_disk_fraction</th><th>t01_smooth_or_features_a02_features_or_disk_weighted_fraction</th><th>t01_smooth_or_features_a03_star_or_artifact_count</th><th>t01_smooth_or_features_a03_star_or_artifact_weight</th><th>t01_smooth_or_features_a03_star_or_artifact_fraction</th><th>t01_smooth_or_features_a03_star_or_artifact_weighted_fraction</th><th>t01_smooth_or_features_total_count</th><th>t01_smooth_or_features_total_weight</th><th>t02_edgeon_a04_yes_count</th><th>t02_edgeon_a04_yes_weight</th><th>t02_edgeon_a04_yes_fraction</th><th>t02_edgeon_a04_yes_weighted_fraction</th><th>t02_edgeon_a05_no_count</th><th>t02_edgeon_a05_no_weight</th><th>t02_edgeon_a05_no_fraction</th><th>t02_edgeon_a05_no_weighted_fraction</th><th>t02_edgeon_total_count</th><th>t02_edgeon_total_weight</th><th>t03_bar_a06_bar_count</th><th>t03_bar_a06_bar_weight</th><th>t03_bar_a06_bar_fraction</th><th>t03_bar_a06_bar_weighted_fraction</th><th>t03_bar_a07_no_bar_count</th><th>t03_bar_a07_no_bar_weight</th><th>t03_bar_a07_no_bar_fraction</th><th>t03_bar_a07_no_bar_weighted_fraction</th><th>t03_bar_total_count</th><th>t03_bar_total_weight</th><th>t04_spiral_a08_spiral_count</th><th>t04_spiral_a08_spiral_weight</th><th>t04_spiral_a08_spiral_fraction</th><th>t04_spiral_a08_spiral_weighted_fraction</th><th>t04_spiral_a09_no_spiral_count</th><th>t04_spiral_a09_no_spiral_weight</th><th>t04_spiral_a09_no_spiral_fraction</th><th>t04_spiral_a09_no_spiral_weighted_fraction</th><th>t04_spiral_total_count</th><th>t04_spiral_total_weight</th><th>t05_bulge_prominence_a10_no_bulge_count</th><th>t05_bulge_prominence_a10_no_bulge_weight</th><th>t05_bulge_prominence_a10_no_bulge_fraction</th><th>t05_bulge_prominence_a10_no_bulge_weighted_fraction</th><th>t05_bulge_prominence_a11_just_noticeable_count</th><th>t05_bulge_prominence_a11_just_noticeable_weight</th><th>t05_bulge_prominence_a11_just_noticeable_fraction</th><th>t05_bulge_prominence_a11_just_noticeable_weighted_fraction</th><th>t05_bulge_prominence_a12_obvious_count</th><th>t05_bulge_prominence_a12_obvious_weight</th><th>t05_bulge_prominence_a12_obvious_fraction</th><th>t05_bulge_prominence_a12_obvious_weighted_fraction</th><th>t05_bulge_prominence_a13_dominant_count</th><th>t05_bulge_prominence_a13_dominant_weight</th><th>t05_bulge_prominence_a13_dominant_fraction</th><th>t05_bulge_prominence_a13_dominant_weighted_fraction</th><th>t05_bulge_prominence_total_count</th><th>t05_bulge_prominence_total_weight</th><th>t06_odd_a14_yes_count</th><th>t06_odd_a14_yes_weight</th><th>t06_odd_a14_yes_fraction</th><th>t06_odd_a14_yes_weighted_fraction</th><th>t06_odd_a15_no_count</th><th>t06_odd_a15_no_weight</th><th>t06_odd_a15_no_fraction</th><th>t06_odd_a15_no_weighted_fraction</th><th>t06_odd_total_count</th><th>t06_odd_total_weight</th><th>t07_rounded_a16_completely_round_count</th><th>t07_rounded_a16_completely_round_weight</th><th>t07_rounded_a16_completely_round_fraction</th><th>t07_rounded_a16_completely_round_weighted_fraction</th><th>t07_rounded_a17_in_between_count</th><th>t07_rounded_a17_in_between_weight</th><th>t07_rounded_a17_in_between_fraction</th><th>t07_rounded_a17_in_between_weighted_fraction</th><th>t07_rounded_a18_cigar_shaped_count</th><th>t07_rounded_a18_cigar_shaped_weight</th><th>t07_rounded_a18_cigar_shaped_fraction</th><th>t07_rounded_a18_cigar_shaped_weighted_fraction</th><th>t07_rounded_total_count</th><th>t07_rounded_total_weight</th><th>t08_odd_feature_a19_ring_count</th><th>t08_odd_feature_a19_ring_weight</th><th>t08_odd_feature_a19_ring_fraction</th><th>t08_odd_feature_a19_ring_weighted_fraction</th><th>t08_odd_feature_a20_lens_or_arc_count</th><th>t08_odd_feature_a20_lens_or_arc_weight</th><th>t08_odd_feature_a20_lens_or_arc_fraction</th><th>t08_odd_feature_a20_lens_or_arc_weighted_fraction</th><th>t08_odd_feature_a21_disturbed_count</th><th>t08_odd_feature_a21_disturbed_weight</th><th>t08_odd_feature_a21_disturbed_fraction</th><th>t08_odd_feature_a21_disturbed_weighted_fraction</th><th>t08_odd_feature_a22_irregular_count</th><th>t08_odd_feature_a22_irregular_weight</th><th>t08_odd_feature_a22_irregular_fraction</th><th>t08_odd_feature_a22_irregular_weighted_fraction</th><th>t08_odd_feature_a23_other_count</th><th>t08_odd_feature_a23_other_weight</th><th>t08_odd_feature_a23_other_fraction</th><th>t08_odd_feature_a23_other_weighted_fraction</th><th>t08_odd_feature_a24_merger_count</th><th>t08_odd_feature_a24_merger_weight</th><th>t08_odd_feature_a24_merger_fraction</th><th>t08_odd_feature_a24_merger_weighted_fraction</th><th>t08_odd_feature_a38_dust_lane_count</th><th>t08_odd_feature_a38_dust_lane_weight</th><th>t08_odd_feature_a38_dust_lane_fraction</th><th>t08_odd_feature_a38_dust_lane_weighted_fraction</th><th>t08_odd_feature_total_count</th><th>t08_odd_feature_total_weight</th><th>t09_bulge_shape_a25_rounded_count</th><th>t09_bulge_shape_a25_rounded_weight</th><th>t09_bulge_shape_a25_rounded_fraction</th><th>t09_bulge_shape_a25_rounded_weighted_fraction</th><th>t09_bulge_shape_a26_boxy_count</th><th>t09_bulge_shape_a26_boxy_weight</th><th>t09_bulge_shape_a26_boxy_fraction</th><th>t09_bulge_shape_a26_boxy_weighted_fraction</th><th>t09_bulge_shape_a27_no_bulge_count</th><th>t09_bulge_shape_a27_no_bulge_weight</th><th>t09_bulge_shape_a27_no_bulge_fraction</th><th>t09_bulge_shape_a27_no_bulge_weighted_fraction</th><th>t09_bulge_shape_total_count</th><th>t09_bulge_shape_total_weight</th><th>t10_arms_winding_a28_tight_count</th><th>t10_arms_winding_a28_tight_weight</th><th>t10_arms_winding_a28_tight_fraction</th><th>t10_arms_winding_a28_tight_weighted_fraction</th><th>t10_arms_winding_a29_medium_count</th><th>t10_arms_winding_a29_medium_weight</th><th>t10_arms_winding_a29_medium_fraction</th><th>t10_arms_winding_a29_medium_weighted_fraction</th><th>t10_arms_winding_a30_loose_count</th><th>t10_arms_winding_a30_loose_weight</th><th>t10_arms_winding_a30_loose_fraction</th><th>t10_arms_winding_a30_loose_weighted_fraction</th><th>t10_arms_winding_total_count</th><th>t10_arms_winding_total_weight</th><th>t11_arms_number_a31_1_count</th><th>t11_arms_number_a31_1_weight</th><th>t11_arms_number_a31_1_fraction</th><th>t11_arms_number_a31_1_weighted_fraction</th><th>t11_arms_number_a32_2_count</th><th>t11_arms_number_a32_2_weight</th><th>t11_arms_number_a32_2_fraction</th><th>t11_arms_number_a32_2_weighted_fraction</th><th>t11_arms_number_a33_3_count</th><th>t11_arms_number_a33_3_weight</th><th>t11_arms_number_a33_3_fraction</th><th>t11_arms_number_a33_3_weighted_fraction</th><th>t11_arms_number_a34_4_count</th><th>t11_arms_number_a34_4_weight</th><th>t11_arms_number_a34_4_fraction</th><th>t11_arms_number_a34_4_weighted_fraction</th><th>t11_arms_number_a36_more_than_4_count</th><th>t11_arms_number_a36_more_than_4_weight</th><th>t11_arms_number_a36_more_than_4_fraction</th><th>t11_arms_number_a36_more_than_4_weighted_fraction</th><th>t11_arms_number_a37_cant_tell_count</th><th>t11_arms_number_a37_cant_tell_weight</th><th>t11_arms_number_a37_cant_tell_fraction</th><th>t11_arms_number_a37_cant_tell_weighted_fraction</th><th>t11_arms_number_total_count</th><th>t11_arms_number_total_weight</th><th>t12_arms_number_total_count</th><th>t12_arms_number_total_weight</th><th>t13_arms_number_total_count</th><th>t13_arms_number_total_weight</th><th>t14_clumpy_a39_yes_count</th><th>t14_clumpy_a39_yes_weight</th><th>t14_clumpy_a39_yes_fraction</th><th>t14_clumpy_a39_yes_weighted_fraction</th><th>t14_clumpy_a40_no_count</th><th>t14_clumpy_a40_no_weight</th><th>t14_clumpy_a40_no_fraction</th><th>t14_clumpy_a40_no_weighted_fraction</th><th>t14_clumpy_total_count</th><th>t14_clumpy_total_weight</th><th>t15_multiple_clumps_a41_yes_count</th><th>t15_multiple_clumps_a41_yes_weight</th><th>t15_multiple_clumps_a41_yes_fraction</th><th>t15_multiple_clumps_a41_yes_weighted_fraction</th><th>t15_multiple_clumps_a42_no_count</th><th>t15_multiple_clumps_a42_no_weight</th><th>t15_multiple_clumps_a42_no_fraction</th><th>t15_multiple_clumps_a42_no_weighted_fraction</th><th>t15_multiple_clumps_total_count</th><th>t15_multiple_clumps_total_weight</th><th>t16_bright_clump_a43_yes_count</th><th>t16_bright_clump_a43_yes_weight</th><th>t16_bright_clump_a43_yes_fraction</th><th>t16_bright_clump_a43_yes_weighted_fraction</th><th>t16_bright_clump_a44_no_count</th><th>t16_bright_clump_a44_no_weight</th><th>t16_bright_clump_a44_no_fraction</th><th>t16_bright_clump_a44_no_weighted_fraction</th><th>t16_bright_clump_total_count</th><th>t16_bright_clump_total_weight</th><th>t17_bright_clump_central_a45_yes_count</th><th>t17_bright_clump_central_a45_yes_weight</th><th>t17_bright_clump_central_a45_yes_fraction</th><th>t17_bright_clump_central_a45_yes_weighted_fraction</th><th>t17_bright_clump_central_a46_no_count</th><th>t17_bright_clump_central_a46_no_weight</th><th>t17_bright_clump_central_a46_no_fraction</th><th>t17_bright_clump_central_a46_no_weighted_fraction</th><th>t17_bright_clump_central_total_count</th><th>t17_bright_clump_central_total_weight</th><th>t18_clumps_arrangement_a47_line_count</th><th>t18_clumps_arrangement_a47_line_weight</th><th>t18_clumps_arrangement_a47_line_fraction</th><th>t18_clumps_arrangement_a47_line_weighted_fraction</th><th>t18_clumps_arrangement_a48_chain_count</th><th>t18_clumps_arrangement_a48_chain_weight</th><th>t18_clumps_arrangement_a48_chain_fraction</th><th>t18_clumps_arrangement_a48_chain_weighted_fraction</th><th>t18_clumps_arrangement_a49_cluster_count</th><th>t18_clumps_arrangement_a49_cluster_weight</th><th>t18_clumps_arrangement_a49_cluster_fraction</th><th>t18_clumps_arrangement_a49_cluster_weighted_fraction</th><th>t18_clumps_arrangement_a59_spiral_count</th><th>t18_clumps_arrangement_a59_spiral_weight</th><th>t18_clumps_arrangement_a59_spiral_fraction</th><th>t18_clumps_arrangement_a59_spiral_weighted_fraction</th><th>t18_clumps_arrangement_total_count</th><th>t18_clumps_arrangement_total_weight</th><th>t19_clumps_count_a50_2_count</th><th>t19_clumps_count_a50_2_weight</th><th>t19_clumps_count_a50_2_fraction</th><th>t19_clumps_count_a50_2_weighted_fraction</th><th>t19_clumps_count_a51_3_count</th><th>t19_clumps_count_a51_3_weight</th><th>t19_clumps_count_a51_3_fraction</th><th>t19_clumps_count_a51_3_weighted_fraction</th><th>t19_clumps_count_a52_4_count</th><th>t19_clumps_count_a52_4_weight</th><th>t19_clumps_count_a52_4_fraction</th><th>t19_clumps_count_a52_4_weighted_fraction</th><th>t19_clumps_count_a53_more_than_4_count</th><th>t19_clumps_count_a53_more_than_4_weight</th><th>t19_clumps_count_a53_more_than_4_fraction</th><th>t19_clumps_count_a53_more_than_4_weighted_fraction</th><th>t19_clumps_count_a54_cant_tell_count</th><th>t19_clumps_count_a54_cant_tell_weight</th><th>t19_clumps_count_a54_cant_tell_fraction</th><th>t19_clumps_count_a54_cant_tell_weighted_fraction</th><th>t19_clumps_count_a60_1_count</th><th>t19_clumps_count_a60_1_weight</th><th>t19_clumps_count_a60_1_fraction</th><th>t19_clumps_count_a60_1_weighted_fraction</th><th>t19_clumps_count_total_count</th><th>t19_clumps_count_total_weight</th><th>t20_clumps_symmetrical_a55_yes_count</th><th>t20_clumps_symmetrical_a55_yes_weight</th><th>t20_clumps_symmetrical_a55_yes_fraction</th><th>t20_clumps_symmetrical_a55_yes_weighted_fraction</th><th>t20_clumps_symmetrical_a56_no_count</th><th>t20_clumps_symmetrical_a56_no_weight</th><th>t20_clumps_symmetrical_a56_no_fraction</th><th>t20_clumps_symmetrical_a56_no_weighted_fraction</th><th>t20_clumps_symmetrical_total_count</th><th>t20_clumps_symmetrical_total_weight</th><th>t21_clumps_embedded_a57_yes_count</th><th>t21_clumps_embedded_a57_yes_weight</th><th>t21_clumps_embedded_a57_yes_fraction</th><th>t21_clumps_embedded_a57_yes_weighted_fraction</th><th>t21_clumps_embedded_a58_no_count</th><th>t21_clumps_embedded_a58_no_weight</th><th>t21_clumps_embedded_a58_no_fraction</th><th>t21_clumps_embedded_a58_no_weighted_fraction</th><th>t21_clumps_embedded_total_count</th><th>t21_clumps_embedded_total_weight</th><th>OBJID_2</th><th>RUN</th><th>RERUN</th><th>CAMCOL</th><th>FIELD</th><th>OBJ</th><th>RA</th><th>DEC</th><th>PETROR50_R</th><th>PETROR90_R</th><th>PETROMAG_U</th><th>PETROMAG_G</th><th>PETROMAG_R</th><th>PETROMAG_I</th><th>PETROMAG_Z</th><th>PETROMAGERR_U</th><th>PETROMAGERR_G</th><th>PETROMAGERR_R</th><th>PETROMAGERR_I</th><th>PETROMAGERR_Z</th><th>PSFMAG_R</th><th>FIBERMAG_R</th><th>DEVMAG_R</th><th>DEVMAGERR_R</th><th>EXPMAG_R</th><th>EXPMAGERR_R</th><th>FRACDEV_R</th><th>MU50_R</th><th>EXTINCTION_U</th><th>EXTINCTION_G</th><th>EXTINCTION_R</th><th>EXTINCTION_I</th><th>EXTINCTION_Z</th><th>ROWC_U</th><th>COLC_U</th><th>ROWC_G</th><th>COLC_G</th><th>ROWC_R</th><th>COLC_R</th><th>ROWC_I</th><th>COLC_I</th><th>ROWC_Z</th><th>COLC_Z</th><th>CMODELMAG_R</th><th>CMODELMAGERR_R</th><th>REDSHIFT</th><th>REDSHIFTERR</th><th>PETROMAG_MU</th><th>PETROMAG_MG</th><th>PETROMAG_MR</th><th>PETROMAG_MI</th><th>PETROMAG_MZ</th><th>PETROMAGERR_MU</th><th>PETROMAGERR_MG</th><th>PETROMAGERR_MR</th><th>PETROMAGERR_MI</th><th>PETROMAGERR_MZ</th><th>PETROR50_R_KPC</th><th>REGION</th><th>PETROR50_R_KPC_SIMPLE_BIN</th><th>PETROMAG_MR_SIMPLE_BIN</th><th>REDSHIFT_SIMPLE_BIN</th><th>WVT_BIN</th><th>SAMPLE_2</th><th>gr_color</th><th>ur_color</th></tr></thead>\n",
       "<thead><tr><th>int64</th><th>str22</th><th>int32</th><th>str20</th><th>int16</th><th>float32</th><th>int16</th><th>float32</th><th>float32</th><th>float32</th><th>int16</th><th>float32</th><th>float32</th><th>float32</th><th>int16</th><th>float32</th><th>float32</th><th>float32</th><th>int16</th><th>float32</th><th>int16</th><th>float32</th><th>float32</th><th>float32</th><th>int16</th><th>float32</th><th>float32</th><th>float32</th><th>int16</th><th>float32</th><th>int16</th><th>float32</th><th>float32</th><th>float32</th><th>int16</th><th>float32</th><th>float32</th><th>float32</th><th>int16</th><th>float32</th><th>int16</th><th>float32</th><th>float32</th><th>float32</th><th>int16</th><th>float32</th><th>float32</th><th>float32</th><th>int16</th><th>float32</th><th>int16</th><th>float32</th><th>float32</th><th>float32</th><th>int16</th><th>float32</th><th>float32</th><th>float32</th><th>int16</th><th>float32</th><th>float32</th><th>float32</th><th>int16</th><th>float32</th><th>float32</th><th>float32</th><th>int16</th><th>float32</th><th>int16</th><th>float32</th><th>float32</th><th>float32</th><th>int16</th><th>float32</th><th>float32</th><th>float32</th><th>int16</th><th>float32</th><th>int16</th><th>float32</th><th>float32</th><th>float32</th><th>int16</th><th>float32</th><th>float32</th><th>float32</th><th>int16</th><th>float32</th><th>float32</th><th>float32</th><th>int16</th><th>float32</th><th>int16</th><th>float32</th><th>float32</th><th>float32</th><th>int16</th><th>float32</th><th>float32</th><th>float32</th><th>int16</th><th>float32</th><th>float32</th><th>float32</th><th>int16</th><th>float32</th><th>float32</th><th>float32</th><th>int16</th><th>float32</th><th>float32</th><th>float32</th><th>int16</th><th>float32</th><th>float32</th><th>float32</th><th>int16</th><th>float32</th><th>float32</th><th>float32</th><th>int16</th><th>float32</th><th>int16</th><th>float32</th><th>float32</th><th>float32</th><th>int16</th><th>float32</th><th>float32</th><th>float32</th><th>int16</th><th>float32</th><th>float32</th><th>float32</th><th>int16</th><th>float32</th><th>int16</th><th>float32</th><th>float32</th><th>float32</th><th>int16</th><th>float32</th><th>float32</th><th>float32</th><th>int16</th><th>float32</th><th>float32</th><th>float32</th><th>int16</th><th>float32</th><th>int16</th><th>float32</th><th>float32</th><th>float32</th><th>int16</th><th>float32</th><th>float32</th><th>float32</th><th>int16</th><th>float32</th><th>float32</th><th>float32</th><th>int16</th><th>float32</th><th>float32</th><th>float32</th><th>int16</th><th>float32</th><th>float32</th><th>float32</th><th>int16</th><th>float32</th><th>float32</th><th>float32</th><th>int16</th><th>float32</th><th>int16</th><th>float32</th><th>int16</th><th>float32</th><th>int16</th><th>float32</th><th>float32</th><th>float32</th><th>int16</th><th>float32</th><th>float32</th><th>float32</th><th>int16</th><th>float32</th><th>int16</th><th>float32</th><th>float32</th><th>float32</th><th>int16</th><th>float32</th><th>float32</th><th>float32</th><th>int16</th><th>float32</th><th>int16</th><th>float32</th><th>float32</th><th>float32</th><th>int16</th><th>float32</th><th>float32</th><th>float32</th><th>int16</th><th>float32</th><th>int16</th><th>float32</th><th>float32</th><th>float32</th><th>int16</th><th>float32</th><th>float32</th><th>float32</th><th>int16</th><th>float32</th><th>int16</th><th>float32</th><th>float32</th><th>float32</th><th>int16</th><th>float32</th><th>float32</th><th>float32</th><th>int16</th><th>float32</th><th>float32</th><th>float32</th><th>int16</th><th>float32</th><th>float32</th><th>float32</th><th>int16</th><th>float32</th><th>int16</th><th>float32</th><th>float32</th><th>float32</th><th>int16</th><th>float32</th><th>float32</th><th>float32</th><th>int16</th><th>float32</th><th>float32</th><th>float32</th><th>int16</th><th>float32</th><th>float32</th><th>float32</th><th>int16</th><th>float32</th><th>float32</th><th>float32</th><th>int16</th><th>float32</th><th>float32</th><th>float32</th><th>int16</th><th>float32</th><th>int16</th><th>float32</th><th>float32</th><th>float32</th><th>int16</th><th>float32</th><th>float32</th><th>float32</th><th>int16</th><th>float32</th><th>int16</th><th>float32</th><th>float32</th><th>float32</th><th>int16</th><th>float32</th><th>float32</th><th>float32</th><th>int16</th><th>float32</th><th>int64</th><th>int16</th><th>int16</th><th>int16</th><th>int16</th><th>int16</th><th>float64</th><th>float64</th><th>float32</th><th>float32</th><th>float32</th><th>float32</th><th>float32</th><th>float32</th><th>float32</th><th>float32</th><th>float32</th><th>float32</th><th>float32</th><th>float32</th><th>float32</th><th>float32</th><th>float32</th><th>float32</th><th>float32</th><th>float32</th><th>float32</th><th>float64</th><th>float32</th><th>float32</th><th>float32</th><th>float32</th><th>float32</th><th>float32</th><th>float32</th><th>float32</th><th>float32</th><th>float32</th><th>float32</th><th>float32</th><th>float32</th><th>float32</th><th>float32</th><th>float64</th><th>float64</th><th>float32</th><th>float32</th><th>float32</th><th>float32</th><th>float32</th><th>float32</th><th>float32</th><th>float32</th><th>float32</th><th>float32</th><th>float32</th><th>float32</th><th>float32</th><th>int16</th><th>int16</th><th>int16</th><th>int16</th><th>int16</th><th>str22</th><th>float32</th><th>float32</th></tr></thead>\n",
       "<tr><td>587731174915113401</td><td>stripe82</td><td>23867</td><td>587731174915113401</td><td>258</td><td>254.006</td><td>15</td><td>14.001</td><td>0.333</td><td>0.326</td><td>23</td><td>23.0</td><td>0.511</td><td>0.535</td><td>7</td><td>6.003</td><td>0.156</td><td>0.14</td><td>45</td><td>43.004</td><td>0</td><td>0.0</td><td>0.0</td><td>0.0</td><td>7</td><td>7.0</td><td>1.0</td><td>1.0</td><td>7</td><td>7.0</td><td>3</td><td>3.0</td><td>0.429</td><td>0.429</td><td>4</td><td>4.0</td><td>0.571</td><td>0.571</td><td>7</td><td>7.0</td><td>3</td><td>3.0</td><td>0.429</td><td>0.429</td><td>4</td><td>4.0</td><td>0.571</td><td>0.571</td><td>7</td><td>7.0</td><td>5</td><td>5.0</td><td>0.714</td><td>0.714</td><td>2</td><td>2.0</td><td>0.286</td><td>0.286</td><td>0</td><td>0.0</td><td>0.0</td><td>0.0</td><td>0</td><td>0.0</td><td>0.0</td><td>0.0</td><td>7</td><td>7.0</td><td>18</td><td>18.0</td><td>0.474</td><td>0.486</td><td>20</td><td>19.001</td><td>0.526</td><td>0.514</td><td>38</td><td>37.001</td><td>3</td><td>2.001</td><td>0.188</td><td>0.133</td><td>12</td><td>12.0</td><td>0.75</td><td>0.8</td><td>1</td><td>1.0</td><td>0.062</td><td>0.067</td><td>16</td><td>15.000999</td><td>0</td><td>0.0</td><td>0.0</td><td>0.0</td><td>0</td><td>0.0</td><td>0.0</td><td>0.0</td><td>1</td><td>1.0</td><td>0.056</td><td>0.056</td><td>5</td><td>5.0</td><td>0.278</td><td>0.278</td><td>8</td><td>8.0</td><td>0.444</td><td>0.444</td><td>4</td><td>4.0</td><td>0.222</td><td>0.222</td><td>0</td><td>0.0</td><td>0.0</td><td>0.0</td><td>18</td><td>18.0</td><td>0</td><td>0.0</td><td>0.0</td><td>0.0</td><td>0</td><td>0.0</td><td>0.0</td><td>0.0</td><td>0</td><td>0.0</td><td>0.0</td><td>0.0</td><td>0</td><td>0.0</td><td>1</td><td>1.0</td><td>0.333</td><td>0.333</td><td>2</td><td>2.0</td><td>0.667</td><td>0.667</td><td>0</td><td>0.0</td><td>0.0</td><td>0.0</td><td>3</td><td>3.0</td><td>2</td><td>2.0</td><td>0.667</td><td>0.667</td><td>1</td><td>1.0</td><td>0.333</td><td>0.333</td><td>0</td><td>0.0</td><td>0.0</td><td>0.0</td><td>0</td><td>0.0</td><td>0.0</td><td>0.0</td><td>0</td><td>0.0</td><td>0.0</td><td>0.0</td><td>0</td><td>0.0</td><td>0.0</td><td>0.0</td><td>3</td><td>3.0</td><td>0</td><td>0.0</td><td>0</td><td>0.0</td><td>16</td><td>16.0</td><td>0.696</td><td>0.696</td><td>7</td><td>7.0</td><td>0.304</td><td>0.304</td><td>23</td><td>23.0</td><td>0</td><td>0.0</td><td>0.0</td><td>0.0</td><td>0</td><td>0.0</td><td>0.0</td><td>0.0</td><td>0</td><td>0.0</td><td>13</td><td>13.0</td><td>0.929</td><td>0.929</td><td>1</td><td>1.0</td><td>0.071</td><td>0.071</td><td>14</td><td>14.0</td><td>0</td><td>0.0</td><td>0.0</td><td>0.0</td><td>13</td><td>13.0</td><td>1.0</td><td>1.0</td><td>13</td><td>13.0</td><td>0</td><td>0.0</td><td>0.0</td><td>0.0</td><td>3</td><td>3.0</td><td>0.333</td><td>0.333</td><td>6</td><td>6.0</td><td>0.667</td><td>0.667</td><td>0</td><td>0.0</td><td>0.0</td><td>0.0</td><td>9</td><td>9.0</td><td>5</td><td>5.0</td><td>0.312</td><td>0.312</td><td>6</td><td>6.0</td><td>0.375</td><td>0.375</td><td>1</td><td>1.0</td><td>0.062</td><td>0.062</td><td>1</td><td>1.0</td><td>0.062</td><td>0.062</td><td>1</td><td>1.0</td><td>0.062</td><td>0.062</td><td>2</td><td>2.0</td><td>0.125</td><td>0.125</td><td>16</td><td>16.0</td><td>2</td><td>2.0</td><td>0.125</td><td>0.125</td><td>14</td><td>14.0</td><td>0.875</td><td>0.875</td><td>16</td><td>16.0</td><td>10</td><td>10.0</td><td>0.625</td><td>0.625</td><td>6</td><td>6.0</td><td>0.375</td><td>0.375</td><td>16</td><td>16.0</td><td>587731174915113401</td><td>2659</td><td>40</td><td>6</td><td>61</td><td>441</td><td>310.31152523</td><td>1.17985096</td><td>3.2303386</td><td>7.783539</td><td>18.284086</td><td>17.361382</td><td>16.912163</td><td>16.635872</td><td>16.575432</td><td>0.2971967</td><td>0.49241605</td><td>0.7674685</td><td>0.79533625</td><td>0.8451982</td><td>19.272758</td><td>18.81686</td><td>16.458809</td><td>0.008127883</td><td>16.980036</td><td>0.007906992</td><td>0.11522031</td><td>21.453852615305497</td><td>0.44049382</td><td>0.32411116</td><td>0.23507246</td><td>0.17824833</td><td>0.12638028</td><td>1038.6462</td><td>1269.45</td><td>1045.016</td><td>1266.9722</td><td>1033.3402</td><td>1263.7152</td><td>1039.1073</td><td>1264.5415</td><td>1044.5983</td><td>1264.2041</td><td>16.905565248328003</td><td>0.006683306276144206</td><td>0.0270547</td><td>8.55638e-05</td><td>-17.57859</td><td>-18.333477</td><td>-18.725151</td><td>-18.892918</td><td>-18.869383</td><td>0.29787108</td><td>0.49251795</td><td>0.76753414</td><td>0.7953999</td><td>0.84527075</td><td>1.7560135</td><td>0</td><td>17</td><td>105</td><td>1</td><td>3</td><td>stripe82</td><td>0.44921875</td><td>1.3719234</td></tr>\n",
       "</table>"
      ],
      "text/plain": [
       "<Row index=34>\n",
       "     objid_1              sample_1        asset_id      objid_str       total_count total_weight t01_smooth_or_features_a01_smooth_count t01_smooth_or_features_a01_smooth_weight t01_smooth_or_features_a01_smooth_fraction t01_smooth_or_features_a01_smooth_weighted_fraction t01_smooth_or_features_a02_features_or_disk_count t01_smooth_or_features_a02_features_or_disk_weight t01_smooth_or_features_a02_features_or_disk_fraction t01_smooth_or_features_a02_features_or_disk_weighted_fraction t01_smooth_or_features_a03_star_or_artifact_count t01_smooth_or_features_a03_star_or_artifact_weight t01_smooth_or_features_a03_star_or_artifact_fraction t01_smooth_or_features_a03_star_or_artifact_weighted_fraction t01_smooth_or_features_total_count t01_smooth_or_features_total_weight t02_edgeon_a04_yes_count t02_edgeon_a04_yes_weight t02_edgeon_a04_yes_fraction t02_edgeon_a04_yes_weighted_fraction t02_edgeon_a05_no_count t02_edgeon_a05_no_weight t02_edgeon_a05_no_fraction t02_edgeon_a05_no_weighted_fraction t02_edgeon_total_count t02_edgeon_total_weight t03_bar_a06_bar_count t03_bar_a06_bar_weight t03_bar_a06_bar_fraction t03_bar_a06_bar_weighted_fraction t03_bar_a07_no_bar_count t03_bar_a07_no_bar_weight t03_bar_a07_no_bar_fraction t03_bar_a07_no_bar_weighted_fraction t03_bar_total_count t03_bar_total_weight t04_spiral_a08_spiral_count t04_spiral_a08_spiral_weight t04_spiral_a08_spiral_fraction t04_spiral_a08_spiral_weighted_fraction t04_spiral_a09_no_spiral_count t04_spiral_a09_no_spiral_weight t04_spiral_a09_no_spiral_fraction t04_spiral_a09_no_spiral_weighted_fraction t04_spiral_total_count t04_spiral_total_weight t05_bulge_prominence_a10_no_bulge_count t05_bulge_prominence_a10_no_bulge_weight t05_bulge_prominence_a10_no_bulge_fraction t05_bulge_prominence_a10_no_bulge_weighted_fraction t05_bulge_prominence_a11_just_noticeable_count t05_bulge_prominence_a11_just_noticeable_weight t05_bulge_prominence_a11_just_noticeable_fraction t05_bulge_prominence_a11_just_noticeable_weighted_fraction t05_bulge_prominence_a12_obvious_count t05_bulge_prominence_a12_obvious_weight t05_bulge_prominence_a12_obvious_fraction t05_bulge_prominence_a12_obvious_weighted_fraction t05_bulge_prominence_a13_dominant_count t05_bulge_prominence_a13_dominant_weight t05_bulge_prominence_a13_dominant_fraction t05_bulge_prominence_a13_dominant_weighted_fraction t05_bulge_prominence_total_count t05_bulge_prominence_total_weight t06_odd_a14_yes_count t06_odd_a14_yes_weight t06_odd_a14_yes_fraction t06_odd_a14_yes_weighted_fraction t06_odd_a15_no_count t06_odd_a15_no_weight t06_odd_a15_no_fraction t06_odd_a15_no_weighted_fraction t06_odd_total_count t06_odd_total_weight t07_rounded_a16_completely_round_count t07_rounded_a16_completely_round_weight t07_rounded_a16_completely_round_fraction t07_rounded_a16_completely_round_weighted_fraction t07_rounded_a17_in_between_count t07_rounded_a17_in_between_weight t07_rounded_a17_in_between_fraction t07_rounded_a17_in_between_weighted_fraction t07_rounded_a18_cigar_shaped_count t07_rounded_a18_cigar_shaped_weight t07_rounded_a18_cigar_shaped_fraction t07_rounded_a18_cigar_shaped_weighted_fraction t07_rounded_total_count t07_rounded_total_weight t08_odd_feature_a19_ring_count t08_odd_feature_a19_ring_weight t08_odd_feature_a19_ring_fraction t08_odd_feature_a19_ring_weighted_fraction t08_odd_feature_a20_lens_or_arc_count t08_odd_feature_a20_lens_or_arc_weight t08_odd_feature_a20_lens_or_arc_fraction t08_odd_feature_a20_lens_or_arc_weighted_fraction t08_odd_feature_a21_disturbed_count t08_odd_feature_a21_disturbed_weight t08_odd_feature_a21_disturbed_fraction t08_odd_feature_a21_disturbed_weighted_fraction t08_odd_feature_a22_irregular_count t08_odd_feature_a22_irregular_weight t08_odd_feature_a22_irregular_fraction t08_odd_feature_a22_irregular_weighted_fraction t08_odd_feature_a23_other_count t08_odd_feature_a23_other_weight t08_odd_feature_a23_other_fraction t08_odd_feature_a23_other_weighted_fraction t08_odd_feature_a24_merger_count t08_odd_feature_a24_merger_weight t08_odd_feature_a24_merger_fraction t08_odd_feature_a24_merger_weighted_fraction t08_odd_feature_a38_dust_lane_count t08_odd_feature_a38_dust_lane_weight t08_odd_feature_a38_dust_lane_fraction t08_odd_feature_a38_dust_lane_weighted_fraction t08_odd_feature_total_count t08_odd_feature_total_weight t09_bulge_shape_a25_rounded_count t09_bulge_shape_a25_rounded_weight t09_bulge_shape_a25_rounded_fraction t09_bulge_shape_a25_rounded_weighted_fraction t09_bulge_shape_a26_boxy_count t09_bulge_shape_a26_boxy_weight t09_bulge_shape_a26_boxy_fraction t09_bulge_shape_a26_boxy_weighted_fraction t09_bulge_shape_a27_no_bulge_count t09_bulge_shape_a27_no_bulge_weight t09_bulge_shape_a27_no_bulge_fraction t09_bulge_shape_a27_no_bulge_weighted_fraction t09_bulge_shape_total_count t09_bulge_shape_total_weight t10_arms_winding_a28_tight_count t10_arms_winding_a28_tight_weight t10_arms_winding_a28_tight_fraction t10_arms_winding_a28_tight_weighted_fraction t10_arms_winding_a29_medium_count t10_arms_winding_a29_medium_weight t10_arms_winding_a29_medium_fraction t10_arms_winding_a29_medium_weighted_fraction t10_arms_winding_a30_loose_count t10_arms_winding_a30_loose_weight t10_arms_winding_a30_loose_fraction t10_arms_winding_a30_loose_weighted_fraction t10_arms_winding_total_count t10_arms_winding_total_weight t11_arms_number_a31_1_count t11_arms_number_a31_1_weight t11_arms_number_a31_1_fraction t11_arms_number_a31_1_weighted_fraction t11_arms_number_a32_2_count t11_arms_number_a32_2_weight t11_arms_number_a32_2_fraction t11_arms_number_a32_2_weighted_fraction t11_arms_number_a33_3_count t11_arms_number_a33_3_weight t11_arms_number_a33_3_fraction t11_arms_number_a33_3_weighted_fraction t11_arms_number_a34_4_count t11_arms_number_a34_4_weight t11_arms_number_a34_4_fraction t11_arms_number_a34_4_weighted_fraction t11_arms_number_a36_more_than_4_count t11_arms_number_a36_more_than_4_weight t11_arms_number_a36_more_than_4_fraction t11_arms_number_a36_more_than_4_weighted_fraction t11_arms_number_a37_cant_tell_count t11_arms_number_a37_cant_tell_weight t11_arms_number_a37_cant_tell_fraction t11_arms_number_a37_cant_tell_weighted_fraction t11_arms_number_total_count t11_arms_number_total_weight t12_arms_number_total_count t12_arms_number_total_weight t13_arms_number_total_count t13_arms_number_total_weight t14_clumpy_a39_yes_count t14_clumpy_a39_yes_weight t14_clumpy_a39_yes_fraction t14_clumpy_a39_yes_weighted_fraction t14_clumpy_a40_no_count t14_clumpy_a40_no_weight t14_clumpy_a40_no_fraction t14_clumpy_a40_no_weighted_fraction t14_clumpy_total_count t14_clumpy_total_weight t15_multiple_clumps_a41_yes_count t15_multiple_clumps_a41_yes_weight t15_multiple_clumps_a41_yes_fraction t15_multiple_clumps_a41_yes_weighted_fraction t15_multiple_clumps_a42_no_count t15_multiple_clumps_a42_no_weight t15_multiple_clumps_a42_no_fraction t15_multiple_clumps_a42_no_weighted_fraction t15_multiple_clumps_total_count t15_multiple_clumps_total_weight t16_bright_clump_a43_yes_count t16_bright_clump_a43_yes_weight t16_bright_clump_a43_yes_fraction t16_bright_clump_a43_yes_weighted_fraction t16_bright_clump_a44_no_count t16_bright_clump_a44_no_weight t16_bright_clump_a44_no_fraction t16_bright_clump_a44_no_weighted_fraction t16_bright_clump_total_count t16_bright_clump_total_weight t17_bright_clump_central_a45_yes_count t17_bright_clump_central_a45_yes_weight t17_bright_clump_central_a45_yes_fraction t17_bright_clump_central_a45_yes_weighted_fraction t17_bright_clump_central_a46_no_count t17_bright_clump_central_a46_no_weight t17_bright_clump_central_a46_no_fraction t17_bright_clump_central_a46_no_weighted_fraction t17_bright_clump_central_total_count t17_bright_clump_central_total_weight t18_clumps_arrangement_a47_line_count t18_clumps_arrangement_a47_line_weight t18_clumps_arrangement_a47_line_fraction t18_clumps_arrangement_a47_line_weighted_fraction t18_clumps_arrangement_a48_chain_count t18_clumps_arrangement_a48_chain_weight t18_clumps_arrangement_a48_chain_fraction t18_clumps_arrangement_a48_chain_weighted_fraction t18_clumps_arrangement_a49_cluster_count t18_clumps_arrangement_a49_cluster_weight t18_clumps_arrangement_a49_cluster_fraction t18_clumps_arrangement_a49_cluster_weighted_fraction t18_clumps_arrangement_a59_spiral_count t18_clumps_arrangement_a59_spiral_weight t18_clumps_arrangement_a59_spiral_fraction t18_clumps_arrangement_a59_spiral_weighted_fraction t18_clumps_arrangement_total_count t18_clumps_arrangement_total_weight t19_clumps_count_a50_2_count t19_clumps_count_a50_2_weight t19_clumps_count_a50_2_fraction t19_clumps_count_a50_2_weighted_fraction t19_clumps_count_a51_3_count t19_clumps_count_a51_3_weight t19_clumps_count_a51_3_fraction t19_clumps_count_a51_3_weighted_fraction t19_clumps_count_a52_4_count t19_clumps_count_a52_4_weight t19_clumps_count_a52_4_fraction t19_clumps_count_a52_4_weighted_fraction t19_clumps_count_a53_more_than_4_count t19_clumps_count_a53_more_than_4_weight t19_clumps_count_a53_more_than_4_fraction t19_clumps_count_a53_more_than_4_weighted_fraction t19_clumps_count_a54_cant_tell_count t19_clumps_count_a54_cant_tell_weight t19_clumps_count_a54_cant_tell_fraction t19_clumps_count_a54_cant_tell_weighted_fraction t19_clumps_count_a60_1_count t19_clumps_count_a60_1_weight t19_clumps_count_a60_1_fraction t19_clumps_count_a60_1_weighted_fraction t19_clumps_count_total_count t19_clumps_count_total_weight t20_clumps_symmetrical_a55_yes_count t20_clumps_symmetrical_a55_yes_weight t20_clumps_symmetrical_a55_yes_fraction t20_clumps_symmetrical_a55_yes_weighted_fraction t20_clumps_symmetrical_a56_no_count t20_clumps_symmetrical_a56_no_weight t20_clumps_symmetrical_a56_no_fraction t20_clumps_symmetrical_a56_no_weighted_fraction t20_clumps_symmetrical_total_count t20_clumps_symmetrical_total_weight t21_clumps_embedded_a57_yes_count t21_clumps_embedded_a57_yes_weight t21_clumps_embedded_a57_yes_fraction t21_clumps_embedded_a57_yes_weighted_fraction t21_clumps_embedded_a58_no_count t21_clumps_embedded_a58_no_weight t21_clumps_embedded_a58_no_fraction t21_clumps_embedded_a58_no_weighted_fraction t21_clumps_embedded_total_count t21_clumps_embedded_total_weight      OBJID_2        RUN  RERUN CAMCOL FIELD  OBJ       RA         DEC     PETROR50_R PETROR90_R PETROMAG_U PETROMAG_G PETROMAG_R PETROMAG_I PETROMAG_Z PETROMAGERR_U PETROMAGERR_G PETROMAGERR_R PETROMAGERR_I PETROMAGERR_Z  PSFMAG_R FIBERMAG_R  DEVMAG_R DEVMAGERR_R  EXPMAG_R EXPMAGERR_R FRACDEV_R        MU50_R       EXTINCTION_U EXTINCTION_G EXTINCTION_R EXTINCTION_I EXTINCTION_Z   ROWC_U   COLC_U  ROWC_G    COLC_G    ROWC_R    COLC_R    ROWC_I    COLC_I    ROWC_Z    COLC_Z     CMODELMAG_R        CMODELMAGERR_R     REDSHIFT REDSHIFTERR PETROMAG_MU PETROMAG_MG PETROMAG_MR PETROMAG_MI PETROMAG_MZ PETROMAGERR_MU PETROMAGERR_MG PETROMAGERR_MR PETROMAGERR_MI PETROMAGERR_MZ PETROR50_R_KPC REGION PETROR50_R_KPC_SIMPLE_BIN PETROMAG_MR_SIMPLE_BIN REDSHIFT_SIMPLE_BIN WVT_BIN        SAMPLE_2         gr_color   ur_color\n",
       "      int64                str22           int32          str20            int16      float32                     int16                                  float32                                   float32                                         float32                                             int16                                            float32                                             float32                                                   float32                                                  int16                                            float32                                             float32                                                   float32                                          int16                              float32                        int16                    float32                    float32                         float32                         int16                  float32                   float32                         float32                       int16                  float32                 int16                float32                 float32                       float32                       int16                    float32                    float32                         float32                       int16              float32                   int16                      float32                       float32                             float32                             int16                          float32                          float32                               float32                           int16                  float32                          int16                                  float32                                   float32                                         float32                                           int16                                          float32                                          float32                                               float32                                           int16                                  float32                                  float32                                       float32                                        int16                                  float32                                   float32                                         float32                                    int16                            float32                      int16                float32                 float32                       float32                     int16                float32                float32                     float32                     int16              float32                        int16                                  float32                                  float32                                       float32                                    int16                            float32                            float32                                 float32                                  int16                              float32                              float32                                   float32                              int16                  float32                      int16                          float32                          float32                               float32                                   int16                                float32                                 float32                                       float32                                     int16                              float32                               float32                                     float32                                    int16                              float32                               float32                                     float32                                  int16                          float32                           float32                                 float32                                int16                            float32                            float32                                 float32                                   int16                              float32                               float32                                     float32                                int16                      float32                          int16                            float32                             float32                                   float32                                int16                          float32                          float32                               float32                                 int16                              float32                              float32                                   float32                                int16                      float32                         int16                            float32                            float32                                 float32                                  int16                            float32                             float32                                   float32                                 int16                            float32                            float32                                 float32                               int16                        float32                       int16                      float32                       float32                             float32                            int16                      float32                       float32                             float32                            int16                      float32                       float32                             float32                            int16                      float32                       float32                             float32                                 int16                                float32                                 float32                                       float32                                     int16                              float32                               float32                                     float32                                int16                      float32                       int16                      float32                       int16                      float32                     int16                    float32                    float32                         float32                         int16                  float32                   float32                         float32                       int16                  float32                       int16                            float32                             float32                                   float32                                 int16                            float32                            float32                                 float32                                 int16                          float32                          int16                          float32                          float32                               float32                               int16                        float32                         float32                               float32                             int16                        float32                            int16                                  float32                                  float32                                       float32                                       int16                                float32                                 float32                                       float32                                     int16                                float32                                int16                                float32                                 float32                                       float32                                      int16                                  float32                                  float32                                       float32                                        int16                                    float32                                    float32                                         float32                                         int16                                  float32                                   float32                                         float32                                     int16                              float32                          int16                        float32                        float32                             float32                             int16                        float32                        float32                             float32                             int16                        float32                        float32                             float32                                  int16                                  float32                                  float32                                       float32                                      int16                                float32                                float32                                     float32                                 int16                        float32                        float32                             float32                             int16                        float32                           int16                                float32                                float32                                     float32                                     int16                              float32                               float32                                     float32                                   int16                              float32                             int16                            float32                             float32                                   float32                                 int16                            float32                            float32                                 float32                                 int16                          float32                    int64        int16 int16 int16  int16 int16   float64     float64    float32    float32    float32    float32    float32    float32    float32      float32       float32       float32       float32       float32     float32   float32    float32    float32    float32    float32    float32        float64         float32      float32      float32      float32      float32     float32  float32 float32   float32   float32   float32   float32   float32   float32   float32       float64             float64         float32    float32     float32     float32     float32     float32     float32      float32        float32        float32        float32        float32        float32     int16            int16                   int16                 int16         int16          str22           float32    float32 \n",
       "------------------ ---------------------- -------- -------------------- ----------- ------------ --------------------------------------- ---------------------------------------- ------------------------------------------ --------------------------------------------------- ------------------------------------------------- -------------------------------------------------- ---------------------------------------------------- ------------------------------------------------------------- ------------------------------------------------- -------------------------------------------------- ---------------------------------------------------- ------------------------------------------------------------- ---------------------------------- ----------------------------------- ------------------------ ------------------------- --------------------------- ------------------------------------ ----------------------- ------------------------ -------------------------- ----------------------------------- ---------------------- ----------------------- --------------------- ---------------------- ------------------------ --------------------------------- ------------------------ ------------------------- --------------------------- ------------------------------------ ------------------- -------------------- --------------------------- ---------------------------- ------------------------------ --------------------------------------- ------------------------------ ------------------------------- --------------------------------- ------------------------------------------ ---------------------- ----------------------- --------------------------------------- ---------------------------------------- ------------------------------------------ --------------------------------------------------- ---------------------------------------------- ----------------------------------------------- ------------------------------------------------- ---------------------------------------------------------- -------------------------------------- --------------------------------------- ----------------------------------------- -------------------------------------------------- --------------------------------------- ---------------------------------------- ------------------------------------------ --------------------------------------------------- -------------------------------- --------------------------------- --------------------- ---------------------- ------------------------ --------------------------------- -------------------- --------------------- ----------------------- -------------------------------- ------------------- -------------------- -------------------------------------- --------------------------------------- ----------------------------------------- -------------------------------------------------- -------------------------------- --------------------------------- ----------------------------------- -------------------------------------------- ---------------------------------- ----------------------------------- ------------------------------------- ---------------------------------------------- ----------------------- ------------------------ ------------------------------ ------------------------------- --------------------------------- ------------------------------------------ ------------------------------------- -------------------------------------- ---------------------------------------- ------------------------------------------------- ----------------------------------- ------------------------------------ -------------------------------------- ----------------------------------------------- ----------------------------------- ------------------------------------ -------------------------------------- ----------------------------------------------- ------------------------------- -------------------------------- ---------------------------------- ------------------------------------------- -------------------------------- --------------------------------- ----------------------------------- -------------------------------------------- ----------------------------------- ------------------------------------ -------------------------------------- ----------------------------------------------- --------------------------- ---------------------------- --------------------------------- ---------------------------------- ------------------------------------ --------------------------------------------- ------------------------------ ------------------------------- --------------------------------- ------------------------------------------ ---------------------------------- ----------------------------------- ------------------------------------- ---------------------------------------------- --------------------------- ---------------------------- -------------------------------- --------------------------------- ----------------------------------- -------------------------------------------- --------------------------------- ---------------------------------- ------------------------------------ --------------------------------------------- -------------------------------- --------------------------------- ----------------------------------- -------------------------------------------- ---------------------------- ----------------------------- --------------------------- ---------------------------- ------------------------------ --------------------------------------- --------------------------- ---------------------------- ------------------------------ --------------------------------------- --------------------------- ---------------------------- ------------------------------ --------------------------------------- --------------------------- ---------------------------- ------------------------------ --------------------------------------- ------------------------------------- -------------------------------------- ---------------------------------------- ------------------------------------------------- ----------------------------------- ------------------------------------ -------------------------------------- ----------------------------------------------- --------------------------- ---------------------------- --------------------------- ---------------------------- --------------------------- ---------------------------- ------------------------ ------------------------- --------------------------- ------------------------------------ ----------------------- ------------------------ -------------------------- ----------------------------------- ---------------------- ----------------------- --------------------------------- ---------------------------------- ------------------------------------ --------------------------------------------- -------------------------------- --------------------------------- ----------------------------------- -------------------------------------------- ------------------------------- -------------------------------- ------------------------------ ------------------------------- --------------------------------- ------------------------------------------ ----------------------------- ------------------------------ -------------------------------- ----------------------------------------- ---------------------------- ----------------------------- -------------------------------------- --------------------------------------- ----------------------------------------- -------------------------------------------------- ------------------------------------- -------------------------------------- ---------------------------------------- ------------------------------------------------- ------------------------------------ ------------------------------------- ------------------------------------- -------------------------------------- ---------------------------------------- ------------------------------------------------- -------------------------------------- --------------------------------------- ----------------------------------------- -------------------------------------------------- ---------------------------------------- ----------------------------------------- ------------------------------------------- ---------------------------------------------------- --------------------------------------- ---------------------------------------- ------------------------------------------ --------------------------------------------------- ---------------------------------- ----------------------------------- ---------------------------- ----------------------------- ------------------------------- ---------------------------------------- ---------------------------- ----------------------------- ------------------------------- ---------------------------------------- ---------------------------- ----------------------------- ------------------------------- ---------------------------------------- -------------------------------------- --------------------------------------- ----------------------------------------- -------------------------------------------------- ------------------------------------ ------------------------------------- --------------------------------------- ------------------------------------------------ ---------------------------- ----------------------------- ------------------------------- ---------------------------------------- ---------------------------- ----------------------------- ------------------------------------ ------------------------------------- --------------------------------------- ------------------------------------------------ ----------------------------------- ------------------------------------ -------------------------------------- ----------------------------------------------- ---------------------------------- ----------------------------------- --------------------------------- ---------------------------------- ------------------------------------ --------------------------------------------- -------------------------------- --------------------------------- ----------------------------------- -------------------------------------------- ------------------------------- -------------------------------- ------------------ ----- ----- ------ ----- ----- ------------ ---------- ---------- ---------- ---------- ---------- ---------- ---------- ---------- ------------- ------------- ------------- ------------- ------------- --------- ---------- --------- ----------- --------- ----------- ---------- ------------------ ------------ ------------ ------------ ------------ ------------ --------- ------- -------- --------- --------- --------- --------- --------- --------- --------- ------------------ -------------------- --------- ----------- ----------- ----------- ----------- ----------- ----------- -------------- -------------- -------------- -------------- -------------- -------------- ------ ------------------------- ---------------------- ------------------- ------- ---------------------- ---------- ---------\n",
       "587731174915113401 stripe82                  23867 587731174915113401           258      254.006                                      15                                   14.001                                      0.333                                               0.326                                                23                                               23.0                                                0.511                                                         0.535                                                 7                                              6.003                                                0.156                                                          0.14                                 45                              43.004                        0                       0.0                         0.0                                  0.0                       7                      7.0                        1.0                                 1.0                      7                     7.0                     3                    3.0                    0.429                             0.429                        4                       4.0                       0.571                                0.571                   7                  7.0                           3                          3.0                          0.429                                   0.429                              4                             4.0                             0.571                                      0.571                      7                     7.0                                       5                                      5.0                                      0.714                                               0.714                                              2                                             2.0                                             0.286                                                      0.286                                      0                                     0.0                                       0.0                                                0.0                                       0                                      0.0                                        0.0                                                 0.0                                7                               7.0                    18                   18.0                    0.474                             0.486                   20                19.001                   0.526                            0.514                  38               37.001                                      3                                   2.001                                     0.188                                              0.133                               12                              12.0                                0.75                                          0.8                                  1                                 1.0                                 0.062                                          0.067                      16                15.000999                              0                             0.0                               0.0                                        0.0                                     0                                    0.0                                      0.0                                               0.0                                   1                                  1.0                                  0.056                                           0.056                                   5                                  5.0                                  0.278                                           0.278                               8                              8.0                              0.444                                       0.444                                4                               4.0                               0.222                                        0.222                                   0                                  0.0                                    0.0                                             0.0                          18                         18.0                                 0                                0.0                                  0.0                                           0.0                              0                             0.0                               0.0                                        0.0                                  0                                 0.0                                   0.0                                            0.0                           0                          0.0                                1                               1.0                               0.333                                        0.333                                 2                                2.0                                0.667                                         0.667                                0                               0.0                                 0.0                                          0.0                            3                           3.0                           2                          2.0                          0.667                                   0.667                           1                          1.0                          0.333                                   0.333                           0                          0.0                            0.0                                     0.0                           0                          0.0                            0.0                                     0.0                                     0                                    0.0                                      0.0                                               0.0                                   0                                  0.0                                    0.0                                             0.0                           3                          3.0                           0                          0.0                           0                          0.0                       16                      16.0                       0.696                                0.696                       7                      7.0                      0.304                               0.304                     23                    23.0                                 0                                0.0                                  0.0                                           0.0                                0                               0.0                                 0.0                                          0.0                               0                              0.0                             13                            13.0                             0.929                                      0.929                             1                            1.0                            0.071                                     0.071                           14                          14.0                                      0                                     0.0                                       0.0                                                0.0                                    13                                   13.0                                      1.0                                               1.0                                   13                                  13.0                                     0                                    0.0                                      0.0                                               0.0                                      3                                     3.0                                     0.333                                              0.333                                        6                                       6.0                                       0.667                                                0.667                                       0                                      0.0                                        0.0                                                 0.0                                  9                                 9.0                            5                           5.0                           0.312                                    0.312                            6                           6.0                           0.375                                    0.375                            1                           1.0                           0.062                                    0.062                                      1                                     1.0                                     0.062                                              0.062                                    1                                   1.0                                   0.062                                            0.062                            2                           2.0                           0.125                                    0.125                           16                          16.0                                    2                                   2.0                                   0.125                                            0.125                                  14                                 14.0                                  0.875                                           0.875                                 16                                16.0                                10                               10.0                                0.625                                         0.625                                6                               6.0                               0.375                                        0.375                              16                             16.0 587731174915113401  2659    40      6    61   441 310.31152523 1.17985096  3.2303386   7.783539  18.284086  17.361382  16.912163  16.635872  16.575432     0.2971967    0.49241605     0.7674685    0.79533625     0.8451982 19.272758   18.81686 16.458809 0.008127883 16.980036 0.007906992 0.11522031 21.453852615305497   0.44049382   0.32411116   0.23507246   0.17824833   0.12638028 1038.6462 1269.45 1045.016 1266.9722 1033.3402 1263.7152 1039.1073 1264.5415 1044.5983 1264.2041 16.905565248328003 0.006683306276144206 0.0270547 8.55638e-05   -17.57859  -18.333477  -18.725151  -18.892918  -18.869383     0.29787108     0.49251795     0.76753414      0.7953999     0.84527075      1.7560135      0                        17                    105                   1       3 stripe82               0.44921875 1.3719234"
      ]
     },
     "execution_count": 17,
     "metadata": {},
     "output_type": "execute_result"
    }
   ],
   "source": [
    "catTable[34]"
   ]
  },
  {
   "cell_type": "code",
   "execution_count": 18,
   "metadata": {},
   "outputs": [
    {
     "data": {
      "image/png": "[encoded data removed]",
      "text/plain": [
       "<Figure size 720x360 with 1 Axes>"
      ]
     },
     "metadata": {},
     "output_type": "display_data"
    }
   ],
   "source": [
    "plt.figure(figsize=(10,5))\n",
    "plt.plot(10**obj34[1]['loglam'],obj34[1]['flux'])\n",
    "plt.title('OBJ: %s, RA: %.3f, DEC: %.3f, PLATE: %s, MJD: %s, FIBER: %s'\n",
    "          %(34,catTable[34]['RA'],catTable[34]['DEC'],obj34[0]['plate'][0],\n",
    "            obj34[0]['mjd'][0],obj34[0]['fiberID'][0]))\n",
    "plt.xlabel(\"Wavelength [Angstroms]\")\n",
    "plt.ylabel(\"Flux [$10^{-17}$ erg/cm$^2$/s/A]\")\n",
    "plt.ylim(-20,120)\n",
    "# plt.xlim(6800,7000)\n",
    "plt.text(6680,107,r'H$\\alpha$')\n",
    "plt.text(6850,30,'SII')\n",
    "plt.text(5050,85,'OIII')\n",
    "plt.text(4900,38,r'H$\\beta$')\n",
    "plt.text(3760,67,'OII')\n",
    "plt.tight_layout()\n",
    "plt.savefig('spectra imgs/label_obj_%s.png'%34)\n",
    "plt.show()"
   ]
  },
  {
   "cell_type": "markdown",
   "metadata": {},
   "source": [
    "## Let's play \"Try to get a metallicity!\""
   ]
  },
  {
   "cell_type": "markdown",
   "metadata": {},
   "source": [
    "We will try to generate a metallicity for object 34 in Melanie's clump catalog as an example (since I'm too lazy to look for a different spectra)."
   ]
  },
  {
   "cell_type": "markdown",
   "metadata": {},
   "source": [
    "### M91 Theoretical Calibration\n",
    "\n",
    "Let's use the M91 calibration mentioned in [Kewley & Ellison 2008 (KE08)](http://adsabs.harvard.edu/abs/2008ApJ...681.1183K):\n",
    "\n",
    "$$12 + \\log(O/H)_\\text{lower} = 12 - 4.944 + 0.767x + 0.602x^2 - y(0.29+0.332x - 0.331x^2)$$\n",
    "\n",
    "$$12 + \\log(O/H)_\\text{upper} = 12 - 2.939 - 0.2x - 0.37x^2 - 0.305 x^3 - 0.0283x^4 - y(0.0047 - 0.221x - 0.102x^2 - 0.0817x^3 - 0.00717x^4)$$\n",
    "\n",
    "where $$x = \\log R_{23} = \\log\\left[\\frac{[\\text{OII}\\lambda3727 + [\\text{OIII}]\\lambda4959 + [\\text{OIII}]\\lambda5007}{\\text{H}\\beta}\\right]$$\n",
    "and $$y = \\log\\text{O}_{32} = \\log\\left[\\frac{[\\text{OIII}]\\lambda4959 + [\\text{OIII}]\\lambda5007}{[\\text{OII}]\\lambda3727}\\right]$$"
   ]
  },
  {
   "cell_type": "markdown",
   "metadata": {},
   "source": [
    "For now, we'll be lazy and take the line fluxes directly from the [SDSS DR12 Science Archive Server](https://dr12.sdss.org/spectrumDetail?mjd=52435&fiber=599&plateid=981)."
   ]
  },
  {
   "cell_type": "code",
   "execution_count": 19,
   "metadata": {},
   "outputs": [],
   "source": [
    "def getlogR23(OII3727,OIII4959,OIII5007,HB):\n",
    "    return np.log10((OII3727 + OIII4959 + OIII5007)/HB)\n",
    "\n",
    "def getlogO32(OIII4959,OIII5007,OII3727):\n",
    "    return np.log10((OIII4959 + OIII5007)/OII3727)"
   ]
  },
  {
   "cell_type": "code",
   "execution_count": 20,
   "metadata": {},
   "outputs": [],
   "source": [
    "def getlogOHlow(x,y):\n",
    "    return (-4.944 + 0.767*x + 0.602*x**2 - y*(0.29 + 0.332*x - 0.331*x**2))\n",
    "\n",
    "def getlogOHup(x,y):\n",
    "    return (-2.939 - 0.2*x - 0.37*x**2 - 0.305*x**3 - 0.0283*x**4 - \n",
    "            y*(0.0047 - 0.221*x - 0.102*x**2 - 0.0817*x**3 - 0.00717*x**4))"
   ]
  },
  {
   "cell_type": "code",
   "execution_count": 21,
   "metadata": {},
   "outputs": [],
   "source": [
    "# all in units of 1e-17 erg/cm^2/s\n",
    "OII3727 = 108\n",
    "OIII4959 = 68.61\n",
    "OIII5007 = 207.8\n",
    "HB = 81.96"
   ]
  },
  {
   "cell_type": "code",
   "execution_count": 22,
   "metadata": {},
   "outputs": [],
   "source": [
    "x = getlogR23(OII3727,OIII4959,OIII5007,HB)\n",
    "y = getlogO32(OIII4959,OIII5007,OII3727)"
   ]
  },
  {
   "cell_type": "code",
   "execution_count": 25,
   "metadata": {},
   "outputs": [
    {
     "name": "stdout",
     "output_type": "stream",
     "text": [
      " low O/H:\t 4.9381052649105053e-05 \n",
      "high O/H:\t 0.0005625498281286387\n"
     ]
    }
   ],
   "source": [
    "logOHlow = getlogOHlow(x,y)\n",
    "logOHup = getlogOHup(x,y)\n",
    "\n",
    "print(' low O/H:\\t',10**logOHlow,'\\nhigh O/H:\\t',10**logOHup)"
   ]
  },
  {
   "cell_type": "markdown",
   "metadata": {},
   "source": [
    "Let's ssee how it compares to the other items on the graph by adding 12:"
   ]
  },
  {
   "cell_type": "code",
   "execution_count": 26,
   "metadata": {},
   "outputs": [
    {
     "name": "stdout",
     "output_type": "stream",
     "text": [
      "low:\tlog O/H + 12 = 7.693560343490305 \n",
      "high:\tlog O/H + 12 = 8.75016099633521\n"
     ]
    }
   ],
   "source": [
    "logOHlow12 = logOHlow+12\n",
    "logOHup12 = logOHup+12\n",
    "print('low:\\tlog O/H + 12 =',logOHlow12,'\\nhigh:\\tlog O/H + 12 =',logOHup12)"
   ]
  },
  {
   "cell_type": "markdown",
   "metadata": {},
   "source": [
    "Comparing these to the items shown in Figures 1 and 2, our lower branch doesn't even appear on the graph while the upper branch actually appears fairly reasonable."
   ]
  },
  {
   "cell_type": "markdown",
   "metadata": {},
   "source": [
    "### Branching Out\n",
    "\n",
    "Lets determine if this makes sense by following section A1 in KE08. First we need to determine if we are using the upper branch or the lower branch. To do this, we need to get $$\\log\\left(\\frac{[\\text{NII}]\\lambda6584}{[\\text{OII}]\\lambda3727}\\right)$$"
   ]
  },
  {
   "cell_type": "code",
   "execution_count": 27,
   "metadata": {},
   "outputs": [],
   "source": [
    "def getlogNiiOii(NII6584,OII3727):\n",
    "    return np.log10(NII6584/OII3727)"
   ]
  },
  {
   "cell_type": "code",
   "execution_count": 28,
   "metadata": {},
   "outputs": [],
   "source": [
    "NII6584 = 48.93"
   ]
  },
  {
   "cell_type": "code",
   "execution_count": 29,
   "metadata": {},
   "outputs": [
    {
     "name": "stdout",
     "output_type": "stream",
     "text": [
      "-0.34384853972701146\n"
     ]
    }
   ],
   "source": [
    "logNiiOii = getlogNiiOii(NII6584,OII3727)\n",
    "print(logNiiOii)"
   ]
  },
  {
   "cell_type": "markdown",
   "metadata": {},
   "source": [
    "The break between upper and lower branches is set at $$\\log\\left(\\frac{[\\text{NII}]}{[\\text{OII}]}\\right) \\approx -1.2$$ so we should use the upper branch, as we kind of determined already."
   ]
  },
  {
   "cell_type": "markdown",
   "metadata": {},
   "source": [
    "### Check the graphs!\n",
    "\n",
    "How about the mass, though? Where does it fit on this graph? That is a, uh, good question... these catalogs specifically don't have masses, and neither does the archive server, but I'd imagine I could find them."
   ]
  },
  {
   "cell_type": "markdown",
   "metadata": {},
   "source": [
    "Okay I think I got it after a long treasure hunt. [Here](http://skyserver.sdss.org/DR12//en/tools/explore/Summary.aspx?sid=1104672501331421184) is the link (I used `FSPSGranEarlyDust`), which gives us a $\\log M = 9.49196471616599$. (It also gives us lots of useful stuff like age, metallicity(!), mass to light, etc.)\n",
    "\n",
    "The point $(\\log M, 12 + \\log(O/H)_\\text{upper}) = (9.492,8.750)$ fits nicely onto the graph in Fig. 1 for M91."
   ]
  },
  {
   "cell_type": "markdown",
   "metadata": {},
   "source": [
    "### Metallicity problems?\n",
    "Quick aside to look at metallicities. We're given a $Z$ on that webpage, but it doesn't match up..."
   ]
  },
  {
   "cell_type": "code",
   "execution_count": 30,
   "metadata": {},
   "outputs": [],
   "source": [
    "givenZ12 = np.log10(0.00769999995827675) + 12"
   ]
  },
  {
   "cell_type": "code",
   "execution_count": 28,
   "metadata": {},
   "outputs": [
    {
     "name": "stdout",
     "output_type": "stream",
     "text": [
      "given:\t\tlog Z + 12 = 9.886490722819213 \n",
      "calculated:\tlog O/H + 12 = 8.75016099633521\n"
     ]
    }
   ],
   "source": [
    "print('given:\\t\\tlog Z + 12 =',givenZ12, '\\ncalculated:\\tlog O/H + 12 =',logOHup12)"
   ]
  },
  {
   "cell_type": "markdown",
   "metadata": {},
   "source": [
    "~~ACTUALLY this makes sense since we should only be doing *relative* metallicity comparisons and this might be using a different calibration. Interestingly, the given $Z$ doesn't seem to match **any** of the calibrations listed in KE08.~~\n",
    "\n",
    "**UPDATE ("
   ]
  }
 ],
 "metadata": {
  "kernelspec": {
   "display_name": "Python 3",
   "language": "python",
   "name": "python3"
  },
  "language_info": {
   "codemirror_mode": {
    "name": "ipython",
    "version": 3
   },
   "file_extension": ".py",
   "mimetype": "text/x-python",
   "name": "python",
   "nbconvert_exporter": "python",
   "pygments_lexer": "ipython3",
   "version": "3.6.5"
  }
 },
 "nbformat": 4,
 "nbformat_minor": 2
}
